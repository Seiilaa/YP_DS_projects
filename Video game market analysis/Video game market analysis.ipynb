{
 "cells": [
  {
   "cell_type": "markdown",
   "metadata": {},
   "source": [
    "# Video game market analysis"
   ]
  },
  {
   "cell_type": "markdown",
   "metadata": {},
   "source": [
    "# Project goal:\n",
    "\n",
    "Analyze the video game market tendentions using the data until 2016 and identify patterns that determine the success of the game.\\\n",
    "This will allow the video game retailer (the client of the study) to predict a potentially popular product and plan future advertising campaigns around it."
   ]
  },
  {
   "cell_type": "markdown",
   "metadata": {},
   "source": [
    "# Project planning\n",
    "- Prepare the data for the analysis (check for missing values, duplicates, etc.)\n",
    "- Light data exploration\n",
    "- Historical sales analysis\n",
    "    - Determine life cycle of a platform\n",
    "    - Determine which gaming platforms are relevant today\n",
    "- Analyse sales patterns across different platforms\n",
    "- Analyse critic and players reviews (score) influence on commercial success of the game\n",
    "- What genres have highest/lowest sales?\n",
    "- Analyse and compare customer behavior in different regions\n",
    "- Check whether users similarly score games on different platforms or of different genres?\n",
    "- Give recommendations to the client based on the study."
   ]
  },
  {
   "cell_type": "markdown",
   "metadata": {},
   "source": [
    "# Data description\n",
    "\n",
    "- Name — game title\n",
    "- Platform — platform\n",
    "- Year_of_Release\n",
    "- Genre\n",
    "- NA_sales — sales in North America (millions of copies)\n",
    "- EU_sales\n",
    "- JP_sales\n",
    "- Other_sales — sales in other countries (millions of copies)\n",
    "- Critic_Score — score given by the video game critics (max 100)\n",
    "- User_Score — user score (max 10)\n",
    "- Rating — rating given by ESRB (Entertainment Software Rating Board). This rating determines the age category for the game."
   ]
  },
  {
   "cell_type": "code",
   "execution_count": 1,
   "metadata": {},
   "outputs": [],
   "source": [
    "import pandas as pd\n",
    "import numpy as np\n",
    "pd.plotting.register_matplotlib_converters()\n",
    "import matplotlib.pyplot as plt\n",
    "%matplotlib inline\n",
    "\n",
    "import seaborn as sns\n",
    "sns.set_theme(style=\"darkgrid\")\n",
    "sns.set(rc={\"figure.figsize\":(10, 6)})\n",
    "\n",
    "from scipy import stats as st"
   ]
  },
  {
   "cell_type": "markdown",
   "metadata": {},
   "source": [
    "# Prepare the data"
   ]
  },
  {
   "cell_type": "code",
   "execution_count": 2,
   "metadata": {},
   "outputs": [],
   "source": [
    "df = pd.read_csv('C:/datasets/games.csv')"
   ]
  },
  {
   "cell_type": "code",
   "execution_count": 3,
   "metadata": {},
   "outputs": [
    {
     "data": {
      "text/html": [
       "<div>\n",
       "<style scoped>\n",
       "    .dataframe tbody tr th:only-of-type {\n",
       "        vertical-align: middle;\n",
       "    }\n",
       "\n",
       "    .dataframe tbody tr th {\n",
       "        vertical-align: top;\n",
       "    }\n",
       "\n",
       "    .dataframe thead th {\n",
       "        text-align: right;\n",
       "    }\n",
       "</style>\n",
       "<table border=\"1\" class=\"dataframe\">\n",
       "  <thead>\n",
       "    <tr style=\"text-align: right;\">\n",
       "      <th></th>\n",
       "      <th>Name</th>\n",
       "      <th>Platform</th>\n",
       "      <th>Year_of_Release</th>\n",
       "      <th>Genre</th>\n",
       "      <th>NA_sales</th>\n",
       "      <th>EU_sales</th>\n",
       "      <th>JP_sales</th>\n",
       "      <th>Other_sales</th>\n",
       "      <th>Critic_Score</th>\n",
       "      <th>User_Score</th>\n",
       "      <th>Rating</th>\n",
       "    </tr>\n",
       "  </thead>\n",
       "  <tbody>\n",
       "    <tr>\n",
       "      <th>0</th>\n",
       "      <td>Wii Sports</td>\n",
       "      <td>Wii</td>\n",
       "      <td>2006.0</td>\n",
       "      <td>Sports</td>\n",
       "      <td>41.36</td>\n",
       "      <td>28.96</td>\n",
       "      <td>3.77</td>\n",
       "      <td>8.45</td>\n",
       "      <td>76.0</td>\n",
       "      <td>8</td>\n",
       "      <td>E</td>\n",
       "    </tr>\n",
       "    <tr>\n",
       "      <th>1</th>\n",
       "      <td>Super Mario Bros.</td>\n",
       "      <td>NES</td>\n",
       "      <td>1985.0</td>\n",
       "      <td>Platform</td>\n",
       "      <td>29.08</td>\n",
       "      <td>3.58</td>\n",
       "      <td>6.81</td>\n",
       "      <td>0.77</td>\n",
       "      <td>NaN</td>\n",
       "      <td>NaN</td>\n",
       "      <td>NaN</td>\n",
       "    </tr>\n",
       "    <tr>\n",
       "      <th>2</th>\n",
       "      <td>Mario Kart Wii</td>\n",
       "      <td>Wii</td>\n",
       "      <td>2008.0</td>\n",
       "      <td>Racing</td>\n",
       "      <td>15.68</td>\n",
       "      <td>12.76</td>\n",
       "      <td>3.79</td>\n",
       "      <td>3.29</td>\n",
       "      <td>82.0</td>\n",
       "      <td>8.3</td>\n",
       "      <td>E</td>\n",
       "    </tr>\n",
       "    <tr>\n",
       "      <th>3</th>\n",
       "      <td>Wii Sports Resort</td>\n",
       "      <td>Wii</td>\n",
       "      <td>2009.0</td>\n",
       "      <td>Sports</td>\n",
       "      <td>15.61</td>\n",
       "      <td>10.93</td>\n",
       "      <td>3.28</td>\n",
       "      <td>2.95</td>\n",
       "      <td>80.0</td>\n",
       "      <td>8</td>\n",
       "      <td>E</td>\n",
       "    </tr>\n",
       "    <tr>\n",
       "      <th>4</th>\n",
       "      <td>Pokemon Red/Pokemon Blue</td>\n",
       "      <td>GB</td>\n",
       "      <td>1996.0</td>\n",
       "      <td>Role-Playing</td>\n",
       "      <td>11.27</td>\n",
       "      <td>8.89</td>\n",
       "      <td>10.22</td>\n",
       "      <td>1.00</td>\n",
       "      <td>NaN</td>\n",
       "      <td>NaN</td>\n",
       "      <td>NaN</td>\n",
       "    </tr>\n",
       "  </tbody>\n",
       "</table>\n",
       "</div>"
      ],
      "text/plain": [
       "                       Name Platform  Year_of_Release         Genre  NA_sales  \\\n",
       "0                Wii Sports      Wii           2006.0        Sports     41.36   \n",
       "1         Super Mario Bros.      NES           1985.0      Platform     29.08   \n",
       "2            Mario Kart Wii      Wii           2008.0        Racing     15.68   \n",
       "3         Wii Sports Resort      Wii           2009.0        Sports     15.61   \n",
       "4  Pokemon Red/Pokemon Blue       GB           1996.0  Role-Playing     11.27   \n",
       "\n",
       "   EU_sales  JP_sales  Other_sales  Critic_Score User_Score Rating  \n",
       "0     28.96      3.77         8.45          76.0          8      E  \n",
       "1      3.58      6.81         0.77           NaN        NaN    NaN  \n",
       "2     12.76      3.79         3.29          82.0        8.3      E  \n",
       "3     10.93      3.28         2.95          80.0          8      E  \n",
       "4      8.89     10.22         1.00           NaN        NaN    NaN  "
      ]
     },
     "execution_count": 3,
     "metadata": {},
     "output_type": "execute_result"
    }
   ],
   "source": [
    "df.head()"
   ]
  },
  {
   "cell_type": "code",
   "execution_count": 4,
   "metadata": {},
   "outputs": [
    {
     "name": "stdout",
     "output_type": "stream",
     "text": [
      "<class 'pandas.core.frame.DataFrame'>\n",
      "RangeIndex: 16715 entries, 0 to 16714\n",
      "Data columns (total 11 columns):\n",
      " #   Column           Non-Null Count  Dtype  \n",
      "---  ------           --------------  -----  \n",
      " 0   Name             16713 non-null  object \n",
      " 1   Platform         16715 non-null  object \n",
      " 2   Year_of_Release  16446 non-null  float64\n",
      " 3   Genre            16713 non-null  object \n",
      " 4   NA_sales         16715 non-null  float64\n",
      " 5   EU_sales         16715 non-null  float64\n",
      " 6   JP_sales         16715 non-null  float64\n",
      " 7   Other_sales      16715 non-null  float64\n",
      " 8   Critic_Score     8137 non-null   float64\n",
      " 9   User_Score       10014 non-null  object \n",
      " 10  Rating           9949 non-null   object \n",
      "dtypes: float64(6), object(5)\n",
      "memory usage: 1.4+ MB\n"
     ]
    }
   ],
   "source": [
    "df.info()"
   ]
  },
  {
   "cell_type": "code",
   "execution_count": 5,
   "metadata": {},
   "outputs": [
    {
     "data": {
      "text/html": [
       "<div>\n",
       "<style scoped>\n",
       "    .dataframe tbody tr th:only-of-type {\n",
       "        vertical-align: middle;\n",
       "    }\n",
       "\n",
       "    .dataframe tbody tr th {\n",
       "        vertical-align: top;\n",
       "    }\n",
       "\n",
       "    .dataframe thead th {\n",
       "        text-align: right;\n",
       "    }\n",
       "</style>\n",
       "<table border=\"1\" class=\"dataframe\">\n",
       "  <thead>\n",
       "    <tr style=\"text-align: right;\">\n",
       "      <th></th>\n",
       "      <th>Year_of_Release</th>\n",
       "      <th>NA_sales</th>\n",
       "      <th>EU_sales</th>\n",
       "      <th>JP_sales</th>\n",
       "      <th>Other_sales</th>\n",
       "      <th>Critic_Score</th>\n",
       "    </tr>\n",
       "  </thead>\n",
       "  <tbody>\n",
       "    <tr>\n",
       "      <th>count</th>\n",
       "      <td>16446.000000</td>\n",
       "      <td>16715.000000</td>\n",
       "      <td>16715.000000</td>\n",
       "      <td>16715.000000</td>\n",
       "      <td>16715.000000</td>\n",
       "      <td>8137.000000</td>\n",
       "    </tr>\n",
       "    <tr>\n",
       "      <th>mean</th>\n",
       "      <td>2006.484616</td>\n",
       "      <td>0.263377</td>\n",
       "      <td>0.145060</td>\n",
       "      <td>0.077617</td>\n",
       "      <td>0.047342</td>\n",
       "      <td>68.967679</td>\n",
       "    </tr>\n",
       "    <tr>\n",
       "      <th>std</th>\n",
       "      <td>5.877050</td>\n",
       "      <td>0.813604</td>\n",
       "      <td>0.503339</td>\n",
       "      <td>0.308853</td>\n",
       "      <td>0.186731</td>\n",
       "      <td>13.938165</td>\n",
       "    </tr>\n",
       "    <tr>\n",
       "      <th>min</th>\n",
       "      <td>1980.000000</td>\n",
       "      <td>0.000000</td>\n",
       "      <td>0.000000</td>\n",
       "      <td>0.000000</td>\n",
       "      <td>0.000000</td>\n",
       "      <td>13.000000</td>\n",
       "    </tr>\n",
       "    <tr>\n",
       "      <th>25%</th>\n",
       "      <td>2003.000000</td>\n",
       "      <td>0.000000</td>\n",
       "      <td>0.000000</td>\n",
       "      <td>0.000000</td>\n",
       "      <td>0.000000</td>\n",
       "      <td>60.000000</td>\n",
       "    </tr>\n",
       "    <tr>\n",
       "      <th>50%</th>\n",
       "      <td>2007.000000</td>\n",
       "      <td>0.080000</td>\n",
       "      <td>0.020000</td>\n",
       "      <td>0.000000</td>\n",
       "      <td>0.010000</td>\n",
       "      <td>71.000000</td>\n",
       "    </tr>\n",
       "    <tr>\n",
       "      <th>75%</th>\n",
       "      <td>2010.000000</td>\n",
       "      <td>0.240000</td>\n",
       "      <td>0.110000</td>\n",
       "      <td>0.040000</td>\n",
       "      <td>0.030000</td>\n",
       "      <td>79.000000</td>\n",
       "    </tr>\n",
       "    <tr>\n",
       "      <th>max</th>\n",
       "      <td>2016.000000</td>\n",
       "      <td>41.360000</td>\n",
       "      <td>28.960000</td>\n",
       "      <td>10.220000</td>\n",
       "      <td>10.570000</td>\n",
       "      <td>98.000000</td>\n",
       "    </tr>\n",
       "  </tbody>\n",
       "</table>\n",
       "</div>"
      ],
      "text/plain": [
       "       Year_of_Release      NA_sales      EU_sales      JP_sales  \\\n",
       "count     16446.000000  16715.000000  16715.000000  16715.000000   \n",
       "mean       2006.484616      0.263377      0.145060      0.077617   \n",
       "std           5.877050      0.813604      0.503339      0.308853   \n",
       "min        1980.000000      0.000000      0.000000      0.000000   \n",
       "25%        2003.000000      0.000000      0.000000      0.000000   \n",
       "50%        2007.000000      0.080000      0.020000      0.000000   \n",
       "75%        2010.000000      0.240000      0.110000      0.040000   \n",
       "max        2016.000000     41.360000     28.960000     10.220000   \n",
       "\n",
       "        Other_sales  Critic_Score  \n",
       "count  16715.000000   8137.000000  \n",
       "mean       0.047342     68.967679  \n",
       "std        0.186731     13.938165  \n",
       "min        0.000000     13.000000  \n",
       "25%        0.000000     60.000000  \n",
       "50%        0.010000     71.000000  \n",
       "75%        0.030000     79.000000  \n",
       "max       10.570000     98.000000  "
      ]
     },
     "execution_count": 5,
     "metadata": {},
     "output_type": "execute_result"
    }
   ],
   "source": [
    "df.describe()"
   ]
  },
  {
   "cell_type": "code",
   "execution_count": 6,
   "metadata": {},
   "outputs": [
    {
     "data": {
      "text/plain": [
       "0"
      ]
     },
     "execution_count": 6,
     "metadata": {},
     "output_type": "execute_result"
    }
   ],
   "source": [
    "# check duplicates\n",
    "df.duplicated().sum()"
   ]
  },
  {
   "cell_type": "markdown",
   "metadata": {},
   "source": [
    "- Some of the columns have missing values\n",
    "- User score type should be changed to int\n",
    "- No full duplicates"
   ]
  },
  {
   "cell_type": "markdown",
   "metadata": {},
   "source": [
    "Let's rename columns for convenience"
   ]
  },
  {
   "cell_type": "code",
   "execution_count": 7,
   "metadata": {},
   "outputs": [],
   "source": [
    "df.columns = [column.lower() for column in list(df.columns)]"
   ]
  },
  {
   "cell_type": "code",
   "execution_count": 8,
   "metadata": {
    "scrolled": true
   },
   "outputs": [
    {
     "data": {
      "text/plain": [
       "Index(['name', 'platform', 'year_of_release', 'genre', 'na_sales', 'eu_sales',\n",
       "       'jp_sales', 'other_sales', 'critic_score', 'user_score', 'rating'],\n",
       "      dtype='object')"
      ]
     },
     "execution_count": 8,
     "metadata": {},
     "output_type": "execute_result"
    }
   ],
   "source": [
    "df.columns"
   ]
  },
  {
   "cell_type": "markdown",
   "metadata": {},
   "source": [
    "Let's change the data types where it is necessary"
   ]
  },
  {
   "cell_type": "code",
   "execution_count": 9,
   "metadata": {},
   "outputs": [
    {
     "name": "stdout",
     "output_type": "stream",
     "text": [
      "<class 'pandas.core.frame.DataFrame'>\n",
      "RangeIndex: 16715 entries, 0 to 16714\n",
      "Data columns (total 11 columns):\n",
      " #   Column           Non-Null Count  Dtype  \n",
      "---  ------           --------------  -----  \n",
      " 0   name             16713 non-null  object \n",
      " 1   platform         16715 non-null  object \n",
      " 2   year_of_release  16446 non-null  float64\n",
      " 3   genre            16713 non-null  object \n",
      " 4   na_sales         16715 non-null  float64\n",
      " 5   eu_sales         16715 non-null  float64\n",
      " 6   jp_sales         16715 non-null  float64\n",
      " 7   other_sales      16715 non-null  float64\n",
      " 8   critic_score     8137 non-null   float64\n",
      " 9   user_score       10014 non-null  object \n",
      " 10  rating           9949 non-null   object \n",
      "dtypes: float64(6), object(5)\n",
      "memory usage: 1.4+ MB\n"
     ]
    }
   ],
   "source": [
    "df.info()"
   ]
  },
  {
   "cell_type": "markdown",
   "metadata": {},
   "source": [
    "- year_of_release to datetime\n",
    "- user_score to float\n",
    "- platform, genre and rating to categorical"
   ]
  },
  {
   "cell_type": "code",
   "execution_count": 10,
   "metadata": {},
   "outputs": [
    {
     "name": "stdout",
     "output_type": "stream",
     "text": [
      "platform\n",
      "['Wii' 'NES' 'GB' 'DS' 'X360' 'PS3' 'PS2' 'SNES' 'GBA' 'PS4' '3DS' 'N64'\n",
      " 'PS' 'XB' 'PC' '2600' 'PSP' 'XOne' 'WiiU' 'GC' 'GEN' 'DC' 'PSV' 'SAT'\n",
      " 'SCD' 'WS' 'NG' 'TG16' '3DO' 'GG' 'PCFX']\n",
      "\n",
      "genre\n",
      "['Sports' 'Platform' 'Racing' 'Role-Playing' 'Puzzle' 'Misc' 'Shooter'\n",
      " 'Simulation' 'Action' 'Fighting' 'Adventure' 'Strategy' nan]\n",
      "\n",
      "rating\n",
      "['E' nan 'M' 'T' 'E10+' 'K-A' 'AO' 'EC' 'RP']\n",
      "\n"
     ]
    }
   ],
   "source": [
    "categorical = ['platform', 'genre', 'rating']\n",
    "\n",
    "for i in categorical:\n",
    "    print(i)\n",
    "    print(df[i].unique())\n",
    "    print()"
   ]
  },
  {
   "cell_type": "markdown",
   "metadata": {},
   "source": [
    "No duplicates in data, thus I can turn the data type to categorical."
   ]
  },
  {
   "cell_type": "code",
   "execution_count": 11,
   "metadata": {},
   "outputs": [],
   "source": [
    "for i in categorical:\n",
    "    df[i] = df[i].astype('category')"
   ]
  },
  {
   "cell_type": "code",
   "execution_count": 12,
   "metadata": {},
   "outputs": [],
   "source": [
    "df['year_of_release'] = pd.to_datetime(df['year_of_release'], format = '%Y')"
   ]
  },
  {
   "cell_type": "code",
   "execution_count": 13,
   "metadata": {},
   "outputs": [
    {
     "data": {
      "text/plain": [
       "array(['8', nan, '8.3', '8.5', '6.6', '8.4', '8.6', '7.7', '6.3', '7.4',\n",
       "       '8.2', '9', '7.9', '8.1', '8.7', '7.1', '3.4', '5.3', '4.8', '3.2',\n",
       "       '8.9', '6.4', '7.8', '7.5', '2.6', '7.2', '9.2', '7', '7.3', '4.3',\n",
       "       '7.6', '5.7', '5', '9.1', '6.5', 'tbd', '8.8', '6.9', '9.4', '6.8',\n",
       "       '6.1', '6.7', '5.4', '4', '4.9', '4.5', '9.3', '6.2', '4.2', '6',\n",
       "       '3.7', '4.1', '5.8', '5.6', '5.5', '4.4', '4.6', '5.9', '3.9',\n",
       "       '3.1', '2.9', '5.2', '3.3', '4.7', '5.1', '3.5', '2.5', '1.9', '3',\n",
       "       '2.7', '2.2', '2', '9.5', '2.1', '3.6', '2.8', '1.8', '3.8', '0',\n",
       "       '1.6', '9.6', '2.4', '1.7', '1.1', '0.3', '1.5', '0.7', '1.2',\n",
       "       '2.3', '0.5', '1.3', '0.2', '0.6', '1.4', '0.9', '1', '9.7'],\n",
       "      dtype=object)"
      ]
     },
     "execution_count": 13,
     "metadata": {},
     "output_type": "execute_result"
    }
   ],
   "source": [
    "df.user_score.unique()"
   ]
  },
  {
   "cell_type": "markdown",
   "metadata": {},
   "source": [
    "There is string data \"tbd\" in the user_score column. Thus, I should do something about it first before I could change the data type and analyze it."
   ]
  },
  {
   "cell_type": "markdown",
   "metadata": {},
   "source": [
    "Quick googling shows that tbd stands for 'To Be Determined', thus there is no user_score for these games at the moment when the data was collected.\\\n",
    "In this case btbd could be changed to nans and handled the same way."
   ]
  },
  {
   "cell_type": "code",
   "execution_count": 14,
   "metadata": {},
   "outputs": [
    {
     "data": {
      "text/plain": [
       "2424"
      ]
     },
     "execution_count": 14,
     "metadata": {},
     "output_type": "execute_result"
    }
   ],
   "source": [
    "df[df['user_score'] == 'tbd']['user_score'].count()"
   ]
  },
  {
   "cell_type": "code",
   "execution_count": 15,
   "metadata": {},
   "outputs": [
    {
     "data": {
      "text/plain": [
       "False    10014\n",
       "True      6701\n",
       "Name: user_score, dtype: int64"
      ]
     },
     "execution_count": 15,
     "metadata": {},
     "output_type": "execute_result"
    }
   ],
   "source": [
    "df['user_score'].isnull().value_counts()"
   ]
  },
  {
   "cell_type": "code",
   "execution_count": 16,
   "metadata": {},
   "outputs": [],
   "source": [
    "df.loc[df['user_score'] == 'tbd', 'user_score'] = np.nan"
   ]
  },
  {
   "cell_type": "code",
   "execution_count": 17,
   "metadata": {},
   "outputs": [
    {
     "data": {
      "text/plain": [
       "True     9125\n",
       "False    7590\n",
       "Name: user_score, dtype: int64"
      ]
     },
     "execution_count": 17,
     "metadata": {},
     "output_type": "execute_result"
    }
   ],
   "source": [
    "df['user_score'].isnull().value_counts()"
   ]
  },
  {
   "cell_type": "markdown",
   "metadata": {},
   "source": [
    "Number of nans increased, thus everythin was done correctly.\\\n",
    "Now I can change the data type to float"
   ]
  },
  {
   "cell_type": "code",
   "execution_count": 18,
   "metadata": {},
   "outputs": [],
   "source": [
    "df['user_score'] = df['user_score'].astype('float')"
   ]
  },
  {
   "cell_type": "markdown",
   "metadata": {},
   "source": [
    "# Handling missing values"
   ]
  },
  {
   "cell_type": "code",
   "execution_count": 19,
   "metadata": {},
   "outputs": [
    {
     "data": {
      "text/plain": [
       "name                  2\n",
       "platform              0\n",
       "year_of_release     269\n",
       "genre                 2\n",
       "na_sales              0\n",
       "eu_sales              0\n",
       "jp_sales              0\n",
       "other_sales           0\n",
       "critic_score       8578\n",
       "user_score         9125\n",
       "rating             6766\n",
       "dtype: int64"
      ]
     },
     "execution_count": 19,
     "metadata": {},
     "output_type": "execute_result"
    }
   ],
   "source": [
    "df.isnull().sum()"
   ]
  },
  {
   "cell_type": "markdown",
   "metadata": {},
   "source": [
    "**Name**"
   ]
  },
  {
   "cell_type": "code",
   "execution_count": 20,
   "metadata": {},
   "outputs": [
    {
     "data": {
      "text/html": [
       "<div>\n",
       "<style scoped>\n",
       "    .dataframe tbody tr th:only-of-type {\n",
       "        vertical-align: middle;\n",
       "    }\n",
       "\n",
       "    .dataframe tbody tr th {\n",
       "        vertical-align: top;\n",
       "    }\n",
       "\n",
       "    .dataframe thead th {\n",
       "        text-align: right;\n",
       "    }\n",
       "</style>\n",
       "<table border=\"1\" class=\"dataframe\">\n",
       "  <thead>\n",
       "    <tr style=\"text-align: right;\">\n",
       "      <th></th>\n",
       "      <th>name</th>\n",
       "      <th>platform</th>\n",
       "      <th>year_of_release</th>\n",
       "      <th>genre</th>\n",
       "      <th>na_sales</th>\n",
       "      <th>eu_sales</th>\n",
       "      <th>jp_sales</th>\n",
       "      <th>other_sales</th>\n",
       "      <th>critic_score</th>\n",
       "      <th>user_score</th>\n",
       "      <th>rating</th>\n",
       "    </tr>\n",
       "  </thead>\n",
       "  <tbody>\n",
       "    <tr>\n",
       "      <th>659</th>\n",
       "      <td>NaN</td>\n",
       "      <td>GEN</td>\n",
       "      <td>1993-01-01</td>\n",
       "      <td>NaN</td>\n",
       "      <td>1.78</td>\n",
       "      <td>0.53</td>\n",
       "      <td>0.00</td>\n",
       "      <td>0.08</td>\n",
       "      <td>NaN</td>\n",
       "      <td>NaN</td>\n",
       "      <td>NaN</td>\n",
       "    </tr>\n",
       "    <tr>\n",
       "      <th>14244</th>\n",
       "      <td>NaN</td>\n",
       "      <td>GEN</td>\n",
       "      <td>1993-01-01</td>\n",
       "      <td>NaN</td>\n",
       "      <td>0.00</td>\n",
       "      <td>0.00</td>\n",
       "      <td>0.03</td>\n",
       "      <td>0.00</td>\n",
       "      <td>NaN</td>\n",
       "      <td>NaN</td>\n",
       "      <td>NaN</td>\n",
       "    </tr>\n",
       "  </tbody>\n",
       "</table>\n",
       "</div>"
      ],
      "text/plain": [
       "      name platform year_of_release genre  na_sales  eu_sales  jp_sales  \\\n",
       "659    NaN      GEN      1993-01-01   NaN      1.78      0.53      0.00   \n",
       "14244  NaN      GEN      1993-01-01   NaN      0.00      0.00      0.03   \n",
       "\n",
       "       other_sales  critic_score  user_score rating  \n",
       "659           0.08           NaN         NaN    NaN  \n",
       "14244         0.00           NaN         NaN    NaN  "
      ]
     },
     "execution_count": 20,
     "metadata": {},
     "output_type": "execute_result"
    }
   ],
   "source": [
    "df[df['name'].isnull()]"
   ]
  },
  {
   "cell_type": "markdown",
   "metadata": {},
   "source": [
    "Two misterious games for the GEN platform. Probably some cursed sonic video games :)\\\n",
    "It would be best to get rid of them"
   ]
  },
  {
   "cell_type": "code",
   "execution_count": 21,
   "metadata": {},
   "outputs": [],
   "source": [
    "df.dropna(subset = ['name'], inplace = True)"
   ]
  },
  {
   "cell_type": "markdown",
   "metadata": {},
   "source": [
    "**year_of_release**"
   ]
  },
  {
   "cell_type": "code",
   "execution_count": 22,
   "metadata": {},
   "outputs": [
    {
     "data": {
      "text/plain": [
       "False    16444\n",
       "True       269\n",
       "Name: year_of_release, dtype: int64"
      ]
     },
     "execution_count": 22,
     "metadata": {},
     "output_type": "execute_result"
    }
   ],
   "source": [
    "df['year_of_release'].isnull().value_counts()"
   ]
  },
  {
   "cell_type": "code",
   "execution_count": 23,
   "metadata": {},
   "outputs": [
    {
     "data": {
      "text/plain": [
       "False    0.983905\n",
       "True     0.016095\n",
       "Name: year_of_release, dtype: float64"
      ]
     },
     "execution_count": 23,
     "metadata": {},
     "output_type": "execute_result"
    }
   ],
   "source": [
    "df['year_of_release'].isnull().value_counts(normalize=True)"
   ]
  },
  {
   "cell_type": "markdown",
   "metadata": {},
   "source": [
    "Only 1.6% of data is missing the year of release.\\\n",
    "This information is crucial for my analysis, thus I will delete these missing values."
   ]
  },
  {
   "cell_type": "code",
   "execution_count": 24,
   "metadata": {},
   "outputs": [],
   "source": [
    "df.dropna(subset = ['year_of_release'], inplace = True)"
   ]
  },
  {
   "cell_type": "code",
   "execution_count": 25,
   "metadata": {},
   "outputs": [
    {
     "data": {
      "text/plain": [
       "False    16444\n",
       "Name: year_of_release, dtype: int64"
      ]
     },
     "execution_count": 25,
     "metadata": {},
     "output_type": "execute_result"
    }
   ],
   "source": [
    "df['year_of_release'].isnull().value_counts()"
   ]
  },
  {
   "cell_type": "markdown",
   "metadata": {},
   "source": [
    "**critic_score and user_score**"
   ]
  },
  {
   "cell_type": "code",
   "execution_count": 26,
   "metadata": {},
   "outputs": [
    {
     "data": {
      "text/plain": [
       "True     8461\n",
       "False    7983\n",
       "Name: critic_score, dtype: int64"
      ]
     },
     "execution_count": 26,
     "metadata": {},
     "output_type": "execute_result"
    }
   ],
   "source": [
    "df['critic_score'].isnull().value_counts()"
   ]
  },
  {
   "cell_type": "markdown",
   "metadata": {},
   "source": [
    "Half of the games have critic score missing.\n",
    "\n",
    "There are no obvious ways to reliably recover this data.\\\n",
    "For this reason I will leave nans and proceed with the analysis."
   ]
  },
  {
   "cell_type": "code",
   "execution_count": 27,
   "metadata": {},
   "outputs": [
    {
     "data": {
      "text/plain": [
       "True     8981\n",
       "False    7463\n",
       "Name: user_score, dtype: int64"
      ]
     },
     "execution_count": 27,
     "metadata": {},
     "output_type": "execute_result"
    }
   ],
   "source": [
    "df['user_score'].isnull().value_counts()"
   ]
  },
  {
   "cell_type": "markdown",
   "metadata": {},
   "source": [
    "Same goes for the user_score"
   ]
  },
  {
   "cell_type": "markdown",
   "metadata": {},
   "source": [
    "**rating**"
   ]
  },
  {
   "cell_type": "code",
   "execution_count": 28,
   "metadata": {},
   "outputs": [
    {
     "data": {
      "text/plain": [
       "['E', NaN, 'M', 'T', 'E10+', 'K-A', 'AO', 'EC', 'RP']\n",
       "Categories (8, object): ['AO', 'E', 'E10+', 'EC', 'K-A', 'M', 'RP', 'T']"
      ]
     },
     "execution_count": 28,
     "metadata": {},
     "output_type": "execute_result"
    }
   ],
   "source": [
    "df['rating'].unique()"
   ]
  },
  {
   "cell_type": "code",
   "execution_count": 29,
   "metadata": {},
   "outputs": [
    {
     "data": {
      "text/plain": [
       "False    0.594016\n",
       "True     0.405984\n",
       "Name: rating, dtype: float64"
      ]
     },
     "execution_count": 29,
     "metadata": {},
     "output_type": "execute_result"
    }
   ],
   "source": [
    "df['rating'].isnull().value_counts(normalize=True)"
   ]
  },
  {
   "cell_type": "markdown",
   "metadata": {},
   "source": [
    "I've got 40% of the dataset missing rating information.\n",
    "\n",
    "I think it would be best to fill these nans with \"undefined\" value to see the distribution of these games."
   ]
  },
  {
   "cell_type": "code",
   "execution_count": 30,
   "metadata": {},
   "outputs": [],
   "source": [
    "df['rating'] = df['rating'].cat.add_categories('undefined').fillna('undefined')"
   ]
  },
  {
   "cell_type": "code",
   "execution_count": 31,
   "metadata": {},
   "outputs": [
    {
     "data": {
      "text/plain": [
       "undefined    6676\n",
       "E            3921\n",
       "T            2905\n",
       "M            1536\n",
       "E10+         1393\n",
       "EC              8\n",
       "K-A             3\n",
       "AO              1\n",
       "RP              1\n",
       "Name: rating, dtype: int64"
      ]
     },
     "execution_count": 31,
     "metadata": {},
     "output_type": "execute_result"
    }
   ],
   "source": [
    "df['rating'].value_counts()"
   ]
  },
  {
   "cell_type": "code",
   "execution_count": 32,
   "metadata": {},
   "outputs": [
    {
     "data": {
      "text/plain": [
       "False    16444\n",
       "Name: rating, dtype: int64"
      ]
     },
     "execution_count": 32,
     "metadata": {},
     "output_type": "execute_result"
    }
   ],
   "source": [
    "df['rating'].isnull().value_counts()"
   ]
  },
  {
   "cell_type": "markdown",
   "metadata": {},
   "source": [
    "# Data exploration"
   ]
  },
  {
   "cell_type": "markdown",
   "metadata": {},
   "source": [
    "Before I start the analysis let's add a total sales across all regions column to the table."
   ]
  },
  {
   "cell_type": "code",
   "execution_count": 33,
   "metadata": {},
   "outputs": [],
   "source": [
    "df['total_sales'] = df['na_sales'] + df['eu_sales'] + df['jp_sales'] + df['other_sales']"
   ]
  },
  {
   "cell_type": "code",
   "execution_count": 34,
   "metadata": {},
   "outputs": [
    {
     "data": {
      "text/html": [
       "<div>\n",
       "<style scoped>\n",
       "    .dataframe tbody tr th:only-of-type {\n",
       "        vertical-align: middle;\n",
       "    }\n",
       "\n",
       "    .dataframe tbody tr th {\n",
       "        vertical-align: top;\n",
       "    }\n",
       "\n",
       "    .dataframe thead th {\n",
       "        text-align: right;\n",
       "    }\n",
       "</style>\n",
       "<table border=\"1\" class=\"dataframe\">\n",
       "  <thead>\n",
       "    <tr style=\"text-align: right;\">\n",
       "      <th></th>\n",
       "      <th>name</th>\n",
       "      <th>platform</th>\n",
       "      <th>year_of_release</th>\n",
       "      <th>genre</th>\n",
       "      <th>na_sales</th>\n",
       "      <th>eu_sales</th>\n",
       "      <th>jp_sales</th>\n",
       "      <th>other_sales</th>\n",
       "      <th>critic_score</th>\n",
       "      <th>user_score</th>\n",
       "      <th>rating</th>\n",
       "      <th>total_sales</th>\n",
       "    </tr>\n",
       "  </thead>\n",
       "  <tbody>\n",
       "    <tr>\n",
       "      <th>0</th>\n",
       "      <td>Wii Sports</td>\n",
       "      <td>Wii</td>\n",
       "      <td>2006-01-01</td>\n",
       "      <td>Sports</td>\n",
       "      <td>41.36</td>\n",
       "      <td>28.96</td>\n",
       "      <td>3.77</td>\n",
       "      <td>8.45</td>\n",
       "      <td>76.0</td>\n",
       "      <td>8.0</td>\n",
       "      <td>E</td>\n",
       "      <td>82.54</td>\n",
       "    </tr>\n",
       "    <tr>\n",
       "      <th>1</th>\n",
       "      <td>Super Mario Bros.</td>\n",
       "      <td>NES</td>\n",
       "      <td>1985-01-01</td>\n",
       "      <td>Platform</td>\n",
       "      <td>29.08</td>\n",
       "      <td>3.58</td>\n",
       "      <td>6.81</td>\n",
       "      <td>0.77</td>\n",
       "      <td>NaN</td>\n",
       "      <td>NaN</td>\n",
       "      <td>undefined</td>\n",
       "      <td>40.24</td>\n",
       "    </tr>\n",
       "    <tr>\n",
       "      <th>2</th>\n",
       "      <td>Mario Kart Wii</td>\n",
       "      <td>Wii</td>\n",
       "      <td>2008-01-01</td>\n",
       "      <td>Racing</td>\n",
       "      <td>15.68</td>\n",
       "      <td>12.76</td>\n",
       "      <td>3.79</td>\n",
       "      <td>3.29</td>\n",
       "      <td>82.0</td>\n",
       "      <td>8.3</td>\n",
       "      <td>E</td>\n",
       "      <td>35.52</td>\n",
       "    </tr>\n",
       "    <tr>\n",
       "      <th>3</th>\n",
       "      <td>Wii Sports Resort</td>\n",
       "      <td>Wii</td>\n",
       "      <td>2009-01-01</td>\n",
       "      <td>Sports</td>\n",
       "      <td>15.61</td>\n",
       "      <td>10.93</td>\n",
       "      <td>3.28</td>\n",
       "      <td>2.95</td>\n",
       "      <td>80.0</td>\n",
       "      <td>8.0</td>\n",
       "      <td>E</td>\n",
       "      <td>32.77</td>\n",
       "    </tr>\n",
       "    <tr>\n",
       "      <th>4</th>\n",
       "      <td>Pokemon Red/Pokemon Blue</td>\n",
       "      <td>GB</td>\n",
       "      <td>1996-01-01</td>\n",
       "      <td>Role-Playing</td>\n",
       "      <td>11.27</td>\n",
       "      <td>8.89</td>\n",
       "      <td>10.22</td>\n",
       "      <td>1.00</td>\n",
       "      <td>NaN</td>\n",
       "      <td>NaN</td>\n",
       "      <td>undefined</td>\n",
       "      <td>31.38</td>\n",
       "    </tr>\n",
       "  </tbody>\n",
       "</table>\n",
       "</div>"
      ],
      "text/plain": [
       "                       name platform year_of_release         genre  na_sales  \\\n",
       "0                Wii Sports      Wii      2006-01-01        Sports     41.36   \n",
       "1         Super Mario Bros.      NES      1985-01-01      Platform     29.08   \n",
       "2            Mario Kart Wii      Wii      2008-01-01        Racing     15.68   \n",
       "3         Wii Sports Resort      Wii      2009-01-01        Sports     15.61   \n",
       "4  Pokemon Red/Pokemon Blue       GB      1996-01-01  Role-Playing     11.27   \n",
       "\n",
       "   eu_sales  jp_sales  other_sales  critic_score  user_score     rating  \\\n",
       "0     28.96      3.77         8.45          76.0         8.0          E   \n",
       "1      3.58      6.81         0.77           NaN         NaN  undefined   \n",
       "2     12.76      3.79         3.29          82.0         8.3          E   \n",
       "3     10.93      3.28         2.95          80.0         8.0          E   \n",
       "4      8.89     10.22         1.00           NaN         NaN  undefined   \n",
       "\n",
       "   total_sales  \n",
       "0        82.54  \n",
       "1        40.24  \n",
       "2        35.52  \n",
       "3        32.77  \n",
       "4        31.38  "
      ]
     },
     "execution_count": 34,
     "metadata": {},
     "output_type": "execute_result"
    }
   ],
   "source": [
    "df.head()"
   ]
  },
  {
   "cell_type": "markdown",
   "metadata": {},
   "source": [
    "## Year of release"
   ]
  },
  {
   "cell_type": "code",
   "execution_count": 35,
   "metadata": {},
   "outputs": [],
   "source": [
    "release_years = df.pivot_table(index = 'year_of_release', \n",
    "                                  values = 'name', \n",
    "                                  aggfunc = 'count'\n",
    "                                 ).sort_values(by = 'name', \n",
    "                                               ascending = False)"
   ]
  },
  {
   "cell_type": "code",
   "execution_count": 36,
   "metadata": {},
   "outputs": [],
   "source": [
    "release_years.columns = ['number_of_games']"
   ]
  },
  {
   "cell_type": "code",
   "execution_count": 37,
   "metadata": {},
   "outputs": [
    {
     "data": {
      "text/html": [
       "<div>\n",
       "<style scoped>\n",
       "    .dataframe tbody tr th:only-of-type {\n",
       "        vertical-align: middle;\n",
       "    }\n",
       "\n",
       "    .dataframe tbody tr th {\n",
       "        vertical-align: top;\n",
       "    }\n",
       "\n",
       "    .dataframe thead th {\n",
       "        text-align: right;\n",
       "    }\n",
       "</style>\n",
       "<table border=\"1\" class=\"dataframe\">\n",
       "  <thead>\n",
       "    <tr style=\"text-align: right;\">\n",
       "      <th></th>\n",
       "      <th>number_of_games</th>\n",
       "    </tr>\n",
       "    <tr>\n",
       "      <th>year_of_release</th>\n",
       "      <th></th>\n",
       "    </tr>\n",
       "  </thead>\n",
       "  <tbody>\n",
       "    <tr>\n",
       "      <th>2008-01-01</th>\n",
       "      <td>1427</td>\n",
       "    </tr>\n",
       "    <tr>\n",
       "      <th>2009-01-01</th>\n",
       "      <td>1426</td>\n",
       "    </tr>\n",
       "    <tr>\n",
       "      <th>2010-01-01</th>\n",
       "      <td>1255</td>\n",
       "    </tr>\n",
       "    <tr>\n",
       "      <th>2007-01-01</th>\n",
       "      <td>1197</td>\n",
       "    </tr>\n",
       "    <tr>\n",
       "      <th>2011-01-01</th>\n",
       "      <td>1136</td>\n",
       "    </tr>\n",
       "  </tbody>\n",
       "</table>\n",
       "</div>"
      ],
      "text/plain": [
       "                 number_of_games\n",
       "year_of_release                 \n",
       "2008-01-01                  1427\n",
       "2009-01-01                  1426\n",
       "2010-01-01                  1255\n",
       "2007-01-01                  1197\n",
       "2011-01-01                  1136"
      ]
     },
     "execution_count": 37,
     "metadata": {},
     "output_type": "execute_result"
    }
   ],
   "source": [
    "release_years.head()"
   ]
  },
  {
   "cell_type": "code",
   "execution_count": 38,
   "metadata": {},
   "outputs": [
    {
     "data": {
      "image/png": "[encoded data removed]",
      "text/plain": [
       "<Figure size 720x432 with 1 Axes>"
      ]
     },
     "metadata": {},
     "output_type": "display_data"
    }
   ],
   "source": [
    "sns.lineplot(data=release_years)\n",
    "plt.ylabel('Number')\n",
    "plt.show()"
   ]
  },
  {
   "cell_type": "markdown",
   "metadata": {},
   "source": [
    "As you can see on the chart above, we have a different amount of data on the number of games released in certain years.\n",
    "More specifically, we don't have much data on games released before 1994. I believe that this data will not be required for my analysis due to the small number of datapoints."
   ]
  },
  {
   "cell_type": "code",
   "execution_count": 39,
   "metadata": {},
   "outputs": [],
   "source": [
    "df = df[df['year_of_release'] > pd.to_datetime(1993, format = '%Y')]"
   ]
  },
  {
   "cell_type": "code",
   "execution_count": 40,
   "metadata": {},
   "outputs": [
    {
     "data": {
      "text/plain": [
       "Timestamp('1994-01-01 00:00:00')"
      ]
     },
     "execution_count": 40,
     "metadata": {},
     "output_type": "execute_result"
    }
   ],
   "source": [
    "# check the most early game just in case\n",
    "df['year_of_release'].min()"
   ]
  },
  {
   "cell_type": "markdown",
   "metadata": {},
   "source": [
    "## Sales across different platforms"
   ]
  },
  {
   "cell_type": "code",
   "execution_count": 41,
   "metadata": {},
   "outputs": [],
   "source": [
    "platforms = df.pivot_table(index = ['platform'], \n",
    "                           values = 'total_sales', \n",
    "                           aggfunc = 'sum')"
   ]
  },
  {
   "cell_type": "code",
   "execution_count": 42,
   "metadata": {},
   "outputs": [],
   "source": [
    "platforms = platforms.reset_index().sort_values(by = 'total_sales', ascending = False)"
   ]
  },
  {
   "cell_type": "code",
   "execution_count": 43,
   "metadata": {},
   "outputs": [
    {
     "data": {
      "text/html": [
       "<div>\n",
       "<style scoped>\n",
       "    .dataframe tbody tr th:only-of-type {\n",
       "        vertical-align: middle;\n",
       "    }\n",
       "\n",
       "    .dataframe tbody tr th {\n",
       "        vertical-align: top;\n",
       "    }\n",
       "\n",
       "    .dataframe thead th {\n",
       "        text-align: right;\n",
       "    }\n",
       "</style>\n",
       "<table border=\"1\" class=\"dataframe\">\n",
       "  <thead>\n",
       "    <tr style=\"text-align: right;\">\n",
       "      <th></th>\n",
       "      <th>platform</th>\n",
       "      <th>total_sales</th>\n",
       "    </tr>\n",
       "  </thead>\n",
       "  <tbody>\n",
       "    <tr>\n",
       "      <th>16</th>\n",
       "      <td>PS2</td>\n",
       "      <td>1233.56</td>\n",
       "    </tr>\n",
       "    <tr>\n",
       "      <th>28</th>\n",
       "      <td>X360</td>\n",
       "      <td>961.24</td>\n",
       "    </tr>\n",
       "    <tr>\n",
       "      <th>17</th>\n",
       "      <td>PS3</td>\n",
       "      <td>931.34</td>\n",
       "    </tr>\n",
       "    <tr>\n",
       "      <th>26</th>\n",
       "      <td>Wii</td>\n",
       "      <td>891.18</td>\n",
       "    </tr>\n",
       "    <tr>\n",
       "      <th>4</th>\n",
       "      <td>DS</td>\n",
       "      <td>802.76</td>\n",
       "    </tr>\n",
       "  </tbody>\n",
       "</table>\n",
       "</div>"
      ],
      "text/plain": [
       "   platform  total_sales\n",
       "16      PS2      1233.56\n",
       "28     X360       961.24\n",
       "17      PS3       931.34\n",
       "26      Wii       891.18\n",
       "4        DS       802.76"
      ]
     },
     "execution_count": 43,
     "metadata": {},
     "output_type": "execute_result"
    }
   ],
   "source": [
    "platforms.head()"
   ]
  },
  {
   "cell_type": "code",
   "execution_count": 44,
   "metadata": {},
   "outputs": [
    {
     "data": {
      "text/plain": [
       "<AxesSubplot:xlabel='total_sales', ylabel='platform'>"
      ]
     },
     "execution_count": 44,
     "metadata": {},
     "output_type": "execute_result"
    },
    {
     "data": {
      "image/png": "[encoded data removed]",
      "text/plain": [
       "<Figure size 720x432 with 1 Axes>"
      ]
     },
     "metadata": {},
     "output_type": "display_data"
    }
   ],
   "source": [
    "sns.barplot(data=platforms, x='total_sales', y='platform', orient='h', order=platforms.platform, )"
   ]
  },
  {
   "cell_type": "markdown",
   "metadata": {},
   "source": [
    "Some of the platforms have almost no games in this dataset. These platforms are also outdated, thus will most likely be irrelevant for the anlysis. For these reasons I will exclude all platforms that have less games than PSV. "
   ]
  },
  {
   "cell_type": "code",
   "execution_count": 45,
   "metadata": {},
   "outputs": [
    {
     "data": {
      "text/plain": [
       "53.81"
      ]
     },
     "execution_count": 45,
     "metadata": {},
     "output_type": "execute_result"
    }
   ],
   "source": [
    "# PSV sales\n",
    "psv_sales = float(platforms[platforms['platform'] == 'PSV']['total_sales'])\n",
    "psv_sales"
   ]
  },
  {
   "cell_type": "code",
   "execution_count": 46,
   "metadata": {},
   "outputs": [],
   "source": [
    "relevant_platforms = platforms[(platforms['total_sales'] > psv_sales)]['platform']"
   ]
  },
  {
   "cell_type": "code",
   "execution_count": 47,
   "metadata": {},
   "outputs": [],
   "source": [
    "df_relevant = df.query('platform in list(@relevant_platforms)')"
   ]
  },
  {
   "cell_type": "code",
   "execution_count": 48,
   "metadata": {},
   "outputs": [
    {
     "name": "stderr",
     "output_type": "stream",
     "text": [
      "C:\\ProgramData\\Anaconda3\\lib\\site-packages\\pandas\\core\\generic.py:5516: SettingWithCopyWarning: \n",
      "A value is trying to be set on a copy of a slice from a DataFrame.\n",
      "Try using .loc[row_indexer,col_indexer] = value instead\n",
      "\n",
      "See the caveats in the documentation: https://pandas.pydata.org/pandas-docs/stable/user_guide/indexing.html#returning-a-view-versus-a-copy\n",
      "  self[name] = value\n"
     ]
    }
   ],
   "source": [
    "df_relevant.platform = df_relevant.platform.cat.remove_unused_categories()"
   ]
  },
  {
   "cell_type": "code",
   "execution_count": 49,
   "metadata": {},
   "outputs": [
    {
     "data": {
      "text/plain": [
       "PS2     2127\n",
       "DS      2120\n",
       "PS3     1306\n",
       "Wii     1286\n",
       "X360    1232\n",
       "PSP     1193\n",
       "PS      1190\n",
       "PC       950\n",
       "GBA      811\n",
       "XB       803\n",
       "GC       542\n",
       "3DS      512\n",
       "PS4      392\n",
       "N64      316\n",
       "XOne     247\n",
       "WiiU     147\n",
       "SNES     144\n",
       "GB        67\n",
       "Name: platform, dtype: int64"
      ]
     },
     "execution_count": 49,
     "metadata": {},
     "output_type": "execute_result"
    }
   ],
   "source": [
    "df_relevant.platform.value_counts()"
   ]
  },
  {
   "cell_type": "markdown",
   "metadata": {},
   "source": [
    "irrelevant game platforms were removed\n",
    "\n",
    "Now I can analyze the sales data across different platforms"
   ]
  },
  {
   "cell_type": "code",
   "execution_count": 50,
   "metadata": {},
   "outputs": [],
   "source": [
    "df_platform_sales = df_relevant.pivot_table(index = 'year_of_release', \n",
    "                                            columns = 'platform', \n",
    "                                            values = 'total_sales', \n",
    "                                            aggfunc = 'sum')"
   ]
  },
  {
   "cell_type": "markdown",
   "metadata": {},
   "source": [
    "According to the task description 2016 data is not full (most likely the data was extracted before 2016 was over), thus I will remove this data from the analysis "
   ]
  },
  {
   "cell_type": "code",
   "execution_count": 51,
   "metadata": {},
   "outputs": [],
   "source": [
    "df_platform_sales = df_platform_sales.drop(np.datetime64('2016-01-01'), axis = 0)"
   ]
  },
  {
   "cell_type": "code",
   "execution_count": 52,
   "metadata": {},
   "outputs": [],
   "source": [
    "df_platform_sales.replace(0, np.nan, inplace=True)"
   ]
  },
  {
   "cell_type": "markdown",
   "metadata": {},
   "source": [
    "Let's check when most of the were made for each platform"
   ]
  },
  {
   "cell_type": "code",
   "execution_count": 53,
   "metadata": {},
   "outputs": [
    {
     "data": {
      "image/png": "[encoded data removed]",
      "text/plain": [
       "<Figure size 1008x432 with 1 Axes>"
      ]
     },
     "metadata": {},
     "output_type": "display_data"
    }
   ],
   "source": [
    "plt.figure(figsize=(14,6))\n",
    "plt.title(\"Games per platform sales 1994 - 2015\", fontsize=15)\n",
    "for platform in df_platform_sales.columns:\n",
    "    sns.lineplot(data=df_platform_sales[platform], label = platform)\n",
    "\n",
    "plt.xlabel(\"Year\")\n",
    "plt.ylabel(\"Total sales (mln)\")\n",
    "plt.show()"
   ]
  },
  {
   "cell_type": "markdown",
   "metadata": {},
   "source": [
    "Based on the data above, it is possible to estimate the lifespan of different gaming platforms.\n",
    "\n",
    "Thus, the first successful platform with total sales in a year (at least based on the available data) is PS, the first to sell more than 100 million copies of games in 1996 and end its life cycle by about 2002.\n",
    "\n",
    "The next big gaming platform was PS2, released in 1999 and quickly gained popularity, sales grew until 2004 and only by 2008 fell below 50 million a year.\n",
    "\n",
    "This was followed by DS, which launched in 2004 and began to lose popularity by 2008; The Xbox360, which launched in 2005, peaked in 2010 and then lost sales until 2016.\n",
    "\n",
    "An interesting example is the Wii platform, which launched in 2006 and immediately gained popularity, but also abruptly lost it after 3 years."
   ]
  },
  {
   "cell_type": "markdown",
   "metadata": {},
   "source": [
    "To better illustrate it, I will plot a similar chart only for the most successful platforms."
   ]
  },
  {
   "cell_type": "code",
   "execution_count": 54,
   "metadata": {},
   "outputs": [],
   "source": [
    "top_games = df_platform_sales[['PS', 'PS2', 'X360', 'PS3', 'Wii', 'DS', '3DS']]"
   ]
  },
  {
   "cell_type": "code",
   "execution_count": 55,
   "metadata": {},
   "outputs": [
    {
     "data": {
      "text/plain": [
       "Text(0, 0.5, 'Total sales (mln)')"
      ]
     },
     "execution_count": 55,
     "metadata": {},
     "output_type": "execute_result"
    },
    {
     "data": {
      "image/png": "[encoded data removed]",
      "text/plain": [
       "<Figure size 1008x432 with 1 Axes>"
      ]
     },
     "metadata": {},
     "output_type": "display_data"
    }
   ],
   "source": [
    "plt.figure(figsize=(14,6))\n",
    "plt.title(\"Games per platform sales 1994 - 2015\", fontsize=15)\n",
    "\n",
    "for platform in top_games.columns:\n",
    "    sns.lineplot(data=df_platform_sales[platform], label = platform)\n",
    "\n",
    "plt.xlabel(\"Year\")\n",
    "plt.ylabel(\"Total sales (mln)\")"
   ]
  },
  {
   "cell_type": "code",
   "execution_count": 56,
   "metadata": {},
   "outputs": [
    {
     "data": {
      "text/plain": [
       "Text(0, 0.5, 'Total sales (mln)')"
      ]
     },
     "execution_count": 56,
     "metadata": {},
     "output_type": "execute_result"
    },
    {
     "data": {
      "image/png": "[encoded data removed]",
      "text/plain": [
       "<Figure size 576x432 with 1 Axes>"
      ]
     },
     "metadata": {},
     "output_type": "display_data"
    }
   ],
   "source": [
    "plt.figure(figsize=(8,6))\n",
    "plt.title(\"PS4 and XOne sales\", fontsize=15)\n",
    "\n",
    "for platform in ['PS4', 'XOne']:\n",
    "    sns.lineplot(data=df_platform_sales[platform], label = platform)\n",
    "\n",
    "plt.xlabel(\"Year\")\n",
    "plt.ylabel(\"Total sales (mln)\")"
   ]
  },
  {
   "cell_type": "markdown",
   "metadata": {},
   "source": [
    "- PS appeared and reached its peak in the period 1994 - 1998 (4 years) and by 2002 sales had dropped to almost zero (it also took 4 years)\n",
    "\n",
    "- PS2 started and peaked in the period 1998 - 2004 (6 years) after which the popularity faded until 2010 (6 years)\n",
    "\n",
    "- DS appeared in 2004, peaked in 2008 (4 years) and died out by 2012 (4 years)\n",
    "\n",
    "- PS3 came out in 2005, peaked in 2011 (6 years) and lost popularity by 2016 (5 years)\n",
    "\n",
    "- X360 was also released in 2005 and in general followed the path of PS3\n",
    "\n",
    "- 3DS was released in 2011 and still remains a relevant platform in 2016, although apparently sales have been going down since 2013"
   ]
  },
  {
   "cell_type": "markdown",
   "metadata": {},
   "source": [
    "Based on historical data, it can be concluded that a successful console gains popularity for 4-6 years before reaching its peak, after which it gradually loses popularity for the same number of years.\\\n",
    "In total, the life of the console is 8-12 years. It is also worth noting that Nintendo consoles: DS, 3DS and Wii have shorter life cycle compared to PS platforms\n",
    "\n",
    "Currenty PS4 and XOne released in 2013, as well as the 3DS, are relevant and potentially profitable platforms.\n",
    "\n",
    "If PS4 and XOne follow the trajectory of the previous generation of game consoles, then we can expect that they are yet to reach their pick popularity in ~2019, after which they will remain relevant for 4-6 years.\\\n",
    "The popularity of 3DS is gradually declining."
   ]
  },
  {
   "cell_type": "markdown",
   "metadata": {},
   "source": [
    "Let's take a look only at most recent platforms"
   ]
  },
  {
   "cell_type": "code",
   "execution_count": 57,
   "metadata": {},
   "outputs": [],
   "source": [
    "relevant_platforms = ['Wii', 'X360', 'PS3', '3DS', 'PS4', 'XOne']"
   ]
  },
  {
   "cell_type": "code",
   "execution_count": 58,
   "metadata": {},
   "outputs": [],
   "source": [
    "relevant_years = [i for i in list(df_platform_sales.index) if i > np.datetime64('2004-01-01')]"
   ]
  },
  {
   "cell_type": "code",
   "execution_count": 59,
   "metadata": {},
   "outputs": [],
   "source": [
    "relevant_platforms_sales = df_platform_sales.loc[relevant_years]\n",
    "relevant_platforms_sales = relevant_platforms_sales[relevant_platforms]"
   ]
  },
  {
   "cell_type": "code",
   "execution_count": 60,
   "metadata": {
    "scrolled": false
   },
   "outputs": [
    {
     "data": {
      "image/png": "[encoded data removed]",
      "text/plain": [
       "<Figure size 1008x432 with 1 Axes>"
      ]
     },
     "metadata": {},
     "output_type": "display_data"
    }
   ],
   "source": [
    "plt.figure(figsize=(14,6))\n",
    "\n",
    "plt.title(\"Games per platform sales 2005 - 2015\", fontsize=15)\n",
    "\n",
    "for platform in relevant_platforms:\n",
    "    sns.lineplot(data=relevant_platforms_sales[platform], label = platform)\n",
    "\n",
    "plt.xlabel(\"Year\")\n",
    "plt.ylabel(\"Total sales (mln)\")\n",
    "plt.show()"
   ]
  },
  {
   "cell_type": "markdown",
   "metadata": {},
   "source": [
    "This chart clearly shows the life cycle of the previous generation of consoles - PS3, X360 and Wii, which quickly overtook competitors and also quickly lost its popularity."
   ]
  },
  {
   "cell_type": "markdown",
   "metadata": {},
   "source": [
    "## Distributions of sales across different platforms"
   ]
  },
  {
   "cell_type": "code",
   "execution_count": 61,
   "metadata": {},
   "outputs": [
    {
     "data": {
      "image/png": "[encoded data removed]",
      "text/plain": [
       "<Figure size 1008x432 with 1 Axes>"
      ]
     },
     "metadata": {},
     "output_type": "display_data"
    }
   ],
   "source": [
    "plt.figure(figsize=(14,6))\n",
    "plt.title(\"Yearly sales per platform sales 2005 - 2015\", fontsize=15)\n",
    "relevant_platforms_sales.boxplot(grid = True)\n",
    "plt.xlabel(\"Platform\")\n",
    "plt.ylabel(\"Total sales (mln)\")\n",
    "plt.show()"
   ]
  },
  {
   "cell_type": "markdown",
   "metadata": {},
   "source": [
    "From the boxplot, you can see that games on the previous generation of PS3 and X360 consoles had similar sales dynamics, but PS3 was more successful, selling about 20 million more copies on average.\n",
    "\n",
    "The behavior of the Wii platform stands out - as in the chart above, you can see that the console has quartiles very far from the average and a high maximum value, which indicates that games on this console sold very unevenly throughout its life cycle.\n",
    "\n",
    "Its complete opposite will be the 3DS console, which sells an average of 50 million copies a year with little variation.\n",
    "\n",
    "Finally, despite the fact that PS4 was released relatively recently (3 years ago), the average annual sales are at a high level of 100 million copies per year, twice outperforming the competitor XOne."
   ]
  },
  {
   "cell_type": "markdown",
   "metadata": {},
   "source": [
    "Now I will explore total sales across these platforms to see how games are sold there."
   ]
  },
  {
   "cell_type": "code",
   "execution_count": 62,
   "metadata": {},
   "outputs": [],
   "source": [
    "games_relevant = df[(df['platform'].isin(relevant_platforms)) &\n",
    "                    (df['year_of_release'].isin(relevant_years))].copy()\n",
    "games_relevant.platform = games_relevant.platform.cat.remove_unused_categories()"
   ]
  },
  {
   "cell_type": "code",
   "execution_count": 63,
   "metadata": {},
   "outputs": [
    {
     "data": {
      "image/png": "[encoded data removed]",
      "text/plain": [
       "<Figure size 1008x432 with 1 Axes>"
      ]
     },
     "metadata": {},
     "output_type": "display_data"
    }
   ],
   "source": [
    "plt.figure(figsize=(14,6))\n",
    "plt.title(\"Games per platform sales 2005 - 2015\", fontsize=15)\n",
    "sns.boxplot(x=games_relevant[\"platform\"], y =games_relevant[\"total_sales\"])\n",
    "plt.show()"
   ]
  },
  {
   "cell_type": "markdown",
   "metadata": {},
   "source": [
    "Interesting to see outliers on this chart — certain games that sold way more compared to the average sales.\\\n",
    "Most extreme cases are on the Wii platform. Let's check what are these games."
   ]
  },
  {
   "cell_type": "code",
   "execution_count": 64,
   "metadata": {},
   "outputs": [
    {
     "data": {
      "text/plain": [
       "0                    Wii Sports\n",
       "2                Mario Kart Wii\n",
       "3             Wii Sports Resort\n",
       "7                      Wii Play\n",
       "8     New Super Mario Bros. Wii\n",
       "13                      Wii Fit\n",
       "15                 Wii Fit Plus\n",
       "Name: name, dtype: object"
      ]
     },
     "execution_count": 64,
     "metadata": {},
     "output_type": "execute_result"
    }
   ],
   "source": [
    "games_relevant[(games_relevant['platform'] == 'Wii') & (games_relevant['total_sales'] > 20)]['name']"
   ]
  },
  {
   "cell_type": "markdown",
   "metadata": {},
   "source": [
    "Outliers in the data are immediately visible - specifically, the extremely high sales of one game with sales of more than 80 million copies - Wii Sports for the Wii console.\\\n",
    "Most of the outliers among new generation consoles also come from Wii and sports games, the main selling point of the Wii console that Sony and Microsoft would later try to copy with their Kinect systems and those funny PS Move joysticks if you remember those."
   ]
  },
  {
   "cell_type": "code",
   "execution_count": 65,
   "metadata": {},
   "outputs": [
    {
     "data": {
      "image/png": "[encoded data removed]",
      "text/plain": [
       "<Figure size 1008x432 with 1 Axes>"
      ]
     },
     "metadata": {},
     "output_type": "display_data"
    }
   ],
   "source": [
    "plt.figure(figsize=(14,6))\n",
    "plt.title(\"Games per platform sales 2005 - 2015\", fontsize=15)\n",
    "sns.boxplot(x=games_relevant[\"platform\"], y =games_relevant[\"total_sales\"])\n",
    "plt.ylim([0,3])\n",
    "plt.show()"
   ]
  },
  {
   "cell_type": "markdown",
   "metadata": {},
   "source": [
    "Despite a large number of very successful games, the average sales of the Wii console are lower than those of its X360 and PS3 competitors. Apparently, the console remained relevant only thanks to a few hits that quite literally created a market for sports games using new Wii controllers.\n",
    "\n",
    "XBox360 and PS3 have almost the same charts - in this generation of consoles, Microsoft managed to compete with Sony (which cannot be said about the previous generation in which PS2 dominated the whole game console market)\n",
    "\n",
    "When compared to today's consoles, PS4 and XOne are almost on par, having the same placement of middle and lower/upper quartiles. However, as you can see from the graph above, there are more hits on PS4 selling more copies than the average game for these consoles, i.e. more than 2.5 million.\n",
    "\n",
    "The third modern console — 3DS continues to follow Nintendo's policy of relying on sales of unique games that all owners of the console will purchase. Where Sony and Microsoft clash, Nintendo seems to be inventing a new market (and the upcoming Switch will continue to prove this rule)"
   ]
  },
  {
   "cell_type": "markdown",
   "metadata": {},
   "source": [
    "## Critic and user score analysis"
   ]
  },
  {
   "cell_type": "code",
   "execution_count": 66,
   "metadata": {},
   "outputs": [],
   "source": [
    "def score_to_sales_corr(platform, df, enable_chart=True):\n",
    "    platform_games = df[df['platform'] == platform][['critic_score', 'user_score', 'total_sales']]\n",
    "    \n",
    "    critic_corr = platform_games['total_sales'].corr(platform_games['critic_score'])\n",
    "    user_corr = platform_games['total_sales'].corr(platform_games['user_score'])\n",
    "    \n",
    "    print(\"Correlation coefficient between user score and sales on\", platform, \"=\", user_corr)\n",
    "    print(\"Correlation coefficient between critic score and sales on\", platform, \"=:\", critic_corr)    \n",
    "    \n",
    "    if enable_chart == True:\n",
    "        plt.figure(figsize=(10,4))\n",
    "        a = sns.scatterplot(x=platform_games['user_score'], \n",
    "                            y=platform_games['total_sales'], \n",
    "                            c = ['b'], \n",
    "                            alpha = 0.6, \n",
    "                            label = 'user_score')\n",
    "        b = sns.scatterplot(x=(platform_games['critic_score'] / 10), \n",
    "                            y=platform_games['total_sales'], \n",
    "                            c = ['r'], \n",
    "                            alpha = 0.6, \n",
    "                            label = 'critic_score')\n",
    "        plt.xlabel('Score')\n",
    "        plt.show()"
   ]
  },
  {
   "cell_type": "code",
   "execution_count": 67,
   "metadata": {},
   "outputs": [
    {
     "name": "stdout",
     "output_type": "stream",
     "text": [
      "Correlation coefficient between user score and sales on Wii = 0.11283121360773782\n",
      "Correlation coefficient between critic score and sales on Wii =: 0.17790728577594914\n"
     ]
    },
    {
     "data": {
      "image/png": "[encoded data removed]",
      "text/plain": [
       "<Figure size 720x288 with 1 Axes>"
      ]
     },
     "metadata": {},
     "output_type": "display_data"
    },
    {
     "name": "stdout",
     "output_type": "stream",
     "text": [
      "Correlation coefficient between user score and sales on X360 = 0.11124535675258382\n",
      "Correlation coefficient between critic score and sales on X360 =: 0.39286589254006987\n"
     ]
    },
    {
     "data": {
      "image/png": "[encoded data removed]",
      "text/plain": [
       "<Figure size 720x288 with 1 Axes>"
      ]
     },
     "metadata": {},
     "output_type": "display_data"
    },
    {
     "name": "stdout",
     "output_type": "stream",
     "text": [
      "Correlation coefficient between user score and sales on PS3 = 0.12426430250873323\n",
      "Correlation coefficient between critic score and sales on PS3 =: 0.4327589578997134\n"
     ]
    },
    {
     "data": {
      "image/png": "[encoded data removed]",
      "text/plain": [
       "<Figure size 720x288 with 1 Axes>"
      ]
     },
     "metadata": {},
     "output_type": "display_data"
    },
    {
     "name": "stdout",
     "output_type": "stream",
     "text": [
      "Correlation coefficient between user score and sales on 3DS = 0.23441244400535474\n",
      "Correlation coefficient between critic score and sales on 3DS =: 0.3610269340210956\n"
     ]
    },
    {
     "data": {
      "image/png": "[encoded data removed]",
      "text/plain": [
       "<Figure size 720x288 with 1 Axes>"
      ]
     },
     "metadata": {},
     "output_type": "display_data"
    },
    {
     "name": "stdout",
     "output_type": "stream",
     "text": [
      "Correlation coefficient between user score and sales on PS4 = 0.024230832360622553\n",
      "Correlation coefficient between critic score and sales on PS4 =: 0.4318482049982005\n"
     ]
    },
    {
     "data": {
      "image/png": "[encoded data removed]",
      "text/plain": [
       "<Figure size 720x288 with 1 Axes>"
      ]
     },
     "metadata": {},
     "output_type": "display_data"
    },
    {
     "name": "stdout",
     "output_type": "stream",
     "text": [
      "Correlation coefficient between user score and sales on XOne = -0.03926828544552199\n",
      "Correlation coefficient between critic score and sales on XOne =: 0.4593845680707106\n"
     ]
    },
    {
     "data": {
      "image/png": "[encoded data removed]",
      "text/plain": [
       "<Figure size 720x288 with 1 Axes>"
      ]
     },
     "metadata": {},
     "output_type": "display_data"
    }
   ],
   "source": [
    "for platform in relevant_platforms:\n",
    "    score_to_sales_corr(platform, games_relevant)"
   ]
  },
  {
   "cell_type": "markdown",
   "metadata": {},
   "source": [
    "Let's take a look at the correlations again"
   ]
  },
  {
   "cell_type": "code",
   "execution_count": 68,
   "metadata": {},
   "outputs": [
    {
     "name": "stdout",
     "output_type": "stream",
     "text": [
      "Correlation coefficient between user score and sales on Wii = 0.11283121360773782\n",
      "Correlation coefficient between critic score and sales on Wii =: 0.17790728577594914\n",
      "\n",
      "Correlation coefficient between user score and sales on X360 = 0.11124535675258382\n",
      "Correlation coefficient between critic score and sales on X360 =: 0.39286589254006987\n",
      "\n",
      "Correlation coefficient between user score and sales on PS3 = 0.12426430250873323\n",
      "Correlation coefficient between critic score and sales on PS3 =: 0.4327589578997134\n",
      "\n",
      "Correlation coefficient between user score and sales on 3DS = 0.23441244400535474\n",
      "Correlation coefficient between critic score and sales on 3DS =: 0.3610269340210956\n",
      "\n",
      "Correlation coefficient between user score and sales on PS4 = 0.024230832360622553\n",
      "Correlation coefficient between critic score and sales on PS4 =: 0.4318482049982005\n",
      "\n",
      "Correlation coefficient between user score and sales on XOne = -0.03926828544552199\n",
      "Correlation coefficient between critic score and sales on XOne =: 0.4593845680707106\n",
      "\n"
     ]
    }
   ],
   "source": [
    "for platform in relevant_platforms:\n",
    "    score_to_sales_corr(platform, games_relevant, enable_chart=False)\n",
    "    print()"
   ]
  },
  {
   "cell_type": "markdown",
   "metadata": {},
   "source": [
    "As you can see, across all games the correlation between critic ratings and sales is higher than with player ratings. \n",
    "We can suggest that the critics score is a more significant parameter for predicting the success of the game regardless of the platform.\n",
    "\n",
    "At the same time Wii console stands out where the ratings of both players and critics almost do not correlate with sales. Apparently Nintendo managed to create hype around their sports games, leading to people buying them without looking at the reviews.\n",
    "\n",
    "For the rest of the consoles critic scores are higher correlated with sales - ~0.4 correlation coefficient. That is the critic score could be one of the parameters of predicting the success of the game but should not be solely used for that."
   ]
  },
  {
   "cell_type": "markdown",
   "metadata": {},
   "source": [
    "## Video game genre distributions"
   ]
  },
  {
   "cell_type": "code",
   "execution_count": 69,
   "metadata": {},
   "outputs": [],
   "source": [
    "genre_sales = games_relevant.groupby('genre')['total_sales'].agg(['sum', 'mean', 'std']\n",
    "                                                                ).sort_values(by = 'sum', \n",
    "                                                                              ascending = False)"
   ]
  },
  {
   "cell_type": "code",
   "execution_count": 70,
   "metadata": {},
   "outputs": [
    {
     "data": {
      "text/html": [
       "<div>\n",
       "<style scoped>\n",
       "    .dataframe tbody tr th:only-of-type {\n",
       "        vertical-align: middle;\n",
       "    }\n",
       "\n",
       "    .dataframe tbody tr th {\n",
       "        vertical-align: top;\n",
       "    }\n",
       "\n",
       "    .dataframe thead th {\n",
       "        text-align: right;\n",
       "    }\n",
       "</style>\n",
       "<table border=\"1\" class=\"dataframe\">\n",
       "  <thead>\n",
       "    <tr style=\"text-align: right;\">\n",
       "      <th></th>\n",
       "      <th>total_sales</th>\n",
       "      <th>mean_sales</th>\n",
       "      <th>std</th>\n",
       "    </tr>\n",
       "    <tr>\n",
       "      <th>genre</th>\n",
       "      <th></th>\n",
       "      <th></th>\n",
       "      <th></th>\n",
       "    </tr>\n",
       "  </thead>\n",
       "  <tbody>\n",
       "    <tr>\n",
       "      <th>Action</th>\n",
       "      <td>806.61</td>\n",
       "      <td>0.669386</td>\n",
       "      <td>1.350504</td>\n",
       "    </tr>\n",
       "    <tr>\n",
       "      <th>Sports</th>\n",
       "      <td>621.78</td>\n",
       "      <td>0.833485</td>\n",
       "      <td>3.546002</td>\n",
       "    </tr>\n",
       "    <tr>\n",
       "      <th>Shooter</th>\n",
       "      <td>607.77</td>\n",
       "      <td>1.318373</td>\n",
       "      <td>2.440077</td>\n",
       "    </tr>\n",
       "    <tr>\n",
       "      <th>Misc</th>\n",
       "      <td>371.54</td>\n",
       "      <td>0.637290</td>\n",
       "      <td>1.850365</td>\n",
       "    </tr>\n",
       "    <tr>\n",
       "      <th>Role-Playing</th>\n",
       "      <td>266.37</td>\n",
       "      <td>0.772087</td>\n",
       "      <td>1.479728</td>\n",
       "    </tr>\n",
       "    <tr>\n",
       "      <th>Racing</th>\n",
       "      <td>229.70</td>\n",
       "      <td>0.733866</td>\n",
       "      <td>2.300760</td>\n",
       "    </tr>\n",
       "    <tr>\n",
       "      <th>Platform</th>\n",
       "      <td>167.68</td>\n",
       "      <td>1.110464</td>\n",
       "      <td>2.854544</td>\n",
       "    </tr>\n",
       "    <tr>\n",
       "      <th>Fighting</th>\n",
       "      <td>130.16</td>\n",
       "      <td>0.622775</td>\n",
       "      <td>1.163797</td>\n",
       "    </tr>\n",
       "    <tr>\n",
       "      <th>Simulation</th>\n",
       "      <td>87.70</td>\n",
       "      <td>0.487222</td>\n",
       "      <td>0.979840</td>\n",
       "    </tr>\n",
       "    <tr>\n",
       "      <th>Adventure</th>\n",
       "      <td>65.65</td>\n",
       "      <td>0.256445</td>\n",
       "      <td>0.598123</td>\n",
       "    </tr>\n",
       "    <tr>\n",
       "      <th>Strategy</th>\n",
       "      <td>22.17</td>\n",
       "      <td>0.235851</td>\n",
       "      <td>0.318219</td>\n",
       "    </tr>\n",
       "    <tr>\n",
       "      <th>Puzzle</th>\n",
       "      <td>22.06</td>\n",
       "      <td>0.265783</td>\n",
       "      <td>0.461120</td>\n",
       "    </tr>\n",
       "  </tbody>\n",
       "</table>\n",
       "</div>"
      ],
      "text/plain": [
       "              total_sales  mean_sales       std\n",
       "genre                                          \n",
       "Action             806.61    0.669386  1.350504\n",
       "Sports             621.78    0.833485  3.546002\n",
       "Shooter            607.77    1.318373  2.440077\n",
       "Misc               371.54    0.637290  1.850365\n",
       "Role-Playing       266.37    0.772087  1.479728\n",
       "Racing             229.70    0.733866  2.300760\n",
       "Platform           167.68    1.110464  2.854544\n",
       "Fighting           130.16    0.622775  1.163797\n",
       "Simulation          87.70    0.487222  0.979840\n",
       "Adventure           65.65    0.256445  0.598123\n",
       "Strategy            22.17    0.235851  0.318219\n",
       "Puzzle              22.06    0.265783  0.461120"
      ]
     },
     "execution_count": 70,
     "metadata": {},
     "output_type": "execute_result"
    }
   ],
   "source": [
    "genre_sales.columns = ['total_sales', 'mean_sales', 'std']\n",
    "genre_sales.sort_values(by = 'mean_sales', ascending = False)\n",
    "genre_sales"
   ]
  },
  {
   "cell_type": "markdown",
   "metadata": {},
   "source": [
    "The most popular genre is Action. Since 2005 more than 800 million games in this genre have been sold. Next come sports games and shooters.\n",
    "\n",
    "On average shooters are the top-selling games with each shooter selling 1.3 million copies on average.\n",
    "\n",
    "Adventure, Puzzle, Strategy, Simulation genres appear to be least popular both by total sales and on average.\n",
    "\n",
    "An interesting exception is Platform genre. Despite the low overall sales each platformer sells an average of 1.1 million copies.\n",
    "\n",
    "Action games despite the highest sales in absolute numbers have an average sales of about 670,000 copies per game.\\\n",
    "This may indicate that there are simply many games that sell differently in the Action genre."
   ]
  },
  {
   "cell_type": "markdown",
   "metadata": {},
   "source": [
    "## Who is a typical videogamer in each region?"
   ]
  },
  {
   "cell_type": "markdown",
   "metadata": {},
   "source": [
    "In this section I will analyze customers behaviour in different regions.\\\n",
    "I expect to see that people in different regions would prefer different video games.\\\n",
    "Let's check it."
   ]
  },
  {
   "cell_type": "code",
   "execution_count": 71,
   "metadata": {},
   "outputs": [],
   "source": [
    "# calculates top 5 genres, platforms in the region\n",
    "def top_region_games(region):\n",
    "    region_games = games_relevant[[region, 'platform', 'genre', 'rating']]\n",
    "    top_platforms = region_games.groupby('platform')[region].sum().sort_values(ascending = False).head()\n",
    "    top_genres = region_games.groupby('genre')[region].sum().sort_values(ascending = False).head()\n",
    "    return top_platforms, top_genres\n",
    "    \n",
    "    \n",
    "def esrb_rating_influence(region):\n",
    "    region_games = games_relevant[[region, 'platform', 'genre', 'rating']]\n",
    "    esrb_rated = region_games.groupby('rating')[region].agg(\n",
    "        ['sum', 'mean', 'std']).sort_values(by = 'sum', ascending = False).head()\n",
    "    return esrb_rated"
   ]
  },
  {
   "cell_type": "code",
   "execution_count": 72,
   "metadata": {},
   "outputs": [
    {
     "name": "stdout",
     "output_type": "stream",
     "text": [
      "platform\n",
      "X360    595.05\n",
      "Wii     486.81\n",
      "PS3     389.46\n",
      "PS4      87.25\n",
      "XOne     78.85\n",
      "Name: na_sales, dtype: float64\n",
      "\n",
      "genre\n",
      "Action          389.16\n",
      "Shooter         327.30\n",
      "Sports          327.00\n",
      "Misc            210.06\n",
      "Role-Playing    113.91\n",
      "Name: na_sales, dtype: float64\n",
      "\n",
      "              sum      mean       std\n",
      "rating                               \n",
      "E          517.23  0.478474  1.728096\n",
      "M          511.96  0.756219  1.309149\n",
      "T          312.08  0.316511  0.497475\n",
      "E10+       212.35  0.329225  0.546469\n",
      "undefined  161.69  0.130923  0.425844\n"
     ]
    }
   ],
   "source": [
    "na_top_platforms, na_top_genres = top_region_games('na_sales')\n",
    "na_esrb_influence = esrb_rating_influence('na_sales')\n",
    "\n",
    "print(na_top_platforms)\n",
    "print()\n",
    "print(na_top_genres)\n",
    "print()\n",
    "print(na_esrb_influence)"
   ]
  },
  {
   "cell_type": "code",
   "execution_count": 73,
   "metadata": {},
   "outputs": [
    {
     "name": "stdout",
     "output_type": "stream",
     "text": [
      "platform\n",
      "PS3     325.95\n",
      "X360    267.61\n",
      "Wii     258.21\n",
      "PS4     109.31\n",
      "3DS      58.94\n",
      "Name: eu_sales, dtype: float64\n",
      "\n",
      "genre\n",
      "Action     265.03\n",
      "Sports     201.07\n",
      "Shooter    195.21\n",
      "Misc       105.84\n",
      "Racing      91.69\n",
      "Name: eu_sales, dtype: float64\n",
      "\n",
      "              sum      mean       std\n",
      "rating                               \n",
      "M          328.67  0.485480  0.851404\n",
      "E          316.32  0.292618  1.254189\n",
      "T          161.35  0.163641  0.284074\n",
      "undefined  140.88  0.114073  0.388398\n",
      "E10+       114.76  0.177922  0.325556\n"
     ]
    }
   ],
   "source": [
    "eu_top_platforms, eu_top_genres = top_region_games('eu_sales')\n",
    "eu_esrb_influence = esrb_rating_influence('eu_sales')\n",
    "\n",
    "print(eu_top_platforms)\n",
    "print()\n",
    "print(eu_top_genres)\n",
    "print()\n",
    "print(eu_esrb_influence)"
   ]
  },
  {
   "cell_type": "code",
   "execution_count": 74,
   "metadata": {
    "scrolled": false
   },
   "outputs": [
    {
     "name": "stdout",
     "output_type": "stream",
     "text": [
      "platform\n",
      "3DS     92.59\n",
      "PS3     78.11\n",
      "Wii     68.28\n",
      "X360    12.30\n",
      "PS4     10.22\n",
      "Name: jp_sales, dtype: float64\n",
      "\n",
      "genre\n",
      "Role-Playing    64.94\n",
      "Action          59.79\n",
      "Sports          28.87\n",
      "Misc            20.84\n",
      "Platform        18.73\n",
      "Name: jp_sales, dtype: float64\n",
      "\n",
      "             sum      mean       std\n",
      "rating                              \n",
      "undefined  99.10  0.080243  0.285818\n",
      "E          70.79  0.065486  0.370210\n",
      "T          45.21  0.045852  0.164001\n",
      "M          36.35  0.053693  0.116789\n",
      "E10+       10.38  0.016093  0.068313\n"
     ]
    }
   ],
   "source": [
    "jp_top_platforms, jp_top_genres = top_region_games('jp_sales')\n",
    "jp_esrb_influence = esrb_rating_influence('jp_sales')\n",
    "\n",
    "print(jp_top_platforms)\n",
    "print()\n",
    "print(jp_top_genres)\n",
    "print()\n",
    "print(jp_esrb_influence)"
   ]
  },
  {
   "cell_type": "markdown",
   "metadata": {},
   "source": [
    "Looking at the data above it becomes clear that in different regions players prefer different platforms.\n",
    "\n",
    "In North America the most popular platform is X360 while in the EU players prefer Sony's PS3 consoles.\n",
    "\n",
    "In Japan, the top platforms positions are taken by Nintendo and Sony consoles: 3DS and PS3.\n",
    "\n",
    "In terms of genres, the preferences of players in North America and the EU are virtually the same: both regions love action, sports and shooters.\n",
    "\n",
    "The Japanese market is different — here Role-Playing games hold the first place while shooters did not make it into the top 5. This observation correlates with the most popular consoles — Nintendo DS and 3DS consoles historically didn't have many shooter games."
   ]
  },
  {
   "cell_type": "markdown",
   "metadata": {},
   "source": [
    "## Hypothesis testing"
   ]
  },
  {
   "cell_type": "markdown",
   "metadata": {},
   "source": [
    "###  Mean user score for XOne and PC games are the same"
   ]
  },
  {
   "cell_type": "markdown",
   "metadata": {},
   "source": [
    "Null Hypothesis: Mean user score for XOne and PC games are the same\n",
    "\n",
    "Alternative Hypothesis: Mean user score for XOne and PC games are different"
   ]
  },
  {
   "cell_type": "markdown",
   "metadata": {},
   "source": [
    "In order to test the hypothesis I will use ttest with alpha=0.05"
   ]
  },
  {
   "cell_type": "code",
   "execution_count": 75,
   "metadata": {},
   "outputs": [
    {
     "name": "stdout",
     "output_type": "stream",
     "text": [
      "Average PC user score is 7.07\n",
      "Average Xone user score is 6.52\n"
     ]
    }
   ],
   "source": [
    "alpha = 0.05\n",
    "\n",
    "pc_user_score = df[df['platform'] == 'PC']['user_score'].dropna()\n",
    "pc_user_score_mean = pc_user_score.mean()\n",
    "\n",
    "xone_user_score = df[df['platform'] == 'XOne']['user_score'].dropna()\n",
    "xone_user_score_mean = xone_user_score.mean()\n",
    "\n",
    "print('Average PC user score is', round(pc_user_score_mean, 2))\n",
    "print('Average Xone user score is', round(xone_user_score_mean, 2))"
   ]
  },
  {
   "cell_type": "code",
   "execution_count": 76,
   "metadata": {},
   "outputs": [
    {
     "name": "stdout",
     "output_type": "stream",
     "text": [
      "p-value: 9.38e-06\n",
      "Reject the null hypothesis\n"
     ]
    }
   ],
   "source": [
    "results = st.ttest_ind(pc_user_score, xone_user_score, equal_var = True)\n",
    "print('p-value:', '{:.5}'.format(results.pvalue))\n",
    "\n",
    "if results.pvalue < alpha:\n",
    "    print('Reject the null hypothesis')\n",
    "else:\n",
    "    print(\"Can't reject the null hypothesis\") "
   ]
  },
  {
   "cell_type": "markdown",
   "metadata": {},
   "source": [
    "The hypothesis that the averages of the two populations are equal is rejected.\\\n",
    "The average user ratings on PC and XOne are statistically significantly different."
   ]
  },
  {
   "cell_type": "markdown",
   "metadata": {},
   "source": [
    "###  Mean user score for Action and Sports games are the same"
   ]
  },
  {
   "cell_type": "markdown",
   "metadata": {},
   "source": [
    "Null Hypothesis: Mean user score for Action and Sports games are the same\n",
    "\n",
    "Alternative Hypothesis: Mean user score for Action and Sports games are different"
   ]
  },
  {
   "cell_type": "code",
   "execution_count": 77,
   "metadata": {},
   "outputs": [
    {
     "name": "stdout",
     "output_type": "stream",
     "text": [
      "Average Action user score is 7.06\n",
      "Average Sports user score is 6.95\n"
     ]
    }
   ],
   "source": [
    "alpha = 0.05\n",
    "\n",
    "action_user_score = df[df['genre'] == 'Action']['user_score'].dropna()\n",
    "action_user_score_mean = action_user_score.mean()\n",
    "\n",
    "sports_user_score = df[df['genre'] == 'Sports']['user_score'].dropna()\n",
    "sports_user_score_mean = sports_user_score.mean()\n",
    "\n",
    "print('Average Action user score is', round(action_user_score_mean, 2))\n",
    "print('Average Sports user score is', round(sports_user_score_mean, 2))"
   ]
  },
  {
   "cell_type": "code",
   "execution_count": 78,
   "metadata": {},
   "outputs": [
    {
     "name": "stdout",
     "output_type": "stream",
     "text": [
      "p-value: 0.064809\n",
      "Can't reject the null hypothesis\n"
     ]
    }
   ],
   "source": [
    "results = st.ttest_ind(action_user_score, sports_user_score, equal_var = True)\n",
    "print('p-value:', '{:.5}'.format(results.pvalue))\n",
    "\n",
    "if results.pvalue < alpha:\n",
    "    print('Reject the null hypothesis')\n",
    "else:\n",
    "    print(\"Can't reject the null hypothesis\") "
   ]
  },
  {
   "cell_type": "markdown",
   "metadata": {},
   "source": [
    "Can't reject the null hypothesis — with more data the difference between action and sports games user score might become more visible.\\\n",
    "But for now we can't reject the idea that the scores are in fact similar"
   ]
  },
  {
   "cell_type": "markdown",
   "metadata": {},
   "source": [
    "## Conclusion"
   ]
  },
  {
   "cell_type": "markdown",
   "metadata": {},
   "source": [
    "In this work I analyzed the video game market in a period 1994 - 2016.\n",
    "\n",
    "During the analysis I got several interesting findings:"
   ]
  },
  {
   "cell_type": "markdown",
   "metadata": {},
   "source": [
    "1. Successful video game consoles have a life cycle of 8 to 12 years with annual sales peaking around the middle of that period.\n",
    "2. Released in 2013 the PS4 and XOne are still gaining popularity and we can expect these platforms to continue to be popular until 2023-2025.\n",
    "3. Currently PS4 show higher average sales compared to XOne.\n",
    "4. Additionally the retailer should expect to see some sales on Nintendo 3DS. The sales are declining but considering the nature of the Nintendo games, new releases will most likely be sold pretty well in 2017. \n",
    "5. Critic score could be used in combination with other factors to predict the game success. This can't be said about user score.\n",
    "7. Players in diffrent regions prefer different genres and platforms. In NA X360 is the leading platform while in the EU both PS3 and X360 are popular In Japan top selling modern platofrm is Nintendo 3DS. X360 isn't popular in Japan."
   ]
  },
  {
   "cell_type": "markdown",
   "metadata": {},
   "source": [
    "The recommendation for the retailer would be to focus on emerging new generation consoles PS4 and XOne while also selling new releases for Nintendo 3DS especially in Japan. \n",
    "The retailer should take into account that players from different regions prefer different game genres and platforms."
   ]
  }
 ],
 "metadata": {
  "ExecuteTimeLog": [
   {
    "duration": 830,
    "start_time": "2021-06-28T08:12:57.092Z"
   },
   {
    "duration": 69,
    "start_time": "2021-06-28T08:13:09.903Z"
   },
   {
    "duration": 38,
    "start_time": "2021-06-28T08:13:12.092Z"
   },
   {
    "duration": 6,
    "start_time": "2021-06-28T08:14:13.073Z"
   },
   {
    "duration": 477,
    "start_time": "2021-06-28T08:14:26.928Z"
   },
   {
    "duration": 8,
    "start_time": "2021-06-28T08:14:51.049Z"
   },
   {
    "duration": 416,
    "start_time": "2021-06-28T08:14:58.020Z"
   },
   {
    "duration": 4,
    "start_time": "2021-06-28T08:16:54.093Z"
   },
   {
    "duration": 6,
    "start_time": "2021-06-28T08:16:58.707Z"
   },
   {
    "duration": 19,
    "start_time": "2021-06-28T08:17:01.375Z"
   },
   {
    "duration": 14,
    "start_time": "2021-06-28T08:18:38.634Z"
   },
   {
    "duration": 313,
    "start_time": "2021-06-28T08:18:47.759Z"
   },
   {
    "duration": 70,
    "start_time": "2021-06-28T08:18:50.314Z"
   },
   {
    "duration": 66,
    "start_time": "2021-06-28T08:19:08.381Z"
   },
   {
    "duration": 32,
    "start_time": "2021-06-28T08:19:09.381Z"
   },
   {
    "duration": 22,
    "start_time": "2021-06-28T08:19:14.943Z"
   },
   {
    "duration": 75,
    "start_time": "2021-06-28T08:19:18.542Z"
   },
   {
    "duration": 6,
    "start_time": "2021-06-28T08:19:22.665Z"
   },
   {
    "duration": 19,
    "start_time": "2021-06-28T08:19:24.441Z"
   },
   {
    "duration": 5,
    "start_time": "2021-06-28T08:19:33.417Z"
   },
   {
    "duration": 16,
    "start_time": "2021-06-28T08:20:36.363Z"
   },
   {
    "duration": 14,
    "start_time": "2021-06-28T08:22:58.855Z"
   },
   {
    "duration": 303,
    "start_time": "2021-06-28T08:24:42.032Z"
   },
   {
    "duration": 7,
    "start_time": "2021-06-28T08:28:03.464Z"
   },
   {
    "duration": 298,
    "start_time": "2021-06-28T08:28:09.196Z"
   },
   {
    "duration": 319,
    "start_time": "2021-06-28T08:28:11.397Z"
   },
   {
    "duration": 11,
    "start_time": "2021-06-28T08:28:14.951Z"
   },
   {
    "duration": 9,
    "start_time": "2021-06-28T08:28:25.711Z"
   },
   {
    "duration": 328,
    "start_time": "2021-06-28T08:29:12.662Z"
   },
   {
    "duration": 8,
    "start_time": "2021-06-28T08:29:53.958Z"
   },
   {
    "duration": 14,
    "start_time": "2021-06-28T08:30:06.521Z"
   },
   {
    "duration": 7,
    "start_time": "2021-06-28T08:30:22.439Z"
   },
   {
    "duration": 327,
    "start_time": "2021-06-28T08:30:36.485Z"
   },
   {
    "duration": 19,
    "start_time": "2021-06-28T08:32:29.764Z"
   },
   {
    "duration": 12,
    "start_time": "2021-06-28T08:33:29.487Z"
   },
   {
    "duration": 13,
    "start_time": "2021-06-28T08:33:32.669Z"
   },
   {
    "duration": 14,
    "start_time": "2021-06-28T08:33:39.126Z"
   },
   {
    "duration": 41,
    "start_time": "2021-06-28T08:33:45.919Z"
   },
   {
    "duration": 12,
    "start_time": "2021-06-28T08:35:43.921Z"
   },
   {
    "duration": 22,
    "start_time": "2021-06-28T08:35:46.554Z"
   },
   {
    "duration": 867,
    "start_time": "2021-06-28T08:36:04.943Z"
   },
   {
    "duration": 76,
    "start_time": "2021-06-28T08:36:05.813Z"
   },
   {
    "duration": 52,
    "start_time": "2021-06-28T08:36:05.899Z"
   },
   {
    "duration": 72,
    "start_time": "2021-06-28T08:36:05.955Z"
   },
   {
    "duration": 4,
    "start_time": "2021-06-28T08:36:06.029Z"
   },
   {
    "duration": 16,
    "start_time": "2021-06-28T08:36:06.035Z"
   },
   {
    "duration": 43,
    "start_time": "2021-06-28T08:36:06.054Z"
   },
   {
    "duration": 20,
    "start_time": "2021-06-28T08:36:06.101Z"
   },
   {
    "duration": 10,
    "start_time": "2021-06-28T08:36:06.124Z"
   },
   {
    "duration": 20,
    "start_time": "2021-06-28T08:36:06.136Z"
   },
   {
    "duration": 39,
    "start_time": "2021-06-28T08:36:06.158Z"
   },
   {
    "duration": 32,
    "start_time": "2021-06-28T08:36:06.199Z"
   },
   {
    "duration": 29,
    "start_time": "2021-06-28T08:36:06.233Z"
   },
   {
    "duration": 484,
    "start_time": "2021-06-28T08:37:57.627Z"
   },
   {
    "duration": 584,
    "start_time": "2021-06-28T08:38:09.792Z"
   },
   {
    "duration": 316,
    "start_time": "2021-06-28T08:38:33.184Z"
   },
   {
    "duration": 44,
    "start_time": "2021-06-28T08:40:27.653Z"
   },
   {
    "duration": 13,
    "start_time": "2021-06-28T08:40:37.160Z"
   },
   {
    "duration": 36,
    "start_time": "2021-06-28T08:40:39.820Z"
   },
   {
    "duration": 9,
    "start_time": "2021-06-28T08:41:07.084Z"
   },
   {
    "duration": 23,
    "start_time": "2021-06-28T08:42:40.729Z"
   },
   {
    "duration": 401,
    "start_time": "2021-06-28T08:43:24.072Z"
   },
   {
    "duration": 11474,
    "start_time": "2021-06-28T08:43:34.239Z"
   },
   {
    "duration": 296,
    "start_time": "2021-06-28T08:43:55.280Z"
   },
   {
    "duration": 23,
    "start_time": "2021-06-28T08:44:03.407Z"
   },
   {
    "duration": 23,
    "start_time": "2021-06-28T08:44:06.333Z"
   },
   {
    "duration": 24,
    "start_time": "2021-06-28T08:44:11.799Z"
   },
   {
    "duration": 22,
    "start_time": "2021-06-28T08:44:21.655Z"
   },
   {
    "duration": 8,
    "start_time": "2021-06-28T08:45:27.751Z"
   },
   {
    "duration": 42,
    "start_time": "2021-06-28T08:45:35.760Z"
   },
   {
    "duration": 4,
    "start_time": "2021-06-28T08:51:34.396Z"
   },
   {
    "duration": 7237,
    "start_time": "2021-06-28T08:51:58.003Z"
   },
   {
    "duration": 635,
    "start_time": "2021-06-28T08:55:55.766Z"
   },
   {
    "duration": 8,
    "start_time": "2021-06-28T08:56:02.186Z"
   },
   {
    "duration": 3,
    "start_time": "2021-06-28T08:57:50.805Z"
   },
   {
    "duration": 5245,
    "start_time": "2021-06-28T08:57:51.110Z"
   },
   {
    "duration": 449,
    "start_time": "2021-06-28T08:58:17.669Z"
   },
   {
    "duration": 8,
    "start_time": "2021-06-28T08:58:24.038Z"
   },
   {
    "duration": 135,
    "start_time": "2021-06-28T08:59:00.387Z"
   },
   {
    "duration": 393,
    "start_time": "2021-06-28T08:59:11.960Z"
   },
   {
    "duration": 5297,
    "start_time": "2021-06-28T08:59:16.703Z"
   },
   {
    "duration": 5,
    "start_time": "2021-06-28T08:59:32.797Z"
   },
   {
    "duration": 292,
    "start_time": "2021-06-28T08:59:47.555Z"
   },
   {
    "duration": 8,
    "start_time": "2021-06-28T09:02:33.990Z"
   },
   {
    "duration": 568,
    "start_time": "2021-06-28T09:06:13.666Z"
   },
   {
    "duration": 772,
    "start_time": "2021-07-01T12:17:34.098Z"
   },
   {
    "duration": 3,
    "start_time": "2021-07-01T12:17:34.872Z"
   },
   {
    "duration": 145,
    "start_time": "2021-07-01T12:17:34.878Z"
   },
   {
    "duration": 626,
    "start_time": "2021-07-01T12:17:35.026Z"
   },
   {
    "duration": 3,
    "start_time": "2021-07-01T12:17:35.654Z"
   },
   {
    "duration": 2355,
    "start_time": "2021-07-01T12:17:35.667Z"
   },
   {
    "duration": 158,
    "start_time": "2021-07-01T12:17:37.871Z"
   },
   {
    "duration": 151,
    "start_time": "2021-07-01T12:17:37.880Z"
   },
   {
    "duration": 147,
    "start_time": "2021-07-01T12:17:37.885Z"
   },
   {
    "duration": 144,
    "start_time": "2021-07-01T12:17:37.889Z"
   },
   {
    "duration": 142,
    "start_time": "2021-07-01T12:17:37.893Z"
   },
   {
    "duration": 139,
    "start_time": "2021-07-01T12:17:37.897Z"
   },
   {
    "duration": 136,
    "start_time": "2021-07-01T12:17:37.902Z"
   },
   {
    "duration": 134,
    "start_time": "2021-07-01T12:17:37.906Z"
   },
   {
    "duration": 132,
    "start_time": "2021-07-01T12:17:37.909Z"
   },
   {
    "duration": 129,
    "start_time": "2021-07-01T12:17:37.913Z"
   },
   {
    "duration": 127,
    "start_time": "2021-07-01T12:17:37.917Z"
   },
   {
    "duration": 125,
    "start_time": "2021-07-01T12:17:37.920Z"
   },
   {
    "duration": 123,
    "start_time": "2021-07-01T12:17:37.924Z"
   },
   {
    "duration": 122,
    "start_time": "2021-07-01T12:17:37.927Z"
   },
   {
    "duration": 119,
    "start_time": "2021-07-01T12:17:37.931Z"
   },
   {
    "duration": 118,
    "start_time": "2021-07-01T12:17:37.934Z"
   },
   {
    "duration": 115,
    "start_time": "2021-07-01T12:17:37.938Z"
   },
   {
    "duration": 114,
    "start_time": "2021-07-01T12:17:37.941Z"
   },
   {
    "duration": 104,
    "start_time": "2021-07-01T12:17:37.952Z"
   },
   {
    "duration": 102,
    "start_time": "2021-07-01T12:17:37.955Z"
   },
   {
    "duration": 100,
    "start_time": "2021-07-01T12:17:37.959Z"
   },
   {
    "duration": 96,
    "start_time": "2021-07-01T12:17:37.964Z"
   },
   {
    "duration": 94,
    "start_time": "2021-07-01T12:17:37.968Z"
   },
   {
    "duration": 92,
    "start_time": "2021-07-01T12:17:37.971Z"
   },
   {
    "duration": 90,
    "start_time": "2021-07-01T12:17:37.975Z"
   },
   {
    "duration": 88,
    "start_time": "2021-07-01T12:17:37.978Z"
   },
   {
    "duration": 86,
    "start_time": "2021-07-01T12:17:37.982Z"
   },
   {
    "duration": 84,
    "start_time": "2021-07-01T12:17:37.985Z"
   },
   {
    "duration": 82,
    "start_time": "2021-07-01T12:17:37.988Z"
   },
   {
    "duration": 80,
    "start_time": "2021-07-01T12:17:37.992Z"
   },
   {
    "duration": 79,
    "start_time": "2021-07-01T12:17:37.995Z"
   },
   {
    "duration": 76,
    "start_time": "2021-07-01T12:17:37.999Z"
   },
   {
    "duration": 74,
    "start_time": "2021-07-01T12:17:38.002Z"
   },
   {
    "duration": 72,
    "start_time": "2021-07-01T12:17:38.006Z"
   },
   {
    "duration": 69,
    "start_time": "2021-07-01T12:17:38.010Z"
   },
   {
    "duration": 68,
    "start_time": "2021-07-01T12:17:38.013Z"
   },
   {
    "duration": 66,
    "start_time": "2021-07-01T12:17:38.016Z"
   },
   {
    "duration": 65,
    "start_time": "2021-07-01T12:17:38.019Z"
   },
   {
    "duration": 62,
    "start_time": "2021-07-01T12:17:38.023Z"
   },
   {
    "duration": 60,
    "start_time": "2021-07-01T12:17:38.026Z"
   },
   {
    "duration": 59,
    "start_time": "2021-07-01T12:17:38.029Z"
   },
   {
    "duration": 57,
    "start_time": "2021-07-01T12:17:38.032Z"
   },
   {
    "duration": 20,
    "start_time": "2021-07-01T12:17:38.071Z"
   },
   {
    "duration": 18,
    "start_time": "2021-07-01T12:17:38.074Z"
   },
   {
    "duration": 15,
    "start_time": "2021-07-01T12:17:38.078Z"
   },
   {
    "duration": -11,
    "start_time": "2021-07-01T12:17:38.106Z"
   },
   {
    "duration": -14,
    "start_time": "2021-07-01T12:17:38.110Z"
   },
   {
    "duration": -15,
    "start_time": "2021-07-01T12:17:38.113Z"
   },
   {
    "duration": -17,
    "start_time": "2021-07-01T12:17:38.116Z"
   },
   {
    "duration": -20,
    "start_time": "2021-07-01T12:17:38.120Z"
   },
   {
    "duration": -21,
    "start_time": "2021-07-01T12:17:38.123Z"
   },
   {
    "duration": -45,
    "start_time": "2021-07-01T12:17:38.148Z"
   },
   {
    "duration": -48,
    "start_time": "2021-07-01T12:17:38.152Z"
   },
   {
    "duration": 11,
    "start_time": "2021-07-01T12:17:38.155Z"
   },
   {
    "duration": -19,
    "start_time": "2021-07-01T12:17:38.187Z"
   },
   {
    "duration": -21,
    "start_time": "2021-07-01T12:17:38.190Z"
   },
   {
    "duration": -24,
    "start_time": "2021-07-01T12:17:38.194Z"
   },
   {
    "duration": -46,
    "start_time": "2021-07-01T12:17:38.217Z"
   },
   {
    "duration": -49,
    "start_time": "2021-07-01T12:17:38.221Z"
   },
   {
    "duration": -50,
    "start_time": "2021-07-01T12:17:38.224Z"
   },
   {
    "duration": -71,
    "start_time": "2021-07-01T12:17:38.246Z"
   },
   {
    "duration": -295,
    "start_time": "2021-07-01T12:17:38.471Z"
   },
   {
    "duration": -404,
    "start_time": "2021-07-01T12:17:38.581Z"
   },
   {
    "duration": -405,
    "start_time": "2021-07-01T12:17:38.584Z"
   },
   {
    "duration": -408,
    "start_time": "2021-07-01T12:17:38.588Z"
   },
   {
    "duration": -410,
    "start_time": "2021-07-01T12:17:38.591Z"
   },
   {
    "duration": -412,
    "start_time": "2021-07-01T12:17:38.594Z"
   },
   {
    "duration": -414,
    "start_time": "2021-07-01T12:17:38.598Z"
   },
   {
    "duration": -416,
    "start_time": "2021-07-01T12:17:38.601Z"
   },
   {
    "duration": -417,
    "start_time": "2021-07-01T12:17:38.604Z"
   },
   {
    "duration": -419,
    "start_time": "2021-07-01T12:17:38.608Z"
   },
   {
    "duration": -433,
    "start_time": "2021-07-01T12:17:38.623Z"
   },
   {
    "duration": -455,
    "start_time": "2021-07-01T12:17:38.646Z"
   },
   {
    "duration": -491,
    "start_time": "2021-07-01T12:17:38.684Z"
   },
   {
    "duration": -566,
    "start_time": "2021-07-01T12:17:38.760Z"
   },
   {
    "duration": -568,
    "start_time": "2021-07-01T12:17:38.763Z"
   },
   {
    "duration": -570,
    "start_time": "2021-07-01T12:17:38.767Z"
   },
   {
    "duration": -572,
    "start_time": "2021-07-01T12:17:38.770Z"
   },
   {
    "duration": -575,
    "start_time": "2021-07-01T12:17:38.774Z"
   },
   {
    "duration": -577,
    "start_time": "2021-07-01T12:17:38.777Z"
   },
   {
    "duration": -579,
    "start_time": "2021-07-01T12:17:38.781Z"
   },
   {
    "duration": -581,
    "start_time": "2021-07-01T12:17:38.784Z"
   },
   {
    "duration": -583,
    "start_time": "2021-07-01T12:17:38.787Z"
   },
   {
    "duration": -524,
    "start_time": "2021-07-01T12:17:38.791Z"
   },
   {
    "duration": -527,
    "start_time": "2021-07-01T12:17:38.795Z"
   },
   {
    "duration": -528,
    "start_time": "2021-07-01T12:17:38.798Z"
   },
   {
    "duration": -530,
    "start_time": "2021-07-01T12:17:38.801Z"
   },
   {
    "duration": -532,
    "start_time": "2021-07-01T12:17:38.804Z"
   },
   {
    "duration": -539,
    "start_time": "2021-07-01T12:17:38.812Z"
   },
   {
    "duration": -545,
    "start_time": "2021-07-01T12:17:38.819Z"
   },
   {
    "duration": -572,
    "start_time": "2021-07-01T12:17:38.848Z"
   },
   {
    "duration": -577,
    "start_time": "2021-07-01T12:17:38.854Z"
   },
   {
    "duration": -579,
    "start_time": "2021-07-01T12:17:38.857Z"
   },
   {
    "duration": -588,
    "start_time": "2021-07-01T12:17:38.867Z"
   },
   {
    "duration": -590,
    "start_time": "2021-07-01T12:17:38.871Z"
   },
   {
    "duration": 836,
    "start_time": "2021-07-01T12:22:15.438Z"
   },
   {
    "duration": 3,
    "start_time": "2021-07-01T12:22:16.276Z"
   },
   {
    "duration": 139,
    "start_time": "2021-07-01T12:22:16.282Z"
   },
   {
    "duration": 643,
    "start_time": "2021-07-01T12:22:16.424Z"
   },
   {
    "duration": 3,
    "start_time": "2021-07-01T12:22:17.069Z"
   },
   {
    "duration": 52,
    "start_time": "2021-07-01T12:22:17.074Z"
   },
   {
    "duration": 25,
    "start_time": "2021-07-01T12:22:17.128Z"
   },
   {
    "duration": 44,
    "start_time": "2021-07-01T12:22:17.168Z"
   },
   {
    "duration": 25,
    "start_time": "2021-07-01T12:22:17.215Z"
   },
   {
    "duration": 26,
    "start_time": "2021-07-01T12:22:17.242Z"
   },
   {
    "duration": 10,
    "start_time": "2021-07-01T12:22:17.270Z"
   },
   {
    "duration": 15,
    "start_time": "2021-07-01T12:22:17.282Z"
   },
   {
    "duration": 10,
    "start_time": "2021-07-01T12:22:17.300Z"
   },
   {
    "duration": 7,
    "start_time": "2021-07-01T12:22:17.312Z"
   },
   {
    "duration": 46,
    "start_time": "2021-07-01T12:22:17.321Z"
   },
   {
    "duration": 13,
    "start_time": "2021-07-01T12:22:17.370Z"
   },
   {
    "duration": 21,
    "start_time": "2021-07-01T12:22:17.386Z"
   },
   {
    "duration": 12,
    "start_time": "2021-07-01T12:22:17.410Z"
   },
   {
    "duration": 47,
    "start_time": "2021-07-01T12:22:17.425Z"
   },
   {
    "duration": 6,
    "start_time": "2021-07-01T12:22:17.475Z"
   },
   {
    "duration": 13,
    "start_time": "2021-07-01T12:22:17.483Z"
   },
   {
    "duration": 5,
    "start_time": "2021-07-01T12:22:17.499Z"
   },
   {
    "duration": 6,
    "start_time": "2021-07-01T12:22:17.511Z"
   },
   {
    "duration": 3715,
    "start_time": "2021-07-01T12:22:17.520Z"
   },
   {
    "duration": 8,
    "start_time": "2021-07-01T12:22:21.238Z"
   },
   {
    "duration": 25,
    "start_time": "2021-07-01T12:22:21.249Z"
   },
   {
    "duration": 7,
    "start_time": "2021-07-01T12:22:21.277Z"
   },
   {
    "duration": 11,
    "start_time": "2021-07-01T12:22:21.287Z"
   },
   {
    "duration": 7,
    "start_time": "2021-07-01T12:22:21.300Z"
   },
   {
    "duration": 12,
    "start_time": "2021-07-01T12:22:21.309Z"
   },
   {
    "duration": 45,
    "start_time": "2021-07-01T12:22:21.324Z"
   },
   {
    "duration": 7217,
    "start_time": "2021-07-01T12:22:21.372Z"
   },
   {
    "duration": 8,
    "start_time": "2021-07-01T12:22:28.591Z"
   },
   {
    "duration": 11,
    "start_time": "2021-07-01T12:22:28.601Z"
   },
   {
    "duration": 12,
    "start_time": "2021-07-01T12:22:28.614Z"
   },
   {
    "duration": 40,
    "start_time": "2021-07-01T12:22:28.628Z"
   },
   {
    "duration": 8,
    "start_time": "2021-07-01T12:22:28.671Z"
   },
   {
    "duration": 21,
    "start_time": "2021-07-01T12:22:28.681Z"
   },
   {
    "duration": 20,
    "start_time": "2021-07-01T12:22:28.705Z"
   },
   {
    "duration": 17,
    "start_time": "2021-07-01T12:22:28.727Z"
   },
   {
    "duration": 5821,
    "start_time": "2021-07-01T12:22:28.746Z"
   },
   {
    "duration": 8,
    "start_time": "2021-07-01T12:22:34.569Z"
   },
   {
    "duration": 10,
    "start_time": "2021-07-01T12:22:34.579Z"
   },
   {
    "duration": 11,
    "start_time": "2021-07-01T12:22:34.591Z"
   },
   {
    "duration": 12,
    "start_time": "2021-07-01T12:22:34.604Z"
   },
   {
    "duration": 17,
    "start_time": "2021-07-01T12:22:34.618Z"
   },
   {
    "duration": 36,
    "start_time": "2021-07-01T12:22:34.637Z"
   },
   {
    "duration": 9,
    "start_time": "2021-07-01T12:22:34.675Z"
   },
   {
    "duration": 18,
    "start_time": "2021-07-01T12:22:34.687Z"
   },
   {
    "duration": 2992,
    "start_time": "2021-07-01T12:22:34.708Z"
   },
   {
    "duration": 8,
    "start_time": "2021-07-01T12:22:37.703Z"
   },
   {
    "duration": 10,
    "start_time": "2021-07-01T12:22:37.714Z"
   },
   {
    "duration": 48,
    "start_time": "2021-07-01T12:22:37.727Z"
   },
   {
    "duration": 18,
    "start_time": "2021-07-01T12:22:37.777Z"
   },
   {
    "duration": 4,
    "start_time": "2021-07-01T12:22:37.798Z"
   },
   {
    "duration": 16,
    "start_time": "2021-07-01T12:22:37.805Z"
   },
   {
    "duration": 454,
    "start_time": "2021-07-01T12:22:37.824Z"
   },
   {
    "duration": 12,
    "start_time": "2021-07-01T12:22:38.280Z"
   },
   {
    "duration": 11,
    "start_time": "2021-07-01T12:22:38.294Z"
   },
   {
    "duration": 8,
    "start_time": "2021-07-01T12:22:38.308Z"
   },
   {
    "duration": 52,
    "start_time": "2021-07-01T12:22:38.319Z"
   },
   {
    "duration": 5,
    "start_time": "2021-07-01T12:22:38.373Z"
   },
   {
    "duration": 14,
    "start_time": "2021-07-01T12:22:38.381Z"
   },
   {
    "duration": 14,
    "start_time": "2021-07-01T12:22:38.397Z"
   },
   {
    "duration": 11,
    "start_time": "2021-07-01T12:22:38.414Z"
   },
   {
    "duration": 9,
    "start_time": "2021-07-01T12:22:38.427Z"
   },
   {
    "duration": 33,
    "start_time": "2021-07-01T12:22:38.439Z"
   },
   {
    "duration": 9,
    "start_time": "2021-07-01T12:22:38.481Z"
   },
   {
    "duration": 24,
    "start_time": "2021-07-01T12:22:38.493Z"
   },
   {
    "duration": 61,
    "start_time": "2021-07-01T12:22:38.519Z"
   },
   {
    "duration": 5,
    "start_time": "2021-07-01T12:22:38.583Z"
   },
   {
    "duration": 10,
    "start_time": "2021-07-01T12:22:38.591Z"
   },
   {
    "duration": 1250,
    "start_time": "2021-07-01T12:22:38.603Z"
   },
   {
    "duration": 15,
    "start_time": "2021-07-01T12:22:39.855Z"
   },
   {
    "duration": 970,
    "start_time": "2021-07-01T12:22:39.872Z"
   },
   {
    "duration": 4,
    "start_time": "2021-07-01T12:22:40.844Z"
   },
   {
    "duration": 653,
    "start_time": "2021-07-01T12:22:40.850Z"
   },
   {
    "duration": 7,
    "start_time": "2021-07-01T12:22:41.506Z"
   },
   {
    "duration": 6861,
    "start_time": "2021-07-01T12:22:41.516Z"
   },
   {
    "duration": 66,
    "start_time": "2021-07-01T12:22:48.379Z"
   },
   {
    "duration": 12,
    "start_time": "2021-07-01T12:22:48.468Z"
   },
   {
    "duration": 11,
    "start_time": "2021-07-01T12:22:48.483Z"
   },
   {
    "duration": 26,
    "start_time": "2021-07-01T12:22:48.497Z"
   },
   {
    "duration": 18,
    "start_time": "2021-07-01T12:22:48.525Z"
   },
   {
    "duration": 22,
    "start_time": "2021-07-01T12:22:48.545Z"
   },
   {
    "duration": 6,
    "start_time": "2021-07-01T12:22:48.570Z"
   },
   {
    "duration": 30,
    "start_time": "2021-07-01T12:22:48.579Z"
   },
   {
    "duration": 24,
    "start_time": "2021-07-01T12:22:48.611Z"
   },
   {
    "duration": 22,
    "start_time": "2021-07-01T12:22:48.667Z"
   },
   {
    "duration": 3,
    "start_time": "2021-07-01T12:22:48.692Z"
   },
   {
    "duration": 13,
    "start_time": "2021-07-01T12:22:48.698Z"
   },
   {
    "duration": 6,
    "start_time": "2021-07-01T12:22:48.714Z"
   },
   {
    "duration": 47,
    "start_time": "2021-07-01T12:22:48.723Z"
   },
   {
    "duration": 9,
    "start_time": "2021-07-01T12:22:48.773Z"
   },
   {
    "duration": 9,
    "start_time": "2021-07-01T12:22:48.785Z"
   },
   {
    "duration": 6,
    "start_time": "2021-07-01T12:22:48.797Z"
   },
   {
    "duration": 10,
    "start_time": "2021-07-01T12:22:48.805Z"
   },
   {
    "duration": 7,
    "start_time": "2021-07-01T12:22:48.818Z"
   },
   {
    "duration": 46,
    "start_time": "2021-07-01T12:22:48.827Z"
   },
   {
    "duration": 6,
    "start_time": "2021-07-01T12:22:48.876Z"
   },
   {
    "duration": 8,
    "start_time": "2021-07-01T12:22:48.884Z"
   },
   {
    "duration": 27,
    "start_time": "2021-07-01T13:27:12.405Z"
   },
   {
    "duration": 32,
    "start_time": "2021-07-01T13:29:37.034Z"
   },
   {
    "duration": 13,
    "start_time": "2021-07-01T13:29:53.313Z"
   },
   {
    "duration": 37,
    "start_time": "2021-07-01T13:30:14.922Z"
   },
   {
    "duration": 36,
    "start_time": "2021-07-01T13:39:57.174Z"
   },
   {
    "duration": 620,
    "start_time": "2021-07-01T14:59:21.887Z"
   },
   {
    "duration": 2,
    "start_time": "2021-07-01T14:59:22.509Z"
   },
   {
    "duration": 91,
    "start_time": "2021-07-01T14:59:22.513Z"
   },
   {
    "duration": 491,
    "start_time": "2021-07-01T14:59:22.605Z"
   },
   {
    "duration": 2,
    "start_time": "2021-07-01T14:59:23.098Z"
   },
   {
    "duration": 288,
    "start_time": "2021-07-01T14:59:23.101Z"
   },
   {
    "duration": -875,
    "start_time": "2021-07-01T14:59:24.270Z"
   },
   {
    "duration": -882,
    "start_time": "2021-07-01T14:59:24.278Z"
   },
   {
    "duration": -884,
    "start_time": "2021-07-01T14:59:24.282Z"
   },
   {
    "duration": -887,
    "start_time": "2021-07-01T14:59:24.286Z"
   },
   {
    "duration": -901,
    "start_time": "2021-07-01T14:59:24.301Z"
   },
   {
    "duration": -905,
    "start_time": "2021-07-01T14:59:24.307Z"
   },
   {
    "duration": -908,
    "start_time": "2021-07-01T14:59:24.311Z"
   },
   {
    "duration": -911,
    "start_time": "2021-07-01T14:59:24.315Z"
   },
   {
    "duration": -913,
    "start_time": "2021-07-01T14:59:24.319Z"
   },
   {
    "duration": -921,
    "start_time": "2021-07-01T14:59:24.328Z"
   },
   {
    "duration": -923,
    "start_time": "2021-07-01T14:59:24.332Z"
   },
   {
    "duration": -927,
    "start_time": "2021-07-01T14:59:24.337Z"
   },
   {
    "duration": -932,
    "start_time": "2021-07-01T14:59:24.343Z"
   },
   {
    "duration": -936,
    "start_time": "2021-07-01T14:59:24.349Z"
   },
   {
    "duration": -938,
    "start_time": "2021-07-01T14:59:24.352Z"
   },
   {
    "duration": -945,
    "start_time": "2021-07-01T14:59:24.360Z"
   },
   {
    "duration": -947,
    "start_time": "2021-07-01T14:59:24.363Z"
   },
   {
    "duration": -949,
    "start_time": "2021-07-01T14:59:24.366Z"
   },
   {
    "duration": -952,
    "start_time": "2021-07-01T14:59:24.370Z"
   },
   {
    "duration": -956,
    "start_time": "2021-07-01T14:59:24.376Z"
   },
   {
    "duration": -958,
    "start_time": "2021-07-01T14:59:24.379Z"
   },
   {
    "duration": -960,
    "start_time": "2021-07-01T14:59:24.382Z"
   },
   {
    "duration": -962,
    "start_time": "2021-07-01T14:59:24.387Z"
   },
   {
    "duration": -966,
    "start_time": "2021-07-01T14:59:24.392Z"
   },
   {
    "duration": -970,
    "start_time": "2021-07-01T14:59:24.397Z"
   },
   {
    "duration": -980,
    "start_time": "2021-07-01T14:59:24.408Z"
   },
   {
    "duration": -982,
    "start_time": "2021-07-01T14:59:24.412Z"
   },
   {
    "duration": -984,
    "start_time": "2021-07-01T14:59:24.415Z"
   },
   {
    "duration": -986,
    "start_time": "2021-07-01T14:59:24.418Z"
   },
   {
    "duration": -938,
    "start_time": "2021-07-01T14:59:24.423Z"
   },
   {
    "duration": -941,
    "start_time": "2021-07-01T14:59:24.427Z"
   },
   {
    "duration": -944,
    "start_time": "2021-07-01T14:59:24.431Z"
   },
   {
    "duration": -947,
    "start_time": "2021-07-01T14:59:24.435Z"
   },
   {
    "duration": -952,
    "start_time": "2021-07-01T14:59:24.441Z"
   },
   {
    "duration": -955,
    "start_time": "2021-07-01T14:59:24.446Z"
   },
   {
    "duration": -958,
    "start_time": "2021-07-01T14:59:24.450Z"
   },
   {
    "duration": -960,
    "start_time": "2021-07-01T14:59:24.453Z"
   },
   {
    "duration": -964,
    "start_time": "2021-07-01T14:59:24.458Z"
   },
   {
    "duration": -966,
    "start_time": "2021-07-01T14:59:24.461Z"
   },
   {
    "duration": -969,
    "start_time": "2021-07-01T14:59:24.465Z"
   },
   {
    "duration": -972,
    "start_time": "2021-07-01T14:59:24.469Z"
   },
   {
    "duration": -975,
    "start_time": "2021-07-01T14:59:24.473Z"
   },
   {
    "duration": -976,
    "start_time": "2021-07-01T14:59:24.476Z"
   },
   {
    "duration": -979,
    "start_time": "2021-07-01T14:59:24.480Z"
   },
   {
    "duration": -983,
    "start_time": "2021-07-01T14:59:24.484Z"
   },
   {
    "duration": -986,
    "start_time": "2021-07-01T14:59:24.489Z"
   },
   {
    "duration": -989,
    "start_time": "2021-07-01T14:59:24.493Z"
   },
   {
    "duration": -991,
    "start_time": "2021-07-01T14:59:24.496Z"
   },
   {
    "duration": -993,
    "start_time": "2021-07-01T14:59:24.499Z"
   },
   {
    "duration": -996,
    "start_time": "2021-07-01T14:59:24.503Z"
   },
   {
    "duration": -1006,
    "start_time": "2021-07-01T14:59:24.514Z"
   },
   {
    "duration": -1010,
    "start_time": "2021-07-01T14:59:24.519Z"
   },
   {
    "duration": -1011,
    "start_time": "2021-07-01T14:59:24.522Z"
   },
   {
    "duration": -1014,
    "start_time": "2021-07-01T14:59:24.526Z"
   },
   {
    "duration": -1018,
    "start_time": "2021-07-01T14:59:24.531Z"
   },
   {
    "duration": -1022,
    "start_time": "2021-07-01T14:59:24.536Z"
   },
   {
    "duration": -1026,
    "start_time": "2021-07-01T14:59:24.541Z"
   },
   {
    "duration": -1032,
    "start_time": "2021-07-01T14:59:24.548Z"
   },
   {
    "duration": -1034,
    "start_time": "2021-07-01T14:59:24.551Z"
   },
   {
    "duration": -1036,
    "start_time": "2021-07-01T14:59:24.554Z"
   },
   {
    "duration": -1038,
    "start_time": "2021-07-01T14:59:24.557Z"
   },
   {
    "duration": -1040,
    "start_time": "2021-07-01T14:59:24.560Z"
   },
   {
    "duration": -1041,
    "start_time": "2021-07-01T14:59:24.563Z"
   },
   {
    "duration": -1045,
    "start_time": "2021-07-01T14:59:24.567Z"
   },
   {
    "duration": -1047,
    "start_time": "2021-07-01T14:59:24.570Z"
   },
   {
    "duration": -1049,
    "start_time": "2021-07-01T14:59:24.573Z"
   },
   {
    "duration": -1052,
    "start_time": "2021-07-01T14:59:24.577Z"
   },
   {
    "duration": -1054,
    "start_time": "2021-07-01T14:59:24.580Z"
   },
   {
    "duration": -1056,
    "start_time": "2021-07-01T14:59:24.582Z"
   },
   {
    "duration": -1058,
    "start_time": "2021-07-01T14:59:24.585Z"
   },
   {
    "duration": -1061,
    "start_time": "2021-07-01T14:59:24.588Z"
   },
   {
    "duration": -1008,
    "start_time": "2021-07-01T14:59:24.592Z"
   },
   {
    "duration": -1009,
    "start_time": "2021-07-01T14:59:24.594Z"
   },
   {
    "duration": -1011,
    "start_time": "2021-07-01T14:59:24.597Z"
   },
   {
    "duration": -1013,
    "start_time": "2021-07-01T14:59:24.600Z"
   },
   {
    "duration": -1015,
    "start_time": "2021-07-01T14:59:24.603Z"
   },
   {
    "duration": -1017,
    "start_time": "2021-07-01T14:59:24.606Z"
   },
   {
    "duration": -1036,
    "start_time": "2021-07-01T14:59:24.626Z"
   },
   {
    "duration": -1053,
    "start_time": "2021-07-01T14:59:24.644Z"
   },
   {
    "duration": -1056,
    "start_time": "2021-07-01T14:59:24.648Z"
   },
   {
    "duration": -1057,
    "start_time": "2021-07-01T14:59:24.651Z"
   },
   {
    "duration": -1059,
    "start_time": "2021-07-01T14:59:24.654Z"
   },
   {
    "duration": -1062,
    "start_time": "2021-07-01T14:59:24.658Z"
   },
   {
    "duration": -1098,
    "start_time": "2021-07-01T14:59:24.697Z"
   },
   {
    "duration": -1139,
    "start_time": "2021-07-01T14:59:24.739Z"
   },
   {
    "duration": -1144,
    "start_time": "2021-07-01T14:59:24.745Z"
   },
   {
    "duration": -1145,
    "start_time": "2021-07-01T14:59:24.748Z"
   },
   {
    "duration": -1147,
    "start_time": "2021-07-01T14:59:24.751Z"
   },
   {
    "duration": -1148,
    "start_time": "2021-07-01T14:59:24.754Z"
   },
   {
    "duration": -1153,
    "start_time": "2021-07-01T14:59:24.760Z"
   },
   {
    "duration": -1155,
    "start_time": "2021-07-01T14:59:24.764Z"
   },
   {
    "duration": -1158,
    "start_time": "2021-07-01T14:59:24.768Z"
   },
   {
    "duration": -1160,
    "start_time": "2021-07-01T14:59:24.772Z"
   },
   {
    "duration": -1162,
    "start_time": "2021-07-01T14:59:24.775Z"
   },
   {
    "duration": 1445,
    "start_time": "2021-07-01T14:59:54.979Z"
   },
   {
    "duration": 1163,
    "start_time": "2021-07-01T15:00:49.881Z"
   },
   {
    "duration": 133,
    "start_time": "2021-07-01T15:00:57.205Z"
   },
   {
    "duration": 152,
    "start_time": "2021-07-01T15:01:00.541Z"
   },
   {
    "duration": 572,
    "start_time": "2021-07-01T15:02:00.343Z"
   },
   {
    "duration": 2,
    "start_time": "2021-07-01T15:02:00.917Z"
   },
   {
    "duration": 84,
    "start_time": "2021-07-01T15:02:00.922Z"
   },
   {
    "duration": 440,
    "start_time": "2021-07-01T15:02:01.009Z"
   },
   {
    "duration": 2,
    "start_time": "2021-07-01T15:02:01.451Z"
   },
   {
    "duration": 216,
    "start_time": "2021-07-01T15:02:01.455Z"
   },
   {
    "duration": 16,
    "start_time": "2021-07-01T15:02:01.673Z"
   },
   {
    "duration": 47,
    "start_time": "2021-07-01T15:02:01.691Z"
   },
   {
    "duration": 18,
    "start_time": "2021-07-01T15:02:01.740Z"
   },
   {
    "duration": 3,
    "start_time": "2021-07-01T15:02:01.760Z"
   },
   {
    "duration": 10,
    "start_time": "2021-07-01T15:02:01.764Z"
   },
   {
    "duration": 21,
    "start_time": "2021-07-01T15:02:01.776Z"
   },
   {
    "duration": 13,
    "start_time": "2021-07-01T15:02:01.799Z"
   },
   {
    "duration": 9,
    "start_time": "2021-07-01T15:02:01.814Z"
   },
   {
    "duration": 9,
    "start_time": "2021-07-01T15:02:01.825Z"
   },
   {
    "duration": 26,
    "start_time": "2021-07-01T15:02:01.835Z"
   },
   {
    "duration": 34,
    "start_time": "2021-07-01T15:02:01.863Z"
   },
   {
    "duration": 20,
    "start_time": "2021-07-01T15:02:01.899Z"
   },
   {
    "duration": 14,
    "start_time": "2021-07-01T15:02:01.921Z"
   },
   {
    "duration": 15,
    "start_time": "2021-07-01T15:02:01.937Z"
   },
   {
    "duration": 15,
    "start_time": "2021-07-01T15:02:01.954Z"
   },
   {
    "duration": 11,
    "start_time": "2021-07-01T15:02:01.971Z"
   },
   {
    "duration": 4,
    "start_time": "2021-07-01T15:02:01.986Z"
   },
   {
    "duration": 1712,
    "start_time": "2021-07-01T15:02:01.992Z"
   },
   {
    "duration": 6,
    "start_time": "2021-07-01T15:02:03.706Z"
   },
   {
    "duration": 8,
    "start_time": "2021-07-01T15:02:03.714Z"
   },
   {
    "duration": 6,
    "start_time": "2021-07-01T15:02:03.724Z"
   },
   {
    "duration": 7,
    "start_time": "2021-07-01T15:02:03.732Z"
   },
   {
    "duration": 5,
    "start_time": "2021-07-01T15:02:03.740Z"
   },
   {
    "duration": 41,
    "start_time": "2021-07-01T15:02:03.746Z"
   },
   {
    "duration": 6,
    "start_time": "2021-07-01T15:02:03.789Z"
   },
   {
    "duration": 3790,
    "start_time": "2021-07-01T15:02:03.796Z"
   },
   {
    "duration": 7,
    "start_time": "2021-07-01T15:02:07.587Z"
   },
   {
    "duration": 4,
    "start_time": "2021-07-01T15:02:07.596Z"
   },
   {
    "duration": 8,
    "start_time": "2021-07-01T15:02:07.602Z"
   },
   {
    "duration": 6,
    "start_time": "2021-07-01T15:02:07.612Z"
   },
   {
    "duration": 6,
    "start_time": "2021-07-01T15:02:07.619Z"
   },
   {
    "duration": 10,
    "start_time": "2021-07-01T15:02:07.626Z"
   },
   {
    "duration": 10,
    "start_time": "2021-07-01T15:02:07.637Z"
   },
   {
    "duration": 40,
    "start_time": "2021-07-01T15:02:07.649Z"
   },
   {
    "duration": 2964,
    "start_time": "2021-07-01T15:02:07.691Z"
   },
   {
    "duration": 5,
    "start_time": "2021-07-01T15:02:10.657Z"
   },
   {
    "duration": 20,
    "start_time": "2021-07-01T15:02:10.664Z"
   },
   {
    "duration": 6,
    "start_time": "2021-07-01T15:02:10.685Z"
   },
   {
    "duration": 5,
    "start_time": "2021-07-01T15:02:10.692Z"
   },
   {
    "duration": 6,
    "start_time": "2021-07-01T15:02:10.699Z"
   },
   {
    "duration": 4,
    "start_time": "2021-07-01T15:02:10.707Z"
   },
   {
    "duration": 5,
    "start_time": "2021-07-01T15:02:10.713Z"
   },
   {
    "duration": 11,
    "start_time": "2021-07-01T15:02:10.720Z"
   },
   {
    "duration": 1507,
    "start_time": "2021-07-01T15:02:10.733Z"
   },
   {
    "duration": 6,
    "start_time": "2021-07-01T15:02:12.241Z"
   },
   {
    "duration": 7,
    "start_time": "2021-07-01T15:02:12.249Z"
   },
   {
    "duration": 28,
    "start_time": "2021-07-01T15:02:12.257Z"
   },
   {
    "duration": 14,
    "start_time": "2021-07-01T15:02:12.287Z"
   },
   {
    "duration": 2,
    "start_time": "2021-07-01T15:02:12.303Z"
   },
   {
    "duration": 8,
    "start_time": "2021-07-01T15:02:12.307Z"
   },
   {
    "duration": 286,
    "start_time": "2021-07-01T15:02:12.316Z"
   },
   {
    "duration": 8,
    "start_time": "2021-07-01T15:02:12.603Z"
   },
   {
    "duration": 7,
    "start_time": "2021-07-01T15:02:12.613Z"
   },
   {
    "duration": 5,
    "start_time": "2021-07-01T15:02:12.621Z"
   },
   {
    "duration": 11,
    "start_time": "2021-07-01T15:02:12.627Z"
   },
   {
    "duration": 3,
    "start_time": "2021-07-01T15:02:12.639Z"
   },
   {
    "duration": 8,
    "start_time": "2021-07-01T15:02:12.644Z"
   },
   {
    "duration": 3,
    "start_time": "2021-07-01T15:02:12.685Z"
   },
   {
    "duration": 6,
    "start_time": "2021-07-01T15:02:12.690Z"
   },
   {
    "duration": 6,
    "start_time": "2021-07-01T15:02:12.698Z"
   },
   {
    "duration": 8,
    "start_time": "2021-07-01T15:02:12.706Z"
   },
   {
    "duration": 6,
    "start_time": "2021-07-01T15:02:12.719Z"
   },
   {
    "duration": 14,
    "start_time": "2021-07-01T15:02:12.727Z"
   },
   {
    "duration": 49,
    "start_time": "2021-07-01T15:02:12.743Z"
   },
   {
    "duration": 4,
    "start_time": "2021-07-01T15:02:12.793Z"
   },
   {
    "duration": 6,
    "start_time": "2021-07-01T15:02:12.798Z"
   },
   {
    "duration": 784,
    "start_time": "2021-07-01T15:02:12.806Z"
   },
   {
    "duration": 4,
    "start_time": "2021-07-01T15:02:13.592Z"
   },
   {
    "duration": 610,
    "start_time": "2021-07-01T15:02:13.597Z"
   },
   {
    "duration": 3,
    "start_time": "2021-07-01T15:02:14.208Z"
   },
   {
    "duration": 425,
    "start_time": "2021-07-01T15:02:14.213Z"
   },
   {
    "duration": 5,
    "start_time": "2021-07-01T15:02:14.640Z"
   },
   {
    "duration": 4584,
    "start_time": "2021-07-01T15:02:14.647Z"
   },
   {
    "duration": 53,
    "start_time": "2021-07-01T15:02:19.233Z"
   },
   {
    "duration": 8,
    "start_time": "2021-07-01T15:02:19.288Z"
   },
   {
    "duration": 4,
    "start_time": "2021-07-01T15:02:19.298Z"
   },
   {
    "duration": 11,
    "start_time": "2021-07-01T15:02:19.304Z"
   },
   {
    "duration": 10,
    "start_time": "2021-07-01T15:02:19.317Z"
   },
   {
    "duration": 7,
    "start_time": "2021-07-01T15:02:19.329Z"
   },
   {
    "duration": 5,
    "start_time": "2021-07-01T15:02:19.337Z"
   },
   {
    "duration": 54,
    "start_time": "2021-07-01T15:02:19.344Z"
   },
   {
    "duration": 16,
    "start_time": "2021-07-01T15:02:19.400Z"
   },
   {
    "duration": 17,
    "start_time": "2021-07-01T15:02:19.418Z"
   },
   {
    "duration": 3,
    "start_time": "2021-07-01T15:02:19.436Z"
   },
   {
    "duration": 9,
    "start_time": "2021-07-01T15:02:19.440Z"
   },
   {
    "duration": 3,
    "start_time": "2021-07-01T15:02:19.451Z"
   },
   {
    "duration": 7,
    "start_time": "2021-07-01T15:02:19.485Z"
   },
   {
    "duration": 6,
    "start_time": "2021-07-01T15:02:19.494Z"
   },
   {
    "duration": 7,
    "start_time": "2021-07-01T15:02:19.503Z"
   },
   {
    "duration": 4,
    "start_time": "2021-07-01T15:02:19.511Z"
   },
   {
    "duration": 8,
    "start_time": "2021-07-01T15:02:19.517Z"
   },
   {
    "duration": 5,
    "start_time": "2021-07-01T15:02:19.527Z"
   },
   {
    "duration": 6,
    "start_time": "2021-07-01T15:02:19.534Z"
   },
   {
    "duration": 44,
    "start_time": "2021-07-01T15:02:19.542Z"
   },
   {
    "duration": 4,
    "start_time": "2021-07-01T15:02:19.588Z"
   },
   {
    "duration": 75,
    "start_time": "2021-07-01T15:04:56.186Z"
   },
   {
    "duration": 61,
    "start_time": "2021-07-01T15:05:19.287Z"
   },
   {
    "duration": 57,
    "start_time": "2021-07-01T15:05:37.014Z"
   },
   {
    "duration": 578,
    "start_time": "2021-07-01T15:08:30.880Z"
   },
   {
    "duration": 2,
    "start_time": "2021-07-01T15:08:31.460Z"
   },
   {
    "duration": 90,
    "start_time": "2021-07-01T15:08:31.466Z"
   },
   {
    "duration": 474,
    "start_time": "2021-07-01T15:08:31.557Z"
   },
   {
    "duration": 2,
    "start_time": "2021-07-01T15:08:32.033Z"
   },
   {
    "duration": 159,
    "start_time": "2021-07-01T15:08:32.037Z"
   },
   {
    "duration": 14,
    "start_time": "2021-07-01T15:08:32.199Z"
   },
   {
    "duration": 28,
    "start_time": "2021-07-01T15:08:32.215Z"
   },
   {
    "duration": 16,
    "start_time": "2021-07-01T15:08:32.244Z"
   },
   {
    "duration": 24,
    "start_time": "2021-07-01T15:08:32.261Z"
   },
   {
    "duration": 5,
    "start_time": "2021-07-01T15:08:32.287Z"
   },
   {
    "duration": 14,
    "start_time": "2021-07-01T15:08:32.294Z"
   },
   {
    "duration": 8,
    "start_time": "2021-07-01T15:08:32.310Z"
   },
   {
    "duration": 5,
    "start_time": "2021-07-01T15:08:32.319Z"
   },
   {
    "duration": 11,
    "start_time": "2021-07-01T15:08:32.326Z"
   },
   {
    "duration": 9,
    "start_time": "2021-07-01T15:08:32.339Z"
   },
   {
    "duration": 40,
    "start_time": "2021-07-01T15:08:32.349Z"
   },
   {
    "duration": 9,
    "start_time": "2021-07-01T15:08:32.391Z"
   },
   {
    "duration": 8,
    "start_time": "2021-07-01T15:08:32.401Z"
   },
   {
    "duration": 6,
    "start_time": "2021-07-01T15:08:32.410Z"
   },
   {
    "duration": 4,
    "start_time": "2021-07-01T15:08:32.418Z"
   },
   {
    "duration": 7,
    "start_time": "2021-07-01T15:08:32.426Z"
   },
   {
    "duration": 5,
    "start_time": "2021-07-01T15:08:32.436Z"
   },
   {
    "duration": 43,
    "start_time": "2021-07-01T15:08:32.443Z"
   },
   {
    "duration": 12,
    "start_time": "2021-07-01T15:08:32.488Z"
   },
   {
    "duration": 7,
    "start_time": "2021-07-01T15:08:32.502Z"
   },
   {
    "duration": 5,
    "start_time": "2021-07-01T15:08:32.510Z"
   },
   {
    "duration": 4,
    "start_time": "2021-07-01T15:08:32.517Z"
   },
   {
    "duration": 5,
    "start_time": "2021-07-01T15:08:32.523Z"
   },
   {
    "duration": 12,
    "start_time": "2021-07-01T15:08:32.530Z"
   },
   {
    "duration": 645,
    "start_time": "2021-07-01T15:08:32.544Z"
   },
   {
    "duration": -965,
    "start_time": "2021-07-01T15:08:34.156Z"
   },
   {
    "duration": -969,
    "start_time": "2021-07-01T15:08:34.161Z"
   },
   {
    "duration": -974,
    "start_time": "2021-07-01T15:08:34.167Z"
   },
   {
    "duration": -979,
    "start_time": "2021-07-01T15:08:34.173Z"
   },
   {
    "duration": -984,
    "start_time": "2021-07-01T15:08:34.179Z"
   },
   {
    "duration": -986,
    "start_time": "2021-07-01T15:08:34.182Z"
   },
   {
    "duration": -991,
    "start_time": "2021-07-01T15:08:34.188Z"
   },
   {
    "duration": -995,
    "start_time": "2021-07-01T15:08:34.193Z"
   },
   {
    "duration": -998,
    "start_time": "2021-07-01T15:08:34.197Z"
   },
   {
    "duration": -1002,
    "start_time": "2021-07-01T15:08:34.202Z"
   },
   {
    "duration": -1012,
    "start_time": "2021-07-01T15:08:34.213Z"
   },
   {
    "duration": -1030,
    "start_time": "2021-07-01T15:08:34.231Z"
   },
   {
    "duration": -1049,
    "start_time": "2021-07-01T15:08:34.251Z"
   },
   {
    "duration": -1070,
    "start_time": "2021-07-01T15:08:34.273Z"
   },
   {
    "duration": -1096,
    "start_time": "2021-07-01T15:08:34.300Z"
   },
   {
    "duration": -1121,
    "start_time": "2021-07-01T15:08:34.326Z"
   },
   {
    "duration": -1142,
    "start_time": "2021-07-01T15:08:34.348Z"
   },
   {
    "duration": -1161,
    "start_time": "2021-07-01T15:08:34.368Z"
   },
   {
    "duration": -1185,
    "start_time": "2021-07-01T15:08:34.393Z"
   },
   {
    "duration": -1191,
    "start_time": "2021-07-01T15:08:34.400Z"
   },
   {
    "duration": -1197,
    "start_time": "2021-07-01T15:08:34.406Z"
   },
   {
    "duration": -1201,
    "start_time": "2021-07-01T15:08:34.411Z"
   },
   {
    "duration": -1206,
    "start_time": "2021-07-01T15:08:34.417Z"
   },
   {
    "duration": -1212,
    "start_time": "2021-07-01T15:08:34.424Z"
   },
   {
    "duration": -1219,
    "start_time": "2021-07-01T15:08:34.432Z"
   },
   {
    "duration": -1223,
    "start_time": "2021-07-01T15:08:34.436Z"
   },
   {
    "duration": -1229,
    "start_time": "2021-07-01T15:08:34.443Z"
   },
   {
    "duration": -1234,
    "start_time": "2021-07-01T15:08:34.449Z"
   },
   {
    "duration": -1236,
    "start_time": "2021-07-01T15:08:34.452Z"
   },
   {
    "duration": -1240,
    "start_time": "2021-07-01T15:08:34.457Z"
   },
   {
    "duration": -1244,
    "start_time": "2021-07-01T15:08:34.462Z"
   },
   {
    "duration": -1245,
    "start_time": "2021-07-01T15:08:34.464Z"
   },
   {
    "duration": -1247,
    "start_time": "2021-07-01T15:08:34.467Z"
   },
   {
    "duration": -1249,
    "start_time": "2021-07-01T15:08:34.470Z"
   },
   {
    "duration": -1250,
    "start_time": "2021-07-01T15:08:34.472Z"
   },
   {
    "duration": -1252,
    "start_time": "2021-07-01T15:08:34.475Z"
   },
   {
    "duration": -1254,
    "start_time": "2021-07-01T15:08:34.478Z"
   },
   {
    "duration": -1255,
    "start_time": "2021-07-01T15:08:34.480Z"
   },
   {
    "duration": -1257,
    "start_time": "2021-07-01T15:08:34.483Z"
   },
   {
    "duration": -1258,
    "start_time": "2021-07-01T15:08:34.485Z"
   },
   {
    "duration": -1272,
    "start_time": "2021-07-01T15:08:34.500Z"
   },
   {
    "duration": -1276,
    "start_time": "2021-07-01T15:08:34.505Z"
   },
   {
    "duration": -1282,
    "start_time": "2021-07-01T15:08:34.511Z"
   },
   {
    "duration": -1284,
    "start_time": "2021-07-01T15:08:34.514Z"
   },
   {
    "duration": -1287,
    "start_time": "2021-07-01T15:08:34.517Z"
   },
   {
    "duration": -1288,
    "start_time": "2021-07-01T15:08:34.519Z"
   },
   {
    "duration": -1295,
    "start_time": "2021-07-01T15:08:34.526Z"
   },
   {
    "duration": -1297,
    "start_time": "2021-07-01T15:08:34.529Z"
   },
   {
    "duration": -1247,
    "start_time": "2021-07-01T15:08:34.532Z"
   },
   {
    "duration": -1248,
    "start_time": "2021-07-01T15:08:34.534Z"
   },
   {
    "duration": -1252,
    "start_time": "2021-07-01T15:08:34.539Z"
   },
   {
    "duration": 185,
    "start_time": "2021-07-01T15:09:34.272Z"
   },
   {
    "duration": 9,
    "start_time": "2021-07-01T15:09:38.085Z"
   },
   {
    "duration": 6,
    "start_time": "2021-07-01T15:09:51.236Z"
   },
   {
    "duration": 181,
    "start_time": "2021-07-01T15:10:05.093Z"
   },
   {
    "duration": 5,
    "start_time": "2021-07-01T15:10:12.136Z"
   },
   {
    "duration": 9,
    "start_time": "2021-07-01T15:10:17.524Z"
   },
   {
    "duration": 183,
    "start_time": "2021-07-01T15:22:23.907Z"
   },
   {
    "duration": 539,
    "start_time": "2021-07-01T15:23:31.025Z"
   },
   {
    "duration": 2,
    "start_time": "2021-07-01T15:23:31.567Z"
   },
   {
    "duration": 92,
    "start_time": "2021-07-01T15:23:31.571Z"
   },
   {
    "duration": 445,
    "start_time": "2021-07-01T15:23:31.720Z"
   },
   {
    "duration": 2,
    "start_time": "2021-07-01T15:23:32.167Z"
   },
   {
    "duration": 145,
    "start_time": "2021-07-01T15:23:32.590Z"
   },
   {
    "duration": 18,
    "start_time": "2021-07-01T15:23:34.258Z"
   },
   {
    "duration": 31,
    "start_time": "2021-07-01T15:23:34.395Z"
   },
   {
    "duration": 18,
    "start_time": "2021-07-01T15:23:34.550Z"
   },
   {
    "duration": 3,
    "start_time": "2021-07-01T15:23:35.007Z"
   },
   {
    "duration": 4,
    "start_time": "2021-07-01T15:23:35.150Z"
   },
   {
    "duration": 9,
    "start_time": "2021-07-01T15:23:35.589Z"
   },
   {
    "duration": 9,
    "start_time": "2021-07-01T15:23:35.749Z"
   },
   {
    "duration": 6,
    "start_time": "2021-07-01T15:23:36.053Z"
   },
   {
    "duration": 10,
    "start_time": "2021-07-01T15:23:36.517Z"
   },
   {
    "duration": 16,
    "start_time": "2021-07-01T15:23:39.566Z"
   },
   {
    "duration": 9,
    "start_time": "2021-07-01T15:23:39.885Z"
   },
   {
    "duration": 7,
    "start_time": "2021-07-01T15:23:40.684Z"
   },
   {
    "duration": 6,
    "start_time": "2021-07-01T15:23:43.037Z"
   },
   {
    "duration": 6,
    "start_time": "2021-07-01T15:23:44.438Z"
   },
   {
    "duration": 7,
    "start_time": "2021-07-01T15:23:44.746Z"
   },
   {
    "duration": 7,
    "start_time": "2021-07-01T15:23:44.903Z"
   },
   {
    "duration": 7,
    "start_time": "2021-07-01T15:23:46.535Z"
   },
   {
    "duration": 8,
    "start_time": "2021-07-01T15:23:46.693Z"
   },
   {
    "duration": 4,
    "start_time": "2021-07-01T15:23:46.875Z"
   },
   {
    "duration": 4,
    "start_time": "2021-07-01T15:23:49.379Z"
   },
   {
    "duration": 7,
    "start_time": "2021-07-01T15:23:53.055Z"
   },
   {
    "duration": 6,
    "start_time": "2021-07-01T15:23:54.910Z"
   },
   {
    "duration": 6,
    "start_time": "2021-07-01T15:24:00.558Z"
   },
   {
    "duration": 7,
    "start_time": "2021-07-01T15:24:09.720Z"
   },
   {
    "duration": 267,
    "start_time": "2021-07-01T15:24:36.440Z"
   },
   {
    "duration": 554,
    "start_time": "2021-07-01T15:24:48.217Z"
   },
   {
    "duration": 3,
    "start_time": "2021-07-01T15:24:48.772Z"
   },
   {
    "duration": 82,
    "start_time": "2021-07-01T15:24:48.777Z"
   },
   {
    "duration": 480,
    "start_time": "2021-07-01T15:24:48.861Z"
   },
   {
    "duration": 2,
    "start_time": "2021-07-01T15:24:49.343Z"
   },
   {
    "duration": 165,
    "start_time": "2021-07-01T15:24:49.347Z"
   },
   {
    "duration": 17,
    "start_time": "2021-07-01T15:24:49.513Z"
   },
   {
    "duration": 30,
    "start_time": "2021-07-01T15:24:49.532Z"
   },
   {
    "duration": 28,
    "start_time": "2021-07-01T15:24:49.564Z"
   },
   {
    "duration": 3,
    "start_time": "2021-07-01T15:24:49.593Z"
   },
   {
    "duration": 8,
    "start_time": "2021-07-01T15:24:49.598Z"
   },
   {
    "duration": 13,
    "start_time": "2021-07-01T15:24:49.607Z"
   },
   {
    "duration": 9,
    "start_time": "2021-07-01T15:24:49.621Z"
   },
   {
    "duration": 5,
    "start_time": "2021-07-01T15:24:49.632Z"
   },
   {
    "duration": 11,
    "start_time": "2021-07-01T15:24:49.639Z"
   },
   {
    "duration": 42,
    "start_time": "2021-07-01T15:24:49.651Z"
   },
   {
    "duration": 11,
    "start_time": "2021-07-01T15:24:49.695Z"
   },
   {
    "duration": 6,
    "start_time": "2021-07-01T15:24:49.708Z"
   },
   {
    "duration": 8,
    "start_time": "2021-07-01T15:24:49.715Z"
   },
   {
    "duration": 5,
    "start_time": "2021-07-01T15:24:49.724Z"
   },
   {
    "duration": 10,
    "start_time": "2021-07-01T15:24:49.730Z"
   },
   {
    "duration": 7,
    "start_time": "2021-07-01T15:24:49.742Z"
   },
   {
    "duration": 7,
    "start_time": "2021-07-01T15:24:49.788Z"
   },
   {
    "duration": 8,
    "start_time": "2021-07-01T15:24:49.798Z"
   },
   {
    "duration": 6,
    "start_time": "2021-07-01T15:24:49.807Z"
   },
   {
    "duration": 6,
    "start_time": "2021-07-01T15:24:49.814Z"
   },
   {
    "duration": 7,
    "start_time": "2021-07-01T15:24:49.822Z"
   },
   {
    "duration": 4,
    "start_time": "2021-07-01T15:24:49.830Z"
   },
   {
    "duration": 7,
    "start_time": "2021-07-01T15:24:49.835Z"
   },
   {
    "duration": 5,
    "start_time": "2021-07-01T15:24:49.844Z"
   },
   {
    "duration": 5,
    "start_time": "2021-07-01T15:24:49.885Z"
   },
   {
    "duration": 15,
    "start_time": "2021-07-01T15:24:49.892Z"
   },
   {
    "duration": 11,
    "start_time": "2021-07-01T15:24:49.909Z"
   },
   {
    "duration": 2,
    "start_time": "2021-07-01T15:24:49.922Z"
   },
   {
    "duration": 10,
    "start_time": "2021-07-01T15:24:49.926Z"
   },
   {
    "duration": 311,
    "start_time": "2021-07-01T15:24:49.938Z"
   },
   {
    "duration": 8,
    "start_time": "2021-07-01T15:24:50.251Z"
   },
   {
    "duration": 286,
    "start_time": "2021-07-01T15:24:50.260Z"
   },
   {
    "duration": -833,
    "start_time": "2021-07-01T15:24:51.381Z"
   },
   {
    "duration": -836,
    "start_time": "2021-07-01T15:24:51.385Z"
   },
   {
    "duration": -839,
    "start_time": "2021-07-01T15:24:51.389Z"
   },
   {
    "duration": -843,
    "start_time": "2021-07-01T15:24:51.394Z"
   },
   {
    "duration": -845,
    "start_time": "2021-07-01T15:24:51.397Z"
   },
   {
    "duration": -847,
    "start_time": "2021-07-01T15:24:51.400Z"
   },
   {
    "duration": -854,
    "start_time": "2021-07-01T15:24:51.408Z"
   },
   {
    "duration": -859,
    "start_time": "2021-07-01T15:24:51.414Z"
   },
   {
    "duration": -865,
    "start_time": "2021-07-01T15:24:51.421Z"
   },
   {
    "duration": -870,
    "start_time": "2021-07-01T15:24:51.427Z"
   },
   {
    "duration": -874,
    "start_time": "2021-07-01T15:24:51.432Z"
   },
   {
    "duration": -879,
    "start_time": "2021-07-01T15:24:51.438Z"
   },
   {
    "duration": -883,
    "start_time": "2021-07-01T15:24:51.443Z"
   },
   {
    "duration": -888,
    "start_time": "2021-07-01T15:24:51.449Z"
   },
   {
    "duration": -891,
    "start_time": "2021-07-01T15:24:51.454Z"
   },
   {
    "duration": -898,
    "start_time": "2021-07-01T15:24:51.462Z"
   },
   {
    "duration": -900,
    "start_time": "2021-07-01T15:24:51.465Z"
   },
   {
    "duration": -908,
    "start_time": "2021-07-01T15:24:51.474Z"
   },
   {
    "duration": -921,
    "start_time": "2021-07-01T15:24:51.488Z"
   },
   {
    "duration": -925,
    "start_time": "2021-07-01T15:24:51.493Z"
   },
   {
    "duration": -928,
    "start_time": "2021-07-01T15:24:51.497Z"
   },
   {
    "duration": -930,
    "start_time": "2021-07-01T15:24:51.500Z"
   },
   {
    "duration": -933,
    "start_time": "2021-07-01T15:24:51.504Z"
   },
   {
    "duration": -939,
    "start_time": "2021-07-01T15:24:51.511Z"
   },
   {
    "duration": -942,
    "start_time": "2021-07-01T15:24:51.515Z"
   },
   {
    "duration": -950,
    "start_time": "2021-07-01T15:24:51.524Z"
   },
   {
    "duration": -956,
    "start_time": "2021-07-01T15:24:51.531Z"
   },
   {
    "duration": -966,
    "start_time": "2021-07-01T15:24:51.541Z"
   },
   {
    "duration": -971,
    "start_time": "2021-07-01T15:24:51.548Z"
   },
   {
    "duration": -979,
    "start_time": "2021-07-01T15:24:51.556Z"
   },
   {
    "duration": -987,
    "start_time": "2021-07-01T15:24:51.566Z"
   },
   {
    "duration": -996,
    "start_time": "2021-07-01T15:24:51.575Z"
   },
   {
    "duration": -1002,
    "start_time": "2021-07-01T15:24:51.583Z"
   },
   {
    "duration": -1007,
    "start_time": "2021-07-01T15:24:51.589Z"
   },
   {
    "duration": -1023,
    "start_time": "2021-07-01T15:24:51.606Z"
   },
   {
    "duration": -1030,
    "start_time": "2021-07-01T15:24:51.614Z"
   },
   {
    "duration": -1036,
    "start_time": "2021-07-01T15:24:51.621Z"
   },
   {
    "duration": -1043,
    "start_time": "2021-07-01T15:24:51.629Z"
   },
   {
    "duration": -1050,
    "start_time": "2021-07-01T15:24:51.637Z"
   },
   {
    "duration": -1057,
    "start_time": "2021-07-01T15:24:51.645Z"
   },
   {
    "duration": -1060,
    "start_time": "2021-07-01T15:24:51.649Z"
   },
   {
    "duration": -1068,
    "start_time": "2021-07-01T15:24:51.658Z"
   },
   {
    "duration": 7,
    "start_time": "2021-07-01T15:25:47.933Z"
   },
   {
    "duration": 10,
    "start_time": "2021-07-01T15:26:56.705Z"
   },
   {
    "duration": 3,
    "start_time": "2021-07-01T15:26:58.111Z"
   },
   {
    "duration": 8,
    "start_time": "2021-07-01T15:26:59.011Z"
   },
   {
    "duration": 257,
    "start_time": "2021-07-01T15:27:11.437Z"
   },
   {
    "duration": 8,
    "start_time": "2021-07-01T15:29:21.869Z"
   },
   {
    "duration": 591,
    "start_time": "2021-07-01T15:29:26.469Z"
   },
   {
    "duration": 2,
    "start_time": "2021-07-01T15:29:27.062Z"
   },
   {
    "duration": 85,
    "start_time": "2021-07-01T15:29:27.067Z"
   },
   {
    "duration": 481,
    "start_time": "2021-07-01T15:29:27.154Z"
   },
   {
    "duration": 2,
    "start_time": "2021-07-01T15:29:27.637Z"
   },
   {
    "duration": 152,
    "start_time": "2021-07-01T15:29:27.641Z"
   },
   {
    "duration": 15,
    "start_time": "2021-07-01T15:29:27.795Z"
   },
   {
    "duration": 31,
    "start_time": "2021-07-01T15:29:27.812Z"
   },
   {
    "duration": 17,
    "start_time": "2021-07-01T15:29:27.846Z"
   },
   {
    "duration": 22,
    "start_time": "2021-07-01T15:29:27.865Z"
   },
   {
    "duration": 8,
    "start_time": "2021-07-01T15:29:27.888Z"
   },
   {
    "duration": 11,
    "start_time": "2021-07-01T15:29:27.898Z"
   },
   {
    "duration": 10,
    "start_time": "2021-07-01T15:29:27.911Z"
   },
   {
    "duration": 5,
    "start_time": "2021-07-01T15:29:27.922Z"
   },
   {
    "duration": 7,
    "start_time": "2021-07-01T15:29:27.929Z"
   },
   {
    "duration": 49,
    "start_time": "2021-07-01T15:29:27.937Z"
   },
   {
    "duration": 15,
    "start_time": "2021-07-01T15:29:27.988Z"
   },
   {
    "duration": 9,
    "start_time": "2021-07-01T15:29:28.005Z"
   },
   {
    "duration": 5,
    "start_time": "2021-07-01T15:29:28.016Z"
   },
   {
    "duration": 5,
    "start_time": "2021-07-01T15:29:28.023Z"
   },
   {
    "duration": 8,
    "start_time": "2021-07-01T15:29:28.029Z"
   },
   {
    "duration": 48,
    "start_time": "2021-07-01T15:29:28.038Z"
   },
   {
    "duration": 6,
    "start_time": "2021-07-01T15:29:28.089Z"
   },
   {
    "duration": 5,
    "start_time": "2021-07-01T15:29:28.098Z"
   },
   {
    "duration": 7,
    "start_time": "2021-07-01T15:29:28.105Z"
   },
   {
    "duration": 4,
    "start_time": "2021-07-01T15:29:28.114Z"
   },
   {
    "duration": 11,
    "start_time": "2021-07-01T15:29:28.120Z"
   },
   {
    "duration": 7,
    "start_time": "2021-07-01T15:29:28.133Z"
   },
   {
    "duration": 4,
    "start_time": "2021-07-01T15:29:28.142Z"
   },
   {
    "duration": 41,
    "start_time": "2021-07-01T15:29:28.147Z"
   },
   {
    "duration": 7,
    "start_time": "2021-07-01T15:29:28.189Z"
   },
   {
    "duration": 7,
    "start_time": "2021-07-01T15:29:28.197Z"
   },
   {
    "duration": 5,
    "start_time": "2021-07-01T15:29:28.206Z"
   },
   {
    "duration": 14,
    "start_time": "2021-07-01T15:29:28.212Z"
   },
   {
    "duration": 16,
    "start_time": "2021-07-01T15:29:28.228Z"
   },
   {
    "duration": 2,
    "start_time": "2021-07-01T15:29:28.246Z"
   },
   {
    "duration": 37,
    "start_time": "2021-07-01T15:29:28.250Z"
   },
   {
    "duration": 278,
    "start_time": "2021-07-01T15:29:28.289Z"
   },
   {
    "duration": 16,
    "start_time": "2021-07-01T15:29:28.569Z"
   },
   {
    "duration": 6,
    "start_time": "2021-07-01T15:29:28.586Z"
   },
   {
    "duration": 9,
    "start_time": "2021-07-01T15:29:28.594Z"
   },
   {
    "duration": 13,
    "start_time": "2021-07-01T15:29:28.604Z"
   },
   {
    "duration": 3,
    "start_time": "2021-07-01T15:29:28.619Z"
   },
   {
    "duration": 9,
    "start_time": "2021-07-01T15:29:28.623Z"
   },
   {
    "duration": 5,
    "start_time": "2021-07-01T15:29:28.634Z"
   },
   {
    "duration": 14,
    "start_time": "2021-07-01T15:29:28.640Z"
   },
   {
    "duration": 14,
    "start_time": "2021-07-01T15:29:28.656Z"
   },
   {
    "duration": 7,
    "start_time": "2021-07-01T15:29:28.685Z"
   },
   {
    "duration": 14,
    "start_time": "2021-07-01T15:29:28.694Z"
   },
   {
    "duration": 20,
    "start_time": "2021-07-01T15:29:28.710Z"
   },
   {
    "duration": 23,
    "start_time": "2021-07-01T15:29:28.732Z"
   },
   {
    "duration": 4,
    "start_time": "2021-07-01T15:29:28.756Z"
   },
   {
    "duration": 12,
    "start_time": "2021-07-01T15:29:28.762Z"
   },
   {
    "duration": 765,
    "start_time": "2021-07-01T15:29:28.776Z"
   },
   {
    "duration": 3,
    "start_time": "2021-07-01T15:29:29.543Z"
   },
   {
    "duration": 604,
    "start_time": "2021-07-01T15:29:29.548Z"
   },
   {
    "duration": 2,
    "start_time": "2021-07-01T15:29:30.154Z"
   },
   {
    "duration": 482,
    "start_time": "2021-07-01T15:29:30.158Z"
   },
   {
    "duration": 5,
    "start_time": "2021-07-01T15:29:30.642Z"
   },
   {
    "duration": 4458,
    "start_time": "2021-07-01T15:29:30.648Z"
   },
   {
    "duration": 42,
    "start_time": "2021-07-01T15:29:35.108Z"
   },
   {
    "duration": 10,
    "start_time": "2021-07-01T15:29:35.152Z"
   },
   {
    "duration": 3,
    "start_time": "2021-07-01T15:29:35.186Z"
   },
   {
    "duration": 11,
    "start_time": "2021-07-01T15:29:35.191Z"
   },
   {
    "duration": 10,
    "start_time": "2021-07-01T15:29:35.203Z"
   },
   {
    "duration": 7,
    "start_time": "2021-07-01T15:29:35.214Z"
   },
   {
    "duration": 6,
    "start_time": "2021-07-01T15:29:35.222Z"
   },
   {
    "duration": 16,
    "start_time": "2021-07-01T15:29:35.232Z"
   },
   {
    "duration": 48,
    "start_time": "2021-07-01T15:29:35.250Z"
   },
   {
    "duration": 15,
    "start_time": "2021-07-01T15:29:35.300Z"
   },
   {
    "duration": 2,
    "start_time": "2021-07-01T15:29:35.317Z"
   },
   {
    "duration": 10,
    "start_time": "2021-07-01T15:29:35.320Z"
   },
   {
    "duration": 5,
    "start_time": "2021-07-01T15:29:35.331Z"
   },
   {
    "duration": 10,
    "start_time": "2021-07-01T15:29:35.338Z"
   },
   {
    "duration": 37,
    "start_time": "2021-07-01T15:29:35.349Z"
   },
   {
    "duration": 5,
    "start_time": "2021-07-01T15:29:35.387Z"
   },
   {
    "duration": 5,
    "start_time": "2021-07-01T15:29:35.393Z"
   },
   {
    "duration": 8,
    "start_time": "2021-07-01T15:29:35.400Z"
   },
   {
    "duration": 6,
    "start_time": "2021-07-01T15:29:35.409Z"
   },
   {
    "duration": 5,
    "start_time": "2021-07-01T15:29:35.417Z"
   },
   {
    "duration": 5,
    "start_time": "2021-07-01T15:29:35.423Z"
   },
   {
    "duration": 5,
    "start_time": "2021-07-01T15:29:35.429Z"
   },
   {
    "duration": 15,
    "start_time": "2021-07-01T15:46:13.131Z"
   },
   {
    "duration": 2,
    "start_time": "2021-07-01T15:55:27.157Z"
   },
   {
    "duration": 19,
    "start_time": "2021-07-01T15:55:46.485Z"
   },
   {
    "duration": 19,
    "start_time": "2021-07-01T15:56:37.622Z"
   },
   {
    "duration": 5,
    "start_time": "2021-07-01T15:57:05.316Z"
   },
   {
    "duration": 54,
    "start_time": "2021-07-01T15:58:20.528Z"
   },
   {
    "duration": 57,
    "start_time": "2021-07-01T15:58:53.465Z"
   },
   {
    "duration": 3,
    "start_time": "2021-07-01T15:59:00.620Z"
   },
   {
    "duration": 4,
    "start_time": "2021-07-01T15:59:03.255Z"
   },
   {
    "duration": 261,
    "start_time": "2021-07-01T15:59:22.616Z"
   },
   {
    "duration": 197,
    "start_time": "2021-07-01T15:59:52.932Z"
   },
   {
    "duration": 5,
    "start_time": "2021-07-01T16:00:02.441Z"
   },
   {
    "duration": 15,
    "start_time": "2021-07-01T16:00:04.641Z"
   },
   {
    "duration": 730,
    "start_time": "2021-07-01T16:00:40.866Z"
   },
   {
    "duration": 3,
    "start_time": "2021-07-01T16:01:50.910Z"
   },
   {
    "duration": 4,
    "start_time": "2021-07-01T16:01:51.323Z"
   },
   {
    "duration": 17,
    "start_time": "2021-07-01T16:01:51.830Z"
   },
   {
    "duration": 477,
    "start_time": "2021-07-01T16:01:55.931Z"
   },
   {
    "duration": 15,
    "start_time": "2021-07-01T16:07:25.581Z"
   },
   {
    "duration": 17,
    "start_time": "2021-07-01T16:07:33.764Z"
   },
   {
    "duration": 3,
    "start_time": "2021-07-01T16:07:48.438Z"
   },
   {
    "duration": 4,
    "start_time": "2021-07-01T16:07:54.879Z"
   },
   {
    "duration": 463,
    "start_time": "2021-07-01T16:07:59.343Z"
   },
   {
    "duration": 17,
    "start_time": "2021-07-01T16:08:02.447Z"
   },
   {
    "duration": 525,
    "start_time": "2021-07-01T16:08:08.042Z"
   },
   {
    "duration": 18,
    "start_time": "2021-07-01T16:08:24.276Z"
   },
   {
    "duration": 13,
    "start_time": "2021-07-01T16:08:35.024Z"
   },
   {
    "duration": 3,
    "start_time": "2021-07-01T16:08:41.935Z"
   },
   {
    "duration": 487,
    "start_time": "2021-07-01T16:08:45.363Z"
   },
   {
    "duration": 356,
    "start_time": "2021-07-01T16:08:49.566Z"
   },
   {
    "duration": 3,
    "start_time": "2021-07-01T16:09:59.825Z"
   },
   {
    "duration": 3,
    "start_time": "2021-07-01T16:10:00.181Z"
   },
   {
    "duration": 4,
    "start_time": "2021-07-01T16:10:02.436Z"
   },
   {
    "duration": 4,
    "start_time": "2021-07-01T16:10:02.704Z"
   },
   {
    "duration": 519,
    "start_time": "2021-07-01T16:10:03.436Z"
   },
   {
    "duration": 378,
    "start_time": "2021-07-01T16:10:59.824Z"
   },
   {
    "duration": 180,
    "start_time": "2021-07-01T16:22:10.803Z"
   },
   {
    "duration": 24,
    "start_time": "2021-07-01T16:22:29.252Z"
   },
   {
    "duration": 190,
    "start_time": "2021-07-01T16:24:00.509Z"
   },
   {
    "duration": 180,
    "start_time": "2021-07-01T16:24:24.835Z"
   },
   {
    "duration": 4378,
    "start_time": "2021-07-01T16:24:53.826Z"
   },
   {
    "duration": 7,
    "start_time": "2021-07-01T16:25:03.612Z"
   },
   {
    "duration": 9,
    "start_time": "2021-07-01T16:26:02.545Z"
   },
   {
    "duration": 26,
    "start_time": "2021-07-01T16:26:04.396Z"
   },
   {
    "duration": 15,
    "start_time": "2021-07-01T16:26:19.114Z"
   },
   {
    "duration": 3835,
    "start_time": "2021-07-01T16:31:10.616Z"
   },
   {
    "duration": 16,
    "start_time": "2021-07-01T16:31:35.549Z"
   },
   {
    "duration": 731,
    "start_time": "2021-07-01T16:32:43.257Z"
   },
   {
    "duration": 634,
    "start_time": "2021-07-01T16:32:56.785Z"
   },
   {
    "duration": 564,
    "start_time": "2021-07-01T16:33:05.960Z"
   },
   {
    "duration": 574,
    "start_time": "2021-07-01T16:34:43.207Z"
   },
   {
    "duration": 562,
    "start_time": "2021-07-01T16:34:49.293Z"
   },
   {
    "duration": 3,
    "start_time": "2021-07-01T16:34:49.860Z"
   },
   {
    "duration": 92,
    "start_time": "2021-07-01T16:34:49.865Z"
   },
   {
    "duration": 511,
    "start_time": "2021-07-01T16:34:49.959Z"
   },
   {
    "duration": 3,
    "start_time": "2021-07-01T16:34:50.472Z"
   },
   {
    "duration": 178,
    "start_time": "2021-07-01T16:34:50.477Z"
   },
   {
    "duration": 16,
    "start_time": "2021-07-01T16:34:50.657Z"
   },
   {
    "duration": 41,
    "start_time": "2021-07-01T16:34:50.675Z"
   },
   {
    "duration": 16,
    "start_time": "2021-07-01T16:34:50.718Z"
   },
   {
    "duration": 3,
    "start_time": "2021-07-01T16:34:50.736Z"
   },
   {
    "duration": 8,
    "start_time": "2021-07-01T16:34:50.741Z"
   },
   {
    "duration": 11,
    "start_time": "2021-07-01T16:34:50.751Z"
   },
   {
    "duration": 11,
    "start_time": "2021-07-01T16:34:50.786Z"
   },
   {
    "duration": 7,
    "start_time": "2021-07-01T16:34:50.799Z"
   },
   {
    "duration": 11,
    "start_time": "2021-07-01T16:34:50.808Z"
   },
   {
    "duration": 9,
    "start_time": "2021-07-01T16:34:50.820Z"
   },
   {
    "duration": 17,
    "start_time": "2021-07-01T16:34:50.831Z"
   },
   {
    "duration": 37,
    "start_time": "2021-07-01T16:34:50.850Z"
   },
   {
    "duration": 7,
    "start_time": "2021-07-01T16:34:50.889Z"
   },
   {
    "duration": 9,
    "start_time": "2021-07-01T16:34:50.899Z"
   },
   {
    "duration": 8,
    "start_time": "2021-07-01T16:34:50.910Z"
   },
   {
    "duration": 6,
    "start_time": "2021-07-01T16:34:50.922Z"
   },
   {
    "duration": 5,
    "start_time": "2021-07-01T16:34:50.931Z"
   },
   {
    "duration": 6,
    "start_time": "2021-07-01T16:34:50.938Z"
   },
   {
    "duration": 45,
    "start_time": "2021-07-01T16:34:50.945Z"
   },
   {
    "duration": 6,
    "start_time": "2021-07-01T16:34:50.992Z"
   },
   {
    "duration": 13,
    "start_time": "2021-07-01T16:34:51.000Z"
   },
   {
    "duration": 8,
    "start_time": "2021-07-01T16:34:51.015Z"
   },
   {
    "duration": 6,
    "start_time": "2021-07-01T16:34:51.025Z"
   },
   {
    "duration": 7,
    "start_time": "2021-07-01T16:34:51.032Z"
   },
   {
    "duration": 7,
    "start_time": "2021-07-01T16:34:51.041Z"
   },
   {
    "duration": 37,
    "start_time": "2021-07-01T16:34:51.050Z"
   },
   {
    "duration": 10,
    "start_time": "2021-07-01T16:34:51.089Z"
   },
   {
    "duration": 20,
    "start_time": "2021-07-01T16:34:51.101Z"
   },
   {
    "duration": 15,
    "start_time": "2021-07-01T16:34:51.122Z"
   },
   {
    "duration": 2,
    "start_time": "2021-07-01T16:34:51.139Z"
   },
   {
    "duration": 12,
    "start_time": "2021-07-01T16:34:51.143Z"
   },
   {
    "duration": 307,
    "start_time": "2021-07-01T16:34:51.156Z"
   },
   {
    "duration": 8,
    "start_time": "2021-07-01T16:34:51.464Z"
   },
   {
    "duration": 15,
    "start_time": "2021-07-01T16:34:51.474Z"
   },
   {
    "duration": 6,
    "start_time": "2021-07-01T16:34:51.493Z"
   },
   {
    "duration": 16,
    "start_time": "2021-07-01T16:34:51.501Z"
   },
   {
    "duration": 3,
    "start_time": "2021-07-01T16:34:51.519Z"
   },
   {
    "duration": 10,
    "start_time": "2021-07-01T16:34:51.524Z"
   },
   {
    "duration": 4,
    "start_time": "2021-07-01T16:34:51.536Z"
   },
   {
    "duration": 6,
    "start_time": "2021-07-01T16:34:51.542Z"
   },
   {
    "duration": 37,
    "start_time": "2021-07-01T16:34:51.549Z"
   },
   {
    "duration": 13,
    "start_time": "2021-07-01T16:34:51.589Z"
   },
   {
    "duration": 8,
    "start_time": "2021-07-01T16:34:51.603Z"
   },
   {
    "duration": 15,
    "start_time": "2021-07-01T16:34:51.613Z"
   },
   {
    "duration": 18,
    "start_time": "2021-07-01T16:34:51.629Z"
   },
   {
    "duration": 4,
    "start_time": "2021-07-01T16:34:51.648Z"
   },
   {
    "duration": 35,
    "start_time": "2021-07-01T16:34:51.654Z"
   },
   {
    "duration": 806,
    "start_time": "2021-07-01T16:34:51.692Z"
   },
   {
    "duration": 4,
    "start_time": "2021-07-01T16:34:52.501Z"
   },
   {
    "duration": 621,
    "start_time": "2021-07-01T16:34:52.509Z"
   },
   {
    "duration": 3,
    "start_time": "2021-07-01T16:34:53.132Z"
   },
   {
    "duration": 5,
    "start_time": "2021-07-01T16:34:53.137Z"
   },
   {
    "duration": 6,
    "start_time": "2021-07-01T16:34:53.144Z"
   },
   {
    "duration": 13,
    "start_time": "2021-07-01T16:34:53.152Z"
   },
   {
    "duration": 621,
    "start_time": "2021-07-01T16:34:53.167Z"
   },
   {
    "duration": 377,
    "start_time": "2021-07-01T16:34:53.790Z"
   },
   {
    "duration": 19,
    "start_time": "2021-07-01T16:34:54.168Z"
   },
   {
    "duration": 10,
    "start_time": "2021-07-01T16:34:54.189Z"
   },
   {
    "duration": 586,
    "start_time": "2021-07-01T16:34:54.201Z"
   },
   {
    "duration": 5,
    "start_time": "2021-07-01T16:34:54.789Z"
   },
   {
    "duration": 4564,
    "start_time": "2021-07-01T16:34:54.800Z"
   },
   {
    "duration": 58,
    "start_time": "2021-07-01T16:34:59.366Z"
   },
   {
    "duration": 8,
    "start_time": "2021-07-01T16:34:59.426Z"
   },
   {
    "duration": 5,
    "start_time": "2021-07-01T16:34:59.435Z"
   },
   {
    "duration": 10,
    "start_time": "2021-07-01T16:34:59.442Z"
   },
   {
    "duration": 10,
    "start_time": "2021-07-01T16:34:59.453Z"
   },
   {
    "duration": 8,
    "start_time": "2021-07-01T16:34:59.486Z"
   },
   {
    "duration": 8,
    "start_time": "2021-07-01T16:34:59.497Z"
   },
   {
    "duration": 20,
    "start_time": "2021-07-01T16:34:59.507Z"
   },
   {
    "duration": 14,
    "start_time": "2021-07-01T16:34:59.529Z"
   },
   {
    "duration": 48,
    "start_time": "2021-07-01T16:34:59.545Z"
   },
   {
    "duration": 3,
    "start_time": "2021-07-01T16:34:59.595Z"
   },
   {
    "duration": 11,
    "start_time": "2021-07-01T16:34:59.599Z"
   },
   {
    "duration": 7,
    "start_time": "2021-07-01T16:34:59.612Z"
   },
   {
    "duration": 6,
    "start_time": "2021-07-01T16:34:59.621Z"
   },
   {
    "duration": 5,
    "start_time": "2021-07-01T16:34:59.629Z"
   },
   {
    "duration": 6,
    "start_time": "2021-07-01T16:34:59.635Z"
   },
   {
    "duration": 3,
    "start_time": "2021-07-01T16:34:59.643Z"
   },
   {
    "duration": 40,
    "start_time": "2021-07-01T16:34:59.648Z"
   },
   {
    "duration": 5,
    "start_time": "2021-07-01T16:34:59.690Z"
   },
   {
    "duration": 7,
    "start_time": "2021-07-01T16:34:59.697Z"
   },
   {
    "duration": 7,
    "start_time": "2021-07-01T16:34:59.705Z"
   },
   {
    "duration": 6,
    "start_time": "2021-07-01T16:34:59.714Z"
   },
   {
    "duration": 54,
    "start_time": "2021-07-01T16:36:05.499Z"
   },
   {
    "duration": 573,
    "start_time": "2021-07-01T16:36:08.713Z"
   },
   {
    "duration": 565,
    "start_time": "2021-07-01T16:36:16.306Z"
   },
   {
    "duration": 314,
    "start_time": "2021-07-01T16:36:24.592Z"
   },
   {
    "duration": 548,
    "start_time": "2021-07-01T16:36:32.657Z"
   },
   {
    "duration": 439,
    "start_time": "2021-07-01T16:38:45.353Z"
   },
   {
    "duration": 586,
    "start_time": "2021-07-01T16:38:57.615Z"
   },
   {
    "duration": 297,
    "start_time": "2021-07-01T16:40:06.987Z"
   },
   {
    "duration": 369,
    "start_time": "2021-07-01T16:40:24.894Z"
   },
   {
    "duration": 328,
    "start_time": "2021-07-01T16:40:31.110Z"
   },
   {
    "duration": 350,
    "start_time": "2021-07-01T16:40:33.892Z"
   },
   {
    "duration": 173,
    "start_time": "2021-07-01T16:40:50.095Z"
   },
   {
    "duration": 343,
    "start_time": "2021-07-01T16:40:58.703Z"
   },
   {
    "duration": 345,
    "start_time": "2021-07-01T16:41:46.058Z"
   },
   {
    "duration": 516,
    "start_time": "2021-07-01T16:43:57.069Z"
   },
   {
    "duration": 362,
    "start_time": "2021-07-01T16:44:02.987Z"
   },
   {
    "duration": 365,
    "start_time": "2021-07-01T16:44:32.646Z"
   },
   {
    "duration": 128,
    "start_time": "2021-07-01T16:47:09.172Z"
   },
   {
    "duration": 343,
    "start_time": "2021-07-01T16:47:37.438Z"
   },
   {
    "duration": 401,
    "start_time": "2021-07-01T16:49:16.492Z"
   },
   {
    "duration": 175,
    "start_time": "2021-07-01T16:49:33.863Z"
   },
   {
    "duration": 182,
    "start_time": "2021-07-01T16:49:37.295Z"
   },
   {
    "duration": 182,
    "start_time": "2021-07-01T16:49:47.465Z"
   },
   {
    "duration": 16,
    "start_time": "2021-07-01T16:50:02.697Z"
   },
   {
    "duration": 221,
    "start_time": "2021-07-01T16:50:40.952Z"
   },
   {
    "duration": 179,
    "start_time": "2021-07-01T16:50:57.524Z"
   },
   {
    "duration": 131,
    "start_time": "2021-07-01T16:51:18.377Z"
   },
   {
    "duration": 692,
    "start_time": "2021-07-01T16:51:37.142Z"
   },
   {
    "duration": 691,
    "start_time": "2021-07-01T16:52:03.325Z"
   },
   {
    "duration": 16,
    "start_time": "2021-07-01T16:52:20.882Z"
   },
   {
    "duration": 18,
    "start_time": "2021-07-01T16:55:10.656Z"
   },
   {
    "duration": 8,
    "start_time": "2021-07-01T16:55:37.163Z"
   },
   {
    "duration": 387,
    "start_time": "2021-07-01T16:56:16.707Z"
   },
   {
    "duration": 378,
    "start_time": "2021-07-01T16:56:35.076Z"
   },
   {
    "duration": 360,
    "start_time": "2021-07-01T16:56:47.114Z"
   },
   {
    "duration": 365,
    "start_time": "2021-07-01T16:56:50.177Z"
   },
   {
    "duration": 391,
    "start_time": "2021-07-01T16:56:52.957Z"
   },
   {
    "duration": 348,
    "start_time": "2021-07-01T16:57:04.007Z"
   },
   {
    "duration": 372,
    "start_time": "2021-07-01T16:57:10.693Z"
   },
   {
    "duration": 363,
    "start_time": "2021-07-01T16:57:17.073Z"
   },
   {
    "duration": 388,
    "start_time": "2021-07-01T16:57:25.569Z"
   },
   {
    "duration": 8,
    "start_time": "2021-07-01T16:58:20.568Z"
   },
   {
    "duration": 363,
    "start_time": "2021-07-01T17:01:03.492Z"
   },
   {
    "duration": 5,
    "start_time": "2021-07-01T17:12:39.680Z"
   },
   {
    "duration": 4449,
    "start_time": "2021-07-01T17:12:47.973Z"
   },
   {
    "duration": 4,
    "start_time": "2021-07-01T17:14:48.653Z"
   },
   {
    "duration": 3869,
    "start_time": "2021-07-01T17:14:50.541Z"
   },
   {
    "duration": 3562,
    "start_time": "2021-07-01T17:15:13.942Z"
   },
   {
    "duration": 5,
    "start_time": "2021-07-01T17:15:40.774Z"
   },
   {
    "duration": 3026,
    "start_time": "2021-07-01T17:15:41.730Z"
   },
   {
    "duration": 5,
    "start_time": "2021-07-01T17:15:47.864Z"
   },
   {
    "duration": 3472,
    "start_time": "2021-07-01T17:15:49.541Z"
   },
   {
    "duration": 174,
    "start_time": "2021-07-01T17:17:42.606Z"
   },
   {
    "duration": 37,
    "start_time": "2021-07-01T17:18:31.355Z"
   },
   {
    "duration": 3,
    "start_time": "2021-07-01T17:19:44.033Z"
   },
   {
    "duration": 352,
    "start_time": "2021-07-01T17:19:51.223Z"
   },
   {
    "duration": 494,
    "start_time": "2021-07-01T17:20:01.638Z"
   },
   {
    "duration": 372,
    "start_time": "2021-07-01T17:20:06.999Z"
   },
   {
    "duration": 5,
    "start_time": "2021-07-01T17:20:11.585Z"
   },
   {
    "duration": 3408,
    "start_time": "2021-07-01T17:20:13.768Z"
   },
   {
    "duration": 31,
    "start_time": "2021-07-01T17:20:20.359Z"
   },
   {
    "duration": 7,
    "start_time": "2021-07-01T17:21:52.419Z"
   },
   {
    "duration": 3,
    "start_time": "2021-07-01T17:21:54.405Z"
   },
   {
    "duration": 8,
    "start_time": "2021-07-01T17:21:55.127Z"
   },
   {
    "duration": 8,
    "start_time": "2021-07-01T17:22:04.445Z"
   },
   {
    "duration": 3,
    "start_time": "2021-07-01T17:22:04.801Z"
   },
   {
    "duration": 9,
    "start_time": "2021-07-01T17:22:06.228Z"
   },
   {
    "duration": 9,
    "start_time": "2021-07-01T17:22:12.120Z"
   },
   {
    "duration": 4,
    "start_time": "2021-07-01T17:28:20.990Z"
   },
   {
    "duration": 18,
    "start_time": "2021-07-01T17:28:22.114Z"
   },
   {
    "duration": 17,
    "start_time": "2021-07-01T17:28:23.409Z"
   },
   {
    "duration": 23,
    "start_time": "2021-07-01T17:28:24.531Z"
   },
   {
    "duration": 4,
    "start_time": "2021-07-01T17:34:54.470Z"
   },
   {
    "duration": 603,
    "start_time": "2021-07-01T17:36:29.067Z"
   },
   {
    "duration": 2,
    "start_time": "2021-07-01T17:36:29.671Z"
   },
   {
    "duration": 96,
    "start_time": "2021-07-01T17:36:29.675Z"
   },
   {
    "duration": 486,
    "start_time": "2021-07-01T17:36:29.773Z"
   },
   {
    "duration": 3,
    "start_time": "2021-07-01T17:36:30.260Z"
   },
   {
    "duration": 171,
    "start_time": "2021-07-01T17:36:30.265Z"
   },
   {
    "duration": 15,
    "start_time": "2021-07-01T17:36:30.438Z"
   },
   {
    "duration": 46,
    "start_time": "2021-07-01T17:36:30.456Z"
   },
   {
    "duration": 16,
    "start_time": "2021-07-01T17:36:30.504Z"
   },
   {
    "duration": 8,
    "start_time": "2021-07-01T17:36:30.521Z"
   },
   {
    "duration": 23,
    "start_time": "2021-07-01T17:36:30.531Z"
   },
   {
    "duration": 22,
    "start_time": "2021-07-01T17:36:30.556Z"
   },
   {
    "duration": 28,
    "start_time": "2021-07-01T17:36:30.580Z"
   },
   {
    "duration": 13,
    "start_time": "2021-07-01T17:36:30.610Z"
   },
   {
    "duration": 14,
    "start_time": "2021-07-01T17:36:30.625Z"
   },
   {
    "duration": 20,
    "start_time": "2021-07-01T17:36:30.640Z"
   },
   {
    "duration": 42,
    "start_time": "2021-07-01T17:36:30.663Z"
   },
   {
    "duration": 11,
    "start_time": "2021-07-01T17:36:30.707Z"
   },
   {
    "duration": 15,
    "start_time": "2021-07-01T17:36:30.719Z"
   },
   {
    "duration": 19,
    "start_time": "2021-07-01T17:36:30.736Z"
   },
   {
    "duration": 22,
    "start_time": "2021-07-01T17:36:30.757Z"
   },
   {
    "duration": 24,
    "start_time": "2021-07-01T17:36:30.782Z"
   },
   {
    "duration": 17,
    "start_time": "2021-07-01T17:36:30.811Z"
   },
   {
    "duration": 25,
    "start_time": "2021-07-01T17:36:30.831Z"
   },
   {
    "duration": 26,
    "start_time": "2021-07-01T17:36:30.858Z"
   },
   {
    "duration": 24,
    "start_time": "2021-07-01T17:36:30.885Z"
   },
   {
    "duration": 21,
    "start_time": "2021-07-01T17:36:30.911Z"
   },
   {
    "duration": 22,
    "start_time": "2021-07-01T17:36:30.933Z"
   },
   {
    "duration": 16,
    "start_time": "2021-07-01T17:36:30.957Z"
   },
   {
    "duration": 30,
    "start_time": "2021-07-01T17:36:30.974Z"
   },
   {
    "duration": 24,
    "start_time": "2021-07-01T17:36:31.006Z"
   },
   {
    "duration": 18,
    "start_time": "2021-07-01T17:36:31.031Z"
   },
   {
    "duration": 28,
    "start_time": "2021-07-01T17:36:31.050Z"
   },
   {
    "duration": 30,
    "start_time": "2021-07-01T17:36:31.080Z"
   },
   {
    "duration": 24,
    "start_time": "2021-07-01T17:36:31.112Z"
   },
   {
    "duration": 15,
    "start_time": "2021-07-01T17:36:31.138Z"
   },
   {
    "duration": 19,
    "start_time": "2021-07-01T17:36:31.155Z"
   },
   {
    "duration": 286,
    "start_time": "2021-07-01T17:36:31.176Z"
   },
   {
    "duration": 23,
    "start_time": "2021-07-01T17:36:31.465Z"
   },
   {
    "duration": 8,
    "start_time": "2021-07-01T17:36:31.490Z"
   },
   {
    "duration": 7,
    "start_time": "2021-07-01T17:36:31.499Z"
   },
   {
    "duration": 18,
    "start_time": "2021-07-01T17:36:31.507Z"
   },
   {
    "duration": 4,
    "start_time": "2021-07-01T17:36:31.526Z"
   },
   {
    "duration": 14,
    "start_time": "2021-07-01T17:36:31.531Z"
   },
   {
    "duration": 6,
    "start_time": "2021-07-01T17:36:31.547Z"
   },
   {
    "duration": 6,
    "start_time": "2021-07-01T17:36:31.555Z"
   },
   {
    "duration": 7,
    "start_time": "2021-07-01T17:36:31.563Z"
   },
   {
    "duration": 10,
    "start_time": "2021-07-01T17:36:31.590Z"
   },
   {
    "duration": 6,
    "start_time": "2021-07-01T17:36:31.602Z"
   },
   {
    "duration": 17,
    "start_time": "2021-07-01T17:36:31.610Z"
   },
   {
    "duration": 17,
    "start_time": "2021-07-01T17:36:31.629Z"
   },
   {
    "duration": 4,
    "start_time": "2021-07-01T17:36:31.648Z"
   },
   {
    "duration": 8,
    "start_time": "2021-07-01T17:36:31.653Z"
   },
   {
    "duration": 806,
    "start_time": "2021-07-01T17:36:31.663Z"
   },
   {
    "duration": 4,
    "start_time": "2021-07-01T17:36:32.471Z"
   },
   {
    "duration": 640,
    "start_time": "2021-07-01T17:36:32.477Z"
   },
   {
    "duration": 3,
    "start_time": "2021-07-01T17:36:33.119Z"
   },
   {
    "duration": 5,
    "start_time": "2021-07-01T17:36:33.124Z"
   },
   {
    "duration": 6,
    "start_time": "2021-07-01T17:36:33.131Z"
   },
   {
    "duration": 5,
    "start_time": "2021-07-01T17:36:33.139Z"
   },
   {
    "duration": 647,
    "start_time": "2021-07-01T17:36:33.146Z"
   },
   {
    "duration": 380,
    "start_time": "2021-07-01T17:36:33.795Z"
   },
   {
    "duration": 15,
    "start_time": "2021-07-01T17:36:34.177Z"
   },
   {
    "duration": 445,
    "start_time": "2021-07-01T17:36:34.195Z"
   },
   {
    "duration": 8,
    "start_time": "2021-07-01T17:36:34.641Z"
   },
   {
    "duration": 503,
    "start_time": "2021-07-01T17:36:34.650Z"
   },
   {
    "duration": 5,
    "start_time": "2021-07-01T17:36:35.155Z"
   },
   {
    "duration": 3207,
    "start_time": "2021-07-01T17:36:35.165Z"
   },
   {
    "duration": 41,
    "start_time": "2021-07-01T17:36:38.375Z"
   },
   {
    "duration": 8,
    "start_time": "2021-07-01T17:36:38.418Z"
   },
   {
    "duration": 5,
    "start_time": "2021-07-01T17:36:38.428Z"
   },
   {
    "duration": 11,
    "start_time": "2021-07-01T17:36:38.434Z"
   },
   {
    "duration": 9,
    "start_time": "2021-07-01T17:36:38.447Z"
   },
   {
    "duration": 29,
    "start_time": "2021-07-01T17:36:38.457Z"
   },
   {
    "duration": 20,
    "start_time": "2021-07-01T17:36:38.491Z"
   },
   {
    "duration": 16,
    "start_time": "2021-07-01T17:36:38.512Z"
   },
   {
    "duration": 14,
    "start_time": "2021-07-01T17:36:38.529Z"
   },
   {
    "duration": 60,
    "start_time": "2021-07-01T17:36:38.545Z"
   },
   {
    "duration": -787,
    "start_time": "2021-07-01T17:36:39.394Z"
   },
   {
    "duration": -793,
    "start_time": "2021-07-01T17:36:39.402Z"
   },
   {
    "duration": -800,
    "start_time": "2021-07-01T17:36:39.410Z"
   },
   {
    "duration": -806,
    "start_time": "2021-07-01T17:36:39.418Z"
   },
   {
    "duration": -813,
    "start_time": "2021-07-01T17:36:39.426Z"
   },
   {
    "duration": -866,
    "start_time": "2021-07-01T17:36:39.480Z"
   },
   {
    "duration": -872,
    "start_time": "2021-07-01T17:36:39.488Z"
   },
   {
    "duration": -880,
    "start_time": "2021-07-01T17:36:39.497Z"
   },
   {
    "duration": -884,
    "start_time": "2021-07-01T17:36:39.503Z"
   },
   {
    "duration": -887,
    "start_time": "2021-07-01T17:36:39.507Z"
   },
   {
    "duration": -891,
    "start_time": "2021-07-01T17:36:39.512Z"
   },
   {
    "duration": -898,
    "start_time": "2021-07-01T17:36:39.521Z"
   },
   {
    "duration": 62,
    "start_time": "2021-07-01T17:43:19.730Z"
   },
   {
    "duration": 4,
    "start_time": "2021-07-01T17:43:19.927Z"
   },
   {
    "duration": 4,
    "start_time": "2021-07-01T17:43:20.312Z"
   },
   {
    "duration": 539,
    "start_time": "2021-07-01T17:43:32.907Z"
   },
   {
    "duration": 2,
    "start_time": "2021-07-01T17:43:33.448Z"
   },
   {
    "duration": 82,
    "start_time": "2021-07-01T17:43:33.453Z"
   },
   {
    "duration": 487,
    "start_time": "2021-07-01T17:43:33.537Z"
   },
   {
    "duration": 2,
    "start_time": "2021-07-01T17:43:34.026Z"
   },
   {
    "duration": 152,
    "start_time": "2021-07-01T17:43:34.030Z"
   },
   {
    "duration": 16,
    "start_time": "2021-07-01T17:43:34.184Z"
   },
   {
    "duration": 30,
    "start_time": "2021-07-01T17:43:34.202Z"
   },
   {
    "duration": 16,
    "start_time": "2021-07-01T17:43:34.234Z"
   },
   {
    "duration": 3,
    "start_time": "2021-07-01T17:43:34.251Z"
   },
   {
    "duration": 29,
    "start_time": "2021-07-01T17:43:34.256Z"
   },
   {
    "duration": 10,
    "start_time": "2021-07-01T17:43:34.287Z"
   },
   {
    "duration": 8,
    "start_time": "2021-07-01T17:43:34.298Z"
   },
   {
    "duration": 5,
    "start_time": "2021-07-01T17:43:34.308Z"
   },
   {
    "duration": 8,
    "start_time": "2021-07-01T17:43:34.314Z"
   },
   {
    "duration": 9,
    "start_time": "2021-07-01T17:43:34.324Z"
   },
   {
    "duration": 52,
    "start_time": "2021-07-01T17:43:34.334Z"
   },
   {
    "duration": 9,
    "start_time": "2021-07-01T17:43:34.387Z"
   },
   {
    "duration": 6,
    "start_time": "2021-07-01T17:43:34.397Z"
   },
   {
    "duration": 5,
    "start_time": "2021-07-01T17:43:34.404Z"
   },
   {
    "duration": 4,
    "start_time": "2021-07-01T17:43:34.411Z"
   },
   {
    "duration": 7,
    "start_time": "2021-07-01T17:43:34.417Z"
   },
   {
    "duration": 7,
    "start_time": "2021-07-01T17:43:34.428Z"
   },
   {
    "duration": 48,
    "start_time": "2021-07-01T17:43:34.437Z"
   },
   {
    "duration": 8,
    "start_time": "2021-07-01T17:43:34.487Z"
   },
   {
    "duration": 7,
    "start_time": "2021-07-01T17:43:34.497Z"
   },
   {
    "duration": 10,
    "start_time": "2021-07-01T17:43:34.506Z"
   },
   {
    "duration": 8,
    "start_time": "2021-07-01T17:43:34.518Z"
   },
   {
    "duration": 7,
    "start_time": "2021-07-01T17:43:34.528Z"
   },
   {
    "duration": 7,
    "start_time": "2021-07-01T17:43:34.536Z"
   },
   {
    "duration": 12,
    "start_time": "2021-07-01T17:43:34.544Z"
   },
   {
    "duration": 31,
    "start_time": "2021-07-01T17:43:34.557Z"
   },
   {
    "duration": 5,
    "start_time": "2021-07-01T17:43:34.590Z"
   },
   {
    "duration": 17,
    "start_time": "2021-07-01T17:43:34.597Z"
   },
   {
    "duration": 13,
    "start_time": "2021-07-01T17:43:34.616Z"
   },
   {
    "duration": 2,
    "start_time": "2021-07-01T17:43:34.630Z"
   },
   {
    "duration": 11,
    "start_time": "2021-07-01T17:43:34.634Z"
   },
   {
    "duration": 288,
    "start_time": "2021-07-01T17:43:34.647Z"
   },
   {
    "duration": 7,
    "start_time": "2021-07-01T17:43:34.936Z"
   },
   {
    "duration": 7,
    "start_time": "2021-07-01T17:43:34.945Z"
   },
   {
    "duration": 4,
    "start_time": "2021-07-01T17:43:34.954Z"
   },
   {
    "duration": 33,
    "start_time": "2021-07-01T17:43:34.959Z"
   },
   {
    "duration": 2,
    "start_time": "2021-07-01T17:43:34.994Z"
   },
   {
    "duration": 12,
    "start_time": "2021-07-01T17:43:34.998Z"
   },
   {
    "duration": 7,
    "start_time": "2021-07-01T17:43:35.012Z"
   },
   {
    "duration": 6,
    "start_time": "2021-07-01T17:43:35.020Z"
   },
   {
    "duration": 6,
    "start_time": "2021-07-01T17:43:35.028Z"
   },
   {
    "duration": 8,
    "start_time": "2021-07-01T17:43:35.035Z"
   },
   {
    "duration": 6,
    "start_time": "2021-07-01T17:43:35.045Z"
   },
   {
    "duration": 40,
    "start_time": "2021-07-01T17:43:35.053Z"
   },
   {
    "duration": 16,
    "start_time": "2021-07-01T17:43:35.095Z"
   },
   {
    "duration": 3,
    "start_time": "2021-07-01T17:43:35.113Z"
   },
   {
    "duration": 5,
    "start_time": "2021-07-01T17:43:35.118Z"
   },
   {
    "duration": 769,
    "start_time": "2021-07-01T17:43:35.124Z"
   },
   {
    "duration": 4,
    "start_time": "2021-07-01T17:43:35.895Z"
   },
   {
    "duration": 610,
    "start_time": "2021-07-01T17:43:35.901Z"
   },
   {
    "duration": 3,
    "start_time": "2021-07-01T17:43:36.513Z"
   },
   {
    "duration": 8,
    "start_time": "2021-07-01T17:43:36.518Z"
   },
   {
    "duration": 6,
    "start_time": "2021-07-01T17:43:36.528Z"
   },
   {
    "duration": 6,
    "start_time": "2021-07-01T17:43:36.536Z"
   },
   {
    "duration": 570,
    "start_time": "2021-07-01T17:43:36.543Z"
   },
   {
    "duration": 374,
    "start_time": "2021-07-01T17:43:37.115Z"
   },
   {
    "duration": 9,
    "start_time": "2021-07-01T17:43:37.491Z"
   },
   {
    "duration": 363,
    "start_time": "2021-07-01T17:43:37.502Z"
   },
   {
    "duration": 18,
    "start_time": "2021-07-01T17:43:37.867Z"
   },
   {
    "duration": 357,
    "start_time": "2021-07-01T17:43:37.887Z"
   },
   {
    "duration": 5,
    "start_time": "2021-07-01T17:43:38.246Z"
   },
   {
    "duration": 2990,
    "start_time": "2021-07-01T17:43:38.257Z"
   },
   {
    "duration": 44,
    "start_time": "2021-07-01T17:43:41.249Z"
   },
   {
    "duration": 7,
    "start_time": "2021-07-01T17:43:41.295Z"
   },
   {
    "duration": 4,
    "start_time": "2021-07-01T17:43:41.304Z"
   },
   {
    "duration": 10,
    "start_time": "2021-07-01T17:43:41.310Z"
   },
   {
    "duration": 10,
    "start_time": "2021-07-01T17:43:41.322Z"
   },
   {
    "duration": 5,
    "start_time": "2021-07-01T17:43:41.333Z"
   },
   {
    "duration": 46,
    "start_time": "2021-07-01T17:43:41.340Z"
   },
   {
    "duration": 16,
    "start_time": "2021-07-01T17:43:41.388Z"
   },
   {
    "duration": 15,
    "start_time": "2021-07-01T17:43:41.406Z"
   },
   {
    "duration": 57,
    "start_time": "2021-07-01T17:43:41.423Z"
   },
   {
    "duration": -788,
    "start_time": "2021-07-01T17:43:42.269Z"
   },
   {
    "duration": -809,
    "start_time": "2021-07-01T17:43:42.291Z"
   },
   {
    "duration": -838,
    "start_time": "2021-07-01T17:43:42.321Z"
   },
   {
    "duration": -844,
    "start_time": "2021-07-01T17:43:42.328Z"
   },
   {
    "duration": -846,
    "start_time": "2021-07-01T17:43:42.331Z"
   },
   {
    "duration": -849,
    "start_time": "2021-07-01T17:43:42.335Z"
   },
   {
    "duration": -851,
    "start_time": "2021-07-01T17:43:42.338Z"
   },
   {
    "duration": -853,
    "start_time": "2021-07-01T17:43:42.341Z"
   },
   {
    "duration": -866,
    "start_time": "2021-07-01T17:43:42.356Z"
   },
   {
    "duration": -870,
    "start_time": "2021-07-01T17:43:42.361Z"
   },
   {
    "duration": -874,
    "start_time": "2021-07-01T17:43:42.366Z"
   },
   {
    "duration": -880,
    "start_time": "2021-07-01T17:43:42.373Z"
   },
   {
    "duration": 16,
    "start_time": "2021-07-01T17:57:47.672Z"
   },
   {
    "duration": 3,
    "start_time": "2021-07-01T17:57:51.136Z"
   },
   {
    "duration": 7,
    "start_time": "2021-07-01T17:57:51.360Z"
   },
   {
    "duration": 4,
    "start_time": "2021-07-01T17:57:51.570Z"
   },
   {
    "duration": 6,
    "start_time": "2021-07-01T17:57:51.758Z"
   },
   {
    "duration": 4,
    "start_time": "2021-07-01T17:57:52.326Z"
   },
   {
    "duration": 5,
    "start_time": "2021-07-01T17:57:52.687Z"
   },
   {
    "duration": 2,
    "start_time": "2021-07-01T17:58:00.537Z"
   },
   {
    "duration": 7,
    "start_time": "2021-07-01T17:58:00.723Z"
   },
   {
    "duration": 4,
    "start_time": "2021-07-01T17:58:00.904Z"
   },
   {
    "duration": 6,
    "start_time": "2021-07-01T17:58:01.070Z"
   },
   {
    "duration": 5,
    "start_time": "2021-07-01T17:58:01.242Z"
   },
   {
    "duration": 5,
    "start_time": "2021-07-01T17:58:01.464Z"
   },
   {
    "duration": 579,
    "start_time": "2021-07-01T18:04:21.956Z"
   },
   {
    "duration": 3,
    "start_time": "2021-07-01T18:04:22.536Z"
   },
   {
    "duration": 88,
    "start_time": "2021-07-01T18:04:22.541Z"
   },
   {
    "duration": 493,
    "start_time": "2021-07-01T18:04:22.631Z"
   },
   {
    "duration": 3,
    "start_time": "2021-07-01T18:04:23.125Z"
   },
   {
    "duration": 190,
    "start_time": "2021-07-01T18:04:23.130Z"
   },
   {
    "duration": 18,
    "start_time": "2021-07-01T18:04:23.322Z"
   },
   {
    "duration": 31,
    "start_time": "2021-07-01T18:04:23.342Z"
   },
   {
    "duration": 17,
    "start_time": "2021-07-01T18:04:23.384Z"
   },
   {
    "duration": 4,
    "start_time": "2021-07-01T18:04:23.403Z"
   },
   {
    "duration": 6,
    "start_time": "2021-07-01T18:04:23.408Z"
   },
   {
    "duration": 12,
    "start_time": "2021-07-01T18:04:23.416Z"
   },
   {
    "duration": 9,
    "start_time": "2021-07-01T18:04:23.430Z"
   },
   {
    "duration": 6,
    "start_time": "2021-07-01T18:04:23.440Z"
   },
   {
    "duration": 41,
    "start_time": "2021-07-01T18:04:23.448Z"
   },
   {
    "duration": 10,
    "start_time": "2021-07-01T18:04:23.490Z"
   },
   {
    "duration": 15,
    "start_time": "2021-07-01T18:04:23.502Z"
   },
   {
    "duration": 10,
    "start_time": "2021-07-01T18:04:23.519Z"
   },
   {
    "duration": 6,
    "start_time": "2021-07-01T18:04:23.530Z"
   },
   {
    "duration": 6,
    "start_time": "2021-07-01T18:04:23.537Z"
   },
   {
    "duration": 39,
    "start_time": "2021-07-01T18:04:23.545Z"
   },
   {
    "duration": 10,
    "start_time": "2021-07-01T18:04:23.586Z"
   },
   {
    "duration": 7,
    "start_time": "2021-07-01T18:04:23.598Z"
   },
   {
    "duration": 7,
    "start_time": "2021-07-01T18:04:23.606Z"
   },
   {
    "duration": 8,
    "start_time": "2021-07-01T18:04:23.615Z"
   },
   {
    "duration": 4,
    "start_time": "2021-07-01T18:04:23.625Z"
   },
   {
    "duration": 4,
    "start_time": "2021-07-01T18:04:23.633Z"
   },
   {
    "duration": 7,
    "start_time": "2021-07-01T18:04:23.640Z"
   },
   {
    "duration": 37,
    "start_time": "2021-07-01T18:04:23.648Z"
   },
   {
    "duration": 8,
    "start_time": "2021-07-01T18:04:23.686Z"
   },
   {
    "duration": 6,
    "start_time": "2021-07-01T18:04:23.695Z"
   },
   {
    "duration": 8,
    "start_time": "2021-07-01T18:04:23.703Z"
   },
   {
    "duration": 7,
    "start_time": "2021-07-01T18:04:23.712Z"
   },
   {
    "duration": 15,
    "start_time": "2021-07-01T18:04:23.721Z"
   },
   {
    "duration": 15,
    "start_time": "2021-07-01T18:04:23.738Z"
   },
   {
    "duration": 30,
    "start_time": "2021-07-01T18:04:23.755Z"
   },
   {
    "duration": 7,
    "start_time": "2021-07-01T18:04:23.787Z"
   },
   {
    "duration": 288,
    "start_time": "2021-07-01T18:04:23.796Z"
   },
   {
    "duration": 7,
    "start_time": "2021-07-01T18:04:24.086Z"
   },
   {
    "duration": 8,
    "start_time": "2021-07-01T18:04:24.095Z"
   },
   {
    "duration": 4,
    "start_time": "2021-07-01T18:04:24.105Z"
   },
   {
    "duration": 11,
    "start_time": "2021-07-01T18:04:24.111Z"
   },
   {
    "duration": 3,
    "start_time": "2021-07-01T18:04:24.124Z"
   },
   {
    "duration": 10,
    "start_time": "2021-07-01T18:04:24.128Z"
   },
   {
    "duration": 8,
    "start_time": "2021-07-01T18:04:24.139Z"
   },
   {
    "duration": 37,
    "start_time": "2021-07-01T18:04:24.149Z"
   },
   {
    "duration": 4,
    "start_time": "2021-07-01T18:04:24.188Z"
   },
   {
    "duration": 10,
    "start_time": "2021-07-01T18:04:24.194Z"
   },
   {
    "duration": 12,
    "start_time": "2021-07-01T18:04:24.205Z"
   },
   {
    "duration": 16,
    "start_time": "2021-07-01T18:04:24.218Z"
   },
   {
    "duration": 18,
    "start_time": "2021-07-01T18:04:24.236Z"
   },
   {
    "duration": 3,
    "start_time": "2021-07-01T18:04:24.256Z"
   },
   {
    "duration": 3,
    "start_time": "2021-07-01T18:04:24.285Z"
   },
   {
    "duration": 795,
    "start_time": "2021-07-01T18:04:24.290Z"
   },
   {
    "duration": 3,
    "start_time": "2021-07-01T18:04:25.087Z"
   },
   {
    "duration": 606,
    "start_time": "2021-07-01T18:04:25.092Z"
   },
   {
    "duration": 2,
    "start_time": "2021-07-01T18:04:25.700Z"
   },
   {
    "duration": 6,
    "start_time": "2021-07-01T18:04:25.704Z"
   },
   {
    "duration": 8,
    "start_time": "2021-07-01T18:04:25.711Z"
   },
   {
    "duration": 8,
    "start_time": "2021-07-01T18:04:25.721Z"
   },
   {
    "duration": 554,
    "start_time": "2021-07-01T18:04:25.730Z"
   },
   {
    "duration": 353,
    "start_time": "2021-07-01T18:04:26.286Z"
   },
   {
    "duration": 7,
    "start_time": "2021-07-01T18:04:26.641Z"
   },
   {
    "duration": 367,
    "start_time": "2021-07-01T18:04:26.650Z"
   },
   {
    "duration": 7,
    "start_time": "2021-07-01T18:04:27.019Z"
   },
   {
    "duration": 366,
    "start_time": "2021-07-01T18:04:27.028Z"
   },
   {
    "duration": 5,
    "start_time": "2021-07-01T18:04:27.396Z"
   },
   {
    "duration": 2916,
    "start_time": "2021-07-01T18:04:27.403Z"
   },
   {
    "duration": 27,
    "start_time": "2021-07-01T18:04:30.321Z"
   },
   {
    "duration": 7,
    "start_time": "2021-07-01T18:04:30.350Z"
   },
   {
    "duration": 26,
    "start_time": "2021-07-01T18:04:30.359Z"
   },
   {
    "duration": 17,
    "start_time": "2021-07-01T18:04:30.387Z"
   },
   {
    "duration": 25,
    "start_time": "2021-07-01T18:04:30.406Z"
   },
   {
    "duration": 9,
    "start_time": "2021-07-01T18:04:30.433Z"
   },
   {
    "duration": 20,
    "start_time": "2021-07-01T18:04:30.443Z"
   },
   {
    "duration": 20,
    "start_time": "2021-07-01T18:04:30.465Z"
   },
   {
    "duration": 16,
    "start_time": "2021-07-01T18:04:30.487Z"
   },
   {
    "duration": 5,
    "start_time": "2021-07-01T18:04:30.504Z"
   },
   {
    "duration": 23,
    "start_time": "2021-07-01T18:04:30.510Z"
   },
   {
    "duration": 5,
    "start_time": "2021-07-01T18:04:30.535Z"
   },
   {
    "duration": 6,
    "start_time": "2021-07-01T18:04:30.546Z"
   },
   {
    "duration": 9,
    "start_time": "2021-07-01T18:04:30.554Z"
   },
   {
    "duration": 19,
    "start_time": "2021-07-01T18:04:30.565Z"
   },
   {
    "duration": 8,
    "start_time": "2021-07-01T18:04:30.586Z"
   },
   {
    "duration": 9,
    "start_time": "2021-07-01T18:04:30.596Z"
   },
   {
    "duration": 13,
    "start_time": "2021-07-01T18:04:30.607Z"
   },
   {
    "duration": 20,
    "start_time": "2021-07-01T18:04:30.622Z"
   },
   {
    "duration": 15,
    "start_time": "2021-07-01T18:04:30.644Z"
   },
   {
    "duration": 7,
    "start_time": "2021-07-01T18:04:30.661Z"
   },
   {
    "duration": 817,
    "start_time": "2021-07-02T06:39:33.608Z"
   },
   {
    "duration": 4,
    "start_time": "2021-07-02T06:39:34.428Z"
   },
   {
    "duration": 212,
    "start_time": "2021-07-02T06:39:34.436Z"
   },
   {
    "duration": 955,
    "start_time": "2021-07-02T06:39:34.652Z"
   },
   {
    "duration": 5,
    "start_time": "2021-07-02T06:39:35.610Z"
   },
   {
    "duration": 254,
    "start_time": "2021-07-02T06:39:35.618Z"
   },
   {
    "duration": 23,
    "start_time": "2021-07-02T06:39:35.874Z"
   },
   {
    "duration": 49,
    "start_time": "2021-07-02T06:39:35.902Z"
   },
   {
    "duration": 25,
    "start_time": "2021-07-02T06:39:35.954Z"
   },
   {
    "duration": 4,
    "start_time": "2021-07-02T06:39:35.981Z"
   },
   {
    "duration": 10,
    "start_time": "2021-07-02T06:39:35.987Z"
   },
   {
    "duration": 20,
    "start_time": "2021-07-02T06:39:36.025Z"
   },
   {
    "duration": 12,
    "start_time": "2021-07-02T06:39:36.047Z"
   },
   {
    "duration": 7,
    "start_time": "2021-07-02T06:39:36.062Z"
   },
   {
    "duration": 17,
    "start_time": "2021-07-02T06:39:36.072Z"
   },
   {
    "duration": 15,
    "start_time": "2021-07-02T06:39:36.124Z"
   },
   {
    "duration": 22,
    "start_time": "2021-07-02T06:39:36.142Z"
   },
   {
    "duration": 12,
    "start_time": "2021-07-02T06:39:36.166Z"
   },
   {
    "duration": 49,
    "start_time": "2021-07-02T06:39:36.180Z"
   },
   {
    "duration": 10,
    "start_time": "2021-07-02T06:39:36.231Z"
   },
   {
    "duration": 7,
    "start_time": "2021-07-02T06:39:36.244Z"
   },
   {
    "duration": 11,
    "start_time": "2021-07-02T06:39:36.253Z"
   },
   {
    "duration": 58,
    "start_time": "2021-07-02T06:39:36.272Z"
   },
   {
    "duration": 16,
    "start_time": "2021-07-02T06:39:36.334Z"
   },
   {
    "duration": 13,
    "start_time": "2021-07-02T06:39:36.353Z"
   },
   {
    "duration": 13,
    "start_time": "2021-07-02T06:39:36.369Z"
   },
   {
    "duration": 14,
    "start_time": "2021-07-02T06:39:36.385Z"
   },
   {
    "duration": 28,
    "start_time": "2021-07-02T06:39:36.401Z"
   },
   {
    "duration": 6,
    "start_time": "2021-07-02T06:39:36.431Z"
   },
   {
    "duration": 16,
    "start_time": "2021-07-02T06:39:36.439Z"
   },
   {
    "duration": 13,
    "start_time": "2021-07-02T06:39:36.457Z"
   },
   {
    "duration": 15,
    "start_time": "2021-07-02T06:39:36.472Z"
   },
   {
    "duration": 42,
    "start_time": "2021-07-02T06:39:36.489Z"
   },
   {
    "duration": 27,
    "start_time": "2021-07-02T06:39:36.533Z"
   },
   {
    "duration": 29,
    "start_time": "2021-07-02T06:39:36.562Z"
   },
   {
    "duration": 4,
    "start_time": "2021-07-02T06:39:36.593Z"
   },
   {
    "duration": 38,
    "start_time": "2021-07-02T06:39:36.599Z"
   },
   {
    "duration": 474,
    "start_time": "2021-07-02T06:39:36.640Z"
   },
   {
    "duration": 12,
    "start_time": "2021-07-02T06:39:37.124Z"
   },
   {
    "duration": 10,
    "start_time": "2021-07-02T06:39:37.138Z"
   },
   {
    "duration": 6,
    "start_time": "2021-07-02T06:39:37.150Z"
   },
   {
    "duration": 16,
    "start_time": "2021-07-02T06:39:37.159Z"
   },
   {
    "duration": 4,
    "start_time": "2021-07-02T06:39:37.177Z"
   },
   {
    "duration": 60,
    "start_time": "2021-07-02T06:39:37.185Z"
   },
   {
    "duration": 6,
    "start_time": "2021-07-02T06:39:37.248Z"
   },
   {
    "duration": 11,
    "start_time": "2021-07-02T06:39:37.257Z"
   },
   {
    "duration": 10,
    "start_time": "2021-07-02T06:39:37.271Z"
   },
   {
    "duration": 47,
    "start_time": "2021-07-02T06:39:37.284Z"
   },
   {
    "duration": 18,
    "start_time": "2021-07-02T06:39:37.333Z"
   },
   {
    "duration": 26,
    "start_time": "2021-07-02T06:39:37.354Z"
   },
   {
    "duration": 67,
    "start_time": "2021-07-02T06:39:37.383Z"
   },
   {
    "duration": 7,
    "start_time": "2021-07-02T06:39:37.453Z"
   },
   {
    "duration": 10,
    "start_time": "2021-07-02T06:39:37.463Z"
   },
   {
    "duration": 1681,
    "start_time": "2021-07-02T06:39:37.476Z"
   },
   {
    "duration": 5,
    "start_time": "2021-07-02T06:39:39.160Z"
   },
   {
    "duration": 1534,
    "start_time": "2021-07-02T06:39:39.169Z"
   },
   {
    "duration": 4,
    "start_time": "2021-07-02T06:39:40.705Z"
   },
   {
    "duration": 14,
    "start_time": "2021-07-02T06:39:40.712Z"
   },
   {
    "duration": 11,
    "start_time": "2021-07-02T06:39:40.729Z"
   },
   {
    "duration": 14,
    "start_time": "2021-07-02T06:39:40.742Z"
   },
   {
    "duration": 887,
    "start_time": "2021-07-02T06:39:40.759Z"
   },
   {
    "duration": 569,
    "start_time": "2021-07-02T06:39:41.648Z"
   },
   {
    "duration": 11,
    "start_time": "2021-07-02T06:39:42.223Z"
   },
   {
    "duration": 589,
    "start_time": "2021-07-02T06:39:42.237Z"
   },
   {
    "duration": 11,
    "start_time": "2021-07-02T06:39:42.828Z"
   },
   {
    "duration": 600,
    "start_time": "2021-07-02T06:39:42.841Z"
   },
   {
    "duration": 7,
    "start_time": "2021-07-02T06:39:43.443Z"
   },
   {
    "duration": 4165,
    "start_time": "2021-07-02T06:39:43.458Z"
   },
   {
    "duration": 45,
    "start_time": "2021-07-02T06:39:47.626Z"
   },
   {
    "duration": 11,
    "start_time": "2021-07-02T06:39:47.673Z"
   },
   {
    "duration": 11,
    "start_time": "2021-07-02T06:39:47.687Z"
   },
   {
    "duration": 35,
    "start_time": "2021-07-02T06:39:47.700Z"
   },
   {
    "duration": 15,
    "start_time": "2021-07-02T06:39:47.737Z"
   },
   {
    "duration": 7,
    "start_time": "2021-07-02T06:39:47.754Z"
   },
   {
    "duration": 63,
    "start_time": "2021-07-02T06:39:47.763Z"
   },
   {
    "duration": 25,
    "start_time": "2021-07-02T06:39:47.828Z"
   },
   {
    "duration": 22,
    "start_time": "2021-07-02T06:39:47.856Z"
   },
   {
    "duration": 3,
    "start_time": "2021-07-02T06:39:47.881Z"
   },
   {
    "duration": 46,
    "start_time": "2021-07-02T06:39:47.887Z"
   },
   {
    "duration": 15,
    "start_time": "2021-07-02T06:39:47.936Z"
   },
   {
    "duration": 28,
    "start_time": "2021-07-02T06:39:47.953Z"
   },
   {
    "duration": 42,
    "start_time": "2021-07-02T06:39:47.983Z"
   },
   {
    "duration": 12,
    "start_time": "2021-07-02T06:39:48.027Z"
   },
   {
    "duration": 13,
    "start_time": "2021-07-02T06:39:48.042Z"
   },
   {
    "duration": 14,
    "start_time": "2021-07-02T06:39:48.058Z"
   },
   {
    "duration": 10,
    "start_time": "2021-07-02T06:39:48.075Z"
   },
   {
    "duration": 10,
    "start_time": "2021-07-02T06:39:48.088Z"
   },
   {
    "duration": 24,
    "start_time": "2021-07-02T06:39:48.101Z"
   },
   {
    "duration": 12,
    "start_time": "2021-07-02T06:39:48.128Z"
   },
   {
    "duration": 858,
    "start_time": "2021-07-06T17:52:29.684Z"
   },
   {
    "duration": 4,
    "start_time": "2021-07-06T17:52:30.545Z"
   },
   {
    "duration": 132,
    "start_time": "2021-07-06T17:52:30.552Z"
   },
   {
    "duration": 616,
    "start_time": "2021-07-06T17:52:30.686Z"
   },
   {
    "duration": 4,
    "start_time": "2021-07-06T17:52:31.305Z"
   },
   {
    "duration": 500,
    "start_time": "2021-07-06T17:52:31.311Z"
   },
   {
    "duration": 30,
    "start_time": "2021-07-06T17:52:31.814Z"
   },
   {
    "duration": 69,
    "start_time": "2021-07-06T17:52:31.848Z"
   },
   {
    "duration": 26,
    "start_time": "2021-07-06T17:52:31.920Z"
   },
   {
    "duration": 4,
    "start_time": "2021-07-06T17:52:31.949Z"
   },
   {
    "duration": 15,
    "start_time": "2021-07-06T17:52:31.955Z"
   },
   {
    "duration": 44,
    "start_time": "2021-07-06T17:52:31.972Z"
   },
   {
    "duration": 26,
    "start_time": "2021-07-06T17:52:32.018Z"
   },
   {
    "duration": 9,
    "start_time": "2021-07-06T17:52:32.047Z"
   },
   {
    "duration": 11,
    "start_time": "2021-07-06T17:52:32.058Z"
   },
   {
    "duration": 13,
    "start_time": "2021-07-06T17:52:32.072Z"
   },
   {
    "duration": 44,
    "start_time": "2021-07-06T17:52:32.087Z"
   },
   {
    "duration": 13,
    "start_time": "2021-07-06T17:52:32.134Z"
   },
   {
    "duration": 9,
    "start_time": "2021-07-06T17:52:32.150Z"
   },
   {
    "duration": 48,
    "start_time": "2021-07-06T17:52:32.161Z"
   },
   {
    "duration": 9,
    "start_time": "2021-07-06T17:52:32.212Z"
   },
   {
    "duration": 13,
    "start_time": "2021-07-06T17:52:32.224Z"
   },
   {
    "duration": 10,
    "start_time": "2021-07-06T17:52:32.243Z"
   },
   {
    "duration": 18,
    "start_time": "2021-07-06T17:52:32.257Z"
   },
   {
    "duration": 40,
    "start_time": "2021-07-06T17:52:32.277Z"
   },
   {
    "duration": 24,
    "start_time": "2021-07-06T17:52:32.319Z"
   },
   {
    "duration": 11,
    "start_time": "2021-07-06T17:52:32.346Z"
   },
   {
    "duration": 12,
    "start_time": "2021-07-06T17:52:32.360Z"
   },
   {
    "duration": 34,
    "start_time": "2021-07-06T17:52:32.374Z"
   },
   {
    "duration": 33,
    "start_time": "2021-07-06T17:52:32.411Z"
   },
   {
    "duration": 26,
    "start_time": "2021-07-06T17:52:32.446Z"
   },
   {
    "duration": 14,
    "start_time": "2021-07-06T17:52:32.476Z"
   },
   {
    "duration": 35,
    "start_time": "2021-07-06T17:52:32.493Z"
   },
   {
    "duration": 23,
    "start_time": "2021-07-06T17:52:32.530Z"
   },
   {
    "duration": 28,
    "start_time": "2021-07-06T17:52:32.556Z"
   },
   {
    "duration": 4,
    "start_time": "2021-07-06T17:52:32.587Z"
   },
   {
    "duration": 25,
    "start_time": "2021-07-06T17:52:32.593Z"
   },
   {
    "duration": 451,
    "start_time": "2021-07-06T17:52:32.621Z"
   },
   {
    "duration": 11,
    "start_time": "2021-07-06T17:52:33.075Z"
   },
   {
    "duration": 8,
    "start_time": "2021-07-06T17:52:33.109Z"
   },
   {
    "duration": 9,
    "start_time": "2021-07-06T17:52:33.119Z"
   },
   {
    "duration": 16,
    "start_time": "2021-07-06T17:52:33.130Z"
   },
   {
    "duration": 4,
    "start_time": "2021-07-06T17:52:33.149Z"
   },
   {
    "duration": 17,
    "start_time": "2021-07-06T17:52:33.156Z"
   },
   {
    "duration": 6,
    "start_time": "2021-07-06T17:52:33.208Z"
   },
   {
    "duration": 9,
    "start_time": "2021-07-06T17:52:33.216Z"
   },
   {
    "duration": 11,
    "start_time": "2021-07-06T17:52:33.227Z"
   },
   {
    "duration": 17,
    "start_time": "2021-07-06T17:52:33.240Z"
   },
   {
    "duration": 11,
    "start_time": "2021-07-06T17:52:33.259Z"
   },
   {
    "duration": 56,
    "start_time": "2021-07-06T17:52:33.272Z"
   },
   {
    "duration": 29,
    "start_time": "2021-07-06T17:52:33.331Z"
   },
   {
    "duration": 7,
    "start_time": "2021-07-06T17:52:33.362Z"
   },
   {
    "duration": 41,
    "start_time": "2021-07-06T17:52:33.372Z"
   },
   {
    "duration": 1377,
    "start_time": "2021-07-06T17:52:33.416Z"
   },
   {
    "duration": 14,
    "start_time": "2021-07-06T17:52:34.795Z"
   },
   {
    "duration": 980,
    "start_time": "2021-07-06T17:52:34.811Z"
   },
   {
    "duration": 3,
    "start_time": "2021-07-06T17:52:35.793Z"
   },
   {
    "duration": 13,
    "start_time": "2021-07-06T17:52:35.798Z"
   },
   {
    "duration": 9,
    "start_time": "2021-07-06T17:52:35.814Z"
   },
   {
    "duration": 20,
    "start_time": "2021-07-06T17:52:35.825Z"
   },
   {
    "duration": 902,
    "start_time": "2021-07-06T17:52:35.848Z"
   },
   {
    "duration": 610,
    "start_time": "2021-07-06T17:52:36.752Z"
   },
   {
    "duration": 9,
    "start_time": "2021-07-06T17:52:37.365Z"
   },
   {
    "duration": 611,
    "start_time": "2021-07-06T17:52:37.377Z"
   },
   {
    "duration": 20,
    "start_time": "2021-07-06T17:52:37.991Z"
   },
   {
    "duration": 598,
    "start_time": "2021-07-06T17:52:38.014Z"
   },
   {
    "duration": 8,
    "start_time": "2021-07-06T17:52:38.614Z"
   },
   {
    "duration": 4796,
    "start_time": "2021-07-06T17:52:38.630Z"
   },
   {
    "duration": 43,
    "start_time": "2021-07-06T17:52:43.429Z"
   },
   {
    "duration": 38,
    "start_time": "2021-07-06T17:52:43.474Z"
   },
   {
    "duration": 4,
    "start_time": "2021-07-06T17:52:43.514Z"
   },
   {
    "duration": 13,
    "start_time": "2021-07-06T17:52:43.521Z"
   },
   {
    "duration": 13,
    "start_time": "2021-07-06T17:52:43.537Z"
   },
   {
    "duration": 7,
    "start_time": "2021-07-06T17:52:43.552Z"
   },
   {
    "duration": 66,
    "start_time": "2021-07-06T17:52:43.561Z"
   },
   {
    "duration": 26,
    "start_time": "2021-07-06T17:52:43.629Z"
   },
   {
    "duration": 55,
    "start_time": "2021-07-06T17:52:43.658Z"
   },
   {
    "duration": 3,
    "start_time": "2021-07-06T17:52:43.715Z"
   },
   {
    "duration": 15,
    "start_time": "2021-07-06T17:52:43.720Z"
   },
   {
    "duration": 7,
    "start_time": "2021-07-06T17:52:43.738Z"
   },
   {
    "duration": 9,
    "start_time": "2021-07-06T17:52:43.747Z"
   },
   {
    "duration": 10,
    "start_time": "2021-07-06T17:52:43.758Z"
   },
   {
    "duration": 41,
    "start_time": "2021-07-06T17:52:43.770Z"
   },
   {
    "duration": 13,
    "start_time": "2021-07-06T17:52:43.813Z"
   },
   {
    "duration": 16,
    "start_time": "2021-07-06T17:52:43.828Z"
   },
   {
    "duration": 9,
    "start_time": "2021-07-06T17:52:43.847Z"
   },
   {
    "duration": 16,
    "start_time": "2021-07-06T17:52:43.858Z"
   },
   {
    "duration": 5,
    "start_time": "2021-07-06T17:52:43.877Z"
   },
   {
    "duration": 27,
    "start_time": "2021-07-06T17:52:43.884Z"
   },
   {
    "duration": 3,
    "start_time": "2021-07-06T17:53:54.848Z"
   }
  ],
  "kernelspec": {
   "display_name": "Python 3 (ipykernel)",
   "language": "python",
   "name": "python3"
  },
  "language_info": {
   "codemirror_mode": {
    "name": "ipython",
    "version": 3
   },
   "file_extension": ".py",
   "mimetype": "text/x-python",
   "name": "python",
   "nbconvert_exporter": "python",
   "pygments_lexer": "ipython3",
   "version": "3.9.7"
  },
  "toc": {
   "base_numbering": 1,
   "nav_menu": {},
   "number_sections": true,
   "sideBar": true,
   "skip_h1_title": true,
   "title_cell": "Table of Contents",
   "title_sidebar": "Contents",
   "toc_cell": false,
   "toc_position": {},
   "toc_section_display": true,
   "toc_window_display": false
  }
 },
 "nbformat": 4,
 "nbformat_minor": 2
}
