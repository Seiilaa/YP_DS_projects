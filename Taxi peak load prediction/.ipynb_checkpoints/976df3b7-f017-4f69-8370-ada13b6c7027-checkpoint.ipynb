{
 "cells": [
  {
   "cell_type": "markdown",
   "metadata": {},
   "source": [
    "Привет, меня зовут Артем Хуршудов. Сегодня я проверю твой проект.\n",
    "<br> Дальнейшее общение будет происходить на \"ты\" если это не вызывает никаких проблем.\n",
    "<br> Желательно реагировать на каждый мой комментарий ('исправил', 'не понятно как исправить ошибку', ...)\n",
    "<br> Пожалуйста, не удаляй комментарии ревьюера, так как они повышают качество повторного ревью.\n",
    "\n",
    "Комментарии будут в <font color='green'>зеленой</font>, <font color='blue'>синей</font> или <font color='red'>красной</font> рамках:\n",
    "\n",
    "<div class=\"alert alert-block alert-success\">\n",
    "<b>Успех:</b> Если все сделано отлично\n",
    "</div>\n",
    "\n",
    "<div class=\"alert alert-block alert-info\">\n",
    "<b>Совет: </b> Если можно немного улучшить\n",
    "</div>\n",
    "\n",
    "<div class=\"alert alert-block alert-danger\">\n",
    "<b>Ошибка:</b> Если требуются исправления. Работа не может быть принята с красными комментариями.\n",
    "</div>\n",
    "\n",
    "-------------------\n",
    "\n",
    "Будет очень хорошо, если ты будешь помечать свои действия следующим образом:\n",
    "<div class=\"alert alert-block alert-warning\">\n",
    "<b>Комментарий студента:</b> ...\n",
    "</div>\n",
    "\n",
    "<div class=\"alert alert-block alert-warning\">\n",
    "<b>Изменения:</b> Были внесены следующие изменения ...\n",
    "</div>\n",
    "\n",
    "#### <font color='orange'>Полезные ссылки:</font>\n",
    "* Полезная лекция про временные ряды: https://www.youtube.com/watch?v=u433nrxdf5k .\n",
    "\n",
    "### <font color='orange'>Общее впечатление</font>\n",
    "* Большое спасибо за проделанную работу. Видно, что приложено много усилий.\n",
    "* Отлично, что ноутбук хорошо структурирован. Приятно проверять такие работы.\n",
    "* Над этим проектом нужно будет еще немного поработать. Однако, изменения не должны занять много времени.\n",
    "* В работе я оставил несколько советов. Буду рад, если ты учтешь их.\n",
    "* С радостью отвечу на твои вопросы, если они есть. Лучше всего их собрать в следующей ячейке. Жду новую версию проекта."
   ]
  },
  {
   "cell_type": "markdown",
   "metadata": {},
   "source": [
    "<div class=\"alert alert-block alert-warning\">\n",
    "<b>Комментарий студента:</b> \n",
    "    \n",
    "    - Есть вопрос, есть ли какие-то модели, которые лучше справляются именно с этой задачей? Видел, что в чате одногруппники упоминали библиотеку facebook prophet, есть ли какие-то еще решения, показывающие лучшие результаты именно для задачи предсказания временных рядов?\n",
    "    \n",
    "    - Есть ли еще способы влиять на точность модели помимо добавления rolling mean и данных c задержкой (lag)? В этом проекте будто не хватало способов предобработки и создания фичей, чтобы выжать больше точности. Какие вообще еще методы можешь посоветовать, и ты бы применил в этом задании?\n",
    "</div>"
   ]
  },
  {
   "cell_type": "markdown",
   "metadata": {},
   "source": [
    "### <font color='orange'>Общее впечатление (ревью 2)</font>\n",
    "* После исправлений проект улучшился и теперь он может быть зачтен.\n",
    "* Для удобства все новые комментарии обозначены фразой \"ревью 2\".\n",
    "* Можно попробовать ARIMA-like модели (есть в лекции). В целом, лучше всего справляются рекуррентные нейронные сети, но тут данных очень мало, так что не факт, что они помогут.\n",
    "* Данные достаточно простые, так что сходу не смогу придумать признаки, которые улучшат качество, но ты можем поэкспериментировать, добавляя любые признаки. Например, квантили за последние N часов, произведение последних N часов, ...\n",
    "* Удачи в дальнейшем обучении и следующих работах!"
   ]
  },
  {
   "cell_type": "markdown",
   "metadata": {
    "toc": true
   },
   "source": [
    "<h1>Содержание<span class=\"tocSkip\"></span></h1>\n",
    "<div class=\"toc\"><ul class=\"toc-item\"><li><ul class=\"toc-item\"><li><ul class=\"toc-item\"><li><span><a href=\"#Полезные-ссылки:\" data-toc-modified-id=\"Полезные-ссылки:-0.0.1\"><span class=\"toc-item-num\">0.0.1&nbsp;&nbsp;</span><font color=\"orange\">Полезные ссылки:</font></a></span></li></ul></li><li><span><a href=\"#Общее-впечатление\" data-toc-modified-id=\"Общее-впечатление-0.1\"><span class=\"toc-item-num\">0.1&nbsp;&nbsp;</span><font color=\"orange\">Общее впечатление</font></a></span></li><li><span><a href=\"#Общее-впечатление-(ревью-2)\" data-toc-modified-id=\"Общее-впечатление-(ревью-2)-0.2\"><span class=\"toc-item-num\">0.2&nbsp;&nbsp;</span><font color=\"orange\">Общее впечатление (ревью 2)</font></a></span></li></ul></li><li><span><a href=\"#Подготовка\" data-toc-modified-id=\"Подготовка-1\"><span class=\"toc-item-num\">1&nbsp;&nbsp;</span>Подготовка</a></span></li><li><span><a href=\"#Анализ\" data-toc-modified-id=\"Анализ-2\"><span class=\"toc-item-num\">2&nbsp;&nbsp;</span>Анализ</a></span><ul class=\"toc-item\"><li><span><a href=\"#Скользящее-среднее\" data-toc-modified-id=\"Скользящее-среднее-2.1\"><span class=\"toc-item-num\">2.1&nbsp;&nbsp;</span>Скользящее среднее</a></span></li><li><span><a href=\"#Тренды-и-сезонность\" data-toc-modified-id=\"Тренды-и-сезонность-2.2\"><span class=\"toc-item-num\">2.2&nbsp;&nbsp;</span>Тренды и сезонность</a></span></li></ul></li><li><span><a href=\"#Обучение\" data-toc-modified-id=\"Обучение-3\"><span class=\"toc-item-num\">3&nbsp;&nbsp;</span>Обучение</a></span><ul class=\"toc-item\"><li><span><a href=\"#Рассчет-RMSE-константной-модели\" data-toc-modified-id=\"Рассчет-RMSE-константной-модели-3.1\"><span class=\"toc-item-num\">3.1&nbsp;&nbsp;</span>Рассчет RMSE константной модели</a></span></li><li><span><a href=\"#Подготовка-фичей\" data-toc-modified-id=\"Подготовка-фичей-3.2\"><span class=\"toc-item-num\">3.2&nbsp;&nbsp;</span>Подготовка фичей</a></span></li><li><span><a href=\"#Линейная-регрессия\" data-toc-modified-id=\"Линейная-регрессия-3.3\"><span class=\"toc-item-num\">3.3&nbsp;&nbsp;</span>Линейная регрессия</a></span></li><li><span><a href=\"#DecisionTreeRegressor\" data-toc-modified-id=\"DecisionTreeRegressor-3.4\"><span class=\"toc-item-num\">3.4&nbsp;&nbsp;</span>DecisionTreeRegressor</a></span></li><li><span><a href=\"#Random-Forest-Regressor\" data-toc-modified-id=\"Random-Forest-Regressor-3.5\"><span class=\"toc-item-num\">3.5&nbsp;&nbsp;</span>Random Forest Regressor</a></span></li><li><span><a href=\"#LGBMRegressor\" data-toc-modified-id=\"LGBMRegressor-3.6\"><span class=\"toc-item-num\">3.6&nbsp;&nbsp;</span>LGBMRegressor</a></span></li></ul></li><li><span><a href=\"#Тестирование\" data-toc-modified-id=\"Тестирование-4\"><span class=\"toc-item-num\">4&nbsp;&nbsp;</span>Тестирование</a></span><ul class=\"toc-item\"><li><span><a href=\"#Линейная-регрессия\" data-toc-modified-id=\"Линейная-регрессия-4.1\"><span class=\"toc-item-num\">4.1&nbsp;&nbsp;</span>Линейная регрессия</a></span></li><li><span><a href=\"#Decision-Tree-Regressor\" data-toc-modified-id=\"Decision-Tree-Regressor-4.2\"><span class=\"toc-item-num\">4.2&nbsp;&nbsp;</span>Decision Tree Regressor</a></span></li><li><span><a href=\"#Random-Forest-Regressor\" data-toc-modified-id=\"Random-Forest-Regressor-4.3\"><span class=\"toc-item-num\">4.3&nbsp;&nbsp;</span>Random Forest Regressor</a></span></li><li><span><a href=\"#LGBM-regressor\" data-toc-modified-id=\"LGBM-regressor-4.4\"><span class=\"toc-item-num\">4.4&nbsp;&nbsp;</span>LGBM regressor</a></span></li></ul></li><li><span><a href=\"#Вывод\" data-toc-modified-id=\"Вывод-5\"><span class=\"toc-item-num\">5&nbsp;&nbsp;</span>Вывод</a></span></li><li><span><a href=\"#Чек-лист-проверки\" data-toc-modified-id=\"Чек-лист-проверки-6\"><span class=\"toc-item-num\">6&nbsp;&nbsp;</span>Чек-лист проверки</a></span></li></ul></div>"
   ]
  },
  {
   "cell_type": "code",
   "execution_count": 1,
   "metadata": {},
   "outputs": [
    {
     "name": "stderr",
     "output_type": "stream",
     "text": [
      "/opt/conda/lib/python3.7/site-packages/statsmodels/tools/_testing.py:19: FutureWarning: pandas.util.testing is deprecated. Use the functions in the public API at pandas.testing instead.\n",
      "  import pandas.util.testing as tm\n"
     ]
    }
   ],
   "source": [
    "import pandas as pd\n",
    "pd.options.mode.chained_assignment = None\n",
    "\n",
    "import numpy as np\n",
    "\n",
    "import matplotlib.pyplot as plt\n",
    "\n",
    "from sklearn.model_selection import train_test_split\n",
    "from sklearn.model_selection import TimeSeriesSplit\n",
    "from sklearn.linear_model import LinearRegression\n",
    "from sklearn.metrics import mean_squared_error\n",
    "from sklearn.tree import DecisionTreeRegressor\n",
    "from sklearn.ensemble import RandomForestRegressor\n",
    "\n",
    "from statsmodels.tsa.seasonal import seasonal_decompose\n",
    "\n",
    "from lightgbm import LGBMRegressor"
   ]
  },
  {
   "cell_type": "code",
   "execution_count": 2,
   "metadata": {},
   "outputs": [],
   "source": [
    "plt.rcParams[\"figure.figsize\"] = (10,6)"
   ]
  },
  {
   "cell_type": "markdown",
   "metadata": {},
   "source": [
    "<div class=\"alert alert-block alert-success\">\n",
    "<b>Успех:</b> Отлично, что все импорты собраны в первой ячейке ноутбука! Если у того, кто будет запускать твой ноутбук будут отсутствовать некоторые библиотеки, то он это увидит сразу, а не в процессе!\n",
    "</div>"
   ]
  },
  {
   "cell_type": "markdown",
   "metadata": {},
   "source": [
    "#  Прогнозирование заказов такси"
   ]
  },
  {
   "cell_type": "markdown",
   "metadata": {},
   "source": [
    "Компания «Чётенькое такси» собрала исторические данные о заказах такси в аэропортах. Чтобы привлекать больше водителей в период пиковой нагрузки, нужно спрогнозировать количество заказов такси на следующий час. Постройте модель для такого предсказания.\n",
    "\n",
    "Значение метрики *RMSE* на тестовой выборке должно быть не больше 48.\n",
    "\n",
    "Вам нужно:\n",
    "\n",
    "1. Загрузить данные и выполнить их ресемплирование по одному часу.\n",
    "2. Проанализировать данные.\n",
    "3. Обучить разные модели с различными гиперпараметрами. Сделать тестовую выборку размером 10% от исходных данных.\n",
    "4. Проверить данные на тестовой выборке и сделать выводы.\n",
    "\n",
    "\n",
    "Данные лежат в файле `taxi.csv`. Количество заказов находится в столбце `num_orders` (от англ. *number of orders*, «число заказов»)."
   ]
  },
  {
   "cell_type": "markdown",
   "metadata": {},
   "source": [
    "## Подготовка"
   ]
  },
  {
   "cell_type": "code",
   "execution_count": 3,
   "metadata": {},
   "outputs": [],
   "source": [
    "data = pd.read_csv('/datasets/taxi.csv', index_col = [0], parse_dates=[0])"
   ]
  },
  {
   "cell_type": "code",
   "execution_count": 4,
   "metadata": {},
   "outputs": [
    {
     "data": {
      "text/html": [
       "<div>\n",
       "<style scoped>\n",
       "    .dataframe tbody tr th:only-of-type {\n",
       "        vertical-align: middle;\n",
       "    }\n",
       "\n",
       "    .dataframe tbody tr th {\n",
       "        vertical-align: top;\n",
       "    }\n",
       "\n",
       "    .dataframe thead th {\n",
       "        text-align: right;\n",
       "    }\n",
       "</style>\n",
       "<table border=\"1\" class=\"dataframe\">\n",
       "  <thead>\n",
       "    <tr style=\"text-align: right;\">\n",
       "      <th></th>\n",
       "      <th>num_orders</th>\n",
       "    </tr>\n",
       "    <tr>\n",
       "      <th>datetime</th>\n",
       "      <th></th>\n",
       "    </tr>\n",
       "  </thead>\n",
       "  <tbody>\n",
       "    <tr>\n",
       "      <th>2018-03-01 00:00:00</th>\n",
       "      <td>9</td>\n",
       "    </tr>\n",
       "    <tr>\n",
       "      <th>2018-03-01 00:10:00</th>\n",
       "      <td>14</td>\n",
       "    </tr>\n",
       "    <tr>\n",
       "      <th>2018-03-01 00:20:00</th>\n",
       "      <td>28</td>\n",
       "    </tr>\n",
       "    <tr>\n",
       "      <th>2018-03-01 00:30:00</th>\n",
       "      <td>20</td>\n",
       "    </tr>\n",
       "    <tr>\n",
       "      <th>2018-03-01 00:40:00</th>\n",
       "      <td>32</td>\n",
       "    </tr>\n",
       "  </tbody>\n",
       "</table>\n",
       "</div>"
      ],
      "text/plain": [
       "                     num_orders\n",
       "datetime                       \n",
       "2018-03-01 00:00:00           9\n",
       "2018-03-01 00:10:00          14\n",
       "2018-03-01 00:20:00          28\n",
       "2018-03-01 00:30:00          20\n",
       "2018-03-01 00:40:00          32"
      ]
     },
     "execution_count": 4,
     "metadata": {},
     "output_type": "execute_result"
    }
   ],
   "source": [
    "data.head()"
   ]
  },
  {
   "cell_type": "code",
   "execution_count": 5,
   "metadata": {},
   "outputs": [
    {
     "name": "stdout",
     "output_type": "stream",
     "text": [
      "<class 'pandas.core.frame.DataFrame'>\n",
      "DatetimeIndex: 26496 entries, 2018-03-01 00:00:00 to 2018-08-31 23:50:00\n",
      "Data columns (total 1 columns):\n",
      " #   Column      Non-Null Count  Dtype\n",
      "---  ------      --------------  -----\n",
      " 0   num_orders  26496 non-null  int64\n",
      "dtypes: int64(1)\n",
      "memory usage: 414.0 KB\n"
     ]
    }
   ],
   "source": [
    "data.info()"
   ]
  },
  {
   "cell_type": "code",
   "execution_count": 6,
   "metadata": {},
   "outputs": [
    {
     "data": {
      "text/html": [
       "<div>\n",
       "<style scoped>\n",
       "    .dataframe tbody tr th:only-of-type {\n",
       "        vertical-align: middle;\n",
       "    }\n",
       "\n",
       "    .dataframe tbody tr th {\n",
       "        vertical-align: top;\n",
       "    }\n",
       "\n",
       "    .dataframe thead th {\n",
       "        text-align: right;\n",
       "    }\n",
       "</style>\n",
       "<table border=\"1\" class=\"dataframe\">\n",
       "  <thead>\n",
       "    <tr style=\"text-align: right;\">\n",
       "      <th></th>\n",
       "      <th>num_orders</th>\n",
       "    </tr>\n",
       "  </thead>\n",
       "  <tbody>\n",
       "    <tr>\n",
       "      <th>count</th>\n",
       "      <td>26496.000000</td>\n",
       "    </tr>\n",
       "    <tr>\n",
       "      <th>mean</th>\n",
       "      <td>14.070463</td>\n",
       "    </tr>\n",
       "    <tr>\n",
       "      <th>std</th>\n",
       "      <td>9.211330</td>\n",
       "    </tr>\n",
       "    <tr>\n",
       "      <th>min</th>\n",
       "      <td>0.000000</td>\n",
       "    </tr>\n",
       "    <tr>\n",
       "      <th>25%</th>\n",
       "      <td>8.000000</td>\n",
       "    </tr>\n",
       "    <tr>\n",
       "      <th>50%</th>\n",
       "      <td>13.000000</td>\n",
       "    </tr>\n",
       "    <tr>\n",
       "      <th>75%</th>\n",
       "      <td>19.000000</td>\n",
       "    </tr>\n",
       "    <tr>\n",
       "      <th>max</th>\n",
       "      <td>119.000000</td>\n",
       "    </tr>\n",
       "  </tbody>\n",
       "</table>\n",
       "</div>"
      ],
      "text/plain": [
       "         num_orders\n",
       "count  26496.000000\n",
       "mean      14.070463\n",
       "std        9.211330\n",
       "min        0.000000\n",
       "25%        8.000000\n",
       "50%       13.000000\n",
       "75%       19.000000\n",
       "max      119.000000"
      ]
     },
     "execution_count": 6,
     "metadata": {},
     "output_type": "execute_result"
    }
   ],
   "source": [
    "data.describe()"
   ]
  },
  {
   "cell_type": "code",
   "execution_count": 7,
   "metadata": {},
   "outputs": [],
   "source": [
    "data.sort_index(inplace=True)"
   ]
  },
  {
   "cell_type": "code",
   "execution_count": 8,
   "metadata": {},
   "outputs": [
    {
     "data": {
      "text/plain": [
       "<matplotlib.axes._subplots.AxesSubplot at 0x7f0a4083d710>"
      ]
     },
     "execution_count": 8,
     "metadata": {},
     "output_type": "execute_result"
    },
    {
     "data": {
      "image/png": "[encoded data removed]",
      "text/plain": [
       "<Figure size 720x432 with 1 Axes>"
      ]
     },
     "metadata": {
      "needs_background": "light"
     },
     "output_type": "display_data"
    }
   ],
   "source": [
    "data.plot()"
   ]
  },
  {
   "cell_type": "code",
   "execution_count": 9,
   "metadata": {},
   "outputs": [],
   "source": [
    "data = data.resample('1H').sum()"
   ]
  },
  {
   "cell_type": "markdown",
   "metadata": {},
   "source": [
    "Так-как условия задачи требуют предсказывать пиковые нагрузки, чтобы оператор мог привлекать в эти моменты больше водителей, при ресемплировании по часам я буду смотреть на максимальную нагрузку в текущий момент"
   ]
  },
  {
   "cell_type": "markdown",
   "metadata": {},
   "source": [
    "<div class=\"alert alert-block alert-danger\">\n",
    "<b>Ошибка:</b> Исходя из кода выше ты утверждаешь, что максимум за 10-минутный интервал – это количество заказов в час. Корректно будет использовать \".sum()\" вместо \".max()\"\n",
    "</div>"
   ]
  },
  {
   "cell_type": "markdown",
   "metadata": {},
   "source": [
    "<div class=\"alert alert-block alert-warning\">\n",
    "<b>Комментарий студента:</b> переделал ресемплирование\n",
    "</div>\n"
   ]
  },
  {
   "cell_type": "markdown",
   "metadata": {},
   "source": [
    "<div class=\"alert alert-block alert-success\">\n",
    "<b>Успех (ревью 2):</b> Верно.\n",
    "</div>"
   ]
  },
  {
   "cell_type": "code",
   "execution_count": 10,
   "metadata": {},
   "outputs": [
    {
     "data": {
      "text/html": [
       "<div>\n",
       "<style scoped>\n",
       "    .dataframe tbody tr th:only-of-type {\n",
       "        vertical-align: middle;\n",
       "    }\n",
       "\n",
       "    .dataframe tbody tr th {\n",
       "        vertical-align: top;\n",
       "    }\n",
       "\n",
       "    .dataframe thead th {\n",
       "        text-align: right;\n",
       "    }\n",
       "</style>\n",
       "<table border=\"1\" class=\"dataframe\">\n",
       "  <thead>\n",
       "    <tr style=\"text-align: right;\">\n",
       "      <th></th>\n",
       "      <th>num_orders</th>\n",
       "    </tr>\n",
       "    <tr>\n",
       "      <th>datetime</th>\n",
       "      <th></th>\n",
       "    </tr>\n",
       "  </thead>\n",
       "  <tbody>\n",
       "    <tr>\n",
       "      <th>2018-03-01 00:00:00</th>\n",
       "      <td>124</td>\n",
       "    </tr>\n",
       "    <tr>\n",
       "      <th>2018-03-01 01:00:00</th>\n",
       "      <td>85</td>\n",
       "    </tr>\n",
       "    <tr>\n",
       "      <th>2018-03-01 02:00:00</th>\n",
       "      <td>71</td>\n",
       "    </tr>\n",
       "    <tr>\n",
       "      <th>2018-03-01 03:00:00</th>\n",
       "      <td>66</td>\n",
       "    </tr>\n",
       "    <tr>\n",
       "      <th>2018-03-01 04:00:00</th>\n",
       "      <td>43</td>\n",
       "    </tr>\n",
       "  </tbody>\n",
       "</table>\n",
       "</div>"
      ],
      "text/plain": [
       "                     num_orders\n",
       "datetime                       \n",
       "2018-03-01 00:00:00         124\n",
       "2018-03-01 01:00:00          85\n",
       "2018-03-01 02:00:00          71\n",
       "2018-03-01 03:00:00          66\n",
       "2018-03-01 04:00:00          43"
      ]
     },
     "execution_count": 10,
     "metadata": {},
     "output_type": "execute_result"
    }
   ],
   "source": [
    "data.head()"
   ]
  },
  {
   "cell_type": "markdown",
   "metadata": {},
   "source": [
    "## Анализ"
   ]
  },
  {
   "cell_type": "code",
   "execution_count": 11,
   "metadata": {},
   "outputs": [
    {
     "data": {
      "text/html": [
       "<div>\n",
       "<style scoped>\n",
       "    .dataframe tbody tr th:only-of-type {\n",
       "        vertical-align: middle;\n",
       "    }\n",
       "\n",
       "    .dataframe tbody tr th {\n",
       "        vertical-align: top;\n",
       "    }\n",
       "\n",
       "    .dataframe thead th {\n",
       "        text-align: right;\n",
       "    }\n",
       "</style>\n",
       "<table border=\"1\" class=\"dataframe\">\n",
       "  <thead>\n",
       "    <tr style=\"text-align: right;\">\n",
       "      <th></th>\n",
       "      <th>num_orders</th>\n",
       "    </tr>\n",
       "  </thead>\n",
       "  <tbody>\n",
       "    <tr>\n",
       "      <th>count</th>\n",
       "      <td>4416.000000</td>\n",
       "    </tr>\n",
       "    <tr>\n",
       "      <th>mean</th>\n",
       "      <td>84.422781</td>\n",
       "    </tr>\n",
       "    <tr>\n",
       "      <th>std</th>\n",
       "      <td>45.023853</td>\n",
       "    </tr>\n",
       "    <tr>\n",
       "      <th>min</th>\n",
       "      <td>0.000000</td>\n",
       "    </tr>\n",
       "    <tr>\n",
       "      <th>25%</th>\n",
       "      <td>54.000000</td>\n",
       "    </tr>\n",
       "    <tr>\n",
       "      <th>50%</th>\n",
       "      <td>78.000000</td>\n",
       "    </tr>\n",
       "    <tr>\n",
       "      <th>75%</th>\n",
       "      <td>107.000000</td>\n",
       "    </tr>\n",
       "    <tr>\n",
       "      <th>max</th>\n",
       "      <td>462.000000</td>\n",
       "    </tr>\n",
       "  </tbody>\n",
       "</table>\n",
       "</div>"
      ],
      "text/plain": [
       "        num_orders\n",
       "count  4416.000000\n",
       "mean     84.422781\n",
       "std      45.023853\n",
       "min       0.000000\n",
       "25%      54.000000\n",
       "50%      78.000000\n",
       "75%     107.000000\n",
       "max     462.000000"
      ]
     },
     "execution_count": 11,
     "metadata": {},
     "output_type": "execute_result"
    }
   ],
   "source": [
    "data.describe()"
   ]
  },
  {
   "cell_type": "markdown",
   "metadata": {},
   "source": [
    "Данные охватывают период с 1 марта 2018 года до 31 августа 2018"
   ]
  },
  {
   "cell_type": "code",
   "execution_count": 12,
   "metadata": {},
   "outputs": [
    {
     "data": {
      "text/plain": [
       "<matplotlib.axes._subplots.AxesSubplot at 0x7f0a3714da50>"
      ]
     },
     "execution_count": 12,
     "metadata": {},
     "output_type": "execute_result"
    },
    {
     "data": {
      "image/png": "[encoded data removed]",
      "text/plain": [
       "<Figure size 720x432 with 1 Axes>"
      ]
     },
     "metadata": {
      "needs_background": "light"
     },
     "output_type": "display_data"
    }
   ],
   "source": [
    "data.plot()"
   ]
  },
  {
   "cell_type": "markdown",
   "metadata": {},
   "source": [
    "На графике видно, что самые активные дни с наибольшим числом заказов в час были в августе"
   ]
  },
  {
   "cell_type": "markdown",
   "metadata": {},
   "source": [
    "### Скользящее среднее"
   ]
  },
  {
   "cell_type": "code",
   "execution_count": 13,
   "metadata": {},
   "outputs": [
    {
     "data": {
      "text/plain": [
       "<matplotlib.axes._subplots.AxesSubplot at 0x7f0a37458c50>"
      ]
     },
     "execution_count": 13,
     "metadata": {},
     "output_type": "execute_result"
    },
    {
     "data": {
      "image/png": "[encoded data removed]",
      "text/plain": [
       "<Figure size 720x432 with 1 Axes>"
      ]
     },
     "metadata": {
      "needs_background": "light"
     },
     "output_type": "display_data"
    }
   ],
   "source": [
    "data['rolling_mean'] = data.rolling(10).mean()\n",
    "data.plot()"
   ]
  },
  {
   "cell_type": "markdown",
   "metadata": {},
   "source": [
    "### Тренды и сезонность"
   ]
  },
  {
   "cell_type": "code",
   "execution_count": 14,
   "metadata": {},
   "outputs": [
    {
     "data": {
      "text/html": [
       "<div>\n",
       "<style scoped>\n",
       "    .dataframe tbody tr th:only-of-type {\n",
       "        vertical-align: middle;\n",
       "    }\n",
       "\n",
       "    .dataframe tbody tr th {\n",
       "        vertical-align: top;\n",
       "    }\n",
       "\n",
       "    .dataframe thead th {\n",
       "        text-align: right;\n",
       "    }\n",
       "</style>\n",
       "<table border=\"1\" class=\"dataframe\">\n",
       "  <thead>\n",
       "    <tr style=\"text-align: right;\">\n",
       "      <th></th>\n",
       "      <th>num_orders</th>\n",
       "      <th>rolling_mean</th>\n",
       "    </tr>\n",
       "    <tr>\n",
       "      <th>datetime</th>\n",
       "      <th></th>\n",
       "      <th></th>\n",
       "    </tr>\n",
       "  </thead>\n",
       "  <tbody>\n",
       "    <tr>\n",
       "      <th>2018-03-01 00:00:00</th>\n",
       "      <td>124</td>\n",
       "      <td>NaN</td>\n",
       "    </tr>\n",
       "    <tr>\n",
       "      <th>2018-03-01 01:00:00</th>\n",
       "      <td>85</td>\n",
       "      <td>NaN</td>\n",
       "    </tr>\n",
       "    <tr>\n",
       "      <th>2018-03-01 02:00:00</th>\n",
       "      <td>71</td>\n",
       "      <td>NaN</td>\n",
       "    </tr>\n",
       "    <tr>\n",
       "      <th>2018-03-01 03:00:00</th>\n",
       "      <td>66</td>\n",
       "      <td>NaN</td>\n",
       "    </tr>\n",
       "    <tr>\n",
       "      <th>2018-03-01 04:00:00</th>\n",
       "      <td>43</td>\n",
       "      <td>NaN</td>\n",
       "    </tr>\n",
       "  </tbody>\n",
       "</table>\n",
       "</div>"
      ],
      "text/plain": [
       "                     num_orders  rolling_mean\n",
       "datetime                                     \n",
       "2018-03-01 00:00:00         124           NaN\n",
       "2018-03-01 01:00:00          85           NaN\n",
       "2018-03-01 02:00:00          71           NaN\n",
       "2018-03-01 03:00:00          66           NaN\n",
       "2018-03-01 04:00:00          43           NaN"
      ]
     },
     "execution_count": 14,
     "metadata": {},
     "output_type": "execute_result"
    }
   ],
   "source": [
    "data.head()"
   ]
  },
  {
   "cell_type": "code",
   "execution_count": 15,
   "metadata": {},
   "outputs": [
    {
     "data": {
      "text/plain": [
       "<matplotlib.axes._subplots.AxesSubplot at 0x7f0a37269550>"
      ]
     },
     "execution_count": 15,
     "metadata": {},
     "output_type": "execute_result"
    },
    {
     "data": {
      "image/png": "[encoded data removed]",
      "text/plain": [
       "<Figure size 720x432 with 1 Axes>"
      ]
     },
     "metadata": {
      "needs_background": "light"
     },
     "output_type": "display_data"
    }
   ],
   "source": [
    "decomposed = seasonal_decompose(data.drop('rolling_mean', axis = 1))\n",
    "decomposed.seasonal.plot()"
   ]
  },
  {
   "cell_type": "code",
   "execution_count": 16,
   "metadata": {},
   "outputs": [
    {
     "data": {
      "text/plain": [
       "<matplotlib.axes._subplots.AxesSubplot at 0x7f0a354a9790>"
      ]
     },
     "execution_count": 16,
     "metadata": {},
     "output_type": "execute_result"
    },
    {
     "data": {
      "image/png": "[encoded data removed]",
      "text/plain": [
       "<Figure size 720x432 with 1 Axes>"
      ]
     },
     "metadata": {
      "needs_background": "light"
     },
     "output_type": "display_data"
    }
   ],
   "source": [
    "decomposed.seasonal['2018-03-01':'2018-03-07'].plot()"
   ]
  },
  {
   "cell_type": "code",
   "execution_count": 17,
   "metadata": {},
   "outputs": [
    {
     "data": {
      "text/plain": [
       "<matplotlib.axes._subplots.AxesSubplot at 0x7f0a35422e90>"
      ]
     },
     "execution_count": 17,
     "metadata": {},
     "output_type": "execute_result"
    },
    {
     "data": {
      "image/png": "[encoded data removed]",
      "text/plain": [
       "<Figure size 720x432 with 1 Axes>"
      ]
     },
     "metadata": {
      "needs_background": "light"
     },
     "output_type": "display_data"
    }
   ],
   "source": [
    "decomposed.seasonal['2018-03-01':'2018-03-03'].plot()"
   ]
  },
  {
   "cell_type": "code",
   "execution_count": 18,
   "metadata": {},
   "outputs": [
    {
     "data": {
      "text/plain": [
       "<matplotlib.axes._subplots.AxesSubplot at 0x7f0a35395650>"
      ]
     },
     "execution_count": 18,
     "metadata": {},
     "output_type": "execute_result"
    },
    {
     "data": {
      "image/png": "[encoded data removed]",
      "text/plain": [
       "<Figure size 720x432 with 1 Axes>"
      ]
     },
     "metadata": {
      "needs_background": "light"
     },
     "output_type": "display_data"
    }
   ],
   "source": [
    "decomposed.trend.plot()"
   ]
  },
  {
   "cell_type": "code",
   "execution_count": 19,
   "metadata": {},
   "outputs": [
    {
     "data": {
      "text/plain": [
       "<matplotlib.axes._subplots.AxesSubplot at 0x7f0a3524d590>"
      ]
     },
     "execution_count": 19,
     "metadata": {},
     "output_type": "execute_result"
    },
    {
     "data": {
      "image/png": "[encoded data removed]",
      "text/plain": [
       "<Figure size 720x432 with 1 Axes>"
      ]
     },
     "metadata": {
      "needs_background": "light"
     },
     "output_type": "display_data"
    }
   ],
   "source": [
    "decomposed.resid.plot()"
   ]
  },
  {
   "cell_type": "markdown",
   "metadata": {},
   "source": [
    "По анализу тренда и сезонности можно сказать, что в течение года среднее количество поездок в час растет и сервис становится популярнее.\n",
    "\n",
    "Также при уменьшении интервала становится заметно, что сезонность присутствует на суточном уровне — как правило число заказов достигает максимума вечером, ближе к полуночи, и минимума ранним утром примерно в 6 часов утра."
   ]
  },
  {
   "cell_type": "markdown",
   "metadata": {},
   "source": [
    "<div class=\"alert alert-block alert-success\">\n",
    "<b>Успех:</b> В целом, декомпозиция была сделана верно.\n",
    "</div>\n",
    "\n",
    "<div class=\"alert alert-block alert-info\">\n",
    "<b>Совет: </b> Однако, сами графики я бы сделал шире.\n",
    "</div>\n",
    "\n",
    "<div class=\"alert alert-block alert-info\">\n",
    "<b>Совет: </b> Сезонность можно было визуализировать на более коротком интервале.\n",
    "</div>"
   ]
  },
  {
   "cell_type": "markdown",
   "metadata": {},
   "source": [
    "<div class=\"alert alert-block alert-warning\">\n",
    "<b>Комментарий студента:</b> Добавил визуализацию сезонности на более коротких интервалах и сделал графике шире\n",
    "</div>\n"
   ]
  },
  {
   "cell_type": "markdown",
   "metadata": {},
   "source": [
    "<div class=\"alert alert-block alert-success\">\n",
    "<b>Успех (ревью 2):</b> Отлично!\n",
    "</div>"
   ]
  },
  {
   "cell_type": "markdown",
   "metadata": {},
   "source": [
    "## Обучение"
   ]
  },
  {
   "cell_type": "code",
   "execution_count": 20,
   "metadata": {},
   "outputs": [],
   "source": [
    "#random state\n",
    "state = 42"
   ]
  },
  {
   "cell_type": "code",
   "execution_count": 21,
   "metadata": {},
   "outputs": [],
   "source": [
    "results_table = pd.DataFrame(columns = ['model', \n",
    "                                        'RMSE train', \n",
    "                                        'RMSE test'])"
   ]
  },
  {
   "cell_type": "code",
   "execution_count": 22,
   "metadata": {},
   "outputs": [],
   "source": [
    "def add_to_table(table, model, rmse_train, rmse_test):\n",
    "    \n",
    "    table = table.append(\n",
    "        {'model': str(model), \n",
    "         'RMSE train': rmse_train, \n",
    "         'RMSE test': rmse_test},\n",
    "    ignore_index = True)\n",
    "    return(table)"
   ]
  },
  {
   "cell_type": "markdown",
   "metadata": {},
   "source": [
    "### Рассчет RMSE константной модели"
   ]
  },
  {
   "cell_type": "code",
   "execution_count": 23,
   "metadata": {},
   "outputs": [
    {
     "name": "stdout",
     "output_type": "stream",
     "text": [
      "(3974, 1)\n",
      "(442, 1)\n"
     ]
    }
   ],
   "source": [
    "data = data.drop('rolling_mean', axis = 1)\n",
    "train, test = train_test_split(data, test_size=0.1, shuffle=False)\n",
    "print(train.shape)\n",
    "print(test.shape)"
   ]
  },
  {
   "cell_type": "code",
   "execution_count": 24,
   "metadata": {},
   "outputs": [
    {
     "name": "stdout",
     "output_type": "stream",
     "text": [
      "RMSE test: 87.15277582981295\n"
     ]
    }
   ],
   "source": [
    "pred_median = np.ones(test.shape)\n",
    "pred_median = pd.DataFrame(pred_median).replace(1, train['num_orders'].median())\n",
    "\n",
    "rmse_constant_test = mean_squared_error(y_true = test['num_orders'], y_pred = pred_median)**0.5\n",
    "print(\"RMSE test:\", rmse_constant_test)"
   ]
  },
  {
   "cell_type": "code",
   "execution_count": 25,
   "metadata": {},
   "outputs": [],
   "source": [
    "results_table = add_to_table(results_table, 'constant_model', None, rmse_constant_test)"
   ]
  },
  {
   "cell_type": "code",
   "execution_count": 26,
   "metadata": {},
   "outputs": [
    {
     "data": {
      "text/html": [
       "<div>\n",
       "<style scoped>\n",
       "    .dataframe tbody tr th:only-of-type {\n",
       "        vertical-align: middle;\n",
       "    }\n",
       "\n",
       "    .dataframe tbody tr th {\n",
       "        vertical-align: top;\n",
       "    }\n",
       "\n",
       "    .dataframe thead th {\n",
       "        text-align: right;\n",
       "    }\n",
       "</style>\n",
       "<table border=\"1\" class=\"dataframe\">\n",
       "  <thead>\n",
       "    <tr style=\"text-align: right;\">\n",
       "      <th></th>\n",
       "      <th>model</th>\n",
       "      <th>RMSE train</th>\n",
       "      <th>RMSE test</th>\n",
       "    </tr>\n",
       "  </thead>\n",
       "  <tbody>\n",
       "    <tr>\n",
       "      <th>0</th>\n",
       "      <td>constant_model</td>\n",
       "      <td>None</td>\n",
       "      <td>87.152776</td>\n",
       "    </tr>\n",
       "  </tbody>\n",
       "</table>\n",
       "</div>"
      ],
      "text/plain": [
       "            model RMSE train  RMSE test\n",
       "0  constant_model       None  87.152776"
      ]
     },
     "execution_count": 26,
     "metadata": {},
     "output_type": "execute_result"
    }
   ],
   "source": [
    "results_table"
   ]
  },
  {
   "cell_type": "markdown",
   "metadata": {},
   "source": [
    "### Подготовка фичей"
   ]
  },
  {
   "cell_type": "code",
   "execution_count": 27,
   "metadata": {},
   "outputs": [],
   "source": [
    "def make_features(data, max_lag, rolling_mean_size):\n",
    "    data['month'] = data.index.month\n",
    "    data['day'] = data.index.day\n",
    "    data['weekday'] = data.index.dayofweek\n",
    "    \n",
    "    for lag in range(1, max_lag + 1):\n",
    "        data['lag_{}'.format(lag)] = data['num_orders'].shift(lag)\n",
    "\n",
    "    data['rolling_mean'] = data['num_orders'].shift().rolling(rolling_mean_size).mean()\n",
    "    return data\n"
   ]
  },
  {
   "cell_type": "markdown",
   "metadata": {},
   "source": [
    "<div class=\"alert alert-block alert-info\">\n",
    "<b>Совет: </b> Желательно было написать функцию таким образом, чтобы она возвращала новый датафрейм, а не изменяла глобальную переменную.\n",
    "</div>"
   ]
  },
  {
   "cell_type": "markdown",
   "metadata": {},
   "source": [
    "<div class=\"alert alert-block alert-warning\">\n",
    "<b>Комментарий студента:</b> переписал функцию\n",
    "</div>\n"
   ]
  },
  {
   "cell_type": "markdown",
   "metadata": {},
   "source": [
    "<div class=\"alert alert-block alert-info\">\n",
    "\n",
    "<b>Совет (ревью 2): </b> В первой строке функции надо было сделать так: `new_data = data.copy()`.\n",
    "</div>"
   ]
  },
  {
   "cell_type": "code",
   "execution_count": 28,
   "metadata": {},
   "outputs": [],
   "source": [
    "data = make_features(data, 10, 24)"
   ]
  },
  {
   "cell_type": "code",
   "execution_count": 29,
   "metadata": {},
   "outputs": [],
   "source": [
    "train, test = train_test_split(data, shuffle=False, test_size=0.2)\n",
    "train = train.dropna()\n",
    "\n",
    "y_train = train['num_orders']\n",
    "X_train = train.drop('num_orders', axis = 1)\n",
    "\n",
    "y_test = test['num_orders']\n",
    "X_test = test.drop('num_orders', axis = 1)"
   ]
  },
  {
   "cell_type": "markdown",
   "metadata": {},
   "source": [
    "### Линейная регрессия"
   ]
  },
  {
   "cell_type": "code",
   "execution_count": 30,
   "metadata": {},
   "outputs": [
    {
     "name": "stdout",
     "output_type": "stream",
     "text": [
      "RMSE обучающей выборки: 28.66919756616136\n"
     ]
    }
   ],
   "source": [
    "linear_model = LinearRegression()\n",
    "linear_model.fit(X_train, y_train)\n",
    "\n",
    "predictions_train = linear_model.predict(X_train)\n",
    "predictions_test = linear_model.predict(X_test)\n",
    "\n",
    "rmse_train = mean_squared_error(predictions_train, y_train)**0.5\n",
    "\n",
    "print(\"RMSE обучающей выборки:\", rmse_train)"
   ]
  },
  {
   "cell_type": "code",
   "execution_count": 31,
   "metadata": {},
   "outputs": [],
   "source": [
    "results_table = add_to_table(results_table, 'LinearRegression', rmse_train, None)"
   ]
  },
  {
   "cell_type": "markdown",
   "metadata": {},
   "source": [
    "### DecisionTreeRegressor"
   ]
  },
  {
   "cell_type": "markdown",
   "metadata": {},
   "source": [
    "Для подбора лучших гиперпараметров я использую кросс валидацию с разбиением данных на тренировочную и валдидационные выборки посредством TimeSeriesSplit"
   ]
  },
  {
   "cell_type": "code",
   "execution_count": 32,
   "metadata": {},
   "outputs": [
    {
     "name": "stdout",
     "output_type": "stream",
     "text": [
      "31.603246597486685\n",
      "DecisionTreeRegressor(criterion='mse', max_depth=3, max_features=None,\n",
      "                      max_leaf_nodes=None, min_impurity_decrease=0.0,\n",
      "                      min_impurity_split=None, min_samples_leaf=1,\n",
      "                      min_samples_split=2, min_weight_fraction_leaf=0.0,\n",
      "                      presort=False, random_state=42, splitter='best')\n"
     ]
    }
   ],
   "source": [
    "best_score = 1000\n",
    "best_dtr_model = None\n",
    "for i in range(1, 10):\n",
    "    for x in range(2,5):\n",
    "        tscv = TimeSeriesSplit(n_splits=5)\n",
    "        \n",
    "        score = []\n",
    "        for tr_index, val_index in tscv.split(X_train):\n",
    "            X_tr, X_val = X_train.iloc[tr_index], X_train.iloc[val_index]\n",
    "            y_tr, y_val = y_train.iloc[tr_index], y_train.iloc[val_index] \n",
    "            \n",
    "            model = DecisionTreeRegressor(random_state = state, \n",
    "                                          min_samples_split=x,\n",
    "                                          max_depth = i)\n",
    "\n",
    "            model.fit(X_tr, y_tr)\n",
    "            predictions = model.predict(X_val)\n",
    "            rmse_test = mean_squared_error(predictions, y_val)**0.5\n",
    "            \n",
    "            score.append(rmse_test)\n",
    "            \n",
    "        cross_val_score = np.mean(score)\n",
    "        \n",
    "        if cross_val_score < best_score:\n",
    "            best_score = cross_val_score\n",
    "            best_dtr_model = model\n",
    "            \n",
    "            \n",
    "print(best_score)\n",
    "print(best_dtr_model)"
   ]
  },
  {
   "cell_type": "markdown",
   "metadata": {},
   "source": [
    "<div class=\"alert alert-block alert-info\">\n",
    "<b>Совет: </b> Объект типа <a href=\"https://scikit-learn.org/stable/modules/generated/sklearn.model_selection.TimeSeriesSplit.html\">TimeSeriesSplit</a> можно передать в параметр cv в метод основанный на кросс-валидации.\n",
    "</div>\n",
    "\n",
    "<div class=\"alert alert-block alert-success\">\n",
    "<b>Успех:</b> Однако, твой подход тоже корректен.\n",
    "</div>"
   ]
  },
  {
   "cell_type": "code",
   "execution_count": 33,
   "metadata": {},
   "outputs": [],
   "source": [
    "results_table = add_to_table(results_table, 'DecisionTreeRegressor', best_score, None)"
   ]
  },
  {
   "cell_type": "code",
   "execution_count": 34,
   "metadata": {},
   "outputs": [
    {
     "data": {
      "text/html": [
       "<div>\n",
       "<style scoped>\n",
       "    .dataframe tbody tr th:only-of-type {\n",
       "        vertical-align: middle;\n",
       "    }\n",
       "\n",
       "    .dataframe tbody tr th {\n",
       "        vertical-align: top;\n",
       "    }\n",
       "\n",
       "    .dataframe thead th {\n",
       "        text-align: right;\n",
       "    }\n",
       "</style>\n",
       "<table border=\"1\" class=\"dataframe\">\n",
       "  <thead>\n",
       "    <tr style=\"text-align: right;\">\n",
       "      <th></th>\n",
       "      <th>model</th>\n",
       "      <th>RMSE train</th>\n",
       "      <th>RMSE test</th>\n",
       "    </tr>\n",
       "  </thead>\n",
       "  <tbody>\n",
       "    <tr>\n",
       "      <th>0</th>\n",
       "      <td>constant_model</td>\n",
       "      <td>NaN</td>\n",
       "      <td>87.152776</td>\n",
       "    </tr>\n",
       "    <tr>\n",
       "      <th>1</th>\n",
       "      <td>LinearRegression</td>\n",
       "      <td>28.669198</td>\n",
       "      <td>None</td>\n",
       "    </tr>\n",
       "    <tr>\n",
       "      <th>2</th>\n",
       "      <td>DecisionTreeRegressor</td>\n",
       "      <td>31.603247</td>\n",
       "      <td>None</td>\n",
       "    </tr>\n",
       "  </tbody>\n",
       "</table>\n",
       "</div>"
      ],
      "text/plain": [
       "                   model  RMSE train  RMSE test\n",
       "0         constant_model         NaN  87.152776\n",
       "1       LinearRegression   28.669198       None\n",
       "2  DecisionTreeRegressor   31.603247       None"
      ]
     },
     "execution_count": 34,
     "metadata": {},
     "output_type": "execute_result"
    }
   ],
   "source": [
    "results_table"
   ]
  },
  {
   "cell_type": "markdown",
   "metadata": {},
   "source": [
    "### Random Forest Regressor"
   ]
  },
  {
   "cell_type": "code",
   "execution_count": 35,
   "metadata": {},
   "outputs": [
    {
     "name": "stdout",
     "output_type": "stream",
     "text": [
      "29.359418654297016\n",
      "RandomForestRegressor(bootstrap=True, criterion='mse', max_depth=9,\n",
      "                      max_features='auto', max_leaf_nodes=None,\n",
      "                      min_impurity_decrease=0.0, min_impurity_split=None,\n",
      "                      min_samples_leaf=1, min_samples_split=2,\n",
      "                      min_weight_fraction_leaf=0.0, n_estimators=275,\n",
      "                      n_jobs=None, oob_score=False, random_state=42, verbose=0,\n",
      "                      warm_start=False)\n"
     ]
    }
   ],
   "source": [
    "best_score = 1000\n",
    "best_rfr_model = None\n",
    "for i in range(1, 10, 2):\n",
    "    for x in range(100,301, 25):\n",
    "        tscv = TimeSeriesSplit(n_splits=3)\n",
    "        \n",
    "        score = []\n",
    "        for tr_index, val_index in tscv.split(X_train):\n",
    "            X_tr, X_val = X_train.iloc[tr_index], X_train.iloc[val_index]\n",
    "            y_tr, y_val = y_train.iloc[tr_index], y_train.iloc[val_index] \n",
    "            \n",
    "            model = RandomForestRegressor(random_state = state, \n",
    "                                          n_estimators=x,\n",
    "                                          max_depth = i)\n",
    "\n",
    "            model.fit(X_tr, y_tr)\n",
    "            predictions = model.predict(X_val)\n",
    "            rmse_test = mean_squared_error(predictions, y_val)**0.5\n",
    "            \n",
    "            score.append(rmse_test)\n",
    "            \n",
    "        cross_val_score = np.mean(score)\n",
    "        \n",
    "        if cross_val_score < best_score:\n",
    "            best_score = cross_val_score\n",
    "            best_rfr_model = model\n",
    "            \n",
    "            \n",
    "print(best_score)\n",
    "print(best_rfr_model)"
   ]
  },
  {
   "cell_type": "code",
   "execution_count": 36,
   "metadata": {},
   "outputs": [],
   "source": [
    "results_table = add_to_table(results_table, 'RandomForestRegressor', best_score, None)"
   ]
  },
  {
   "cell_type": "markdown",
   "metadata": {},
   "source": [
    "### LGBMRegressor"
   ]
  },
  {
   "cell_type": "code",
   "execution_count": 37,
   "metadata": {},
   "outputs": [
    {
     "name": "stdout",
     "output_type": "stream",
     "text": [
      "29.619680148183203\n",
      "LGBMRegressor(boosting_type='gbdt', class_weight=None, colsample_bytree=1.0,\n",
      "              importance_type='split', learning_rate=0.1, max_depth=3,\n",
      "              min_child_samples=20, min_child_weight=0.001, min_split_gain=0.0,\n",
      "              n_estimators=100, n_jobs=-1, num_leaves=31, objective=None,\n",
      "              random_state=42, reg_alpha=0.0, reg_lambda=0.0, silent=True,\n",
      "              subsample=1.0, subsample_for_bin=200000, subsample_freq=0)\n"
     ]
    }
   ],
   "source": [
    "best_score = 1000\n",
    "best_lgbm_model = None\n",
    "for i in range(1, 10,2):\n",
    "    for x in range(10):\n",
    "        tscv = TimeSeriesSplit(n_splits=3)\n",
    "        \n",
    "        score = []\n",
    "        for tr_index, val_index in tscv.split(X_train):\n",
    "            X_tr, X_val = X_train.iloc[tr_index], X_train.iloc[val_index]\n",
    "            y_tr, y_val = y_train.iloc[tr_index], y_train.iloc[val_index] \n",
    "            \n",
    "            model = LGBMRegressor(random_state = state, \n",
    "                                  learning_rate=0.1+(x/10),\n",
    "                                  max_depth = i)\n",
    "\n",
    "            model.fit(X_tr, y_tr)\n",
    "            predictions = model.predict(X_val)\n",
    "            rmse_test = mean_squared_error(predictions, y_val)**0.5\n",
    "            \n",
    "            score.append(rmse_test)\n",
    "            \n",
    "        cross_val_score = np.mean(score)\n",
    "        \n",
    "        if cross_val_score < best_score:\n",
    "            best_score = cross_val_score\n",
    "            best_lgbm_model = model\n",
    "            \n",
    "            \n",
    "print(best_score)\n",
    "print(best_lgbm_model)"
   ]
  },
  {
   "cell_type": "code",
   "execution_count": 38,
   "metadata": {},
   "outputs": [],
   "source": [
    "results_table = add_to_table(results_table, 'LGBMRegressor', best_score, None)"
   ]
  },
  {
   "cell_type": "code",
   "execution_count": 39,
   "metadata": {},
   "outputs": [
    {
     "data": {
      "text/html": [
       "<div>\n",
       "<style scoped>\n",
       "    .dataframe tbody tr th:only-of-type {\n",
       "        vertical-align: middle;\n",
       "    }\n",
       "\n",
       "    .dataframe tbody tr th {\n",
       "        vertical-align: top;\n",
       "    }\n",
       "\n",
       "    .dataframe thead th {\n",
       "        text-align: right;\n",
       "    }\n",
       "</style>\n",
       "<table border=\"1\" class=\"dataframe\">\n",
       "  <thead>\n",
       "    <tr style=\"text-align: right;\">\n",
       "      <th></th>\n",
       "      <th>model</th>\n",
       "      <th>RMSE train</th>\n",
       "      <th>RMSE test</th>\n",
       "    </tr>\n",
       "  </thead>\n",
       "  <tbody>\n",
       "    <tr>\n",
       "      <th>0</th>\n",
       "      <td>constant_model</td>\n",
       "      <td>NaN</td>\n",
       "      <td>87.152776</td>\n",
       "    </tr>\n",
       "    <tr>\n",
       "      <th>1</th>\n",
       "      <td>LinearRegression</td>\n",
       "      <td>28.669198</td>\n",
       "      <td>None</td>\n",
       "    </tr>\n",
       "    <tr>\n",
       "      <th>2</th>\n",
       "      <td>DecisionTreeRegressor</td>\n",
       "      <td>31.603247</td>\n",
       "      <td>None</td>\n",
       "    </tr>\n",
       "    <tr>\n",
       "      <th>3</th>\n",
       "      <td>RandomForestRegressor</td>\n",
       "      <td>29.359419</td>\n",
       "      <td>None</td>\n",
       "    </tr>\n",
       "    <tr>\n",
       "      <th>4</th>\n",
       "      <td>LGBMRegressor</td>\n",
       "      <td>29.619680</td>\n",
       "      <td>None</td>\n",
       "    </tr>\n",
       "  </tbody>\n",
       "</table>\n",
       "</div>"
      ],
      "text/plain": [
       "                   model  RMSE train  RMSE test\n",
       "0         constant_model         NaN  87.152776\n",
       "1       LinearRegression   28.669198       None\n",
       "2  DecisionTreeRegressor   31.603247       None\n",
       "3  RandomForestRegressor   29.359419       None\n",
       "4          LGBMRegressor   29.619680       None"
      ]
     },
     "execution_count": 39,
     "metadata": {},
     "output_type": "execute_result"
    }
   ],
   "source": [
    "results_table"
   ]
  },
  {
   "cell_type": "markdown",
   "metadata": {},
   "source": [
    "<div class=\"alert alert-block alert-success\">\n",
    "<b>Успех:</b> Этот шаг был сделан хорошо.\n",
    "</div>"
   ]
  },
  {
   "cell_type": "markdown",
   "metadata": {},
   "source": [
    "## Тестирование"
   ]
  },
  {
   "cell_type": "markdown",
   "metadata": {},
   "source": [
    "### Линейная регрессия"
   ]
  },
  {
   "cell_type": "code",
   "execution_count": 40,
   "metadata": {},
   "outputs": [
    {
     "name": "stdout",
     "output_type": "stream",
     "text": [
      "RMSE test: 46.292155934844246\n"
     ]
    }
   ],
   "source": [
    "y_pred = linear_model.predict(X_test)\n",
    "\n",
    "rmse_test = mean_squared_error(y_test, y_pred)**0.5\n",
    "\n",
    "print(\"RMSE test:\", rmse_test)"
   ]
  },
  {
   "cell_type": "code",
   "execution_count": 41,
   "metadata": {},
   "outputs": [],
   "source": [
    "results_table.loc[results_table['model']=='LinearRegression', ['RMSE test']] = rmse_test"
   ]
  },
  {
   "cell_type": "code",
   "execution_count": 42,
   "metadata": {},
   "outputs": [
    {
     "data": {
      "text/html": [
       "<div>\n",
       "<style scoped>\n",
       "    .dataframe tbody tr th:only-of-type {\n",
       "        vertical-align: middle;\n",
       "    }\n",
       "\n",
       "    .dataframe tbody tr th {\n",
       "        vertical-align: top;\n",
       "    }\n",
       "\n",
       "    .dataframe thead th {\n",
       "        text-align: right;\n",
       "    }\n",
       "</style>\n",
       "<table border=\"1\" class=\"dataframe\">\n",
       "  <thead>\n",
       "    <tr style=\"text-align: right;\">\n",
       "      <th></th>\n",
       "      <th>model</th>\n",
       "      <th>RMSE train</th>\n",
       "      <th>RMSE test</th>\n",
       "    </tr>\n",
       "  </thead>\n",
       "  <tbody>\n",
       "    <tr>\n",
       "      <th>0</th>\n",
       "      <td>constant_model</td>\n",
       "      <td>NaN</td>\n",
       "      <td>87.152776</td>\n",
       "    </tr>\n",
       "    <tr>\n",
       "      <th>1</th>\n",
       "      <td>LinearRegression</td>\n",
       "      <td>28.669198</td>\n",
       "      <td>46.292156</td>\n",
       "    </tr>\n",
       "    <tr>\n",
       "      <th>2</th>\n",
       "      <td>DecisionTreeRegressor</td>\n",
       "      <td>31.603247</td>\n",
       "      <td>None</td>\n",
       "    </tr>\n",
       "    <tr>\n",
       "      <th>3</th>\n",
       "      <td>RandomForestRegressor</td>\n",
       "      <td>29.359419</td>\n",
       "      <td>None</td>\n",
       "    </tr>\n",
       "    <tr>\n",
       "      <th>4</th>\n",
       "      <td>LGBMRegressor</td>\n",
       "      <td>29.619680</td>\n",
       "      <td>None</td>\n",
       "    </tr>\n",
       "  </tbody>\n",
       "</table>\n",
       "</div>"
      ],
      "text/plain": [
       "                   model  RMSE train  RMSE test\n",
       "0         constant_model         NaN  87.152776\n",
       "1       LinearRegression   28.669198  46.292156\n",
       "2  DecisionTreeRegressor   31.603247       None\n",
       "3  RandomForestRegressor   29.359419       None\n",
       "4          LGBMRegressor   29.619680       None"
      ]
     },
     "execution_count": 42,
     "metadata": {},
     "output_type": "execute_result"
    }
   ],
   "source": [
    "results_table"
   ]
  },
  {
   "cell_type": "markdown",
   "metadata": {},
   "source": [
    "### Decision Tree Regressor"
   ]
  },
  {
   "cell_type": "code",
   "execution_count": 43,
   "metadata": {},
   "outputs": [
    {
     "name": "stdout",
     "output_type": "stream",
     "text": [
      "RMSE test: 63.21865546777967\n"
     ]
    }
   ],
   "source": [
    "y_pred = best_dtr_model.predict(X_test)\n",
    "\n",
    "rmse_test = mean_squared_error(y_test, y_pred)**0.5\n",
    "\n",
    "print(\"RMSE test:\", rmse_test)"
   ]
  },
  {
   "cell_type": "code",
   "execution_count": 44,
   "metadata": {},
   "outputs": [],
   "source": [
    "results_table.loc[results_table['model']=='DecisionTreeRegressor', ['RMSE test']] = rmse_test"
   ]
  },
  {
   "cell_type": "markdown",
   "metadata": {},
   "source": [
    "### Random Forest Regressor"
   ]
  },
  {
   "cell_type": "code",
   "execution_count": 45,
   "metadata": {},
   "outputs": [
    {
     "name": "stdout",
     "output_type": "stream",
     "text": [
      "RMSE test: 53.23946306134282\n"
     ]
    }
   ],
   "source": [
    "y_pred = best_rfr_model.predict(X_test)\n",
    "\n",
    "rmse_test = mean_squared_error(y_test, y_pred)**0.5\n",
    "\n",
    "print(\"RMSE test:\", rmse_test)"
   ]
  },
  {
   "cell_type": "code",
   "execution_count": 46,
   "metadata": {},
   "outputs": [],
   "source": [
    "results_table.loc[results_table['model']=='RandomForestRegressor', ['RMSE test']] = rmse_test"
   ]
  },
  {
   "cell_type": "markdown",
   "metadata": {},
   "source": [
    "### LGBM regressor"
   ]
  },
  {
   "cell_type": "code",
   "execution_count": 47,
   "metadata": {},
   "outputs": [
    {
     "name": "stdout",
     "output_type": "stream",
     "text": [
      "RMSE test: 55.15096777341771\n"
     ]
    }
   ],
   "source": [
    "y_pred = best_lgbm_model.predict(X_test)\n",
    "\n",
    "rmse_test = mean_squared_error(y_test, y_pred)**0.5\n",
    "\n",
    "print(\"RMSE test:\", rmse_test)"
   ]
  },
  {
   "cell_type": "code",
   "execution_count": 48,
   "metadata": {},
   "outputs": [],
   "source": [
    "results_table.loc[results_table['model']=='LGBMRegressor', ['RMSE test']] = rmse_test"
   ]
  },
  {
   "cell_type": "markdown",
   "metadata": {},
   "source": [
    "<div class=\"alert alert-block alert-success\">\n",
    "<b>Успех:</b> Тестирвоание было сделано правильно.\n",
    "</div>"
   ]
  },
  {
   "cell_type": "markdown",
   "metadata": {},
   "source": [
    "## Вывод"
   ]
  },
  {
   "cell_type": "code",
   "execution_count": 49,
   "metadata": {},
   "outputs": [
    {
     "data": {
      "text/html": [
       "<div>\n",
       "<style scoped>\n",
       "    .dataframe tbody tr th:only-of-type {\n",
       "        vertical-align: middle;\n",
       "    }\n",
       "\n",
       "    .dataframe tbody tr th {\n",
       "        vertical-align: top;\n",
       "    }\n",
       "\n",
       "    .dataframe thead th {\n",
       "        text-align: right;\n",
       "    }\n",
       "</style>\n",
       "<table border=\"1\" class=\"dataframe\">\n",
       "  <thead>\n",
       "    <tr style=\"text-align: right;\">\n",
       "      <th></th>\n",
       "      <th>model</th>\n",
       "      <th>RMSE train</th>\n",
       "      <th>RMSE test</th>\n",
       "    </tr>\n",
       "  </thead>\n",
       "  <tbody>\n",
       "    <tr>\n",
       "      <th>0</th>\n",
       "      <td>constant_model</td>\n",
       "      <td>NaN</td>\n",
       "      <td>87.152776</td>\n",
       "    </tr>\n",
       "    <tr>\n",
       "      <th>1</th>\n",
       "      <td>LinearRegression</td>\n",
       "      <td>28.669198</td>\n",
       "      <td>46.292156</td>\n",
       "    </tr>\n",
       "    <tr>\n",
       "      <th>2</th>\n",
       "      <td>DecisionTreeRegressor</td>\n",
       "      <td>31.603247</td>\n",
       "      <td>63.218655</td>\n",
       "    </tr>\n",
       "    <tr>\n",
       "      <th>3</th>\n",
       "      <td>RandomForestRegressor</td>\n",
       "      <td>29.359419</td>\n",
       "      <td>53.239463</td>\n",
       "    </tr>\n",
       "    <tr>\n",
       "      <th>4</th>\n",
       "      <td>LGBMRegressor</td>\n",
       "      <td>29.619680</td>\n",
       "      <td>55.150968</td>\n",
       "    </tr>\n",
       "  </tbody>\n",
       "</table>\n",
       "</div>"
      ],
      "text/plain": [
       "                   model  RMSE train  RMSE test\n",
       "0         constant_model         NaN  87.152776\n",
       "1       LinearRegression   28.669198  46.292156\n",
       "2  DecisionTreeRegressor   31.603247  63.218655\n",
       "3  RandomForestRegressor   29.359419  53.239463\n",
       "4          LGBMRegressor   29.619680  55.150968"
      ]
     },
     "execution_count": 49,
     "metadata": {},
     "output_type": "execute_result"
    }
   ],
   "source": [
    "results_table"
   ]
  },
  {
   "cell_type": "markdown",
   "metadata": {},
   "source": [
    "Лучшую точность в решении поставленной задачи показала линейная регрессия, вероятнее всего потому что она смогла предсказать тренд увеличения количества заказов, прослеживающийся в имеющихся данных. \n",
    "\n",
    "Остальные модели дали результат хуже, показав его ниже чем минимальный установленный условием задачи порог 48"
   ]
  },
  {
   "cell_type": "markdown",
   "metadata": {},
   "source": [
    "<div class=\"alert alert-block alert-success\">\n",
    "<b>Успех:</b> Приятно видеть вывод в конце проекта!\n",
    "</div>"
   ]
  },
  {
   "cell_type": "markdown",
   "metadata": {},
   "source": [
    "## Чек-лист проверки"
   ]
  },
  {
   "cell_type": "markdown",
   "metadata": {},
   "source": [
    "- [x]  Jupyter Notebook открыт\n",
    "- [ ]  Весь код выполняется без ошибок\n",
    "- [ ]  Ячейки с кодом расположены в порядке исполнения\n",
    "- [ ]  Данные загружены и подготовлены\n",
    "- [ ]  Данные проанализированы\n",
    "- [ ]  Модель обучена, гиперпараметры подобраны\n",
    "- [ ]  Качество моделей проверено, выводы сделаны\n",
    "- [ ]  Значение *RMSE* на тестовой выборке не больше 48"
   ]
  },
  {
   "cell_type": "code",
   "execution_count": null,
   "metadata": {},
   "outputs": [],
   "source": []
  }
 ],
 "metadata": {
  "ExecuteTimeLog": [
   {
    "duration": 629,
    "start_time": "2021-10-11T12:41:23.266Z"
   },
   {
    "duration": 30,
    "start_time": "2021-10-11T12:41:49.550Z"
   },
   {
    "duration": 12,
    "start_time": "2021-10-11T12:41:53.866Z"
   },
   {
    "duration": 385,
    "start_time": "2021-10-11T12:42:02.812Z"
   },
   {
    "duration": 10,
    "start_time": "2021-10-11T12:42:06.082Z"
   },
   {
    "duration": 12,
    "start_time": "2021-10-11T12:42:17.738Z"
   },
   {
    "duration": 291,
    "start_time": "2021-10-11T12:43:39.551Z"
   },
   {
    "duration": 11,
    "start_time": "2021-10-11T12:43:47.316Z"
   },
   {
    "duration": 8,
    "start_time": "2021-10-11T12:43:55.699Z"
   },
   {
    "duration": 6,
    "start_time": "2021-10-11T12:44:03.186Z"
   },
   {
    "duration": 7,
    "start_time": "2021-10-11T12:44:06.227Z"
   },
   {
    "duration": 4,
    "start_time": "2021-10-11T12:44:50.846Z"
   },
   {
    "duration": 6,
    "start_time": "2021-10-11T12:44:54.777Z"
   },
   {
    "duration": 7,
    "start_time": "2021-10-11T12:45:08.769Z"
   },
   {
    "duration": 7,
    "start_time": "2021-10-11T12:45:09.093Z"
   },
   {
    "duration": 811,
    "start_time": "2021-10-11T12:45:28.257Z"
   },
   {
    "duration": 5,
    "start_time": "2021-10-11T12:46:34.151Z"
   },
   {
    "duration": 4,
    "start_time": "2021-10-11T12:46:42.599Z"
   },
   {
    "duration": 31703,
    "start_time": "2021-10-11T12:46:46.001Z"
   },
   {
    "duration": -833,
    "start_time": "2021-10-11T12:47:18.542Z"
   },
   {
    "duration": 294,
    "start_time": "2021-10-11T12:47:20.529Z"
   },
   {
    "duration": 348,
    "start_time": "2021-10-11T12:47:31.674Z"
   },
   {
    "duration": 31,
    "start_time": "2021-10-11T12:47:39.248Z"
   },
   {
    "duration": 230,
    "start_time": "2021-10-11T12:47:41.548Z"
   },
   {
    "duration": 358,
    "start_time": "2021-10-11T12:47:43.410Z"
   },
   {
    "duration": 360,
    "start_time": "2021-10-11T12:49:20.207Z"
   },
   {
    "duration": 36,
    "start_time": "2021-10-11T12:50:17.938Z"
   },
   {
    "duration": 7,
    "start_time": "2021-10-11T12:50:19.468Z"
   },
   {
    "duration": 6,
    "start_time": "2021-10-11T12:50:21.999Z"
   },
   {
    "duration": 12,
    "start_time": "2021-10-11T12:50:22.895Z"
   },
   {
    "duration": 606,
    "start_time": "2021-10-11T12:50:27.730Z"
   },
   {
    "duration": 3,
    "start_time": "2021-10-11T12:50:36.153Z"
   },
   {
    "duration": 716,
    "start_time": "2021-10-11T12:50:37.050Z"
   },
   {
    "duration": 7,
    "start_time": "2021-10-11T12:50:43.145Z"
   },
   {
    "duration": 6,
    "start_time": "2021-10-11T12:50:45.449Z"
   },
   {
    "duration": 280,
    "start_time": "2021-10-11T12:50:56.650Z"
   },
   {
    "duration": 12,
    "start_time": "2021-10-11T12:51:53.994Z"
   },
   {
    "duration": 8,
    "start_time": "2021-10-11T12:52:36.576Z"
   },
   {
    "duration": 7,
    "start_time": "2021-10-11T12:52:37.035Z"
   },
   {
    "duration": 290,
    "start_time": "2021-10-11T12:52:37.487Z"
   },
   {
    "duration": 13,
    "start_time": "2021-10-11T12:52:42.051Z"
   },
   {
    "duration": 37,
    "start_time": "2021-10-11T12:52:53.653Z"
   },
   {
    "duration": 8,
    "start_time": "2021-10-11T12:52:53.898Z"
   },
   {
    "duration": 7,
    "start_time": "2021-10-11T12:52:54.110Z"
   },
   {
    "duration": 13,
    "start_time": "2021-10-11T12:52:54.581Z"
   },
   {
    "duration": 3,
    "start_time": "2021-10-11T12:52:56.305Z"
   },
   {
    "duration": 614,
    "start_time": "2021-10-11T12:52:56.545Z"
   },
   {
    "duration": 8,
    "start_time": "2021-10-11T12:52:57.330Z"
   },
   {
    "duration": 8,
    "start_time": "2021-10-11T12:52:58.402Z"
   },
   {
    "duration": 464,
    "start_time": "2021-10-11T12:52:59.768Z"
   },
   {
    "duration": 13,
    "start_time": "2021-10-11T12:53:03.169Z"
   },
   {
    "duration": 5,
    "start_time": "2021-10-11T12:56:23.292Z"
   },
   {
    "duration": 8,
    "start_time": "2021-10-11T12:57:10.451Z"
   },
   {
    "duration": 267,
    "start_time": "2021-10-11T12:57:28.023Z"
   },
   {
    "duration": 318,
    "start_time": "2021-10-11T12:58:43.965Z"
   },
   {
    "duration": 293,
    "start_time": "2021-10-11T12:58:53.699Z"
   },
   {
    "duration": 302,
    "start_time": "2021-10-11T12:58:57.019Z"
   },
   {
    "duration": 367,
    "start_time": "2021-10-11T12:59:38.464Z"
   },
   {
    "duration": 310,
    "start_time": "2021-10-11T13:00:11.213Z"
   },
   {
    "duration": 285,
    "start_time": "2021-10-11T13:00:29.273Z"
   },
   {
    "duration": 10,
    "start_time": "2021-10-11T13:01:05.492Z"
   },
   {
    "duration": 6,
    "start_time": "2021-10-11T13:01:49.848Z"
   },
   {
    "duration": 280,
    "start_time": "2021-10-11T13:02:04.669Z"
   },
   {
    "duration": 318,
    "start_time": "2021-10-11T13:02:28.775Z"
   },
   {
    "duration": 302,
    "start_time": "2021-10-11T13:02:33.695Z"
   },
   {
    "duration": 397,
    "start_time": "2021-10-11T13:03:22.421Z"
   },
   {
    "duration": 276,
    "start_time": "2021-10-11T13:03:34.286Z"
   },
   {
    "duration": 273,
    "start_time": "2021-10-11T13:03:40.067Z"
   },
   {
    "duration": 326,
    "start_time": "2021-10-11T13:03:40.724Z"
   },
   {
    "duration": 298,
    "start_time": "2021-10-11T13:03:43.197Z"
   },
   {
    "duration": 7425,
    "start_time": "2021-10-11T13:25:48.861Z"
   },
   {
    "duration": 12,
    "start_time": "2021-10-11T13:26:23.482Z"
   },
   {
    "duration": 319,
    "start_time": "2021-10-11T13:28:12.482Z"
   },
   {
    "duration": 54,
    "start_time": "2021-10-11T13:28:22.578Z"
   },
   {
    "duration": 6,
    "start_time": "2021-10-11T13:28:55.418Z"
   },
   {
    "duration": 288,
    "start_time": "2021-10-11T13:29:02.130Z"
   },
   {
    "duration": 39,
    "start_time": "2021-10-11T13:29:05.049Z"
   },
   {
    "duration": 1014,
    "start_time": "2021-10-11T13:29:24.986Z"
   },
   {
    "duration": 39,
    "start_time": "2021-10-11T13:29:26.002Z"
   },
   {
    "duration": 15,
    "start_time": "2021-10-11T13:29:26.046Z"
   },
   {
    "duration": 13,
    "start_time": "2021-10-11T13:29:26.063Z"
   },
   {
    "duration": 13,
    "start_time": "2021-10-11T13:29:26.078Z"
   },
   {
    "duration": 2,
    "start_time": "2021-10-11T13:29:26.092Z"
   },
   {
    "duration": 697,
    "start_time": "2021-10-11T13:29:26.096Z"
   },
   {
    "duration": 9,
    "start_time": "2021-10-11T13:29:26.796Z"
   },
   {
    "duration": 6,
    "start_time": "2021-10-11T13:29:26.808Z"
   },
   {
    "duration": 12,
    "start_time": "2021-10-11T13:29:26.816Z"
   },
   {
    "duration": 351,
    "start_time": "2021-10-11T13:29:26.830Z"
   },
   {
    "duration": 309,
    "start_time": "2021-10-11T13:29:27.182Z"
   },
   {
    "duration": 7,
    "start_time": "2021-10-11T13:29:27.493Z"
   },
   {
    "duration": 295,
    "start_time": "2021-10-11T13:29:27.502Z"
   },
   {
    "duration": 283,
    "start_time": "2021-10-11T13:29:27.799Z"
   },
   {
    "duration": 288,
    "start_time": "2021-10-11T13:29:28.084Z"
   },
   {
    "duration": 4,
    "start_time": "2021-10-11T13:29:28.376Z"
   },
   {
    "duration": 7,
    "start_time": "2021-10-11T13:29:28.381Z"
   },
   {
    "duration": 24,
    "start_time": "2021-10-11T13:29:28.390Z"
   },
   {
    "duration": 292,
    "start_time": "2021-10-11T13:30:33.836Z"
   },
   {
    "duration": 378,
    "start_time": "2021-10-11T13:30:47.818Z"
   },
   {
    "duration": 4,
    "start_time": "2021-10-11T13:31:04.932Z"
   },
   {
    "duration": 5,
    "start_time": "2021-10-11T13:31:05.359Z"
   },
   {
    "duration": 11,
    "start_time": "2021-10-11T13:31:05.788Z"
   },
   {
    "duration": 4,
    "start_time": "2021-10-11T13:31:26.989Z"
   },
   {
    "duration": 16,
    "start_time": "2021-10-11T13:31:40.393Z"
   },
   {
    "duration": 5,
    "start_time": "2021-10-11T13:36:03.667Z"
   },
   {
    "duration": 3,
    "start_time": "2021-10-11T13:37:12.990Z"
   },
   {
    "duration": 373,
    "start_time": "2021-10-11T13:37:29.517Z"
   },
   {
    "duration": 7,
    "start_time": "2021-10-11T13:37:50.296Z"
   },
   {
    "duration": 7,
    "start_time": "2021-10-11T13:38:32.246Z"
   },
   {
    "duration": 5,
    "start_time": "2021-10-11T13:39:08.168Z"
   },
   {
    "duration": 4,
    "start_time": "2021-10-11T13:43:28.894Z"
   },
   {
    "duration": 12,
    "start_time": "2021-10-11T13:43:32.082Z"
   },
   {
    "duration": 4,
    "start_time": "2021-10-11T13:44:09.995Z"
   },
   {
    "duration": 8,
    "start_time": "2021-10-11T13:44:46.194Z"
   },
   {
    "duration": 11,
    "start_time": "2021-10-11T13:45:31.064Z"
   },
   {
    "duration": 15,
    "start_time": "2021-10-11T13:45:38.420Z"
   },
   {
    "duration": 5,
    "start_time": "2021-10-11T13:46:01.507Z"
   },
   {
    "duration": 7,
    "start_time": "2021-10-11T13:46:22.981Z"
   },
   {
    "duration": 313,
    "start_time": "2021-10-11T13:46:43.038Z"
   },
   {
    "duration": 49,
    "start_time": "2021-10-11T13:46:52.185Z"
   },
   {
    "duration": 1109,
    "start_time": "2021-10-11T13:47:12.930Z"
   },
   {
    "duration": 42,
    "start_time": "2021-10-11T13:47:14.041Z"
   },
   {
    "duration": 12,
    "start_time": "2021-10-11T13:47:14.085Z"
   },
   {
    "duration": 8,
    "start_time": "2021-10-11T13:47:14.099Z"
   },
   {
    "duration": 13,
    "start_time": "2021-10-11T13:47:14.109Z"
   },
   {
    "duration": 3,
    "start_time": "2021-10-11T13:47:14.124Z"
   },
   {
    "duration": 708,
    "start_time": "2021-10-11T13:47:14.128Z"
   },
   {
    "duration": 9,
    "start_time": "2021-10-11T13:47:14.839Z"
   },
   {
    "duration": 9,
    "start_time": "2021-10-11T13:47:14.850Z"
   },
   {
    "duration": 25,
    "start_time": "2021-10-11T13:47:14.860Z"
   },
   {
    "duration": 349,
    "start_time": "2021-10-11T13:47:14.887Z"
   },
   {
    "duration": 309,
    "start_time": "2021-10-11T13:47:15.238Z"
   },
   {
    "duration": 8,
    "start_time": "2021-10-11T13:47:15.549Z"
   },
   {
    "duration": 485,
    "start_time": "2021-10-11T13:47:15.559Z"
   },
   {
    "duration": 433,
    "start_time": "2021-10-11T13:47:16.046Z"
   },
   {
    "duration": 429,
    "start_time": "2021-10-11T13:47:16.481Z"
   },
   {
    "duration": 7,
    "start_time": "2021-10-11T13:47:16.912Z"
   },
   {
    "duration": 8,
    "start_time": "2021-10-11T13:47:16.922Z"
   },
   {
    "duration": 4,
    "start_time": "2021-10-11T13:47:16.932Z"
   },
   {
    "duration": 38,
    "start_time": "2021-10-11T13:47:16.938Z"
   },
   {
    "duration": 10,
    "start_time": "2021-10-11T13:47:16.978Z"
   },
   {
    "duration": 15,
    "start_time": "2021-10-11T13:47:16.990Z"
   },
   {
    "duration": 10,
    "start_time": "2021-10-11T13:47:17.008Z"
   },
   {
    "duration": 16,
    "start_time": "2021-10-11T13:47:58.126Z"
   },
   {
    "duration": 51,
    "start_time": "2021-10-11T13:48:05.386Z"
   },
   {
    "duration": 1194,
    "start_time": "2021-10-11T13:48:11.604Z"
   },
   {
    "duration": 50,
    "start_time": "2021-10-11T13:48:12.800Z"
   },
   {
    "duration": 18,
    "start_time": "2021-10-11T13:48:12.852Z"
   },
   {
    "duration": 7,
    "start_time": "2021-10-11T13:48:12.872Z"
   },
   {
    "duration": 12,
    "start_time": "2021-10-11T13:48:12.880Z"
   },
   {
    "duration": 2,
    "start_time": "2021-10-11T13:48:12.894Z"
   },
   {
    "duration": 699,
    "start_time": "2021-10-11T13:48:12.898Z"
   },
   {
    "duration": 9,
    "start_time": "2021-10-11T13:48:13.599Z"
   },
   {
    "duration": 6,
    "start_time": "2021-10-11T13:48:13.610Z"
   },
   {
    "duration": 10,
    "start_time": "2021-10-11T13:48:13.618Z"
   },
   {
    "duration": 355,
    "start_time": "2021-10-11T13:48:13.630Z"
   },
   {
    "duration": 312,
    "start_time": "2021-10-11T13:48:13.986Z"
   },
   {
    "duration": 8,
    "start_time": "2021-10-11T13:48:14.299Z"
   },
   {
    "duration": 307,
    "start_time": "2021-10-11T13:48:14.309Z"
   },
   {
    "duration": 277,
    "start_time": "2021-10-11T13:48:14.618Z"
   },
   {
    "duration": 286,
    "start_time": "2021-10-11T13:48:14.897Z"
   },
   {
    "duration": 15,
    "start_time": "2021-10-11T13:48:15.184Z"
   },
   {
    "duration": 6,
    "start_time": "2021-10-11T13:48:15.201Z"
   },
   {
    "duration": 10,
    "start_time": "2021-10-11T13:48:15.209Z"
   },
   {
    "duration": 5,
    "start_time": "2021-10-11T13:48:15.221Z"
   },
   {
    "duration": 18,
    "start_time": "2021-10-11T13:48:15.227Z"
   },
   {
    "duration": 11,
    "start_time": "2021-10-11T13:48:15.277Z"
   },
   {
    "duration": 15,
    "start_time": "2021-10-11T13:48:15.291Z"
   },
   {
    "duration": 9,
    "start_time": "2021-10-11T13:48:15.308Z"
   },
   {
    "duration": 1185,
    "start_time": "2021-10-11T13:49:40.980Z"
   },
   {
    "duration": 39,
    "start_time": "2021-10-11T13:49:42.167Z"
   },
   {
    "duration": 13,
    "start_time": "2021-10-11T13:49:42.209Z"
   },
   {
    "duration": 7,
    "start_time": "2021-10-11T13:49:42.225Z"
   },
   {
    "duration": 13,
    "start_time": "2021-10-11T13:49:42.234Z"
   },
   {
    "duration": 3,
    "start_time": "2021-10-11T13:49:42.249Z"
   },
   {
    "duration": 1026,
    "start_time": "2021-10-11T13:49:42.277Z"
   },
   {
    "duration": 11,
    "start_time": "2021-10-11T13:49:43.306Z"
   },
   {
    "duration": 6,
    "start_time": "2021-10-11T13:49:43.319Z"
   },
   {
    "duration": 12,
    "start_time": "2021-10-11T13:49:43.327Z"
   },
   {
    "duration": 374,
    "start_time": "2021-10-11T13:49:43.340Z"
   },
   {
    "duration": 330,
    "start_time": "2021-10-11T13:49:43.716Z"
   },
   {
    "duration": 8,
    "start_time": "2021-10-11T13:49:44.048Z"
   },
   {
    "duration": 325,
    "start_time": "2021-10-11T13:49:44.058Z"
   },
   {
    "duration": 275,
    "start_time": "2021-10-11T13:49:44.384Z"
   },
   {
    "duration": 410,
    "start_time": "2021-10-11T13:49:44.661Z"
   },
   {
    "duration": 7,
    "start_time": "2021-10-11T13:49:45.077Z"
   },
   {
    "duration": 11,
    "start_time": "2021-10-11T13:49:45.086Z"
   },
   {
    "duration": 5,
    "start_time": "2021-10-11T13:49:45.099Z"
   },
   {
    "duration": 17,
    "start_time": "2021-10-11T13:49:45.106Z"
   },
   {
    "duration": 53,
    "start_time": "2021-10-11T13:49:45.125Z"
   },
   {
    "duration": 10,
    "start_time": "2021-10-11T13:49:45.179Z"
   },
   {
    "duration": 14,
    "start_time": "2021-10-11T13:49:45.192Z"
   },
   {
    "duration": 8,
    "start_time": "2021-10-11T13:49:45.208Z"
   },
   {
    "duration": 1376,
    "start_time": "2021-10-11T13:50:24.578Z"
   },
   {
    "duration": 55,
    "start_time": "2021-10-11T13:50:25.957Z"
   },
   {
    "duration": 19,
    "start_time": "2021-10-11T13:50:26.015Z"
   },
   {
    "duration": 6,
    "start_time": "2021-10-11T13:50:26.037Z"
   },
   {
    "duration": 34,
    "start_time": "2021-10-11T13:50:26.045Z"
   },
   {
    "duration": 3,
    "start_time": "2021-10-11T13:50:26.081Z"
   },
   {
    "duration": 1009,
    "start_time": "2021-10-11T13:50:26.086Z"
   },
   {
    "duration": 9,
    "start_time": "2021-10-11T13:50:27.097Z"
   },
   {
    "duration": 8,
    "start_time": "2021-10-11T13:50:27.108Z"
   },
   {
    "duration": 22,
    "start_time": "2021-10-11T13:50:27.118Z"
   },
   {
    "duration": 357,
    "start_time": "2021-10-11T13:50:27.142Z"
   },
   {
    "duration": 308,
    "start_time": "2021-10-11T13:50:27.500Z"
   },
   {
    "duration": 8,
    "start_time": "2021-10-11T13:50:27.809Z"
   },
   {
    "duration": 326,
    "start_time": "2021-10-11T13:50:27.818Z"
   },
   {
    "duration": 279,
    "start_time": "2021-10-11T13:50:28.146Z"
   },
   {
    "duration": 297,
    "start_time": "2021-10-11T13:50:28.427Z"
   },
   {
    "duration": 7,
    "start_time": "2021-10-11T13:50:28.725Z"
   },
   {
    "duration": 10,
    "start_time": "2021-10-11T13:50:28.733Z"
   },
   {
    "duration": 17,
    "start_time": "2021-10-11T13:50:28.745Z"
   },
   {
    "duration": 31,
    "start_time": "2021-10-11T13:50:28.763Z"
   },
   {
    "duration": 39,
    "start_time": "2021-10-11T13:50:28.796Z"
   },
   {
    "duration": 11,
    "start_time": "2021-10-11T13:50:28.837Z"
   },
   {
    "duration": 19,
    "start_time": "2021-10-11T13:50:28.850Z"
   },
   {
    "duration": 12,
    "start_time": "2021-10-11T13:50:28.877Z"
   },
   {
    "duration": 6,
    "start_time": "2021-10-11T13:50:46.742Z"
   },
   {
    "duration": 12,
    "start_time": "2021-10-11T13:50:50.059Z"
   },
   {
    "duration": 6,
    "start_time": "2021-10-11T13:50:52.839Z"
   },
   {
    "duration": 104,
    "start_time": "2021-10-11T13:52:40.827Z"
   },
   {
    "duration": 6,
    "start_time": "2021-10-11T13:52:46.347Z"
   },
   {
    "duration": 134,
    "start_time": "2021-10-11T13:54:56.652Z"
   },
   {
    "duration": 3,
    "start_time": "2021-10-11T13:55:04.076Z"
   },
   {
    "duration": 381,
    "start_time": "2021-10-11T13:56:24.032Z"
   },
   {
    "duration": 1168,
    "start_time": "2021-10-11T13:56:54.653Z"
   },
   {
    "duration": 39,
    "start_time": "2021-10-11T13:56:55.824Z"
   },
   {
    "duration": 15,
    "start_time": "2021-10-11T13:56:55.866Z"
   },
   {
    "duration": 7,
    "start_time": "2021-10-11T13:56:55.884Z"
   },
   {
    "duration": 13,
    "start_time": "2021-10-11T13:56:55.894Z"
   },
   {
    "duration": 3,
    "start_time": "2021-10-11T13:56:55.909Z"
   },
   {
    "duration": 720,
    "start_time": "2021-10-11T13:56:55.914Z"
   },
   {
    "duration": 9,
    "start_time": "2021-10-11T13:56:56.638Z"
   },
   {
    "duration": 18,
    "start_time": "2021-10-11T13:56:56.650Z"
   },
   {
    "duration": 22,
    "start_time": "2021-10-11T13:56:56.670Z"
   },
   {
    "duration": 333,
    "start_time": "2021-10-11T13:56:56.694Z"
   },
   {
    "duration": 320,
    "start_time": "2021-10-11T13:56:57.030Z"
   },
   {
    "duration": 8,
    "start_time": "2021-10-11T13:56:57.353Z"
   },
   {
    "duration": 320,
    "start_time": "2021-10-11T13:56:57.362Z"
   },
   {
    "duration": 283,
    "start_time": "2021-10-11T13:56:57.685Z"
   },
   {
    "duration": 297,
    "start_time": "2021-10-11T13:56:57.970Z"
   },
   {
    "duration": 10,
    "start_time": "2021-10-11T13:56:58.269Z"
   },
   {
    "duration": 7,
    "start_time": "2021-10-11T13:56:58.281Z"
   },
   {
    "duration": 10,
    "start_time": "2021-10-11T13:56:58.290Z"
   },
   {
    "duration": 9,
    "start_time": "2021-10-11T13:56:58.301Z"
   },
   {
    "duration": 870,
    "start_time": "2021-10-11T13:56:58.312Z"
   },
   {
    "duration": -734,
    "start_time": "2021-10-11T13:56:59.920Z"
   },
   {
    "duration": -735,
    "start_time": "2021-10-11T13:56:59.922Z"
   },
   {
    "duration": -734,
    "start_time": "2021-10-11T13:56:59.923Z"
   },
   {
    "duration": -736,
    "start_time": "2021-10-11T13:56:59.927Z"
   },
   {
    "duration": -737,
    "start_time": "2021-10-11T13:56:59.929Z"
   },
   {
    "duration": -738,
    "start_time": "2021-10-11T13:56:59.932Z"
   },
   {
    "duration": 562,
    "start_time": "2021-10-11T13:57:08.303Z"
   },
   {
    "duration": 4,
    "start_time": "2021-10-11T13:57:36.918Z"
   },
   {
    "duration": 606,
    "start_time": "2021-10-11T13:57:39.981Z"
   },
   {
    "duration": 3,
    "start_time": "2021-10-11T13:58:01.282Z"
   },
   {
    "duration": 6,
    "start_time": "2021-10-11T13:58:04.556Z"
   },
   {
    "duration": 6,
    "start_time": "2021-10-11T13:58:10.641Z"
   },
   {
    "duration": 4,
    "start_time": "2021-10-11T13:58:31.606Z"
   },
   {
    "duration": 5,
    "start_time": "2021-10-11T13:58:37.354Z"
   },
   {
    "duration": 7,
    "start_time": "2021-10-11T13:58:37.790Z"
   },
   {
    "duration": 7,
    "start_time": "2021-10-11T13:58:43.354Z"
   },
   {
    "duration": 7,
    "start_time": "2021-10-11T13:58:43.559Z"
   },
   {
    "duration": 5,
    "start_time": "2021-10-11T13:58:53.994Z"
   },
   {
    "duration": 7,
    "start_time": "2021-10-11T13:58:55.346Z"
   },
   {
    "duration": 3,
    "start_time": "2021-10-11T13:59:56.453Z"
   },
   {
    "duration": 292,
    "start_time": "2021-10-11T14:00:02.884Z"
   },
   {
    "duration": 6,
    "start_time": "2021-10-11T14:00:15.487Z"
   },
   {
    "duration": 7,
    "start_time": "2021-10-11T14:00:16.428Z"
   },
   {
    "duration": 376,
    "start_time": "2021-10-11T14:01:18.912Z"
   },
   {
    "duration": 3,
    "start_time": "2021-10-11T14:01:25.216Z"
   },
   {
    "duration": 12,
    "start_time": "2021-10-11T14:01:25.543Z"
   },
   {
    "duration": 11,
    "start_time": "2021-10-11T14:01:25.862Z"
   },
   {
    "duration": 15,
    "start_time": "2021-10-11T14:01:26.353Z"
   },
   {
    "duration": 5,
    "start_time": "2021-10-11T14:01:26.734Z"
   },
   {
    "duration": 363,
    "start_time": "2021-10-11T14:01:33.108Z"
   },
   {
    "duration": 15,
    "start_time": "2021-10-11T14:01:44.963Z"
   },
   {
    "duration": 10,
    "start_time": "2021-10-11T14:07:36.075Z"
   },
   {
    "duration": 2,
    "start_time": "2021-10-11T14:08:08.219Z"
   },
   {
    "duration": 293,
    "start_time": "2021-10-11T14:08:36.894Z"
   },
   {
    "duration": 23,
    "start_time": "2021-10-11T14:09:16.012Z"
   },
   {
    "duration": 2977,
    "start_time": "2021-10-11T14:09:19.463Z"
   },
   {
    "duration": 308,
    "start_time": "2021-10-11T14:11:54.989Z"
   },
   {
    "duration": 32,
    "start_time": "2021-10-11T14:12:11.825Z"
   },
   {
    "duration": 10,
    "start_time": "2021-10-11T14:12:36.529Z"
   },
   {
    "duration": 12,
    "start_time": "2021-10-11T14:12:40.304Z"
   },
   {
    "duration": 24,
    "start_time": "2021-10-11T14:12:42.810Z"
   },
   {
    "duration": 12,
    "start_time": "2021-10-11T14:12:47.727Z"
   },
   {
    "duration": 24,
    "start_time": "2021-10-11T14:12:51.931Z"
   },
   {
    "duration": 33,
    "start_time": "2021-10-11T14:12:54.743Z"
   },
   {
    "duration": 32,
    "start_time": "2021-10-11T14:12:57.737Z"
   },
   {
    "duration": 11,
    "start_time": "2021-10-11T14:13:00.368Z"
   },
   {
    "duration": 1507,
    "start_time": "2021-10-11T14:23:38.040Z"
   },
   {
    "duration": 1257,
    "start_time": "2021-10-11T14:24:22.878Z"
   },
   {
    "duration": 4,
    "start_time": "2021-10-11T14:49:44.674Z"
   },
   {
    "duration": 299,
    "start_time": "2021-10-11T14:51:29.457Z"
   },
   {
    "duration": 3,
    "start_time": "2021-10-11T14:52:10.757Z"
   },
   {
    "duration": 284,
    "start_time": "2021-10-11T14:52:16.092Z"
   },
   {
    "duration": 339,
    "start_time": "2021-10-11T14:52:19.901Z"
   },
   {
    "duration": 285,
    "start_time": "2021-10-11T14:52:32.431Z"
   },
   {
    "duration": 11,
    "start_time": "2021-10-11T14:52:43.135Z"
   },
   {
    "duration": 5,
    "start_time": "2021-10-11T14:53:52.678Z"
   },
   {
    "duration": 3,
    "start_time": "2021-10-11T14:53:59.800Z"
   },
   {
    "duration": 4,
    "start_time": "2021-10-11T14:54:01.491Z"
   },
   {
    "duration": 4,
    "start_time": "2021-10-11T14:54:07.310Z"
   },
   {
    "duration": 320,
    "start_time": "2021-10-11T15:00:10.023Z"
   },
   {
    "duration": 316,
    "start_time": "2021-10-11T15:00:23.345Z"
   },
   {
    "duration": 298,
    "start_time": "2021-10-11T15:01:01.028Z"
   },
   {
    "duration": 504,
    "start_time": "2021-10-11T15:01:22.864Z"
   },
   {
    "duration": 289,
    "start_time": "2021-10-11T15:01:29.280Z"
   },
   {
    "duration": 325,
    "start_time": "2021-10-11T15:01:41.588Z"
   },
   {
    "duration": 322,
    "start_time": "2021-10-11T15:01:47.898Z"
   },
   {
    "duration": 301,
    "start_time": "2021-10-11T15:01:54.559Z"
   },
   {
    "duration": 303,
    "start_time": "2021-10-11T15:02:11.221Z"
   },
   {
    "duration": 1135,
    "start_time": "2021-10-11T15:02:18.116Z"
   },
   {
    "duration": 38,
    "start_time": "2021-10-11T15:02:19.253Z"
   },
   {
    "duration": 14,
    "start_time": "2021-10-11T15:02:19.295Z"
   },
   {
    "duration": 9,
    "start_time": "2021-10-11T15:02:19.310Z"
   },
   {
    "duration": 12,
    "start_time": "2021-10-11T15:02:19.320Z"
   },
   {
    "duration": 2,
    "start_time": "2021-10-11T15:02:19.334Z"
   },
   {
    "duration": 719,
    "start_time": "2021-10-11T15:02:19.339Z"
   },
   {
    "duration": 9,
    "start_time": "2021-10-11T15:02:20.061Z"
   },
   {
    "duration": 80,
    "start_time": "2021-10-11T15:02:20.072Z"
   },
   {
    "duration": 15,
    "start_time": "2021-10-11T15:02:20.154Z"
   },
   {
    "duration": 279,
    "start_time": "2021-10-11T15:02:20.171Z"
   },
   {
    "duration": 406,
    "start_time": "2021-10-11T15:02:20.452Z"
   },
   {
    "duration": 8,
    "start_time": "2021-10-11T15:02:20.859Z"
   },
   {
    "duration": 317,
    "start_time": "2021-10-11T15:02:20.877Z"
   },
   {
    "duration": 275,
    "start_time": "2021-10-11T15:02:21.196Z"
   },
   {
    "duration": 381,
    "start_time": "2021-10-11T15:02:21.476Z"
   },
   {
    "duration": 2,
    "start_time": "2021-10-11T15:02:21.859Z"
   },
   {
    "duration": 14,
    "start_time": "2021-10-11T15:02:21.863Z"
   },
   {
    "duration": 17,
    "start_time": "2021-10-11T15:02:21.878Z"
   },
   {
    "duration": 10,
    "start_time": "2021-10-11T15:02:21.896Z"
   },
   {
    "duration": 12,
    "start_time": "2021-10-11T15:02:21.908Z"
   },
   {
    "duration": 11,
    "start_time": "2021-10-11T15:02:21.923Z"
   },
   {
    "duration": 11,
    "start_time": "2021-10-11T15:02:21.936Z"
   },
   {
    "duration": 13,
    "start_time": "2021-10-11T15:02:21.949Z"
   },
   {
    "duration": 17,
    "start_time": "2021-10-11T15:02:21.964Z"
   },
   {
    "duration": 9,
    "start_time": "2021-10-11T15:02:21.983Z"
   },
   {
    "duration": 87,
    "start_time": "2021-10-11T15:02:21.993Z"
   },
   {
    "duration": 486,
    "start_time": "2021-10-11T15:02:22.083Z"
   },
   {
    "duration": -672,
    "start_time": "2021-10-11T15:02:23.243Z"
   },
   {
    "duration": 309,
    "start_time": "2021-10-11T15:02:54.838Z"
   },
   {
    "duration": 6,
    "start_time": "2021-10-11T15:02:58.341Z"
   },
   {
    "duration": 1140,
    "start_time": "2021-10-11T15:03:05.597Z"
   },
   {
    "duration": 40,
    "start_time": "2021-10-11T15:03:06.740Z"
   },
   {
    "duration": 15,
    "start_time": "2021-10-11T15:03:06.783Z"
   },
   {
    "duration": 10,
    "start_time": "2021-10-11T15:03:06.801Z"
   },
   {
    "duration": 14,
    "start_time": "2021-10-11T15:03:06.813Z"
   },
   {
    "duration": 3,
    "start_time": "2021-10-11T15:03:06.829Z"
   },
   {
    "duration": 737,
    "start_time": "2021-10-11T15:03:06.834Z"
   },
   {
    "duration": 69,
    "start_time": "2021-10-11T15:03:07.577Z"
   },
   {
    "duration": 7,
    "start_time": "2021-10-11T15:03:07.649Z"
   },
   {
    "duration": 29,
    "start_time": "2021-10-11T15:03:07.657Z"
   },
   {
    "duration": 296,
    "start_time": "2021-10-11T15:03:07.688Z"
   },
   {
    "duration": 323,
    "start_time": "2021-10-11T15:03:07.985Z"
   },
   {
    "duration": 8,
    "start_time": "2021-10-11T15:03:08.310Z"
   },
   {
    "duration": 313,
    "start_time": "2021-10-11T15:03:08.320Z"
   },
   {
    "duration": 280,
    "start_time": "2021-10-11T15:03:08.635Z"
   },
   {
    "duration": 296,
    "start_time": "2021-10-11T15:03:08.916Z"
   },
   {
    "duration": 3,
    "start_time": "2021-10-11T15:03:09.214Z"
   },
   {
    "duration": 8,
    "start_time": "2021-10-11T15:03:09.218Z"
   },
   {
    "duration": 8,
    "start_time": "2021-10-11T15:03:09.227Z"
   },
   {
    "duration": 9,
    "start_time": "2021-10-11T15:03:09.236Z"
   },
   {
    "duration": 6,
    "start_time": "2021-10-11T15:03:09.247Z"
   },
   {
    "duration": 5,
    "start_time": "2021-10-11T15:03:09.277Z"
   },
   {
    "duration": 8,
    "start_time": "2021-10-11T15:03:09.285Z"
   },
   {
    "duration": 5,
    "start_time": "2021-10-11T15:03:09.294Z"
   },
   {
    "duration": 15,
    "start_time": "2021-10-11T15:03:09.301Z"
   },
   {
    "duration": 10,
    "start_time": "2021-10-11T15:03:09.318Z"
   },
   {
    "duration": 52,
    "start_time": "2021-10-11T15:03:09.330Z"
   },
   {
    "duration": 114,
    "start_time": "2021-10-11T15:03:09.385Z"
   },
   {
    "duration": 393,
    "start_time": "2021-10-11T15:03:09.502Z"
   },
   {
    "duration": -674,
    "start_time": "2021-10-11T15:03:10.571Z"
   },
   {
    "duration": 146,
    "start_time": "2021-10-11T15:08:07.968Z"
   },
   {
    "duration": 324,
    "start_time": "2021-10-11T15:08:15.486Z"
   },
   {
    "duration": 1044,
    "start_time": "2021-10-11T15:08:20.100Z"
   },
   {
    "duration": 302,
    "start_time": "2021-10-11T15:09:19.212Z"
   },
   {
    "duration": 5,
    "start_time": "2021-10-11T15:09:56.314Z"
   },
   {
    "duration": 1806,
    "start_time": "2021-10-11T15:10:05.427Z"
   },
   {
    "duration": 37,
    "start_time": "2021-10-11T15:10:07.235Z"
   },
   {
    "duration": 14,
    "start_time": "2021-10-11T15:10:07.274Z"
   },
   {
    "duration": 7,
    "start_time": "2021-10-11T15:10:07.289Z"
   },
   {
    "duration": 13,
    "start_time": "2021-10-11T15:10:07.298Z"
   },
   {
    "duration": 3,
    "start_time": "2021-10-11T15:10:07.312Z"
   },
   {
    "duration": 696,
    "start_time": "2021-10-11T15:10:07.317Z"
   },
   {
    "duration": 78,
    "start_time": "2021-10-11T15:10:08.015Z"
   },
   {
    "duration": 6,
    "start_time": "2021-10-11T15:10:08.097Z"
   },
   {
    "duration": 16,
    "start_time": "2021-10-11T15:10:08.106Z"
   },
   {
    "duration": 297,
    "start_time": "2021-10-11T15:10:08.125Z"
   },
   {
    "duration": 309,
    "start_time": "2021-10-11T15:10:08.424Z"
   },
   {
    "duration": 8,
    "start_time": "2021-10-11T15:10:08.736Z"
   },
   {
    "duration": 311,
    "start_time": "2021-10-11T15:10:08.746Z"
   },
   {
    "duration": 270,
    "start_time": "2021-10-11T15:10:09.060Z"
   },
   {
    "duration": 277,
    "start_time": "2021-10-11T15:10:09.332Z"
   },
   {
    "duration": 2,
    "start_time": "2021-10-11T15:10:09.611Z"
   },
   {
    "duration": 14,
    "start_time": "2021-10-11T15:10:09.615Z"
   },
   {
    "duration": 18,
    "start_time": "2021-10-11T15:10:09.631Z"
   },
   {
    "duration": 17,
    "start_time": "2021-10-11T15:10:09.651Z"
   },
   {
    "duration": 20,
    "start_time": "2021-10-11T15:10:09.670Z"
   },
   {
    "duration": 11,
    "start_time": "2021-10-11T15:10:09.692Z"
   },
   {
    "duration": 19,
    "start_time": "2021-10-11T15:10:09.705Z"
   },
   {
    "duration": 9,
    "start_time": "2021-10-11T15:10:09.726Z"
   },
   {
    "duration": 23,
    "start_time": "2021-10-11T15:10:09.737Z"
   },
   {
    "duration": 9,
    "start_time": "2021-10-11T15:10:09.762Z"
   },
   {
    "duration": 15,
    "start_time": "2021-10-11T15:10:09.774Z"
   },
   {
    "duration": 185,
    "start_time": "2021-10-11T15:10:09.793Z"
   },
   {
    "duration": 426,
    "start_time": "2021-10-11T15:10:09.980Z"
   },
   {
    "duration": -692,
    "start_time": "2021-10-11T15:10:11.099Z"
   },
   {
    "duration": 1058,
    "start_time": "2021-10-11T15:11:08.379Z"
   },
   {
    "duration": 38,
    "start_time": "2021-10-11T15:11:09.439Z"
   },
   {
    "duration": 14,
    "start_time": "2021-10-11T15:11:09.479Z"
   },
   {
    "duration": 6,
    "start_time": "2021-10-11T15:11:09.495Z"
   },
   {
    "duration": 14,
    "start_time": "2021-10-11T15:11:09.503Z"
   },
   {
    "duration": 5,
    "start_time": "2021-10-11T15:11:09.519Z"
   },
   {
    "duration": 709,
    "start_time": "2021-10-11T15:11:09.525Z"
   },
   {
    "duration": 78,
    "start_time": "2021-10-11T15:11:10.237Z"
   },
   {
    "duration": 6,
    "start_time": "2021-10-11T15:11:10.316Z"
   },
   {
    "duration": 12,
    "start_time": "2021-10-11T15:11:10.324Z"
   },
   {
    "duration": 292,
    "start_time": "2021-10-11T15:11:10.338Z"
   },
   {
    "duration": 308,
    "start_time": "2021-10-11T15:11:10.632Z"
   },
   {
    "duration": 7,
    "start_time": "2021-10-11T15:11:10.942Z"
   },
   {
    "duration": 312,
    "start_time": "2021-10-11T15:11:10.951Z"
   },
   {
    "duration": 280,
    "start_time": "2021-10-11T15:11:11.264Z"
   },
   {
    "duration": 297,
    "start_time": "2021-10-11T15:11:11.546Z"
   },
   {
    "duration": 3,
    "start_time": "2021-10-11T15:11:11.845Z"
   },
   {
    "duration": 8,
    "start_time": "2021-10-11T15:11:11.849Z"
   },
   {
    "duration": 19,
    "start_time": "2021-10-11T15:11:11.858Z"
   },
   {
    "duration": 10,
    "start_time": "2021-10-11T15:11:11.878Z"
   },
   {
    "duration": 8,
    "start_time": "2021-10-11T15:11:11.889Z"
   },
   {
    "duration": 7,
    "start_time": "2021-10-11T15:11:11.899Z"
   },
   {
    "duration": 7,
    "start_time": "2021-10-11T15:11:11.909Z"
   },
   {
    "duration": 4,
    "start_time": "2021-10-11T15:11:11.917Z"
   },
   {
    "duration": 13,
    "start_time": "2021-10-11T15:11:11.923Z"
   },
   {
    "duration": 8,
    "start_time": "2021-10-11T15:11:11.938Z"
   },
   {
    "duration": 43,
    "start_time": "2021-10-11T15:11:11.948Z"
   },
   {
    "duration": 405,
    "start_time": "2021-10-11T15:11:12.078Z"
   },
   {
    "duration": -717,
    "start_time": "2021-10-11T15:11:13.202Z"
   },
   {
    "duration": -734,
    "start_time": "2021-10-11T15:11:13.220Z"
   },
   {
    "duration": 312,
    "start_time": "2021-10-11T15:12:04.488Z"
   },
   {
    "duration": 312,
    "start_time": "2021-10-11T15:19:05.720Z"
   },
   {
    "duration": 11,
    "start_time": "2021-10-11T15:20:46.415Z"
   },
   {
    "duration": 23,
    "start_time": "2021-10-11T15:22:03.486Z"
   },
   {
    "duration": 18,
    "start_time": "2021-10-11T15:22:24.836Z"
   },
   {
    "duration": 18,
    "start_time": "2021-10-11T15:22:30.896Z"
   },
   {
    "duration": 5,
    "start_time": "2021-10-11T15:22:47.646Z"
   },
   {
    "duration": 491,
    "start_time": "2021-10-11T15:23:44.592Z"
   },
   {
    "duration": 500,
    "start_time": "2021-10-11T15:24:20.047Z"
   },
   {
    "duration": 532,
    "start_time": "2021-10-11T15:24:48.092Z"
   },
   {
    "duration": 520,
    "start_time": "2021-10-11T15:24:53.777Z"
   },
   {
    "duration": 6,
    "start_time": "2021-10-11T15:28:44.523Z"
   },
   {
    "duration": 7,
    "start_time": "2021-10-11T15:28:47.497Z"
   },
   {
    "duration": 6115,
    "start_time": "2021-10-11T15:30:33.191Z"
   },
   {
    "duration": 842,
    "start_time": "2021-10-11T15:30:47.465Z"
   },
   {
    "duration": 497,
    "start_time": "2021-10-11T15:30:51.797Z"
   },
   {
    "duration": 820,
    "start_time": "2021-10-11T15:30:55.842Z"
   },
   {
    "duration": 7,
    "start_time": "2021-10-11T15:31:08.672Z"
   },
   {
    "duration": 7,
    "start_time": "2021-10-11T15:31:09.028Z"
   },
   {
    "duration": 69163,
    "start_time": "2021-10-11T15:31:43.029Z"
   },
   {
    "duration": 91953,
    "start_time": "2021-10-11T15:32:54.357Z"
   },
   {
    "duration": 6,
    "start_time": "2021-10-11T15:47:28.312Z"
   },
   {
    "duration": 7,
    "start_time": "2021-10-11T15:49:48.184Z"
   },
   {
    "duration": 10,
    "start_time": "2021-10-11T15:49:50.360Z"
   },
   {
    "duration": 12,
    "start_time": "2021-10-11T15:49:51.312Z"
   },
   {
    "duration": 813,
    "start_time": "2021-10-11T15:49:56.096Z"
   },
   {
    "duration": 7,
    "start_time": "2021-10-11T15:50:02.514Z"
   },
   {
    "duration": 8,
    "start_time": "2021-10-11T15:50:02.972Z"
   },
   {
    "duration": 11,
    "start_time": "2021-10-11T15:50:03.939Z"
   },
   {
    "duration": 815,
    "start_time": "2021-10-11T15:50:06.774Z"
   },
   {
    "duration": 7,
    "start_time": "2021-10-11T15:50:16.169Z"
   },
   {
    "duration": 9,
    "start_time": "2021-10-11T15:50:16.501Z"
   },
   {
    "duration": 11,
    "start_time": "2021-10-11T15:50:18.330Z"
   },
   {
    "duration": 809,
    "start_time": "2021-10-11T15:50:21.428Z"
   },
   {
    "duration": 8,
    "start_time": "2021-10-11T15:50:27.695Z"
   },
   {
    "duration": 9,
    "start_time": "2021-10-11T15:50:28.903Z"
   },
   {
    "duration": 15,
    "start_time": "2021-10-11T15:50:29.269Z"
   },
   {
    "duration": 841,
    "start_time": "2021-10-11T15:50:30.936Z"
   },
   {
    "duration": 15,
    "start_time": "2021-10-11T15:51:38.473Z"
   },
   {
    "duration": 706,
    "start_time": "2021-10-11T15:52:03.179Z"
   },
   {
    "duration": 785,
    "start_time": "2021-10-11T15:52:52.595Z"
   },
   {
    "duration": 1059,
    "start_time": "2021-10-11T15:53:13.161Z"
   },
   {
    "duration": 764,
    "start_time": "2021-10-11T15:53:31.021Z"
   },
   {
    "duration": 358,
    "start_time": "2021-10-11T15:55:23.091Z"
   },
   {
    "duration": 118516,
    "start_time": "2021-10-11T15:56:13.671Z"
   },
   {
    "duration": 7,
    "start_time": "2021-10-11T16:01:07.823Z"
   },
   {
    "duration": 857,
    "start_time": "2021-10-11T16:02:46.400Z"
   },
   {
    "duration": 93573,
    "start_time": "2021-10-11T16:03:03.917Z"
   },
   {
    "duration": 142088,
    "start_time": "2021-10-11T16:04:37.492Z"
   },
   {
    "duration": 858,
    "start_time": "2021-10-11T16:06:59.583Z"
   },
   {
    "duration": 38,
    "start_time": "2021-10-11T16:07:00.443Z"
   },
   {
    "duration": 99,
    "start_time": "2021-10-11T16:07:00.484Z"
   },
   {
    "duration": 477,
    "start_time": "2021-10-11T16:07:00.585Z"
   },
   {
    "duration": -646,
    "start_time": "2021-10-11T16:07:01.710Z"
   },
   {
    "duration": 413,
    "start_time": "2021-10-11T16:07:19.513Z"
   },
   {
    "duration": 818,
    "start_time": "2021-10-11T16:07:37.296Z"
   },
   {
    "duration": 5,
    "start_time": "2021-10-11T16:07:43.323Z"
   },
   {
    "duration": 6,
    "start_time": "2021-10-11T16:07:51.094Z"
   },
   {
    "duration": 5,
    "start_time": "2021-10-11T16:07:52.264Z"
   },
   {
    "duration": 6,
    "start_time": "2021-10-11T16:08:25.121Z"
   },
   {
    "duration": 17,
    "start_time": "2021-10-11T16:08:35.328Z"
   },
   {
    "duration": 7,
    "start_time": "2021-10-11T16:08:58.987Z"
   },
   {
    "duration": 6,
    "start_time": "2021-10-11T16:09:00.046Z"
   },
   {
    "duration": 17,
    "start_time": "2021-10-11T16:09:00.805Z"
   },
   {
    "duration": 10,
    "start_time": "2021-10-11T16:09:16.257Z"
   },
   {
    "duration": 7,
    "start_time": "2021-10-11T16:41:15.421Z"
   },
   {
    "duration": 6,
    "start_time": "2021-10-11T16:41:57.425Z"
   },
   {
    "duration": 7,
    "start_time": "2021-10-11T16:42:00.651Z"
   },
   {
    "duration": 5,
    "start_time": "2021-10-11T16:42:56.391Z"
   },
   {
    "duration": 9,
    "start_time": "2021-10-11T16:42:57.435Z"
   },
   {
    "duration": 1179,
    "start_time": "2021-10-11T16:43:32.264Z"
   },
   {
    "duration": 39,
    "start_time": "2021-10-11T16:43:33.444Z"
   },
   {
    "duration": 14,
    "start_time": "2021-10-11T16:43:33.487Z"
   },
   {
    "duration": 6,
    "start_time": "2021-10-11T16:43:33.502Z"
   },
   {
    "duration": 13,
    "start_time": "2021-10-11T16:43:33.510Z"
   },
   {
    "duration": 2,
    "start_time": "2021-10-11T16:43:33.525Z"
   },
   {
    "duration": 720,
    "start_time": "2021-10-11T16:43:33.530Z"
   },
   {
    "duration": 9,
    "start_time": "2021-10-11T16:43:34.252Z"
   },
   {
    "duration": 113,
    "start_time": "2021-10-11T16:43:34.263Z"
   },
   {
    "duration": 27,
    "start_time": "2021-10-11T16:43:34.380Z"
   },
   {
    "duration": 414,
    "start_time": "2021-10-11T16:43:34.409Z"
   },
   {
    "duration": 319,
    "start_time": "2021-10-11T16:43:34.825Z"
   },
   {
    "duration": 7,
    "start_time": "2021-10-11T16:43:35.146Z"
   },
   {
    "duration": 322,
    "start_time": "2021-10-11T16:43:35.155Z"
   },
   {
    "duration": 273,
    "start_time": "2021-10-11T16:43:35.479Z"
   },
   {
    "duration": 293,
    "start_time": "2021-10-11T16:43:35.753Z"
   },
   {
    "duration": 3,
    "start_time": "2021-10-11T16:43:36.047Z"
   },
   {
    "duration": 21,
    "start_time": "2021-10-11T16:43:36.051Z"
   },
   {
    "duration": 14,
    "start_time": "2021-10-11T16:43:36.074Z"
   },
   {
    "duration": 23,
    "start_time": "2021-10-11T16:43:36.090Z"
   },
   {
    "duration": 9,
    "start_time": "2021-10-11T16:43:36.114Z"
   },
   {
    "duration": 13,
    "start_time": "2021-10-11T16:43:36.126Z"
   },
   {
    "duration": 20,
    "start_time": "2021-10-11T16:43:36.141Z"
   },
   {
    "duration": 15,
    "start_time": "2021-10-11T16:43:36.163Z"
   },
   {
    "duration": 14,
    "start_time": "2021-10-11T16:43:36.180Z"
   },
   {
    "duration": 9,
    "start_time": "2021-10-11T16:43:36.196Z"
   },
   {
    "duration": 71,
    "start_time": "2021-10-11T16:43:36.207Z"
   },
   {
    "duration": 848,
    "start_time": "2021-10-11T16:43:36.280Z"
   },
   {
    "duration": 6,
    "start_time": "2021-10-11T16:43:37.131Z"
   },
   {
    "duration": 9,
    "start_time": "2021-10-11T16:43:37.139Z"
   },
   {
    "duration": 77199,
    "start_time": "2021-10-11T16:43:37.150Z"
   },
   {
    "duration": 6,
    "start_time": "2021-10-11T16:44:54.351Z"
   },
   {
    "duration": 120927,
    "start_time": "2021-10-11T16:44:54.359Z"
   },
   {
    "duration": 5,
    "start_time": "2021-10-11T16:46:55.288Z"
   },
   {
    "duration": 11,
    "start_time": "2021-10-11T16:46:55.295Z"
   },
   {
    "duration": 6,
    "start_time": "2021-10-11T16:46:55.308Z"
   },
   {
    "duration": 5,
    "start_time": "2021-10-11T16:46:55.376Z"
   },
   {
    "duration": 13,
    "start_time": "2021-10-11T16:46:55.383Z"
   },
   {
    "duration": 6,
    "start_time": "2021-10-11T16:46:55.398Z"
   },
   {
    "duration": 14,
    "start_time": "2021-10-11T16:46:55.406Z"
   },
   {
    "duration": 55,
    "start_time": "2021-10-11T16:46:55.422Z"
   },
   {
    "duration": 99,
    "start_time": "2021-10-11T16:46:55.479Z"
   },
   {
    "duration": 6,
    "start_time": "2021-10-11T17:12:16.110Z"
   },
   {
    "duration": 5,
    "start_time": "2021-10-11T17:12:26.432Z"
   },
   {
    "duration": 8,
    "start_time": "2021-10-11T17:12:27.632Z"
   },
   {
    "duration": 9,
    "start_time": "2021-10-11T17:13:10.799Z"
   },
   {
    "duration": 5,
    "start_time": "2021-10-11T17:13:19.441Z"
   },
   {
    "duration": 8,
    "start_time": "2021-10-11T17:13:20.205Z"
   },
   {
    "duration": 6,
    "start_time": "2021-10-11T17:14:10.373Z"
   },
   {
    "duration": 6,
    "start_time": "2021-10-11T17:14:34.294Z"
   },
   {
    "duration": 8,
    "start_time": "2021-10-11T17:14:35.185Z"
   },
   {
    "duration": 6,
    "start_time": "2021-10-11T17:14:42.052Z"
   },
   {
    "duration": 5,
    "start_time": "2021-10-11T17:14:56.056Z"
   },
   {
    "duration": 1013,
    "start_time": "2021-10-11T17:15:38.524Z"
   },
   {
    "duration": 39,
    "start_time": "2021-10-11T17:15:39.539Z"
   },
   {
    "duration": 13,
    "start_time": "2021-10-11T17:15:39.580Z"
   },
   {
    "duration": 6,
    "start_time": "2021-10-11T17:15:39.595Z"
   },
   {
    "duration": 12,
    "start_time": "2021-10-11T17:15:39.603Z"
   },
   {
    "duration": 2,
    "start_time": "2021-10-11T17:15:39.617Z"
   },
   {
    "duration": 696,
    "start_time": "2021-10-11T17:15:39.621Z"
   },
   {
    "duration": 76,
    "start_time": "2021-10-11T17:15:40.320Z"
   },
   {
    "duration": 8,
    "start_time": "2021-10-11T17:15:40.398Z"
   },
   {
    "duration": 12,
    "start_time": "2021-10-11T17:15:40.408Z"
   },
   {
    "duration": 295,
    "start_time": "2021-10-11T17:15:40.421Z"
   },
   {
    "duration": 324,
    "start_time": "2021-10-11T17:15:40.718Z"
   },
   {
    "duration": 8,
    "start_time": "2021-10-11T17:15:41.043Z"
   },
   {
    "duration": 334,
    "start_time": "2021-10-11T17:15:41.052Z"
   },
   {
    "duration": 414,
    "start_time": "2021-10-11T17:15:41.388Z"
   },
   {
    "duration": 286,
    "start_time": "2021-10-11T17:15:41.804Z"
   },
   {
    "duration": 3,
    "start_time": "2021-10-11T17:15:42.091Z"
   },
   {
    "duration": 10,
    "start_time": "2021-10-11T17:15:42.095Z"
   },
   {
    "duration": 5,
    "start_time": "2021-10-11T17:15:42.107Z"
   },
   {
    "duration": 9,
    "start_time": "2021-10-11T17:15:42.113Z"
   },
   {
    "duration": 6,
    "start_time": "2021-10-11T17:15:42.124Z"
   },
   {
    "duration": 5,
    "start_time": "2021-10-11T17:15:42.132Z"
   },
   {
    "duration": 9,
    "start_time": "2021-10-11T17:15:42.140Z"
   },
   {
    "duration": 28,
    "start_time": "2021-10-11T17:15:42.151Z"
   },
   {
    "duration": 13,
    "start_time": "2021-10-11T17:15:42.181Z"
   },
   {
    "duration": 9,
    "start_time": "2021-10-11T17:15:42.196Z"
   },
   {
    "duration": 79,
    "start_time": "2021-10-11T17:15:42.207Z"
   },
   {
    "duration": 91,
    "start_time": "2021-10-11T17:15:42.289Z"
   },
   {
    "duration": 752,
    "start_time": "2021-10-11T17:15:42.382Z"
   },
   {
    "duration": 6,
    "start_time": "2021-10-11T17:15:43.136Z"
   },
   {
    "duration": 18,
    "start_time": "2021-10-11T17:15:43.144Z"
   },
   {
    "duration": 75722,
    "start_time": "2021-10-11T17:15:43.164Z"
   },
   {
    "duration": 5,
    "start_time": "2021-10-11T17:16:58.888Z"
   },
   {
    "duration": 107589,
    "start_time": "2021-10-11T17:16:58.895Z"
   },
   {
    "duration": 6,
    "start_time": "2021-10-11T17:18:46.485Z"
   },
   {
    "duration": 11,
    "start_time": "2021-10-11T17:18:46.493Z"
   },
   {
    "duration": 9,
    "start_time": "2021-10-11T17:18:46.506Z"
   },
   {
    "duration": 6,
    "start_time": "2021-10-11T17:18:46.516Z"
   },
   {
    "duration": 9,
    "start_time": "2021-10-11T17:18:46.524Z"
   },
   {
    "duration": 6,
    "start_time": "2021-10-11T17:18:46.577Z"
   },
   {
    "duration": 10,
    "start_time": "2021-10-11T17:18:46.584Z"
   },
   {
    "duration": 15,
    "start_time": "2021-10-11T17:18:46.595Z"
   },
   {
    "duration": 4,
    "start_time": "2021-10-11T17:18:46.611Z"
   },
   {
    "duration": 12,
    "start_time": "2021-10-11T17:18:46.617Z"
   },
   {
    "duration": 4,
    "start_time": "2021-10-11T17:18:46.631Z"
   },
   {
    "duration": 45,
    "start_time": "2021-10-11T17:18:46.637Z"
   },
   {
    "duration": 97,
    "start_time": "2021-10-11T17:18:46.684Z"
   },
   {
    "duration": 1409,
    "start_time": "2021-10-12T14:03:41.570Z"
   },
   {
    "duration": 49,
    "start_time": "2021-10-12T14:03:43.360Z"
   },
   {
    "duration": 18,
    "start_time": "2021-10-12T14:03:43.542Z"
   },
   {
    "duration": 9,
    "start_time": "2021-10-12T14:03:43.723Z"
   },
   {
    "duration": 18,
    "start_time": "2021-10-12T14:03:45.080Z"
   },
   {
    "duration": 4,
    "start_time": "2021-10-12T14:03:45.199Z"
   },
   {
    "duration": 1122,
    "start_time": "2021-10-12T14:03:45.348Z"
   },
   {
    "duration": 28,
    "start_time": "2021-10-12T14:03:46.472Z"
   },
   {
    "duration": 170,
    "start_time": "2021-10-12T14:04:00.340Z"
   },
   {
    "duration": 10,
    "start_time": "2021-10-12T14:04:04.349Z"
   },
   {
    "duration": 17,
    "start_time": "2021-10-12T14:04:08.992Z"
   },
   {
    "duration": 457,
    "start_time": "2021-10-12T14:04:12.682Z"
   },
   {
    "duration": 500,
    "start_time": "2021-10-12T14:04:16.100Z"
   },
   {
    "duration": 12,
    "start_time": "2021-10-12T14:04:18.009Z"
   },
   {
    "duration": 502,
    "start_time": "2021-10-12T14:04:24.636Z"
   },
   {
    "duration": 463,
    "start_time": "2021-10-12T14:04:27.003Z"
   },
   {
    "duration": 471,
    "start_time": "2021-10-12T14:04:28.834Z"
   },
   {
    "duration": 6,
    "start_time": "2021-10-12T14:06:07.278Z"
   },
   {
    "duration": 4,
    "start_time": "2021-10-12T14:06:17.165Z"
   },
   {
    "duration": 879,
    "start_time": "2021-10-12T14:06:20.247Z"
   },
   {
    "duration": 4,
    "start_time": "2021-10-12T14:06:31.560Z"
   },
   {
    "duration": 570,
    "start_time": "2021-10-12T14:06:34.042Z"
   },
   {
    "duration": 590,
    "start_time": "2021-10-12T14:06:37.292Z"
   },
   {
    "duration": 6,
    "start_time": "2021-10-12T14:06:42.450Z"
   },
   {
    "duration": 4,
    "start_time": "2021-10-12T14:06:42.602Z"
   },
   {
    "duration": 48,
    "start_time": "2021-10-12T14:06:44.337Z"
   },
   {
    "duration": 8,
    "start_time": "2021-10-12T14:06:44.494Z"
   },
   {
    "duration": 8,
    "start_time": "2021-10-12T14:06:44.636Z"
   },
   {
    "duration": 17,
    "start_time": "2021-10-12T14:06:44.790Z"
   },
   {
    "duration": 4,
    "start_time": "2021-10-12T14:06:44.941Z"
   },
   {
    "duration": 1030,
    "start_time": "2021-10-12T14:06:46.116Z"
   },
   {
    "duration": 13,
    "start_time": "2021-10-12T14:06:47.150Z"
   },
   {
    "duration": 10,
    "start_time": "2021-10-12T14:06:49.414Z"
   },
   {
    "duration": 16,
    "start_time": "2021-10-12T14:06:49.760Z"
   },
   {
    "duration": 544,
    "start_time": "2021-10-12T14:06:51.500Z"
   },
   {
    "duration": 866,
    "start_time": "2021-10-12T14:06:54.064Z"
   },
   {
    "duration": 10,
    "start_time": "2021-10-12T14:06:55.106Z"
   },
   {
    "duration": 600,
    "start_time": "2021-10-12T14:06:55.338Z"
   },
   {
    "duration": 538,
    "start_time": "2021-10-12T14:06:55.940Z"
   },
   {
    "duration": 559,
    "start_time": "2021-10-12T14:06:56.480Z"
   },
   {
    "duration": 262,
    "start_time": "2021-10-12T14:07:22.973Z"
   },
   {
    "duration": 563,
    "start_time": "2021-10-12T14:09:02.767Z"
   },
   {
    "duration": 443,
    "start_time": "2021-10-12T14:48:13.643Z"
   },
   {
    "duration": 405,
    "start_time": "2021-10-12T14:48:35.067Z"
   },
   {
    "duration": 353,
    "start_time": "2021-10-12T14:48:47.340Z"
   },
   {
    "duration": 356,
    "start_time": "2021-10-12T14:48:52.831Z"
   },
   {
    "duration": 357,
    "start_time": "2021-10-12T14:48:59.789Z"
   },
   {
    "duration": 3,
    "start_time": "2021-10-12T14:52:26.137Z"
   },
   {
    "duration": 7,
    "start_time": "2021-10-12T14:52:28.424Z"
   },
   {
    "duration": 6,
    "start_time": "2021-10-12T14:52:28.434Z"
   },
   {
    "duration": 8,
    "start_time": "2021-10-12T14:52:30.991Z"
   },
   {
    "duration": 9,
    "start_time": "2021-10-12T14:52:31.171Z"
   },
   {
    "duration": 8,
    "start_time": "2021-10-12T14:52:32.386Z"
   },
   {
    "duration": 10,
    "start_time": "2021-10-12T14:52:32.552Z"
   },
   {
    "duration": 6,
    "start_time": "2021-10-12T14:52:34.708Z"
   },
   {
    "duration": 36,
    "start_time": "2021-10-12T14:52:37.000Z"
   },
   {
    "duration": 12,
    "start_time": "2021-10-12T14:52:44.610Z"
   },
   {
    "duration": 95,
    "start_time": "2021-10-12T14:52:59.999Z"
   },
   {
    "duration": 13,
    "start_time": "2021-10-12T14:53:04.912Z"
   },
   {
    "duration": 16,
    "start_time": "2021-10-12T14:53:06.084Z"
   },
   {
    "duration": 9,
    "start_time": "2021-10-12T14:53:08.642Z"
   },
   {
    "duration": 1201,
    "start_time": "2021-10-12T14:53:14.208Z"
   },
   {
    "duration": 9,
    "start_time": "2021-10-12T14:53:25.916Z"
   },
   {
    "duration": 10,
    "start_time": "2021-10-12T14:53:26.718Z"
   },
   {
    "duration": 127303,
    "start_time": "2021-10-12T14:53:30.959Z"
   },
   {
    "duration": 8,
    "start_time": "2021-10-12T14:55:38.265Z"
   },
   {
    "duration": 141336,
    "start_time": "2021-10-12T14:55:38.276Z"
   },
   {
    "duration": 8,
    "start_time": "2021-10-12T14:57:59.614Z"
   },
   {
    "duration": 77,
    "start_time": "2021-10-12T14:57:59.625Z"
   },
   {
    "duration": 8,
    "start_time": "2021-10-12T14:58:21.584Z"
   },
   {
    "duration": 7,
    "start_time": "2021-10-12T14:58:23.170Z"
   },
   {
    "duration": 12,
    "start_time": "2021-10-12T14:58:23.854Z"
   },
   {
    "duration": 7,
    "start_time": "2021-10-12T14:58:29.156Z"
   },
   {
    "duration": 9,
    "start_time": "2021-10-12T14:58:29.165Z"
   },
   {
    "duration": 34,
    "start_time": "2021-10-12T14:58:29.178Z"
   },
   {
    "duration": 7,
    "start_time": "2021-10-12T14:58:29.215Z"
   },
   {
    "duration": 16,
    "start_time": "2021-10-12T14:58:29.225Z"
   },
   {
    "duration": 6,
    "start_time": "2021-10-12T14:58:29.244Z"
   },
   {
    "duration": 10,
    "start_time": "2021-10-12T14:58:32.051Z"
   },
   {
    "duration": 10,
    "start_time": "2021-10-12T14:59:10.462Z"
   },
   {
    "duration": 13,
    "start_time": "2021-10-12T14:59:10.691Z"
   },
   {
    "duration": 14,
    "start_time": "2021-10-12T14:59:11.546Z"
   },
   {
    "duration": 7,
    "start_time": "2021-10-12T14:59:30.343Z"
   },
   {
    "duration": 12,
    "start_time": "2021-10-12T14:59:51.442Z"
   },
   {
    "duration": 14,
    "start_time": "2021-10-12T14:59:51.781Z"
   },
   {
    "duration": 20,
    "start_time": "2021-10-12T14:59:53.645Z"
   },
   {
    "duration": 17,
    "start_time": "2021-10-12T15:00:49.768Z"
   },
   {
    "duration": 17,
    "start_time": "2021-10-12T15:00:53.916Z"
   },
   {
    "duration": 10,
    "start_time": "2021-10-12T15:01:07.101Z"
   },
   {
    "duration": 14,
    "start_time": "2021-10-12T15:01:10.292Z"
   },
   {
    "duration": 15,
    "start_time": "2021-10-12T15:01:12.407Z"
   },
   {
    "duration": 11,
    "start_time": "2021-10-12T15:01:19.525Z"
   },
   {
    "duration": 16,
    "start_time": "2021-10-12T15:01:19.721Z"
   },
   {
    "duration": 31,
    "start_time": "2021-10-12T15:01:20.974Z"
   },
   {
    "duration": 11,
    "start_time": "2021-10-12T15:01:23.730Z"
   },
   {
    "duration": 14,
    "start_time": "2021-10-12T15:01:23.950Z"
   },
   {
    "duration": 17,
    "start_time": "2021-10-12T15:01:24.814Z"
   },
   {
    "duration": 9,
    "start_time": "2021-10-12T15:01:25.400Z"
   },
   {
    "duration": 10,
    "start_time": "2021-10-12T15:01:28.446Z"
   },
   {
    "duration": 13,
    "start_time": "2021-10-12T15:01:29.139Z"
   },
   {
    "duration": 16,
    "start_time": "2021-10-12T15:01:29.952Z"
   },
   {
    "duration": 1316,
    "start_time": "2021-10-12T15:04:45.587Z"
   },
   {
    "duration": 10,
    "start_time": "2021-10-12T15:04:54.634Z"
   },
   {
    "duration": 1319,
    "start_time": "2021-10-12T15:04:56.842Z"
   },
   {
    "duration": 17,
    "start_time": "2021-10-12T15:05:02.309Z"
   },
   {
    "duration": 1286,
    "start_time": "2021-10-12T15:05:04.208Z"
   },
   {
    "duration": 11,
    "start_time": "2021-10-12T15:05:09.748Z"
   },
   {
    "duration": 1277,
    "start_time": "2021-10-12T15:05:11.388Z"
   },
   {
    "duration": 12,
    "start_time": "2021-10-12T15:05:15.541Z"
   },
   {
    "duration": 1354,
    "start_time": "2021-10-12T15:05:17.320Z"
   },
   {
    "duration": 9,
    "start_time": "2021-10-12T15:05:26.563Z"
   },
   {
    "duration": 1283,
    "start_time": "2021-10-12T15:05:28.283Z"
   },
   {
    "duration": 139245,
    "start_time": "2021-10-12T15:05:32.408Z"
   },
   {
    "duration": 44,
    "start_time": "2021-10-12T15:08:08.825Z"
   },
   {
    "duration": 367420,
    "start_time": "2021-10-12T15:08:14.287Z"
   },
   {
    "duration": 17,
    "start_time": "2021-10-12T15:16:34.497Z"
   },
   {
    "duration": 19,
    "start_time": "2021-10-12T15:18:35.760Z"
   },
   {
    "duration": 14,
    "start_time": "2021-10-12T15:18:38.666Z"
   },
   {
    "duration": 187,
    "start_time": "2021-10-12T15:18:39.624Z"
   },
   {
    "duration": 14,
    "start_time": "2021-10-12T15:18:46.142Z"
   },
   {
    "duration": 15,
    "start_time": "2021-10-12T15:18:46.366Z"
   },
   {
    "duration": 31,
    "start_time": "2021-10-12T15:18:46.979Z"
   },
   {
    "duration": 19,
    "start_time": "2021-10-12T15:18:51.617Z"
   },
   {
    "duration": 17,
    "start_time": "2021-10-12T15:18:51.814Z"
   },
   {
    "duration": 209,
    "start_time": "2021-10-12T15:18:52.393Z"
   },
   {
    "duration": 13,
    "start_time": "2021-10-12T15:18:57.421Z"
   },
   {
    "duration": 1894,
    "start_time": "2021-10-12T15:19:00.377Z"
   },
   {
    "duration": 94801,
    "start_time": "2021-10-12T15:19:39.721Z"
   },
   {
    "duration": 19,
    "start_time": "2021-10-12T15:21:24.912Z"
   },
   {
    "duration": 9,
    "start_time": "2021-10-12T15:21:43.347Z"
   },
   {
    "duration": 7,
    "start_time": "2021-10-12T15:21:48.504Z"
   },
   {
    "duration": 431,
    "start_time": "2021-10-12T15:21:51.939Z"
   },
   {
    "duration": 13,
    "start_time": "2021-10-12T15:22:20.709Z"
   },
   {
    "duration": 13,
    "start_time": "2021-10-12T15:22:20.950Z"
   },
   {
    "duration": 18,
    "start_time": "2021-10-12T15:22:21.916Z"
   },
   {
    "duration": 1894,
    "start_time": "2021-10-12T15:22:24.154Z"
   },
   {
    "duration": 9,
    "start_time": "2021-10-12T15:22:32.765Z"
   },
   {
    "duration": 7,
    "start_time": "2021-10-12T15:22:36.499Z"
   },
   {
    "duration": 99446,
    "start_time": "2021-10-12T15:22:46.266Z"
   },
   {
    "duration": 20,
    "start_time": "2021-10-12T15:26:15.884Z"
   },
   {
    "duration": 1610,
    "start_time": "2021-10-12T17:00:01.702Z"
   },
   {
    "duration": 11,
    "start_time": "2021-10-12T17:00:03.315Z"
   },
   {
    "duration": 51,
    "start_time": "2021-10-12T17:00:03.330Z"
   },
   {
    "duration": 14,
    "start_time": "2021-10-12T17:00:03.384Z"
   },
   {
    "duration": 27,
    "start_time": "2021-10-12T17:00:03.401Z"
   },
   {
    "duration": 20,
    "start_time": "2021-10-12T17:00:03.436Z"
   },
   {
    "duration": 3,
    "start_time": "2021-10-12T17:00:03.459Z"
   },
   {
    "duration": 1115,
    "start_time": "2021-10-12T17:00:03.465Z"
   },
   {
    "duration": 14,
    "start_time": "2021-10-12T17:00:04.583Z"
   },
   {
    "duration": 33,
    "start_time": "2021-10-12T17:00:04.599Z"
   },
   {
    "duration": 27,
    "start_time": "2021-10-12T17:00:04.636Z"
   },
   {
    "duration": 653,
    "start_time": "2021-10-12T17:00:04.774Z"
   },
   {
    "duration": 616,
    "start_time": "2021-10-12T17:00:05.431Z"
   },
   {
    "duration": 9,
    "start_time": "2021-10-12T17:00:06.050Z"
   },
   {
    "duration": 661,
    "start_time": "2021-10-12T17:00:06.061Z"
   },
   {
    "duration": 391,
    "start_time": "2021-10-12T17:00:06.725Z"
   },
   {
    "duration": 379,
    "start_time": "2021-10-12T17:00:07.124Z"
   },
   {
    "duration": 547,
    "start_time": "2021-10-12T17:00:07.506Z"
   },
   {
    "duration": 580,
    "start_time": "2021-10-12T17:00:08.056Z"
   },
   {
    "duration": 3,
    "start_time": "2021-10-12T17:00:11.793Z"
   },
   {
    "duration": 9,
    "start_time": "2021-10-12T17:00:13.930Z"
   },
   {
    "duration": 5,
    "start_time": "2021-10-12T17:00:14.486Z"
   },
   {
    "duration": 12,
    "start_time": "2021-10-12T17:00:16.327Z"
   },
   {
    "duration": 9,
    "start_time": "2021-10-12T17:00:16.491Z"
   },
   {
    "duration": 100,
    "start_time": "2021-10-12T17:00:16.665Z"
   },
   {
    "duration": 10,
    "start_time": "2021-10-12T17:00:18.185Z"
   },
   {
    "duration": 6,
    "start_time": "2021-10-12T17:00:21.374Z"
   },
   {
    "duration": 22,
    "start_time": "2021-10-12T17:00:23.267Z"
   },
   {
    "duration": 14,
    "start_time": "2021-10-12T17:00:23.504Z"
   },
   {
    "duration": 133,
    "start_time": "2021-10-12T17:00:25.397Z"
   },
   {
    "duration": 9,
    "start_time": "2021-10-12T17:00:27.485Z"
   },
   {
    "duration": 1773,
    "start_time": "2021-10-12T17:00:30.983Z"
   },
   {
    "duration": 8,
    "start_time": "2021-10-12T17:00:32.759Z"
   },
   {
    "duration": 12,
    "start_time": "2021-10-12T17:00:32.834Z"
   },
   {
    "duration": 177980,
    "start_time": "2021-10-12T17:01:19.676Z"
   },
   {
    "duration": 9,
    "start_time": "2021-10-12T17:04:22.895Z"
   },
   {
    "duration": 498076,
    "start_time": "2021-10-12T17:04:25.769Z"
   },
   {
    "duration": 88,
    "start_time": "2021-10-12T17:12:43.848Z"
   },
   {
    "duration": 15,
    "start_time": "2021-10-12T17:12:43.940Z"
   },
   {
    "duration": 402,
    "start_time": "2021-10-12T17:12:43.958Z"
   },
   {
    "duration": 247,
    "start_time": "2021-10-12T17:13:09.065Z"
   },
   {
    "duration": 1589,
    "start_time": "2021-10-12T17:16:34.694Z"
   },
   {
    "duration": 3,
    "start_time": "2021-10-12T17:16:36.286Z"
   },
   {
    "duration": 61,
    "start_time": "2021-10-12T17:16:36.296Z"
   },
   {
    "duration": 13,
    "start_time": "2021-10-12T17:16:36.360Z"
   },
   {
    "duration": 48,
    "start_time": "2021-10-12T17:16:36.376Z"
   },
   {
    "duration": 20,
    "start_time": "2021-10-12T17:16:36.428Z"
   },
   {
    "duration": 3,
    "start_time": "2021-10-12T17:16:36.451Z"
   },
   {
    "duration": 1789,
    "start_time": "2021-10-12T17:16:36.458Z"
   },
   {
    "duration": 13,
    "start_time": "2021-10-12T17:16:38.252Z"
   },
   {
    "duration": 22,
    "start_time": "2021-10-12T17:16:38.267Z"
   },
   {
    "duration": 48,
    "start_time": "2021-10-12T17:16:38.293Z"
   },
   {
    "duration": 529,
    "start_time": "2021-10-12T17:16:38.344Z"
   },
   {
    "duration": 589,
    "start_time": "2021-10-12T17:16:38.875Z"
   },
   {
    "duration": 10,
    "start_time": "2021-10-12T17:16:39.466Z"
   },
   {
    "duration": 602,
    "start_time": "2021-10-12T17:16:39.478Z"
   },
   {
    "duration": 397,
    "start_time": "2021-10-12T17:16:40.082Z"
   },
   {
    "duration": 395,
    "start_time": "2021-10-12T17:16:40.481Z"
   },
   {
    "duration": 607,
    "start_time": "2021-10-12T17:16:40.879Z"
   },
   {
    "duration": 529,
    "start_time": "2021-10-12T17:16:41.488Z"
   },
   {
    "duration": 4,
    "start_time": "2021-10-12T17:16:42.024Z"
   },
   {
    "duration": 10,
    "start_time": "2021-10-12T17:16:42.032Z"
   },
   {
    "duration": 7,
    "start_time": "2021-10-12T17:16:42.045Z"
   },
   {
    "duration": 26,
    "start_time": "2021-10-12T17:16:42.054Z"
   },
   {
    "duration": 45,
    "start_time": "2021-10-12T17:16:42.083Z"
   },
   {
    "duration": 11,
    "start_time": "2021-10-12T17:16:42.131Z"
   },
   {
    "duration": 13,
    "start_time": "2021-10-12T17:16:42.150Z"
   },
   {
    "duration": 7,
    "start_time": "2021-10-12T17:16:42.167Z"
   },
   {
    "duration": 23,
    "start_time": "2021-10-12T17:16:42.223Z"
   },
   {
    "duration": 15,
    "start_time": "2021-10-12T17:16:42.249Z"
   },
   {
    "duration": 74,
    "start_time": "2021-10-12T17:16:42.267Z"
   },
   {
    "duration": 100,
    "start_time": "2021-10-12T17:16:42.423Z"
   },
   {
    "duration": 1555,
    "start_time": "2021-10-12T17:16:42.527Z"
   },
   {
    "duration": 8,
    "start_time": "2021-10-12T17:16:44.084Z"
   },
   {
    "duration": 36,
    "start_time": "2021-10-12T17:16:44.094Z"
   },
   {
    "duration": 177847,
    "start_time": "2021-10-12T17:16:44.134Z"
   },
   {
    "duration": 15,
    "start_time": "2021-10-12T17:19:41.984Z"
   },
   {
    "duration": 515430,
    "start_time": "2021-10-12T17:19:42.002Z"
   },
   {
    "duration": 8,
    "start_time": "2021-10-12T17:28:17.436Z"
   },
   {
    "duration": 13,
    "start_time": "2021-10-12T17:28:17.447Z"
   },
   {
    "duration": 63,
    "start_time": "2021-10-12T17:28:17.463Z"
   },
   {
    "duration": 12,
    "start_time": "2021-10-12T17:28:17.529Z"
   },
   {
    "duration": 20,
    "start_time": "2021-10-12T17:28:17.624Z"
   },
   {
    "duration": 13,
    "start_time": "2021-10-12T17:28:17.647Z"
   },
   {
    "duration": 11,
    "start_time": "2021-10-12T17:28:17.663Z"
   },
   {
    "duration": 85,
    "start_time": "2021-10-12T17:28:17.677Z"
   },
   {
    "duration": 6,
    "start_time": "2021-10-12T17:28:17.764Z"
   },
   {
    "duration": 56,
    "start_time": "2021-10-12T17:28:17.773Z"
   },
   {
    "duration": 14,
    "start_time": "2021-10-12T17:28:17.832Z"
   },
   {
    "duration": 12,
    "start_time": "2021-10-12T17:28:17.849Z"
   }
  ],
  "kernelspec": {
   "display_name": "Python 3",
   "language": "python",
   "name": "python3"
  },
  "language_info": {
   "codemirror_mode": {
    "name": "ipython",
    "version": 3
   },
   "file_extension": ".py",
   "mimetype": "text/x-python",
   "name": "python",
   "nbconvert_exporter": "python",
   "pygments_lexer": "ipython3",
   "version": "3.7.8"
  },
  "toc": {
   "base_numbering": 1,
   "nav_menu": {},
   "number_sections": true,
   "sideBar": true,
   "skip_h1_title": true,
   "title_cell": "Содержание",
   "title_sidebar": "Contents",
   "toc_cell": true,
   "toc_position": {},
   "toc_section_display": true,
   "toc_window_display": false
  }
 },
 "nbformat": 4,
 "nbformat_minor": 2
}
