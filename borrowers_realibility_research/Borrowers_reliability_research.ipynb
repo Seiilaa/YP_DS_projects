{
 "cells": [
  {
   "cell_type": "markdown",
   "metadata": {},
   "source": [
    "# Исследование надёжности заёмщиков\n",
    "\n",
    "Заказчик — кредитный отдел банка. Нужно разобраться, влияет ли семейное положение и количество детей клиента на факт погашения кредита в срок. Входные данные от банка — статистика о платёжеспособности клиентов.\n",
    "\n",
    "Результаты исследования будут учтены при построении модели **кредитного скоринга** — специальной системы, которая оценивает способность потенциального заёмщика вернуть кредит банку."
   ]
  },
  {
   "cell_type": "markdown",
   "metadata": {},
   "source": [
    "### Описание данных\n",
    "- children — количество детей в семье\n",
    "- days_employed — общий трудовой стаж в днях\n",
    "- dob_years — возраст клиента в годах\n",
    "- education — уровень образования клиента\n",
    "- education_id — идентификатор уровня образования\n",
    "- family_status — семейное положение\n",
    "- family_status_id — идентификатор семейного положения\n",
    "- gender — пол клиента\n",
    "- income_type — тип занятости\n",
    "- debt — имел ли задолженность по возврату кредитов\n",
    "- total_income — ежемесячный доход\n",
    "- purpose — цель получения кредита"
   ]
  },
  {
   "cell_type": "markdown",
   "metadata": {},
   "source": [
    "## Загрузка данных и библиотек"
   ]
  },
  {
   "cell_type": "code",
   "execution_count": 73,
   "metadata": {},
   "outputs": [],
   "source": [
    "import pandas as pd\n",
    "pd.options.mode.chained_assignment = None\n",
    "\n",
    "from pymystem3 import Mystem\n",
    "from collections import Counter"
   ]
  },
  {
   "cell_type": "code",
   "execution_count": 2,
   "metadata": {},
   "outputs": [],
   "source": [
    "df = pd.read_csv('/datasets/data.csv')"
   ]
  },
  {
   "cell_type": "code",
   "execution_count": 3,
   "metadata": {},
   "outputs": [
    {
     "data": {
      "text/html": [
       "<div>\n",
       "<style scoped>\n",
       "    .dataframe tbody tr th:only-of-type {\n",
       "        vertical-align: middle;\n",
       "    }\n",
       "\n",
       "    .dataframe tbody tr th {\n",
       "        vertical-align: top;\n",
       "    }\n",
       "\n",
       "    .dataframe thead th {\n",
       "        text-align: right;\n",
       "    }\n",
       "</style>\n",
       "<table border=\"1\" class=\"dataframe\">\n",
       "  <thead>\n",
       "    <tr style=\"text-align: right;\">\n",
       "      <th></th>\n",
       "      <th>children</th>\n",
       "      <th>days_employed</th>\n",
       "      <th>dob_years</th>\n",
       "      <th>education</th>\n",
       "      <th>education_id</th>\n",
       "      <th>family_status</th>\n",
       "      <th>family_status_id</th>\n",
       "      <th>gender</th>\n",
       "      <th>income_type</th>\n",
       "      <th>debt</th>\n",
       "      <th>total_income</th>\n",
       "      <th>purpose</th>\n",
       "    </tr>\n",
       "  </thead>\n",
       "  <tbody>\n",
       "    <tr>\n",
       "      <th>0</th>\n",
       "      <td>1</td>\n",
       "      <td>-8437.673028</td>\n",
       "      <td>42</td>\n",
       "      <td>высшее</td>\n",
       "      <td>0</td>\n",
       "      <td>женат / замужем</td>\n",
       "      <td>0</td>\n",
       "      <td>F</td>\n",
       "      <td>сотрудник</td>\n",
       "      <td>0</td>\n",
       "      <td>253875.639453</td>\n",
       "      <td>покупка жилья</td>\n",
       "    </tr>\n",
       "    <tr>\n",
       "      <th>1</th>\n",
       "      <td>1</td>\n",
       "      <td>-4024.803754</td>\n",
       "      <td>36</td>\n",
       "      <td>среднее</td>\n",
       "      <td>1</td>\n",
       "      <td>женат / замужем</td>\n",
       "      <td>0</td>\n",
       "      <td>F</td>\n",
       "      <td>сотрудник</td>\n",
       "      <td>0</td>\n",
       "      <td>112080.014102</td>\n",
       "      <td>приобретение автомобиля</td>\n",
       "    </tr>\n",
       "    <tr>\n",
       "      <th>2</th>\n",
       "      <td>0</td>\n",
       "      <td>-5623.422610</td>\n",
       "      <td>33</td>\n",
       "      <td>Среднее</td>\n",
       "      <td>1</td>\n",
       "      <td>женат / замужем</td>\n",
       "      <td>0</td>\n",
       "      <td>M</td>\n",
       "      <td>сотрудник</td>\n",
       "      <td>0</td>\n",
       "      <td>145885.952297</td>\n",
       "      <td>покупка жилья</td>\n",
       "    </tr>\n",
       "    <tr>\n",
       "      <th>3</th>\n",
       "      <td>3</td>\n",
       "      <td>-4124.747207</td>\n",
       "      <td>32</td>\n",
       "      <td>среднее</td>\n",
       "      <td>1</td>\n",
       "      <td>женат / замужем</td>\n",
       "      <td>0</td>\n",
       "      <td>M</td>\n",
       "      <td>сотрудник</td>\n",
       "      <td>0</td>\n",
       "      <td>267628.550329</td>\n",
       "      <td>дополнительное образование</td>\n",
       "    </tr>\n",
       "    <tr>\n",
       "      <th>4</th>\n",
       "      <td>0</td>\n",
       "      <td>340266.072047</td>\n",
       "      <td>53</td>\n",
       "      <td>среднее</td>\n",
       "      <td>1</td>\n",
       "      <td>гражданский брак</td>\n",
       "      <td>1</td>\n",
       "      <td>F</td>\n",
       "      <td>пенсионер</td>\n",
       "      <td>0</td>\n",
       "      <td>158616.077870</td>\n",
       "      <td>сыграть свадьбу</td>\n",
       "    </tr>\n",
       "    <tr>\n",
       "      <th>5</th>\n",
       "      <td>0</td>\n",
       "      <td>-926.185831</td>\n",
       "      <td>27</td>\n",
       "      <td>высшее</td>\n",
       "      <td>0</td>\n",
       "      <td>гражданский брак</td>\n",
       "      <td>1</td>\n",
       "      <td>M</td>\n",
       "      <td>компаньон</td>\n",
       "      <td>0</td>\n",
       "      <td>255763.565419</td>\n",
       "      <td>покупка жилья</td>\n",
       "    </tr>\n",
       "    <tr>\n",
       "      <th>6</th>\n",
       "      <td>0</td>\n",
       "      <td>-2879.202052</td>\n",
       "      <td>43</td>\n",
       "      <td>высшее</td>\n",
       "      <td>0</td>\n",
       "      <td>женат / замужем</td>\n",
       "      <td>0</td>\n",
       "      <td>F</td>\n",
       "      <td>компаньон</td>\n",
       "      <td>0</td>\n",
       "      <td>240525.971920</td>\n",
       "      <td>операции с жильем</td>\n",
       "    </tr>\n",
       "    <tr>\n",
       "      <th>7</th>\n",
       "      <td>0</td>\n",
       "      <td>-152.779569</td>\n",
       "      <td>50</td>\n",
       "      <td>СРЕДНЕЕ</td>\n",
       "      <td>1</td>\n",
       "      <td>женат / замужем</td>\n",
       "      <td>0</td>\n",
       "      <td>M</td>\n",
       "      <td>сотрудник</td>\n",
       "      <td>0</td>\n",
       "      <td>135823.934197</td>\n",
       "      <td>образование</td>\n",
       "    </tr>\n",
       "    <tr>\n",
       "      <th>8</th>\n",
       "      <td>2</td>\n",
       "      <td>-6929.865299</td>\n",
       "      <td>35</td>\n",
       "      <td>ВЫСШЕЕ</td>\n",
       "      <td>0</td>\n",
       "      <td>гражданский брак</td>\n",
       "      <td>1</td>\n",
       "      <td>F</td>\n",
       "      <td>сотрудник</td>\n",
       "      <td>0</td>\n",
       "      <td>95856.832424</td>\n",
       "      <td>на проведение свадьбы</td>\n",
       "    </tr>\n",
       "    <tr>\n",
       "      <th>9</th>\n",
       "      <td>0</td>\n",
       "      <td>-2188.756445</td>\n",
       "      <td>41</td>\n",
       "      <td>среднее</td>\n",
       "      <td>1</td>\n",
       "      <td>женат / замужем</td>\n",
       "      <td>0</td>\n",
       "      <td>M</td>\n",
       "      <td>сотрудник</td>\n",
       "      <td>0</td>\n",
       "      <td>144425.938277</td>\n",
       "      <td>покупка жилья для семьи</td>\n",
       "    </tr>\n",
       "  </tbody>\n",
       "</table>\n",
       "</div>"
      ],
      "text/plain": [
       "   children  days_employed  dob_years education  education_id  \\\n",
       "0         1   -8437.673028         42    высшее             0   \n",
       "1         1   -4024.803754         36   среднее             1   \n",
       "2         0   -5623.422610         33   Среднее             1   \n",
       "3         3   -4124.747207         32   среднее             1   \n",
       "4         0  340266.072047         53   среднее             1   \n",
       "5         0    -926.185831         27    высшее             0   \n",
       "6         0   -2879.202052         43    высшее             0   \n",
       "7         0    -152.779569         50   СРЕДНЕЕ             1   \n",
       "8         2   -6929.865299         35    ВЫСШЕЕ             0   \n",
       "9         0   -2188.756445         41   среднее             1   \n",
       "\n",
       "      family_status  family_status_id gender income_type  debt   total_income  \\\n",
       "0   женат / замужем                 0      F   сотрудник     0  253875.639453   \n",
       "1   женат / замужем                 0      F   сотрудник     0  112080.014102   \n",
       "2   женат / замужем                 0      M   сотрудник     0  145885.952297   \n",
       "3   женат / замужем                 0      M   сотрудник     0  267628.550329   \n",
       "4  гражданский брак                 1      F   пенсионер     0  158616.077870   \n",
       "5  гражданский брак                 1      M   компаньон     0  255763.565419   \n",
       "6   женат / замужем                 0      F   компаньон     0  240525.971920   \n",
       "7   женат / замужем                 0      M   сотрудник     0  135823.934197   \n",
       "8  гражданский брак                 1      F   сотрудник     0   95856.832424   \n",
       "9   женат / замужем                 0      M   сотрудник     0  144425.938277   \n",
       "\n",
       "                      purpose  \n",
       "0               покупка жилья  \n",
       "1     приобретение автомобиля  \n",
       "2               покупка жилья  \n",
       "3  дополнительное образование  \n",
       "4             сыграть свадьбу  \n",
       "5               покупка жилья  \n",
       "6           операции с жильем  \n",
       "7                 образование  \n",
       "8       на проведение свадьбы  \n",
       "9     покупка жилья для семьи  "
      ]
     },
     "execution_count": 3,
     "metadata": {},
     "output_type": "execute_result"
    }
   ],
   "source": [
    "df.head(10)"
   ]
  },
  {
   "cell_type": "markdown",
   "metadata": {},
   "source": [
    "Проблемы в данных:\n",
    "\n",
    "- Отрицательные значения в столбце days_employed\n",
    "- Аномальное значение 340266.072047 дней в столбце days_employed\n",
    "- дубликаты в столбце education с значениями написанными в разных регистрах\n",
    "- Причины описанные в столбце purpose повторяются в разной формулировке"
   ]
  },
  {
   "cell_type": "code",
   "execution_count": 4,
   "metadata": {},
   "outputs": [
    {
     "name": "stdout",
     "output_type": "stream",
     "text": [
      "<class 'pandas.core.frame.DataFrame'>\n",
      "RangeIndex: 21525 entries, 0 to 21524\n",
      "Data columns (total 12 columns):\n",
      " #   Column            Non-Null Count  Dtype  \n",
      "---  ------            --------------  -----  \n",
      " 0   children          21525 non-null  int64  \n",
      " 1   days_employed     19351 non-null  float64\n",
      " 2   dob_years         21525 non-null  int64  \n",
      " 3   education         21525 non-null  object \n",
      " 4   education_id      21525 non-null  int64  \n",
      " 5   family_status     21525 non-null  object \n",
      " 6   family_status_id  21525 non-null  int64  \n",
      " 7   gender            21525 non-null  object \n",
      " 8   income_type       21525 non-null  object \n",
      " 9   debt              21525 non-null  int64  \n",
      " 10  total_income      19351 non-null  float64\n",
      " 11  purpose           21525 non-null  object \n",
      "dtypes: float64(2), int64(5), object(5)\n",
      "memory usage: 2.0+ MB\n"
     ]
    }
   ],
   "source": [
    "df.info()"
   ]
  },
  {
   "cell_type": "code",
   "execution_count": 5,
   "metadata": {},
   "outputs": [
    {
     "data": {
      "text/html": [
       "<div>\n",
       "<style scoped>\n",
       "    .dataframe tbody tr th:only-of-type {\n",
       "        vertical-align: middle;\n",
       "    }\n",
       "\n",
       "    .dataframe tbody tr th {\n",
       "        vertical-align: top;\n",
       "    }\n",
       "\n",
       "    .dataframe thead th {\n",
       "        text-align: right;\n",
       "    }\n",
       "</style>\n",
       "<table border=\"1\" class=\"dataframe\">\n",
       "  <thead>\n",
       "    <tr style=\"text-align: right;\">\n",
       "      <th></th>\n",
       "      <th>children</th>\n",
       "      <th>days_employed</th>\n",
       "      <th>dob_years</th>\n",
       "      <th>education_id</th>\n",
       "      <th>family_status_id</th>\n",
       "      <th>debt</th>\n",
       "      <th>total_income</th>\n",
       "    </tr>\n",
       "  </thead>\n",
       "  <tbody>\n",
       "    <tr>\n",
       "      <th>count</th>\n",
       "      <td>21525.000000</td>\n",
       "      <td>19351.000000</td>\n",
       "      <td>21525.000000</td>\n",
       "      <td>21525.000000</td>\n",
       "      <td>21525.000000</td>\n",
       "      <td>21525.000000</td>\n",
       "      <td>1.935100e+04</td>\n",
       "    </tr>\n",
       "    <tr>\n",
       "      <th>mean</th>\n",
       "      <td>0.538908</td>\n",
       "      <td>63046.497661</td>\n",
       "      <td>43.293380</td>\n",
       "      <td>0.817236</td>\n",
       "      <td>0.972544</td>\n",
       "      <td>0.080883</td>\n",
       "      <td>1.674223e+05</td>\n",
       "    </tr>\n",
       "    <tr>\n",
       "      <th>std</th>\n",
       "      <td>1.381587</td>\n",
       "      <td>140827.311974</td>\n",
       "      <td>12.574584</td>\n",
       "      <td>0.548138</td>\n",
       "      <td>1.420324</td>\n",
       "      <td>0.272661</td>\n",
       "      <td>1.029716e+05</td>\n",
       "    </tr>\n",
       "    <tr>\n",
       "      <th>min</th>\n",
       "      <td>-1.000000</td>\n",
       "      <td>-18388.949901</td>\n",
       "      <td>0.000000</td>\n",
       "      <td>0.000000</td>\n",
       "      <td>0.000000</td>\n",
       "      <td>0.000000</td>\n",
       "      <td>2.066726e+04</td>\n",
       "    </tr>\n",
       "    <tr>\n",
       "      <th>25%</th>\n",
       "      <td>0.000000</td>\n",
       "      <td>-2747.423625</td>\n",
       "      <td>33.000000</td>\n",
       "      <td>1.000000</td>\n",
       "      <td>0.000000</td>\n",
       "      <td>0.000000</td>\n",
       "      <td>1.030532e+05</td>\n",
       "    </tr>\n",
       "    <tr>\n",
       "      <th>50%</th>\n",
       "      <td>0.000000</td>\n",
       "      <td>-1203.369529</td>\n",
       "      <td>42.000000</td>\n",
       "      <td>1.000000</td>\n",
       "      <td>0.000000</td>\n",
       "      <td>0.000000</td>\n",
       "      <td>1.450179e+05</td>\n",
       "    </tr>\n",
       "    <tr>\n",
       "      <th>75%</th>\n",
       "      <td>1.000000</td>\n",
       "      <td>-291.095954</td>\n",
       "      <td>53.000000</td>\n",
       "      <td>1.000000</td>\n",
       "      <td>1.000000</td>\n",
       "      <td>0.000000</td>\n",
       "      <td>2.034351e+05</td>\n",
       "    </tr>\n",
       "    <tr>\n",
       "      <th>max</th>\n",
       "      <td>20.000000</td>\n",
       "      <td>401755.400475</td>\n",
       "      <td>75.000000</td>\n",
       "      <td>4.000000</td>\n",
       "      <td>4.000000</td>\n",
       "      <td>1.000000</td>\n",
       "      <td>2.265604e+06</td>\n",
       "    </tr>\n",
       "  </tbody>\n",
       "</table>\n",
       "</div>"
      ],
      "text/plain": [
       "           children  days_employed     dob_years  education_id  \\\n",
       "count  21525.000000   19351.000000  21525.000000  21525.000000   \n",
       "mean       0.538908   63046.497661     43.293380      0.817236   \n",
       "std        1.381587  140827.311974     12.574584      0.548138   \n",
       "min       -1.000000  -18388.949901      0.000000      0.000000   \n",
       "25%        0.000000   -2747.423625     33.000000      1.000000   \n",
       "50%        0.000000   -1203.369529     42.000000      1.000000   \n",
       "75%        1.000000    -291.095954     53.000000      1.000000   \n",
       "max       20.000000  401755.400475     75.000000      4.000000   \n",
       "\n",
       "       family_status_id          debt  total_income  \n",
       "count      21525.000000  21525.000000  1.935100e+04  \n",
       "mean           0.972544      0.080883  1.674223e+05  \n",
       "std            1.420324      0.272661  1.029716e+05  \n",
       "min            0.000000      0.000000  2.066726e+04  \n",
       "25%            0.000000      0.000000  1.030532e+05  \n",
       "50%            0.000000      0.000000  1.450179e+05  \n",
       "75%            1.000000      0.000000  2.034351e+05  \n",
       "max            4.000000      1.000000  2.265604e+06  "
      ]
     },
     "execution_count": 5,
     "metadata": {},
     "output_type": "execute_result"
    }
   ],
   "source": [
    "df.describe()"
   ]
  },
  {
   "cell_type": "markdown",
   "metadata": {},
   "source": [
    "Прежде чем приступать к анализу, нужно провести предобработку.\n",
    "\n",
    "- Обработать отрицательные значения в столбце days_employed\n",
    "- Обработать аномалии в days_employed\n",
    "- Обработать дубликаты в столбце education с значениями написанными в разных регистрах\n",
    "- Обработать пропуски в стобце days_employed и total_income. \n",
    "- Перевести колонку total_income в int.\n",
    "- days_employed следует перевести из float в int"
   ]
  },
  {
   "cell_type": "markdown",
   "metadata": {},
   "source": [
    "## Предобработка данных"
   ]
  },
  {
   "cell_type": "markdown",
   "metadata": {},
   "source": [
    "### Обработка пропусков"
   ]
  },
  {
   "cell_type": "markdown",
   "metadata": {},
   "source": [
    "#### days_employed"
   ]
  },
  {
   "cell_type": "code",
   "execution_count": 6,
   "metadata": {},
   "outputs": [
    {
     "data": {
      "text/plain": [
       "2174"
      ]
     },
     "execution_count": 6,
     "metadata": {},
     "output_type": "execute_result"
    }
   ],
   "source": [
    "# число пропусков\n",
    "df['days_employed'].isna().sum()"
   ]
  },
  {
   "cell_type": "code",
   "execution_count": 8,
   "metadata": {},
   "outputs": [
    {
     "data": {
      "text/plain": [
       "15906"
      ]
     },
     "execution_count": 8,
     "metadata": {},
     "output_type": "execute_result"
    }
   ],
   "source": [
    "# число записей с отрицательным days_employed\n",
    "df[df['days_employed'] < 0]['days_employed'].count()"
   ]
  },
  {
   "cell_type": "markdown",
   "metadata": {},
   "source": [
    "3/4 значений в колонке days_employed отрицательные.\n",
    "\n",
    "Проверю, что из себя представляют эти значения.\\\n",
    "Возможно, это действительные данные, у которых по ошибке появился знак минуса во время выгрузки."
   ]
  },
  {
   "cell_type": "code",
   "execution_count": 9,
   "metadata": {},
   "outputs": [],
   "source": [
    "negative_days_employed = df[df['days_employed'] < 0]['days_employed']"
   ]
  },
  {
   "cell_type": "code",
   "execution_count": 10,
   "metadata": {},
   "outputs": [
    {
     "data": {
      "text/plain": [
       "count    15906.000000\n",
       "mean     -2353.015932\n",
       "std       2304.243851\n",
       "min     -18388.949901\n",
       "25%      -3157.480084\n",
       "50%      -1630.019381\n",
       "75%       -756.371964\n",
       "max        -24.141633\n",
       "Name: days_employed, dtype: float64"
      ]
     },
     "execution_count": 10,
     "metadata": {},
     "output_type": "execute_result"
    }
   ],
   "source": [
    "negative_days_employed.describe()"
   ]
  },
  {
   "cell_type": "code",
   "execution_count": 11,
   "metadata": {},
   "outputs": [
    {
     "data": {
      "text/plain": [
       "count      3445.000000\n",
       "mean     365004.309916\n",
       "std       21075.016396\n",
       "min      328728.720605\n",
       "25%      346639.413916\n",
       "50%      365213.306266\n",
       "75%      383246.444219\n",
       "max      401755.400475\n",
       "Name: days_employed, dtype: float64"
      ]
     },
     "execution_count": 11,
     "metadata": {},
     "output_type": "execute_result"
    }
   ],
   "source": [
    "df[df['days_employed'] > 0]['days_employed'].describe()"
   ]
  },
  {
   "cell_type": "markdown",
   "metadata": {},
   "source": [
    "Как видно выше, похожими на реальные выглядят только отрицательные значения в столбце days_employed (если поменять знак на плюс)\n",
    "\n",
    "Положительные же значения составляют ~20% столбца. При этом минимальное значение равно 328728 дням, то есть почти 900 годам. Использовать эти данные для анализа нельзя."
   ]
  },
  {
   "cell_type": "code",
   "execution_count": 12,
   "metadata": {},
   "outputs": [
    {
     "data": {
      "text/plain": [
       "0"
      ]
     },
     "execution_count": 12,
     "metadata": {},
     "output_type": "execute_result"
    }
   ],
   "source": [
    "df[df['days_employed'] == 0]['days_employed'].count()"
   ]
  },
  {
   "cell_type": "markdown",
   "metadata": {},
   "source": [
    "В колонке days_employed нет значений равных нулю. \n",
    "\n",
    "Временно использую 0, чтобы заполнить некорректные положительные значения"
   ]
  },
  {
   "cell_type": "code",
   "execution_count": 13,
   "metadata": {},
   "outputs": [],
   "source": [
    "df.loc[df['days_employed'] > 0, 'days_employed'] = 0"
   ]
  },
  {
   "cell_type": "code",
   "execution_count": 14,
   "metadata": {},
   "outputs": [
    {
     "data": {
      "text/plain": [
       "3445"
      ]
     },
     "execution_count": 14,
     "metadata": {},
     "output_type": "execute_result"
    }
   ],
   "source": [
    "df[df['days_employed'] == 0]['days_employed'].count()"
   ]
  },
  {
   "cell_type": "code",
   "execution_count": 15,
   "metadata": {},
   "outputs": [],
   "source": [
    "df['days_employed'] = df['days_employed'].fillna(0)"
   ]
  },
  {
   "cell_type": "code",
   "execution_count": 16,
   "metadata": {},
   "outputs": [
    {
     "data": {
      "text/plain": [
       "5619"
      ]
     },
     "execution_count": 16,
     "metadata": {},
     "output_type": "execute_result"
    }
   ],
   "source": [
    "df[df['days_employed'] == 0]['days_employed'].count()"
   ]
  },
  {
   "cell_type": "markdown",
   "metadata": {},
   "source": [
    "Положительные и отсутствующие значения приведены к нулю.\n",
    "\n",
    "Сделал это для удобства при заполнении этих пропусков или их удалении."
   ]
  },
  {
   "cell_type": "code",
   "execution_count": 17,
   "metadata": {},
   "outputs": [],
   "source": [
    "correct_days_employed = df['days_employed'].abs()"
   ]
  },
  {
   "cell_type": "code",
   "execution_count": 18,
   "metadata": {},
   "outputs": [
    {
     "data": {
      "text/plain": [
       "count    21525.000000\n",
       "mean      1738.772191\n",
       "std       2234.171998\n",
       "min          0.000000\n",
       "25%          0.000000\n",
       "50%        982.531720\n",
       "75%       2518.168900\n",
       "max      18388.949901\n",
       "Name: days_employed, dtype: float64"
      ]
     },
     "execution_count": 18,
     "metadata": {},
     "output_type": "execute_result"
    }
   ],
   "source": [
    "correct_days_employed.describe()"
   ]
  },
  {
   "cell_type": "code",
   "execution_count": 109,
   "metadata": {},
   "outputs": [
    {
     "data": {
      "image/png": "[encoded data removed]",
      "text/plain": [
       "<Figure size 432x288 with 1 Axes>"
      ]
     },
     "metadata": {
      "needs_background": "light"
     },
     "output_type": "display_data"
    }
   ],
   "source": [
    "correct_days_employed.hist();"
   ]
  },
  {
   "cell_type": "markdown",
   "metadata": {},
   "source": [
    "Ознакомившись с оставшимися данными, я делаю вывод, что желательнее использовать медиану, а не среднее из-за высокого стандартного отклонения, что свидетельствует о высоком разбросе данных. "
   ]
  },
  {
   "cell_type": "code",
   "execution_count": 23,
   "metadata": {},
   "outputs": [],
   "source": [
    "df.loc[df['days_employed'] < 0, 'days_employed'] = correct_days_employed"
   ]
  },
  {
   "cell_type": "code",
   "execution_count": 24,
   "metadata": {},
   "outputs": [],
   "source": [
    "df.loc[df['days_employed'] == 0, 'days_employed'] = correct_days_employed.median()"
   ]
  },
  {
   "cell_type": "code",
   "execution_count": 25,
   "metadata": {},
   "outputs": [
    {
     "data": {
      "text/plain": [
       "count    21525.000000\n",
       "mean      1995.257475\n",
       "std       2070.210858\n",
       "min         24.141633\n",
       "25%        982.531720\n",
       "50%        982.531720\n",
       "75%       2518.168900\n",
       "max      18388.949901\n",
       "Name: days_employed, dtype: float64"
      ]
     },
     "execution_count": 25,
     "metadata": {},
     "output_type": "execute_result"
    }
   ],
   "source": [
    "df['days_employed'].describe()"
   ]
  },
  {
   "cell_type": "markdown",
   "metadata": {},
   "source": [
    "Пропуски и ошибки в столбце days_employed были обработаны.\n",
    "- У отрицательных значений, составлявших 3/4 колонки, изменен знак на положительный\n",
    "- Аномально высокие значения (900 лет и более) и пропуски заменены на медиану"
   ]
  },
  {
   "cell_type": "markdown",
   "metadata": {},
   "source": [
    "#### total_income"
   ]
  },
  {
   "cell_type": "code",
   "execution_count": 26,
   "metadata": {},
   "outputs": [
    {
     "data": {
      "text/plain": [
       "2174"
      ]
     },
     "execution_count": 26,
     "metadata": {},
     "output_type": "execute_result"
    }
   ],
   "source": [
    "df['total_income'].isna().sum()"
   ]
  },
  {
   "cell_type": "code",
   "execution_count": 27,
   "metadata": {},
   "outputs": [
    {
     "data": {
      "text/plain": [
       "count    1.935100e+04\n",
       "mean     1.674223e+05\n",
       "std      1.029716e+05\n",
       "min      2.066726e+04\n",
       "25%      1.030532e+05\n",
       "50%      1.450179e+05\n",
       "75%      2.034351e+05\n",
       "max      2.265604e+06\n",
       "Name: total_income, dtype: float64"
      ]
     },
     "execution_count": 27,
     "metadata": {},
     "output_type": "execute_result"
    }
   ],
   "source": [
    "df['total_income'].describe()"
   ]
  },
  {
   "cell_type": "markdown",
   "metadata": {},
   "source": [
    "В колонке 2174 пропущенных значения.\n",
    "\n",
    "Судя по информации из describe, данные выглядят правдоподобно, в них не наблюдается аномальных значений.\\\n",
    "\n",
    "Я решаю использовать медианные значения для заполнения пропусков в данных.\\\n",
    "Для каждой категории я использую медиану только по этой категории.\\\n",
    "Так, пропуски в зарплатах госслужащих будут заполнены будут заполнены медианной зарплатой госслужащих."
   ]
  },
  {
   "cell_type": "code",
   "execution_count": 28,
   "metadata": {},
   "outputs": [
    {
     "data": {
      "text/plain": [
       "сотрудник          11119\n",
       "компаньон           5085\n",
       "пенсионер           3856\n",
       "госслужащий         1459\n",
       "безработный            2\n",
       "предприниматель        2\n",
       "в декрете              1\n",
       "студент                1\n",
       "Name: income_type, dtype: int64"
      ]
     },
     "execution_count": 28,
     "metadata": {},
     "output_type": "execute_result"
    }
   ],
   "source": [
    "df['income_type'].value_counts()"
   ]
  },
  {
   "cell_type": "code",
   "execution_count": 29,
   "metadata": {},
   "outputs": [
    {
     "data": {
      "text/html": [
       "<div>\n",
       "<style scoped>\n",
       "    .dataframe tbody tr th:only-of-type {\n",
       "        vertical-align: middle;\n",
       "    }\n",
       "\n",
       "    .dataframe tbody tr th {\n",
       "        vertical-align: top;\n",
       "    }\n",
       "\n",
       "    .dataframe thead th {\n",
       "        text-align: right;\n",
       "    }\n",
       "</style>\n",
       "<table border=\"1\" class=\"dataframe\">\n",
       "  <thead>\n",
       "    <tr style=\"text-align: right;\">\n",
       "      <th></th>\n",
       "      <th>total_income</th>\n",
       "    </tr>\n",
       "  </thead>\n",
       "  <tbody>\n",
       "    <tr>\n",
       "      <th>count</th>\n",
       "      <td>3443.000000</td>\n",
       "    </tr>\n",
       "    <tr>\n",
       "      <th>mean</th>\n",
       "      <td>137127.465690</td>\n",
       "    </tr>\n",
       "    <tr>\n",
       "      <th>std</th>\n",
       "      <td>80246.953231</td>\n",
       "    </tr>\n",
       "    <tr>\n",
       "      <th>min</th>\n",
       "      <td>20667.263793</td>\n",
       "    </tr>\n",
       "    <tr>\n",
       "      <th>25%</th>\n",
       "      <td>82881.443465</td>\n",
       "    </tr>\n",
       "    <tr>\n",
       "      <th>50%</th>\n",
       "      <td>118514.486412</td>\n",
       "    </tr>\n",
       "    <tr>\n",
       "      <th>75%</th>\n",
       "      <td>169700.433010</td>\n",
       "    </tr>\n",
       "    <tr>\n",
       "      <th>max</th>\n",
       "      <td>735103.270167</td>\n",
       "    </tr>\n",
       "  </tbody>\n",
       "</table>\n",
       "</div>"
      ],
      "text/plain": [
       "        total_income\n",
       "count    3443.000000\n",
       "mean   137127.465690\n",
       "std     80246.953231\n",
       "min     20667.263793\n",
       "25%     82881.443465\n",
       "50%    118514.486412\n",
       "75%    169700.433010\n",
       "max    735103.270167"
      ]
     },
     "execution_count": 29,
     "metadata": {},
     "output_type": "execute_result"
    }
   ],
   "source": [
    "df.loc[df['income_type'] == \"пенсионер\", ['total_income']].describe()"
   ]
  },
  {
   "cell_type": "code",
   "execution_count": 30,
   "metadata": {},
   "outputs": [
    {
     "data": {
      "text/plain": [
       "total_income    413\n",
       "dtype: int64"
      ]
     },
     "execution_count": 30,
     "metadata": {},
     "output_type": "execute_result"
    }
   ],
   "source": [
    "df.loc[df['income_type'] == \"пенсионер\", ['total_income']].isna().sum()"
   ]
  },
  {
   "cell_type": "markdown",
   "metadata": {},
   "source": [
    "Замечаю, что у пенсионеров достаточно разнообразные уровни дохода, следовательно менять уровень дохода на ноль всем пустым значениям будет неверно. Могу предположить, что в качестве дохода учитывается не только зарплата, но и пенсия, доход с инвестиций etc. "
   ]
  },
  {
   "cell_type": "code",
   "execution_count": 31,
   "metadata": {},
   "outputs": [],
   "source": [
    "def income_filler(df, income_type):\n",
    "    income_group = df.loc[df['income_type'] == income_type, ['total_income']]\n",
    "    median = income_group.median()\n",
    "    print('Медианный доход категории', income_type, 'равен', int(median))\n",
    "    \n",
    "    income_group = income_group.fillna(median)\n",
    "    df.loc[df['income_type'] == income_type, ['total_income']] = income_group\n",
    "    print('Пропусков осталось:', int(df.loc[df['income_type'] == income_type, ['total_income']].isna().sum()))"
   ]
  },
  {
   "cell_type": "code",
   "execution_count": 32,
   "metadata": {},
   "outputs": [],
   "source": [
    "income_types = ['пенсионер','сотрудник','компаньон','госслужащий']"
   ]
  },
  {
   "cell_type": "code",
   "execution_count": 33,
   "metadata": {},
   "outputs": [
    {
     "name": "stdout",
     "output_type": "stream",
     "text": [
      "Медианный доход категории пенсионер равен 118514\n",
      "Пропусков осталось: 0\n",
      "Медианный доход категории сотрудник равен 142594\n",
      "Пропусков осталось: 0\n",
      "Медианный доход категории компаньон равен 172357\n",
      "Пропусков осталось: 0\n",
      "Медианный доход категории госслужащий равен 150447\n",
      "Пропусков осталось: 0\n"
     ]
    }
   ],
   "source": [
    "for income_type in income_types:\n",
    "    income_filler(df, income_type)"
   ]
  },
  {
   "cell_type": "code",
   "execution_count": 34,
   "metadata": {},
   "outputs": [
    {
     "data": {
      "text/plain": [
       "1"
      ]
     },
     "execution_count": 34,
     "metadata": {},
     "output_type": "execute_result"
    }
   ],
   "source": [
    "df['total_income'].isna().sum()"
   ]
  },
  {
   "cell_type": "markdown",
   "metadata": {},
   "source": [
    "После заполнения больших категорий остался еще один пропуск "
   ]
  },
  {
   "cell_type": "code",
   "execution_count": 35,
   "metadata": {},
   "outputs": [
    {
     "data": {
      "text/html": [
       "<div>\n",
       "<style scoped>\n",
       "    .dataframe tbody tr th:only-of-type {\n",
       "        vertical-align: middle;\n",
       "    }\n",
       "\n",
       "    .dataframe tbody tr th {\n",
       "        vertical-align: top;\n",
       "    }\n",
       "\n",
       "    .dataframe thead th {\n",
       "        text-align: right;\n",
       "    }\n",
       "</style>\n",
       "<table border=\"1\" class=\"dataframe\">\n",
       "  <thead>\n",
       "    <tr style=\"text-align: right;\">\n",
       "      <th></th>\n",
       "      <th>children</th>\n",
       "      <th>days_employed</th>\n",
       "      <th>dob_years</th>\n",
       "      <th>education</th>\n",
       "      <th>education_id</th>\n",
       "      <th>family_status</th>\n",
       "      <th>family_status_id</th>\n",
       "      <th>gender</th>\n",
       "      <th>income_type</th>\n",
       "      <th>debt</th>\n",
       "      <th>total_income</th>\n",
       "      <th>purpose</th>\n",
       "    </tr>\n",
       "  </thead>\n",
       "  <tbody>\n",
       "    <tr>\n",
       "      <th>5936</th>\n",
       "      <td>0</td>\n",
       "      <td>982.53172</td>\n",
       "      <td>58</td>\n",
       "      <td>высшее</td>\n",
       "      <td>0</td>\n",
       "      <td>женат / замужем</td>\n",
       "      <td>0</td>\n",
       "      <td>M</td>\n",
       "      <td>предприниматель</td>\n",
       "      <td>0</td>\n",
       "      <td>NaN</td>\n",
       "      <td>покупка жилой недвижимости</td>\n",
       "    </tr>\n",
       "  </tbody>\n",
       "</table>\n",
       "</div>"
      ],
      "text/plain": [
       "      children  days_employed  dob_years education  education_id  \\\n",
       "5936         0      982.53172         58    высшее             0   \n",
       "\n",
       "        family_status  family_status_id gender      income_type  debt  \\\n",
       "5936  женат / замужем                 0      M  предприниматель     0   \n",
       "\n",
       "      total_income                     purpose  \n",
       "5936           NaN  покупка жилой недвижимости  "
      ]
     },
     "execution_count": 35,
     "metadata": {},
     "output_type": "execute_result"
    }
   ],
   "source": [
    "df.loc[df['total_income'].isna()]"
   ]
  },
  {
   "cell_type": "markdown",
   "metadata": {},
   "source": [
    "Для простоты дальнейшей работы удалю это значение."
   ]
  },
  {
   "cell_type": "code",
   "execution_count": 36,
   "metadata": {},
   "outputs": [],
   "source": [
    "df = df.dropna().reset_index(drop = True)"
   ]
  },
  {
   "cell_type": "code",
   "execution_count": 37,
   "metadata": {},
   "outputs": [
    {
     "data": {
      "text/plain": [
       "count    2.152400e+04\n",
       "mean     1.652098e+05\n",
       "std      9.801952e+04\n",
       "min      2.066726e+04\n",
       "25%      1.077960e+05\n",
       "50%      1.425944e+05\n",
       "75%      1.955452e+05\n",
       "max      2.265604e+06\n",
       "Name: total_income, dtype: float64"
      ]
     },
     "execution_count": 37,
     "metadata": {},
     "output_type": "execute_result"
    }
   ],
   "source": [
    "df['total_income'].describe()"
   ]
  },
  {
   "cell_type": "code",
   "execution_count": 38,
   "metadata": {},
   "outputs": [
    {
     "data": {
      "text/plain": [
       "children            0\n",
       "days_employed       0\n",
       "dob_years           0\n",
       "education           0\n",
       "education_id        0\n",
       "family_status       0\n",
       "family_status_id    0\n",
       "gender              0\n",
       "income_type         0\n",
       "debt                0\n",
       "total_income        0\n",
       "purpose             0\n",
       "dtype: int64"
      ]
     },
     "execution_count": 38,
     "metadata": {},
     "output_type": "execute_result"
    }
   ],
   "source": [
    "df.isna().sum()"
   ]
  },
  {
   "cell_type": "markdown",
   "metadata": {},
   "source": [
    "Пропуски в столбцах days_employed и total_income были заполнены медианными значениями. \n",
    "\n",
    "Для заполнения пропусков в total_income использовались медианные значения категории людей, к которой принадлежит человек, на основании столбца \"income_type\", то есть типа занятости. Так, например, пропуски в зарплате госслужащих заполнены медианной зарплатой всех госслужащих"
   ]
  },
  {
   "cell_type": "markdown",
   "metadata": {},
   "source": [
    "### Типы данных"
   ]
  },
  {
   "cell_type": "code",
   "execution_count": 39,
   "metadata": {},
   "outputs": [
    {
     "name": "stdout",
     "output_type": "stream",
     "text": [
      "<class 'pandas.core.frame.DataFrame'>\n",
      "RangeIndex: 21524 entries, 0 to 21523\n",
      "Data columns (total 12 columns):\n",
      " #   Column            Non-Null Count  Dtype  \n",
      "---  ------            --------------  -----  \n",
      " 0   children          21524 non-null  int64  \n",
      " 1   days_employed     21524 non-null  float64\n",
      " 2   dob_years         21524 non-null  int64  \n",
      " 3   education         21524 non-null  object \n",
      " 4   education_id      21524 non-null  int64  \n",
      " 5   family_status     21524 non-null  object \n",
      " 6   family_status_id  21524 non-null  int64  \n",
      " 7   gender            21524 non-null  object \n",
      " 8   income_type       21524 non-null  object \n",
      " 9   debt              21524 non-null  int64  \n",
      " 10  total_income      21524 non-null  float64\n",
      " 11  purpose           21524 non-null  object \n",
      "dtypes: float64(2), int64(5), object(5)\n",
      "memory usage: 2.0+ MB\n"
     ]
    }
   ],
   "source": [
    "df.info()"
   ]
  },
  {
   "cell_type": "code",
   "execution_count": 40,
   "metadata": {},
   "outputs": [],
   "source": [
    "df['days_employed'] = df['days_employed'].astype('int64')"
   ]
  },
  {
   "cell_type": "code",
   "execution_count": 41,
   "metadata": {},
   "outputs": [
    {
     "data": {
      "text/plain": [
       "0    8437\n",
       "1    4024\n",
       "2    5623\n",
       "3    4124\n",
       "4     982\n",
       "Name: days_employed, dtype: int64"
      ]
     },
     "execution_count": 41,
     "metadata": {},
     "output_type": "execute_result"
    }
   ],
   "source": [
    "df['days_employed'].head()"
   ]
  },
  {
   "cell_type": "code",
   "execution_count": 42,
   "metadata": {},
   "outputs": [],
   "source": [
    "df['total_income'] = df['total_income'].astype('int64')"
   ]
  },
  {
   "cell_type": "code",
   "execution_count": 43,
   "metadata": {},
   "outputs": [
    {
     "name": "stdout",
     "output_type": "stream",
     "text": [
      "<class 'pandas.core.frame.DataFrame'>\n",
      "RangeIndex: 21524 entries, 0 to 21523\n",
      "Data columns (total 12 columns):\n",
      " #   Column            Non-Null Count  Dtype \n",
      "---  ------            --------------  ----- \n",
      " 0   children          21524 non-null  int64 \n",
      " 1   days_employed     21524 non-null  int64 \n",
      " 2   dob_years         21524 non-null  int64 \n",
      " 3   education         21524 non-null  object\n",
      " 4   education_id      21524 non-null  int64 \n",
      " 5   family_status     21524 non-null  object\n",
      " 6   family_status_id  21524 non-null  int64 \n",
      " 7   gender            21524 non-null  object\n",
      " 8   income_type       21524 non-null  object\n",
      " 9   debt              21524 non-null  int64 \n",
      " 10  total_income      21524 non-null  int64 \n",
      " 11  purpose           21524 non-null  object\n",
      "dtypes: int64(7), object(5)\n",
      "memory usage: 2.0+ MB\n"
     ]
    }
   ],
   "source": [
    "df.info()"
   ]
  },
  {
   "cell_type": "markdown",
   "metadata": {},
   "source": [
    "Колонки days_employed и total_income приведены к типу int.\n",
    "\n",
    "- тип days_employed заменен, потому что количество дней это целочисленное значение\n",
    "- тип total_income заменен для простоты дальнейшей работы с данными и их лучшей наглядности.\\\n",
    "    Я предполагаю, что погрешности в несколько копеек не сыграют большой роли при анализе."
   ]
  },
  {
   "cell_type": "markdown",
   "metadata": {},
   "source": [
    "### Обработка дубликатов"
   ]
  },
  {
   "cell_type": "code",
   "execution_count": 44,
   "metadata": {},
   "outputs": [
    {
     "data": {
      "text/plain": [
       "54"
      ]
     },
     "execution_count": 44,
     "metadata": {},
     "output_type": "execute_result"
    }
   ],
   "source": [
    "df.duplicated().sum()"
   ]
  },
  {
   "cell_type": "code",
   "execution_count": 45,
   "metadata": {},
   "outputs": [
    {
     "data": {
      "text/plain": [
       "54"
      ]
     },
     "execution_count": 45,
     "metadata": {},
     "output_type": "execute_result"
    }
   ],
   "source": [
    "df.duplicated(keep='first').sum()"
   ]
  },
  {
   "cell_type": "markdown",
   "metadata": {},
   "source": [
    "Метод duplicated обнуражил 54 дубликата.\n",
    "\n",
    "Однако я помню, что в таблице есть дубликаты появившиеся из-за разного регистра. Сначала обработаю их и после этого повторю поиск"
   ]
  },
  {
   "cell_type": "code",
   "execution_count": 46,
   "metadata": {},
   "outputs": [
    {
     "data": {
      "text/plain": [
       "среднее                13750\n",
       "высшее                  4717\n",
       "СРЕДНЕЕ                  772\n",
       "Среднее                  711\n",
       "неоконченное высшее      668\n",
       "ВЫСШЕЕ                   274\n",
       "Высшее                   268\n",
       "начальное                250\n",
       "Неоконченное высшее       47\n",
       "НЕОКОНЧЕННОЕ ВЫСШЕЕ       29\n",
       "НАЧАЛЬНОЕ                 17\n",
       "Начальное                 15\n",
       "ученая степень             4\n",
       "Ученая степень             1\n",
       "УЧЕНАЯ СТЕПЕНЬ             1\n",
       "Name: education, dtype: int64"
      ]
     },
     "execution_count": 46,
     "metadata": {},
     "output_type": "execute_result"
    }
   ],
   "source": [
    "df['education'].value_counts()"
   ]
  },
  {
   "cell_type": "code",
   "execution_count": 47,
   "metadata": {},
   "outputs": [],
   "source": [
    "df['education'] = df['education'].str.lower()"
   ]
  },
  {
   "cell_type": "code",
   "execution_count": 48,
   "metadata": {},
   "outputs": [
    {
     "data": {
      "text/plain": [
       "среднее                15233\n",
       "высшее                  5259\n",
       "неоконченное высшее      744\n",
       "начальное                282\n",
       "ученая степень             6\n",
       "Name: education, dtype: int64"
      ]
     },
     "execution_count": 48,
     "metadata": {},
     "output_type": "execute_result"
    }
   ],
   "source": [
    "df['education'].value_counts()"
   ]
  },
  {
   "cell_type": "markdown",
   "metadata": {},
   "source": [
    "Дубликаты в колонке education убраны, все значения приведены к нижнему регистру"
   ]
  },
  {
   "cell_type": "code",
   "execution_count": 49,
   "metadata": {},
   "outputs": [
    {
     "data": {
      "text/plain": [
       "женат / замужем          12379\n",
       "гражданский брак          4177\n",
       "Не женат / не замужем     2813\n",
       "в разводе                 1195\n",
       "вдовец / вдова             960\n",
       "Name: family_status, dtype: int64"
      ]
     },
     "execution_count": 49,
     "metadata": {},
     "output_type": "execute_result"
    }
   ],
   "source": [
    "df['family_status'].value_counts()"
   ]
  },
  {
   "cell_type": "code",
   "execution_count": 50,
   "metadata": {},
   "outputs": [
    {
     "data": {
      "text/plain": [
       "F      14236\n",
       "M       7287\n",
       "XNA        1\n",
       "Name: gender, dtype: int64"
      ]
     },
     "execution_count": 50,
     "metadata": {},
     "output_type": "execute_result"
    }
   ],
   "source": [
    "df['gender'].value_counts()"
   ]
  },
  {
   "cell_type": "code",
   "execution_count": 51,
   "metadata": {},
   "outputs": [
    {
     "data": {
      "text/plain": [
       "сотрудник          11119\n",
       "компаньон           5085\n",
       "пенсионер           3856\n",
       "госслужащий         1459\n",
       "безработный            2\n",
       "предприниматель        1\n",
       "в декрете              1\n",
       "студент                1\n",
       "Name: income_type, dtype: int64"
      ]
     },
     "execution_count": 51,
     "metadata": {},
     "output_type": "execute_result"
    }
   ],
   "source": [
    "df['income_type'].value_counts()"
   ]
  },
  {
   "cell_type": "code",
   "execution_count": 52,
   "metadata": {},
   "outputs": [
    {
     "data": {
      "text/plain": [
       "71"
      ]
     },
     "execution_count": 52,
     "metadata": {},
     "output_type": "execute_result"
    }
   ],
   "source": [
    "df.duplicated().sum()"
   ]
  },
  {
   "cell_type": "code",
   "execution_count": 53,
   "metadata": {},
   "outputs": [],
   "source": [
    "df = df.drop_duplicates().reset_index(drop=True)"
   ]
  },
  {
   "cell_type": "markdown",
   "metadata": {},
   "source": [
    "Дубликаты в колонке education убраны. Возможно, что значения вносятся вручную, из-за чего появляется такая непоследовательность. \n",
    "\n",
    "После очистки дубликатов была найдено 71 дублирующаяся строка. Удаляю их."
   ]
  },
  {
   "cell_type": "markdown",
   "metadata": {},
   "source": [
    "### Лемматизация"
   ]
  },
  {
   "cell_type": "code",
   "execution_count": 54,
   "metadata": {},
   "outputs": [],
   "source": [
    "m = Mystem() "
   ]
  },
  {
   "cell_type": "code",
   "execution_count": 55,
   "metadata": {},
   "outputs": [],
   "source": [
    "purposes = df['purpose'].value_counts()"
   ]
  },
  {
   "cell_type": "code",
   "execution_count": 56,
   "metadata": {},
   "outputs": [
    {
     "data": {
      "text/plain": [
       "свадьба                                   791\n",
       "на проведение свадьбы                     768\n",
       "сыграть свадьбу                           765\n",
       "операции с недвижимостью                  675\n",
       "покупка коммерческой недвижимости         661\n",
       "операции с жильем                         652\n",
       "покупка жилья для сдачи                   651\n",
       "операции с коммерческой недвижимостью     650\n",
       "покупка жилья                             646\n",
       "жилье                                     646\n",
       "покупка жилья для семьи                   638\n",
       "строительство собственной недвижимости    635\n",
       "недвижимость                              633\n",
       "операции со своей недвижимостью           627\n",
       "строительство жилой недвижимости          624\n",
       "покупка недвижимости                      621\n",
       "покупка своего жилья                      620\n",
       "строительство недвижимости                619\n",
       "ремонт жилью                              607\n",
       "покупка жилой недвижимости                605\n",
       "на покупку своего автомобиля              505\n",
       "заняться высшим образованием              496\n",
       "автомобиль                                494\n",
       "сделка с подержанным автомобилем          486\n",
       "на покупку подержанного автомобиля        478\n",
       "автомобили                                478\n",
       "свой автомобиль                           478\n",
       "на покупку автомобиля                     471\n",
       "приобретение автомобиля                   461\n",
       "дополнительное образование                460\n",
       "сделка с автомобилем                      455\n",
       "высшее образование                        452\n",
       "образование                               447\n",
       "получение дополнительного образования     446\n",
       "получение образования                     442\n",
       "профильное образование                    436\n",
       "получение высшего образования             426\n",
       "заняться образованием                     408\n",
       "Name: purpose, dtype: int64"
      ]
     },
     "execution_count": 56,
     "metadata": {},
     "output_type": "execute_result"
    }
   ],
   "source": [
    "purposes"
   ]
  },
  {
   "cell_type": "code",
   "execution_count": 57,
   "metadata": {},
   "outputs": [],
   "source": [
    "purposes_list = list(purposes.index.values)"
   ]
  },
  {
   "cell_type": "code",
   "execution_count": 58,
   "metadata": {},
   "outputs": [],
   "source": [
    "def lemma_counter(list):\n",
    "    total_lemmas = []\n",
    "    \n",
    "    for line in list:\n",
    "        lemmas = m.lemmatize(line) # получил список лемм из строки\n",
    "        for lemma in lemmas:\n",
    "            total_lemmas.append(lemma)\n",
    "            \n",
    "    return(Counter(total_lemmas)) "
   ]
  },
  {
   "cell_type": "code",
   "execution_count": 59,
   "metadata": {},
   "outputs": [],
   "source": [
    "lemmas = lemma_counter(purposes_list)"
   ]
  },
  {
   "cell_type": "code",
   "execution_count": 60,
   "metadata": {},
   "outputs": [
    {
     "data": {
      "text/plain": [
       "Counter({'свадьба': 3,\n",
       "         '\\n': 38,\n",
       "         'на': 4,\n",
       "         ' ': 59,\n",
       "         'проведение': 1,\n",
       "         'сыграть': 1,\n",
       "         'операция': 4,\n",
       "         'с': 5,\n",
       "         'недвижимость': 10,\n",
       "         'покупка': 10,\n",
       "         'коммерческий': 2,\n",
       "         'жилье': 7,\n",
       "         'для': 2,\n",
       "         'сдача': 1,\n",
       "         'семья': 1,\n",
       "         'строительство': 3,\n",
       "         'собственный': 1,\n",
       "         'со': 1,\n",
       "         'свой': 4,\n",
       "         'жилой': 2,\n",
       "         'ремонт': 1,\n",
       "         'автомобиль': 9,\n",
       "         'заниматься': 2,\n",
       "         'высокий': 3,\n",
       "         'образование': 9,\n",
       "         'сделка': 2,\n",
       "         'подержанный': 1,\n",
       "         'подержать': 1,\n",
       "         'приобретение': 1,\n",
       "         'дополнительный': 2,\n",
       "         'получение': 3,\n",
       "         'профильный': 1})"
      ]
     },
     "execution_count": 60,
     "metadata": {},
     "output_type": "execute_result"
    }
   ],
   "source": [
    "lemmas"
   ]
  },
  {
   "cell_type": "code",
   "execution_count": 61,
   "metadata": {},
   "outputs": [],
   "source": [
    "lemmas_df = pd.DataFrame.from_dict(lemmas, orient='index').reset_index()"
   ]
  },
  {
   "cell_type": "code",
   "execution_count": 62,
   "metadata": {},
   "outputs": [
    {
     "data": {
      "text/html": [
       "<div>\n",
       "<style scoped>\n",
       "    .dataframe tbody tr th:only-of-type {\n",
       "        vertical-align: middle;\n",
       "    }\n",
       "\n",
       "    .dataframe tbody tr th {\n",
       "        vertical-align: top;\n",
       "    }\n",
       "\n",
       "    .dataframe thead th {\n",
       "        text-align: right;\n",
       "    }\n",
       "</style>\n",
       "<table border=\"1\" class=\"dataframe\">\n",
       "  <thead>\n",
       "    <tr style=\"text-align: right;\">\n",
       "      <th></th>\n",
       "      <th>index</th>\n",
       "      <th>0</th>\n",
       "    </tr>\n",
       "  </thead>\n",
       "  <tbody>\n",
       "    <tr>\n",
       "      <th>0</th>\n",
       "      <td>свадьба</td>\n",
       "      <td>3</td>\n",
       "    </tr>\n",
       "    <tr>\n",
       "      <th>1</th>\n",
       "      <td>\\n</td>\n",
       "      <td>38</td>\n",
       "    </tr>\n",
       "    <tr>\n",
       "      <th>2</th>\n",
       "      <td>на</td>\n",
       "      <td>4</td>\n",
       "    </tr>\n",
       "    <tr>\n",
       "      <th>3</th>\n",
       "      <td></td>\n",
       "      <td>59</td>\n",
       "    </tr>\n",
       "    <tr>\n",
       "      <th>4</th>\n",
       "      <td>проведение</td>\n",
       "      <td>1</td>\n",
       "    </tr>\n",
       "  </tbody>\n",
       "</table>\n",
       "</div>"
      ],
      "text/plain": [
       "        index   0\n",
       "0     свадьба   3\n",
       "1          \\n  38\n",
       "2          на   4\n",
       "3              59\n",
       "4  проведение   1"
      ]
     },
     "execution_count": 62,
     "metadata": {},
     "output_type": "execute_result"
    }
   ],
   "source": [
    "lemmas_df.head()"
   ]
  },
  {
   "cell_type": "code",
   "execution_count": 63,
   "metadata": {},
   "outputs": [],
   "source": [
    "lemmas_df.set_axis(['lemma', 'count'], axis = 'columns', inplace = True)"
   ]
  },
  {
   "cell_type": "code",
   "execution_count": 64,
   "metadata": {},
   "outputs": [
    {
     "data": {
      "text/html": [
       "<div>\n",
       "<style scoped>\n",
       "    .dataframe tbody tr th:only-of-type {\n",
       "        vertical-align: middle;\n",
       "    }\n",
       "\n",
       "    .dataframe tbody tr th {\n",
       "        vertical-align: top;\n",
       "    }\n",
       "\n",
       "    .dataframe thead th {\n",
       "        text-align: right;\n",
       "    }\n",
       "</style>\n",
       "<table border=\"1\" class=\"dataframe\">\n",
       "  <thead>\n",
       "    <tr style=\"text-align: right;\">\n",
       "      <th></th>\n",
       "      <th>lemma</th>\n",
       "      <th>count</th>\n",
       "    </tr>\n",
       "  </thead>\n",
       "  <tbody>\n",
       "    <tr>\n",
       "      <th>0</th>\n",
       "      <td>свадьба</td>\n",
       "      <td>3</td>\n",
       "    </tr>\n",
       "    <tr>\n",
       "      <th>1</th>\n",
       "      <td>\\n</td>\n",
       "      <td>38</td>\n",
       "    </tr>\n",
       "    <tr>\n",
       "      <th>2</th>\n",
       "      <td>на</td>\n",
       "      <td>4</td>\n",
       "    </tr>\n",
       "    <tr>\n",
       "      <th>3</th>\n",
       "      <td></td>\n",
       "      <td>59</td>\n",
       "    </tr>\n",
       "    <tr>\n",
       "      <th>4</th>\n",
       "      <td>проведение</td>\n",
       "      <td>1</td>\n",
       "    </tr>\n",
       "  </tbody>\n",
       "</table>\n",
       "</div>"
      ],
      "text/plain": [
       "        lemma  count\n",
       "0     свадьба      3\n",
       "1          \\n     38\n",
       "2          на      4\n",
       "3                 59\n",
       "4  проведение      1"
      ]
     },
     "execution_count": 64,
     "metadata": {},
     "output_type": "execute_result"
    }
   ],
   "source": [
    "lemmas_df.head()"
   ]
  },
  {
   "cell_type": "code",
   "execution_count": 65,
   "metadata": {},
   "outputs": [
    {
     "data": {
      "text/html": [
       "<div>\n",
       "<style scoped>\n",
       "    .dataframe tbody tr th:only-of-type {\n",
       "        vertical-align: middle;\n",
       "    }\n",
       "\n",
       "    .dataframe tbody tr th {\n",
       "        vertical-align: top;\n",
       "    }\n",
       "\n",
       "    .dataframe thead th {\n",
       "        text-align: right;\n",
       "    }\n",
       "</style>\n",
       "<table border=\"1\" class=\"dataframe\">\n",
       "  <thead>\n",
       "    <tr style=\"text-align: right;\">\n",
       "      <th></th>\n",
       "      <th>lemma</th>\n",
       "      <th>count</th>\n",
       "    </tr>\n",
       "  </thead>\n",
       "  <tbody>\n",
       "    <tr>\n",
       "      <th>3</th>\n",
       "      <td></td>\n",
       "      <td>59</td>\n",
       "    </tr>\n",
       "    <tr>\n",
       "      <th>1</th>\n",
       "      <td>\\n</td>\n",
       "      <td>38</td>\n",
       "    </tr>\n",
       "    <tr>\n",
       "      <th>8</th>\n",
       "      <td>недвижимость</td>\n",
       "      <td>10</td>\n",
       "    </tr>\n",
       "    <tr>\n",
       "      <th>9</th>\n",
       "      <td>покупка</td>\n",
       "      <td>10</td>\n",
       "    </tr>\n",
       "    <tr>\n",
       "      <th>21</th>\n",
       "      <td>автомобиль</td>\n",
       "      <td>9</td>\n",
       "    </tr>\n",
       "    <tr>\n",
       "      <th>24</th>\n",
       "      <td>образование</td>\n",
       "      <td>9</td>\n",
       "    </tr>\n",
       "    <tr>\n",
       "      <th>11</th>\n",
       "      <td>жилье</td>\n",
       "      <td>7</td>\n",
       "    </tr>\n",
       "    <tr>\n",
       "      <th>7</th>\n",
       "      <td>с</td>\n",
       "      <td>5</td>\n",
       "    </tr>\n",
       "    <tr>\n",
       "      <th>2</th>\n",
       "      <td>на</td>\n",
       "      <td>4</td>\n",
       "    </tr>\n",
       "    <tr>\n",
       "      <th>18</th>\n",
       "      <td>свой</td>\n",
       "      <td>4</td>\n",
       "    </tr>\n",
       "    <tr>\n",
       "      <th>6</th>\n",
       "      <td>операция</td>\n",
       "      <td>4</td>\n",
       "    </tr>\n",
       "    <tr>\n",
       "      <th>0</th>\n",
       "      <td>свадьба</td>\n",
       "      <td>3</td>\n",
       "    </tr>\n",
       "    <tr>\n",
       "      <th>15</th>\n",
       "      <td>строительство</td>\n",
       "      <td>3</td>\n",
       "    </tr>\n",
       "    <tr>\n",
       "      <th>23</th>\n",
       "      <td>высокий</td>\n",
       "      <td>3</td>\n",
       "    </tr>\n",
       "    <tr>\n",
       "      <th>30</th>\n",
       "      <td>получение</td>\n",
       "      <td>3</td>\n",
       "    </tr>\n",
       "    <tr>\n",
       "      <th>10</th>\n",
       "      <td>коммерческий</td>\n",
       "      <td>2</td>\n",
       "    </tr>\n",
       "    <tr>\n",
       "      <th>29</th>\n",
       "      <td>дополнительный</td>\n",
       "      <td>2</td>\n",
       "    </tr>\n",
       "    <tr>\n",
       "      <th>19</th>\n",
       "      <td>жилой</td>\n",
       "      <td>2</td>\n",
       "    </tr>\n",
       "    <tr>\n",
       "      <th>25</th>\n",
       "      <td>сделка</td>\n",
       "      <td>2</td>\n",
       "    </tr>\n",
       "    <tr>\n",
       "      <th>22</th>\n",
       "      <td>заниматься</td>\n",
       "      <td>2</td>\n",
       "    </tr>\n",
       "    <tr>\n",
       "      <th>12</th>\n",
       "      <td>для</td>\n",
       "      <td>2</td>\n",
       "    </tr>\n",
       "    <tr>\n",
       "      <th>27</th>\n",
       "      <td>подержать</td>\n",
       "      <td>1</td>\n",
       "    </tr>\n",
       "    <tr>\n",
       "      <th>28</th>\n",
       "      <td>приобретение</td>\n",
       "      <td>1</td>\n",
       "    </tr>\n",
       "    <tr>\n",
       "      <th>26</th>\n",
       "      <td>подержанный</td>\n",
       "      <td>1</td>\n",
       "    </tr>\n",
       "    <tr>\n",
       "      <th>16</th>\n",
       "      <td>собственный</td>\n",
       "      <td>1</td>\n",
       "    </tr>\n",
       "    <tr>\n",
       "      <th>20</th>\n",
       "      <td>ремонт</td>\n",
       "      <td>1</td>\n",
       "    </tr>\n",
       "    <tr>\n",
       "      <th>17</th>\n",
       "      <td>со</td>\n",
       "      <td>1</td>\n",
       "    </tr>\n",
       "    <tr>\n",
       "      <th>14</th>\n",
       "      <td>семья</td>\n",
       "      <td>1</td>\n",
       "    </tr>\n",
       "    <tr>\n",
       "      <th>13</th>\n",
       "      <td>сдача</td>\n",
       "      <td>1</td>\n",
       "    </tr>\n",
       "    <tr>\n",
       "      <th>5</th>\n",
       "      <td>сыграть</td>\n",
       "      <td>1</td>\n",
       "    </tr>\n",
       "    <tr>\n",
       "      <th>4</th>\n",
       "      <td>проведение</td>\n",
       "      <td>1</td>\n",
       "    </tr>\n",
       "    <tr>\n",
       "      <th>31</th>\n",
       "      <td>профильный</td>\n",
       "      <td>1</td>\n",
       "    </tr>\n",
       "  </tbody>\n",
       "</table>\n",
       "</div>"
      ],
      "text/plain": [
       "             lemma  count\n",
       "3                      59\n",
       "1               \\n     38\n",
       "8     недвижимость     10\n",
       "9          покупка     10\n",
       "21      автомобиль      9\n",
       "24     образование      9\n",
       "11           жилье      7\n",
       "7                с      5\n",
       "2               на      4\n",
       "18            свой      4\n",
       "6         операция      4\n",
       "0          свадьба      3\n",
       "15   строительство      3\n",
       "23         высокий      3\n",
       "30       получение      3\n",
       "10    коммерческий      2\n",
       "29  дополнительный      2\n",
       "19           жилой      2\n",
       "25          сделка      2\n",
       "22      заниматься      2\n",
       "12             для      2\n",
       "27       подержать      1\n",
       "28    приобретение      1\n",
       "26     подержанный      1\n",
       "16     собственный      1\n",
       "20          ремонт      1\n",
       "17              со      1\n",
       "14           семья      1\n",
       "13           сдача      1\n",
       "5          сыграть      1\n",
       "4       проведение      1\n",
       "31      профильный      1"
      ]
     },
     "execution_count": 65,
     "metadata": {},
     "output_type": "execute_result"
    }
   ],
   "source": [
    "lemmas_df.sort_values(by = 'count', ascending = False)"
   ]
  },
  {
   "cell_type": "markdown",
   "metadata": {},
   "source": [
    "Был получен список лемм с частотой их появления в уникальных значениях в колонке purpose. Благодаря этому я имею представление о том, на какие категории я буду делить данные по целям получения кредита:\n",
    "\n",
    "- недвижимость или жилье\n",
    "- автомобиль\n",
    "- образование\n",
    "- свадьба\n",
    "- ремонт жилья"
   ]
  },
  {
   "cell_type": "markdown",
   "metadata": {},
   "source": [
    "### Категоризация данных"
   ]
  },
  {
   "cell_type": "markdown",
   "metadata": {},
   "source": [
    "#### Кагегоризация по количеству детей в семье"
   ]
  },
  {
   "cell_type": "code",
   "execution_count": 66,
   "metadata": {},
   "outputs": [
    {
     "data": {
      "text/html": [
       "<div>\n",
       "<style scoped>\n",
       "    .dataframe tbody tr th:only-of-type {\n",
       "        vertical-align: middle;\n",
       "    }\n",
       "\n",
       "    .dataframe tbody tr th {\n",
       "        vertical-align: top;\n",
       "    }\n",
       "\n",
       "    .dataframe thead th {\n",
       "        text-align: right;\n",
       "    }\n",
       "</style>\n",
       "<table border=\"1\" class=\"dataframe\">\n",
       "  <thead>\n",
       "    <tr style=\"text-align: right;\">\n",
       "      <th></th>\n",
       "      <th>days_employed</th>\n",
       "      <th>dob_years</th>\n",
       "      <th>education</th>\n",
       "      <th>education_id</th>\n",
       "      <th>family_status</th>\n",
       "      <th>family_status_id</th>\n",
       "      <th>gender</th>\n",
       "      <th>income_type</th>\n",
       "      <th>debt</th>\n",
       "      <th>total_income</th>\n",
       "      <th>purpose</th>\n",
       "    </tr>\n",
       "    <tr>\n",
       "      <th>children</th>\n",
       "      <th></th>\n",
       "      <th></th>\n",
       "      <th></th>\n",
       "      <th></th>\n",
       "      <th></th>\n",
       "      <th></th>\n",
       "      <th></th>\n",
       "      <th></th>\n",
       "      <th></th>\n",
       "      <th></th>\n",
       "      <th></th>\n",
       "    </tr>\n",
       "  </thead>\n",
       "  <tbody>\n",
       "    <tr>\n",
       "      <th>-1</th>\n",
       "      <td>47</td>\n",
       "      <td>47</td>\n",
       "      <td>47</td>\n",
       "      <td>47</td>\n",
       "      <td>47</td>\n",
       "      <td>47</td>\n",
       "      <td>47</td>\n",
       "      <td>47</td>\n",
       "      <td>47</td>\n",
       "      <td>47</td>\n",
       "      <td>47</td>\n",
       "    </tr>\n",
       "    <tr>\n",
       "      <th>0</th>\n",
       "      <td>14090</td>\n",
       "      <td>14090</td>\n",
       "      <td>14090</td>\n",
       "      <td>14090</td>\n",
       "      <td>14090</td>\n",
       "      <td>14090</td>\n",
       "      <td>14090</td>\n",
       "      <td>14090</td>\n",
       "      <td>14090</td>\n",
       "      <td>14090</td>\n",
       "      <td>14090</td>\n",
       "    </tr>\n",
       "    <tr>\n",
       "      <th>1</th>\n",
       "      <td>4808</td>\n",
       "      <td>4808</td>\n",
       "      <td>4808</td>\n",
       "      <td>4808</td>\n",
       "      <td>4808</td>\n",
       "      <td>4808</td>\n",
       "      <td>4808</td>\n",
       "      <td>4808</td>\n",
       "      <td>4808</td>\n",
       "      <td>4808</td>\n",
       "      <td>4808</td>\n",
       "    </tr>\n",
       "    <tr>\n",
       "      <th>2</th>\n",
       "      <td>2052</td>\n",
       "      <td>2052</td>\n",
       "      <td>2052</td>\n",
       "      <td>2052</td>\n",
       "      <td>2052</td>\n",
       "      <td>2052</td>\n",
       "      <td>2052</td>\n",
       "      <td>2052</td>\n",
       "      <td>2052</td>\n",
       "      <td>2052</td>\n",
       "      <td>2052</td>\n",
       "    </tr>\n",
       "    <tr>\n",
       "      <th>3</th>\n",
       "      <td>330</td>\n",
       "      <td>330</td>\n",
       "      <td>330</td>\n",
       "      <td>330</td>\n",
       "      <td>330</td>\n",
       "      <td>330</td>\n",
       "      <td>330</td>\n",
       "      <td>330</td>\n",
       "      <td>330</td>\n",
       "      <td>330</td>\n",
       "      <td>330</td>\n",
       "    </tr>\n",
       "    <tr>\n",
       "      <th>4</th>\n",
       "      <td>41</td>\n",
       "      <td>41</td>\n",
       "      <td>41</td>\n",
       "      <td>41</td>\n",
       "      <td>41</td>\n",
       "      <td>41</td>\n",
       "      <td>41</td>\n",
       "      <td>41</td>\n",
       "      <td>41</td>\n",
       "      <td>41</td>\n",
       "      <td>41</td>\n",
       "    </tr>\n",
       "    <tr>\n",
       "      <th>5</th>\n",
       "      <td>9</td>\n",
       "      <td>9</td>\n",
       "      <td>9</td>\n",
       "      <td>9</td>\n",
       "      <td>9</td>\n",
       "      <td>9</td>\n",
       "      <td>9</td>\n",
       "      <td>9</td>\n",
       "      <td>9</td>\n",
       "      <td>9</td>\n",
       "      <td>9</td>\n",
       "    </tr>\n",
       "    <tr>\n",
       "      <th>20</th>\n",
       "      <td>76</td>\n",
       "      <td>76</td>\n",
       "      <td>76</td>\n",
       "      <td>76</td>\n",
       "      <td>76</td>\n",
       "      <td>76</td>\n",
       "      <td>76</td>\n",
       "      <td>76</td>\n",
       "      <td>76</td>\n",
       "      <td>76</td>\n",
       "      <td>76</td>\n",
       "    </tr>\n",
       "  </tbody>\n",
       "</table>\n",
       "</div>"
      ],
      "text/plain": [
       "          days_employed  dob_years  education  education_id  family_status  \\\n",
       "children                                                                     \n",
       "-1                   47         47         47            47             47   \n",
       " 0                14090      14090      14090         14090          14090   \n",
       " 1                 4808       4808       4808          4808           4808   \n",
       " 2                 2052       2052       2052          2052           2052   \n",
       " 3                  330        330        330           330            330   \n",
       " 4                   41         41         41            41             41   \n",
       " 5                    9          9          9             9              9   \n",
       " 20                  76         76         76            76             76   \n",
       "\n",
       "          family_status_id  gender  income_type   debt  total_income  purpose  \n",
       "children                                                                       \n",
       "-1                      47      47           47     47            47       47  \n",
       " 0                   14090   14090        14090  14090         14090    14090  \n",
       " 1                    4808    4808         4808   4808          4808     4808  \n",
       " 2                    2052    2052         2052   2052          2052     2052  \n",
       " 3                     330     330          330    330           330      330  \n",
       " 4                      41      41           41     41            41       41  \n",
       " 5                       9       9            9      9             9        9  \n",
       " 20                     76      76           76     76            76       76  "
      ]
     },
     "execution_count": 66,
     "metadata": {},
     "output_type": "execute_result"
    }
   ],
   "source": [
    "df.groupby('children').count()"
   ]
  },
  {
   "cell_type": "markdown",
   "metadata": {},
   "source": [
    "Замечаю, что в данных есть артефакты:\n",
    "- 47 строк с -1 ребенком\n",
    "- 76 строк с 20 детьми\n",
    "\n",
    "Аномальные значения занимают незначительную часть датафрейма, поэтому я считаю правильным не учитывать строки с этими значениями при анализе зависимости между наличием детей и возвратом кредита. \n",
    "\n",
    "Могу предположить, что -1 ребенок или означает отсутствие детей, или одного ребенка (с появившимся по ошибке при заполнении знаком минуса)\n",
    "20 детей также могли появиться при ошибке при заполнении или обработке данных, предполагаю, что это 2 ребенка."
   ]
  },
  {
   "cell_type": "code",
   "execution_count": 68,
   "metadata": {},
   "outputs": [],
   "source": [
    "children_grouped = df[(df['children'] != -1) & (df['children'] != 20)]"
   ]
  },
  {
   "cell_type": "code",
   "execution_count": 69,
   "metadata": {},
   "outputs": [
    {
     "data": {
      "text/html": [
       "<div>\n",
       "<style scoped>\n",
       "    .dataframe tbody tr th:only-of-type {\n",
       "        vertical-align: middle;\n",
       "    }\n",
       "\n",
       "    .dataframe tbody tr th {\n",
       "        vertical-align: top;\n",
       "    }\n",
       "\n",
       "    .dataframe thead th {\n",
       "        text-align: right;\n",
       "    }\n",
       "</style>\n",
       "<table border=\"1\" class=\"dataframe\">\n",
       "  <thead>\n",
       "    <tr style=\"text-align: right;\">\n",
       "      <th></th>\n",
       "      <th>days_employed</th>\n",
       "      <th>dob_years</th>\n",
       "      <th>education</th>\n",
       "      <th>education_id</th>\n",
       "      <th>family_status</th>\n",
       "      <th>family_status_id</th>\n",
       "      <th>gender</th>\n",
       "      <th>income_type</th>\n",
       "      <th>debt</th>\n",
       "      <th>total_income</th>\n",
       "      <th>purpose</th>\n",
       "    </tr>\n",
       "    <tr>\n",
       "      <th>children</th>\n",
       "      <th></th>\n",
       "      <th></th>\n",
       "      <th></th>\n",
       "      <th></th>\n",
       "      <th></th>\n",
       "      <th></th>\n",
       "      <th></th>\n",
       "      <th></th>\n",
       "      <th></th>\n",
       "      <th></th>\n",
       "      <th></th>\n",
       "    </tr>\n",
       "  </thead>\n",
       "  <tbody>\n",
       "    <tr>\n",
       "      <th>0</th>\n",
       "      <td>14090</td>\n",
       "      <td>14090</td>\n",
       "      <td>14090</td>\n",
       "      <td>14090</td>\n",
       "      <td>14090</td>\n",
       "      <td>14090</td>\n",
       "      <td>14090</td>\n",
       "      <td>14090</td>\n",
       "      <td>14090</td>\n",
       "      <td>14090</td>\n",
       "      <td>14090</td>\n",
       "    </tr>\n",
       "    <tr>\n",
       "      <th>1</th>\n",
       "      <td>4808</td>\n",
       "      <td>4808</td>\n",
       "      <td>4808</td>\n",
       "      <td>4808</td>\n",
       "      <td>4808</td>\n",
       "      <td>4808</td>\n",
       "      <td>4808</td>\n",
       "      <td>4808</td>\n",
       "      <td>4808</td>\n",
       "      <td>4808</td>\n",
       "      <td>4808</td>\n",
       "    </tr>\n",
       "    <tr>\n",
       "      <th>2</th>\n",
       "      <td>2052</td>\n",
       "      <td>2052</td>\n",
       "      <td>2052</td>\n",
       "      <td>2052</td>\n",
       "      <td>2052</td>\n",
       "      <td>2052</td>\n",
       "      <td>2052</td>\n",
       "      <td>2052</td>\n",
       "      <td>2052</td>\n",
       "      <td>2052</td>\n",
       "      <td>2052</td>\n",
       "    </tr>\n",
       "    <tr>\n",
       "      <th>3</th>\n",
       "      <td>330</td>\n",
       "      <td>330</td>\n",
       "      <td>330</td>\n",
       "      <td>330</td>\n",
       "      <td>330</td>\n",
       "      <td>330</td>\n",
       "      <td>330</td>\n",
       "      <td>330</td>\n",
       "      <td>330</td>\n",
       "      <td>330</td>\n",
       "      <td>330</td>\n",
       "    </tr>\n",
       "    <tr>\n",
       "      <th>4</th>\n",
       "      <td>41</td>\n",
       "      <td>41</td>\n",
       "      <td>41</td>\n",
       "      <td>41</td>\n",
       "      <td>41</td>\n",
       "      <td>41</td>\n",
       "      <td>41</td>\n",
       "      <td>41</td>\n",
       "      <td>41</td>\n",
       "      <td>41</td>\n",
       "      <td>41</td>\n",
       "    </tr>\n",
       "    <tr>\n",
       "      <th>5</th>\n",
       "      <td>9</td>\n",
       "      <td>9</td>\n",
       "      <td>9</td>\n",
       "      <td>9</td>\n",
       "      <td>9</td>\n",
       "      <td>9</td>\n",
       "      <td>9</td>\n",
       "      <td>9</td>\n",
       "      <td>9</td>\n",
       "      <td>9</td>\n",
       "      <td>9</td>\n",
       "    </tr>\n",
       "  </tbody>\n",
       "</table>\n",
       "</div>"
      ],
      "text/plain": [
       "          days_employed  dob_years  education  education_id  family_status  \\\n",
       "children                                                                     \n",
       "0                 14090      14090      14090         14090          14090   \n",
       "1                  4808       4808       4808          4808           4808   \n",
       "2                  2052       2052       2052          2052           2052   \n",
       "3                   330        330        330           330            330   \n",
       "4                    41         41         41            41             41   \n",
       "5                     9          9          9             9              9   \n",
       "\n",
       "          family_status_id  gender  income_type   debt  total_income  purpose  \n",
       "children                                                                       \n",
       "0                    14090   14090        14090  14090         14090    14090  \n",
       "1                     4808    4808         4808   4808          4808     4808  \n",
       "2                     2052    2052         2052   2052          2052     2052  \n",
       "3                      330     330          330    330           330      330  \n",
       "4                       41      41           41     41            41       41  \n",
       "5                        9       9            9      9             9        9  "
      ]
     },
     "execution_count": 69,
     "metadata": {},
     "output_type": "execute_result"
    }
   ],
   "source": [
    "children_grouped.groupby('children').count()"
   ]
  },
  {
   "cell_type": "markdown",
   "metadata": {},
   "source": [
    "Вижу, что 4 и 5 детей имеются только в 50 строках. Поэтому вместо создания отдельных категорий для них, заведу общую категорию для трех и более детей"
   ]
  },
  {
   "cell_type": "code",
   "execution_count": 70,
   "metadata": {},
   "outputs": [],
   "source": [
    "def children_grouper(children):\n",
    "    if children == 0:\n",
    "        return \"нет детей\"\n",
    "    if children == 1:\n",
    "        return \"один ребенок\"\n",
    "    if children == 2:\n",
    "        return \"два ребенка\"\n",
    "    else:\n",
    "        return \"три ребенка или больше\""
   ]
  },
  {
   "cell_type": "code",
   "execution_count": 74,
   "metadata": {},
   "outputs": [],
   "source": [
    "children_grouped['children_group'] = children_grouped['children'].apply(children_grouper)"
   ]
  },
  {
   "cell_type": "code",
   "execution_count": 75,
   "metadata": {},
   "outputs": [
    {
     "data": {
      "text/html": [
       "<div>\n",
       "<style scoped>\n",
       "    .dataframe tbody tr th:only-of-type {\n",
       "        vertical-align: middle;\n",
       "    }\n",
       "\n",
       "    .dataframe tbody tr th {\n",
       "        vertical-align: top;\n",
       "    }\n",
       "\n",
       "    .dataframe thead th {\n",
       "        text-align: right;\n",
       "    }\n",
       "</style>\n",
       "<table border=\"1\" class=\"dataframe\">\n",
       "  <thead>\n",
       "    <tr style=\"text-align: right;\">\n",
       "      <th></th>\n",
       "      <th>children</th>\n",
       "      <th>days_employed</th>\n",
       "      <th>dob_years</th>\n",
       "      <th>education</th>\n",
       "      <th>education_id</th>\n",
       "      <th>family_status</th>\n",
       "      <th>family_status_id</th>\n",
       "      <th>gender</th>\n",
       "      <th>income_type</th>\n",
       "      <th>debt</th>\n",
       "      <th>total_income</th>\n",
       "      <th>purpose</th>\n",
       "    </tr>\n",
       "    <tr>\n",
       "      <th>children_group</th>\n",
       "      <th></th>\n",
       "      <th></th>\n",
       "      <th></th>\n",
       "      <th></th>\n",
       "      <th></th>\n",
       "      <th></th>\n",
       "      <th></th>\n",
       "      <th></th>\n",
       "      <th></th>\n",
       "      <th></th>\n",
       "      <th></th>\n",
       "      <th></th>\n",
       "    </tr>\n",
       "  </thead>\n",
       "  <tbody>\n",
       "    <tr>\n",
       "      <th>два ребенка</th>\n",
       "      <td>2052</td>\n",
       "      <td>2052</td>\n",
       "      <td>2052</td>\n",
       "      <td>2052</td>\n",
       "      <td>2052</td>\n",
       "      <td>2052</td>\n",
       "      <td>2052</td>\n",
       "      <td>2052</td>\n",
       "      <td>2052</td>\n",
       "      <td>2052</td>\n",
       "      <td>2052</td>\n",
       "      <td>2052</td>\n",
       "    </tr>\n",
       "    <tr>\n",
       "      <th>нет детей</th>\n",
       "      <td>14090</td>\n",
       "      <td>14090</td>\n",
       "      <td>14090</td>\n",
       "      <td>14090</td>\n",
       "      <td>14090</td>\n",
       "      <td>14090</td>\n",
       "      <td>14090</td>\n",
       "      <td>14090</td>\n",
       "      <td>14090</td>\n",
       "      <td>14090</td>\n",
       "      <td>14090</td>\n",
       "      <td>14090</td>\n",
       "    </tr>\n",
       "    <tr>\n",
       "      <th>один ребенок</th>\n",
       "      <td>4808</td>\n",
       "      <td>4808</td>\n",
       "      <td>4808</td>\n",
       "      <td>4808</td>\n",
       "      <td>4808</td>\n",
       "      <td>4808</td>\n",
       "      <td>4808</td>\n",
       "      <td>4808</td>\n",
       "      <td>4808</td>\n",
       "      <td>4808</td>\n",
       "      <td>4808</td>\n",
       "      <td>4808</td>\n",
       "    </tr>\n",
       "    <tr>\n",
       "      <th>три ребенка или больше</th>\n",
       "      <td>380</td>\n",
       "      <td>380</td>\n",
       "      <td>380</td>\n",
       "      <td>380</td>\n",
       "      <td>380</td>\n",
       "      <td>380</td>\n",
       "      <td>380</td>\n",
       "      <td>380</td>\n",
       "      <td>380</td>\n",
       "      <td>380</td>\n",
       "      <td>380</td>\n",
       "      <td>380</td>\n",
       "    </tr>\n",
       "  </tbody>\n",
       "</table>\n",
       "</div>"
      ],
      "text/plain": [
       "                        children  days_employed  dob_years  education  \\\n",
       "children_group                                                          \n",
       "два ребенка                 2052           2052       2052       2052   \n",
       "нет детей                  14090          14090      14090      14090   \n",
       "один ребенок                4808           4808       4808       4808   \n",
       "три ребенка или больше       380            380        380        380   \n",
       "\n",
       "                        education_id  family_status  family_status_id  gender  \\\n",
       "children_group                                                                  \n",
       "два ребенка                     2052           2052              2052    2052   \n",
       "нет детей                      14090          14090             14090   14090   \n",
       "один ребенок                    4808           4808              4808    4808   \n",
       "три ребенка или больше           380            380               380     380   \n",
       "\n",
       "                        income_type   debt  total_income  purpose  \n",
       "children_group                                                     \n",
       "два ребенка                    2052   2052          2052     2052  \n",
       "нет детей                     14090  14090         14090    14090  \n",
       "один ребенок                   4808   4808          4808     4808  \n",
       "три ребенка или больше          380    380           380      380  "
      ]
     },
     "execution_count": 75,
     "metadata": {},
     "output_type": "execute_result"
    }
   ],
   "source": [
    "children_grouped.groupby('children_group').count()"
   ]
  },
  {
   "cell_type": "markdown",
   "metadata": {},
   "source": [
    "Данные разбиты по категориям основываясь на количестве детей в семье"
   ]
  },
  {
   "cell_type": "markdown",
   "metadata": {},
   "source": [
    "#### Кагегоризация по семейному положению"
   ]
  },
  {
   "cell_type": "code",
   "execution_count": 76,
   "metadata": {},
   "outputs": [
    {
     "data": {
      "text/plain": [
       "женат / замужем          12338\n",
       "гражданский брак          4151\n",
       "Не женат / не замужем     2810\n",
       "в разводе                 1195\n",
       "вдовец / вдова             959\n",
       "Name: family_status, dtype: int64"
      ]
     },
     "execution_count": 76,
     "metadata": {},
     "output_type": "execute_result"
    }
   ],
   "source": [
    "df['family_status'].value_counts()"
   ]
  },
  {
   "cell_type": "markdown",
   "metadata": {},
   "source": [
    "Категории и так выглядят довольно большими, можно попробовать анализировать их. Также интересно изучить данные поделив их на три большие категории:\n",
    "- женат / замужем\n",
    "- гражданский брак       \n",
    "- Не женат / не замужем (добавить к текущей категории людей в разводе и вдов/вдовцов)"
   ]
  },
  {
   "cell_type": "code",
   "execution_count": 77,
   "metadata": {},
   "outputs": [],
   "source": [
    "df['family_status_alternative'] = df['family_status']"
   ]
  },
  {
   "cell_type": "code",
   "execution_count": 78,
   "metadata": {},
   "outputs": [],
   "source": [
    "df.loc[df['family_status_alternative'] == 'в разводе', \n",
    "       'family_status_alternative'] = 'Не женат / не замужем' "
   ]
  },
  {
   "cell_type": "code",
   "execution_count": 79,
   "metadata": {},
   "outputs": [],
   "source": [
    "df.loc[df['family_status_alternative'] == 'вдовец / вдова', \n",
    "       'family_status_alternative'] = 'Не женат / не замужем'"
   ]
  },
  {
   "cell_type": "code",
   "execution_count": 80,
   "metadata": {},
   "outputs": [
    {
     "data": {
      "text/plain": [
       "женат / замужем          12338\n",
       "Не женат / не замужем     4964\n",
       "гражданский брак          4151\n",
       "Name: family_status_alternative, dtype: int64"
      ]
     },
     "execution_count": 80,
     "metadata": {},
     "output_type": "execute_result"
    }
   ],
   "source": [
    "df['family_status_alternative'].value_counts()"
   ]
  },
  {
   "cell_type": "markdown",
   "metadata": {},
   "source": [
    "Добавил отдельный столбец для анализа семейного положения по трем категориям"
   ]
  },
  {
   "cell_type": "markdown",
   "metadata": {},
   "source": [
    "#### Кагегоризация по уровню дохода"
   ]
  },
  {
   "cell_type": "code",
   "execution_count": 81,
   "metadata": {},
   "outputs": [
    {
     "data": {
      "text/plain": [
       "count    2.145300e+04\n",
       "mean     1.653040e+05\n",
       "std      9.816313e+04\n",
       "min      2.066700e+04\n",
       "25%      1.076200e+05\n",
       "50%      1.425940e+05\n",
       "75%      1.958180e+05\n",
       "max      2.265604e+06\n",
       "Name: total_income, dtype: float64"
      ]
     },
     "execution_count": 81,
     "metadata": {},
     "output_type": "execute_result"
    }
   ],
   "source": [
    "df['total_income'].describe()"
   ]
  },
  {
   "cell_type": "code",
   "execution_count": 82,
   "metadata": {},
   "outputs": [],
   "source": [
    "first_quantile_income = df['total_income'].quantile(0.25)"
   ]
  },
  {
   "cell_type": "code",
   "execution_count": 83,
   "metadata": {},
   "outputs": [],
   "source": [
    "second_quantile_income = df['total_income'].quantile(0.5)"
   ]
  },
  {
   "cell_type": "code",
   "execution_count": 84,
   "metadata": {},
   "outputs": [],
   "source": [
    "third_quantile_income = df['total_income'].quantile(0.75)"
   ]
  },
  {
   "cell_type": "code",
   "execution_count": 85,
   "metadata": {},
   "outputs": [],
   "source": [
    "max_income = df['total_income'].max()"
   ]
  },
  {
   "cell_type": "code",
   "execution_count": 86,
   "metadata": {},
   "outputs": [],
   "source": [
    "def income_classifier(income):\n",
    "    if income < first_quantile_income:\n",
    "        return('низкий доход')\n",
    "    if income < second_quantile_income:\n",
    "        return('средний доход')\n",
    "    if income < third_quantile_income:\n",
    "        return('высокий доход')\n",
    "    if income <= max_income:\n",
    "        return('очень высокий доход')"
   ]
  },
  {
   "cell_type": "code",
   "execution_count": 87,
   "metadata": {},
   "outputs": [],
   "source": [
    "df['income_group'] = df['total_income'].apply(income_classifier)"
   ]
  },
  {
   "cell_type": "code",
   "execution_count": 88,
   "metadata": {},
   "outputs": [
    {
     "data": {
      "text/plain": [
       "высокий доход          6316\n",
       "очень высокий доход    5364\n",
       "низкий доход           5363\n",
       "средний доход          4410\n",
       "Name: income_group, dtype: int64"
      ]
     },
     "execution_count": 88,
     "metadata": {},
     "output_type": "execute_result"
    }
   ],
   "source": [
    "df['income_group'].value_counts()"
   ]
  },
  {
   "cell_type": "markdown",
   "metadata": {},
   "source": [
    "Данные ежемесячного дохода поделены на 4 примерно равные категории"
   ]
  },
  {
   "cell_type": "markdown",
   "metadata": {},
   "source": [
    "#### Кагегоризация по причине взять кредит"
   ]
  },
  {
   "cell_type": "markdown",
   "metadata": {},
   "source": [
    "Вспоминаю, что в шаге лемматизации были выделены следующие категории причин взять кредит:\n",
    "\n",
    "- недвижимость/жилье\n",
    "- автомобиль\n",
    "- образование\n",
    "- свадьба\n",
    "- ремонт"
   ]
  },
  {
   "cell_type": "code",
   "execution_count": 89,
   "metadata": {},
   "outputs": [],
   "source": [
    "def purpose_classifier(purpose):\n",
    "    lemmas = m.lemmatize(purpose)\n",
    "    if 'недвижимость' in lemmas:\n",
    "        return('Покупка недвижимости')\n",
    "    if 'жилье' in lemmas:\n",
    "        return('Покупка недвижимости')\n",
    "    if 'автомобиль' in lemmas:\n",
    "        return('Покупка автомобиля')\n",
    "    if 'образование' in lemmas:\n",
    "        return('Покупка образования')\n",
    "    if 'свадьба' in lemmas:\n",
    "        return('Проведение свадьбы')\n",
    "    if 'ремонт' in lemmas:\n",
    "        return('Проведение ремонта')\n",
    "    else:\n",
    "        return('Другое')"
   ]
  },
  {
   "cell_type": "code",
   "execution_count": 90,
   "metadata": {},
   "outputs": [],
   "source": [
    "df['purpose_group'] = df['purpose'].apply(purpose_classifier)"
   ]
  },
  {
   "cell_type": "code",
   "execution_count": 91,
   "metadata": {},
   "outputs": [
    {
     "data": {
      "text/plain": [
       "Покупка недвижимости    10810\n",
       "Покупка автомобиля       4306\n",
       "Покупка образования      4013\n",
       "Проведение свадьбы       2324\n",
       "Name: purpose_group, dtype: int64"
      ]
     },
     "execution_count": 91,
     "metadata": {},
     "output_type": "execute_result"
    }
   ],
   "source": [
    "df['purpose_group'].value_counts()"
   ]
  },
  {
   "cell_type": "markdown",
   "metadata": {},
   "source": [
    "**Вывод**"
   ]
  },
  {
   "cell_type": "markdown",
   "metadata": {},
   "source": [
    "На основании поставленных задач, данные были разделены на категории:\n",
    "\n",
    "- **children_group** по числу детей в семье\n",
    "\n",
    "\n",
    "- **family_status** и **family_status_alternative** по семейному положению, где:\n",
    "    - **family_status** учитывает такие категории как \"в разводе\" и \"вдовец / вдова\"\n",
    "    - **family_status_alternative** вносит эти значения в более обширную категорию \"Не женат / не замужем\"\n",
    "    \n",
    "    \n",
    "- **income_group** по уровню дохода. Для создания категорий использовались первый, второй и третий квантили. Все значения оказавшиеся выше третьего квантиля отнесены в отдельную категорию \"очень высокий доход\"\n",
    "\n",
    "\n",
    "- **purpose_group** по причине взять кредит. Для категоризации использовались полученные в ходе предобработки данных леммы с наиболее часто повторяющимися словами в запросах клиентов:\n",
    "    - Покупка недвижимости\n",
    "    - Покупка автомобиля\n",
    "    - Покупка образования\n",
    "    - Проведение свадьбы\n",
    "    - Проведение ремонта"
   ]
  },
  {
   "cell_type": "markdown",
   "metadata": {},
   "source": [
    "## Ответы на вопросы исследования"
   ]
  },
  {
   "cell_type": "markdown",
   "metadata": {},
   "source": [
    "- Есть ли зависимость между наличием детей и возвратом кредита в срок?"
   ]
  },
  {
   "cell_type": "code",
   "execution_count": 92,
   "metadata": {},
   "outputs": [],
   "source": [
    "debt_expired = df['debt'].sum() #количество должников"
   ]
  },
  {
   "cell_type": "code",
   "execution_count": 93,
   "metadata": {},
   "outputs": [],
   "source": [
    "debt_total = df['debt'].count() # количество заемщиков"
   ]
  },
  {
   "cell_type": "code",
   "execution_count": 94,
   "metadata": {},
   "outputs": [],
   "source": [
    "debt_ratio_total = debt_expired / debt_total #отношение должников ко всем заемщикам "
   ]
  },
  {
   "cell_type": "code",
   "execution_count": 95,
   "metadata": {},
   "outputs": [
    {
     "name": "stdout",
     "output_type": "stream",
     "text": [
      "Процент должников среди всех заемщиков составляет: 8.12%\n"
     ]
    }
   ],
   "source": [
    "print('Процент должников среди всех заемщиков составляет: {:.2%}'.format(debt_ratio_total))"
   ]
  },
  {
   "cell_type": "code",
   "execution_count": 96,
   "metadata": {},
   "outputs": [],
   "source": [
    "def ratio_calculator(df, index, columns, values):\n",
    "    table_pivot = df.pivot_table(index=[index], columns = columns, values = values, aggfunc='count')\n",
    "    table_pivot[0] = table_pivot[0] + table_pivot[1]\n",
    "    table_pivot['ratio %'] = round(table_pivot[1] / table_pivot[0], 4) * 100\n",
    "    table_pivot.columns = ['Всего заемщиков', 'Есть задолженность', 'Процент должников']\n",
    "    table_pivot = table_pivot.sort_values(by = 'Процент должников')\n",
    "    table_pivot.loc['Общие данные'] = [debt_total, debt_expired, round(debt_ratio_total, 4) * 100]\n",
    "    \n",
    "    return table_pivot"
   ]
  },
  {
   "cell_type": "code",
   "execution_count": 97,
   "metadata": {},
   "outputs": [],
   "source": [
    "children_grouped_pivot = ratio_calculator(children_grouped, 'children_group', 'debt', 'gender')"
   ]
  },
  {
   "cell_type": "code",
   "execution_count": 98,
   "metadata": {},
   "outputs": [
    {
     "data": {
      "text/html": [
       "<div>\n",
       "<style scoped>\n",
       "    .dataframe tbody tr th:only-of-type {\n",
       "        vertical-align: middle;\n",
       "    }\n",
       "\n",
       "    .dataframe tbody tr th {\n",
       "        vertical-align: top;\n",
       "    }\n",
       "\n",
       "    .dataframe thead th {\n",
       "        text-align: right;\n",
       "    }\n",
       "</style>\n",
       "<table border=\"1\" class=\"dataframe\">\n",
       "  <thead>\n",
       "    <tr style=\"text-align: right;\">\n",
       "      <th></th>\n",
       "      <th>Всего заемщиков</th>\n",
       "      <th>Есть задолженность</th>\n",
       "      <th>Процент должников</th>\n",
       "    </tr>\n",
       "    <tr>\n",
       "      <th>children_group</th>\n",
       "      <th></th>\n",
       "      <th></th>\n",
       "      <th></th>\n",
       "    </tr>\n",
       "  </thead>\n",
       "  <tbody>\n",
       "    <tr>\n",
       "      <th>нет детей</th>\n",
       "      <td>14090.0</td>\n",
       "      <td>1063.0</td>\n",
       "      <td>7.54</td>\n",
       "    </tr>\n",
       "    <tr>\n",
       "      <th>три ребенка или больше</th>\n",
       "      <td>380.0</td>\n",
       "      <td>31.0</td>\n",
       "      <td>8.16</td>\n",
       "    </tr>\n",
       "    <tr>\n",
       "      <th>один ребенок</th>\n",
       "      <td>4808.0</td>\n",
       "      <td>444.0</td>\n",
       "      <td>9.23</td>\n",
       "    </tr>\n",
       "    <tr>\n",
       "      <th>два ребенка</th>\n",
       "      <td>2052.0</td>\n",
       "      <td>194.0</td>\n",
       "      <td>9.45</td>\n",
       "    </tr>\n",
       "    <tr>\n",
       "      <th>Общие данные</th>\n",
       "      <td>21453.0</td>\n",
       "      <td>1741.0</td>\n",
       "      <td>8.12</td>\n",
       "    </tr>\n",
       "  </tbody>\n",
       "</table>\n",
       "</div>"
      ],
      "text/plain": [
       "                        Всего заемщиков  Есть задолженность  Процент должников\n",
       "children_group                                                                \n",
       "нет детей                       14090.0              1063.0               7.54\n",
       "три ребенка или больше            380.0                31.0               8.16\n",
       "один ребенок                     4808.0               444.0               9.23\n",
       "два ребенка                      2052.0               194.0               9.45\n",
       "Общие данные                    21453.0              1741.0               8.12"
      ]
     },
     "execution_count": 98,
     "metadata": {},
     "output_type": "execute_result"
    }
   ],
   "source": [
    "children_grouped_pivot"
   ]
  },
  {
   "cell_type": "markdown",
   "metadata": {},
   "source": [
    "Судя по полученным данным, клиенты без детей имеют меньше всех задолженностей с отношением кредитов с заолженностью к кредитам без задолженности в 7.54%, что меньше среднего соотношения по всем клиентам, равным 8.12%\n",
    "\n",
    "Семьи в которых есть хотя бы один ребенок уже имеют более высокий процент задолженностей:\n",
    "\n",
    "- 9.23% у клиентов с одним ребенком\n",
    "- 9.45% у клиентов с двумя детьми\n",
    "- 8.16% у клиентов с тремя и более детьми\n",
    "\n",
    "Также важно заметить,что выборка клиентов с тремя и более детьми была мала, возможно стоит не спешить с выводами по этой категории, основываясь только на имеющихся данных"
   ]
  },
  {
   "cell_type": "markdown",
   "metadata": {},
   "source": [
    "- Есть ли зависимость между семейным положением и возвратом кредита в срок?"
   ]
  },
  {
   "cell_type": "code",
   "execution_count": 99,
   "metadata": {},
   "outputs": [
    {
     "data": {
      "text/plain": [
       "женат / замужем          12338\n",
       "гражданский брак          4151\n",
       "Не женат / не замужем     2810\n",
       "в разводе                 1195\n",
       "вдовец / вдова             959\n",
       "Name: family_status, dtype: int64"
      ]
     },
     "execution_count": 99,
     "metadata": {},
     "output_type": "execute_result"
    }
   ],
   "source": [
    "df['family_status'].value_counts()"
   ]
  },
  {
   "cell_type": "code",
   "execution_count": 100,
   "metadata": {},
   "outputs": [],
   "source": [
    "df_family_status_pivot = ratio_calculator(df, 'family_status', 'debt', 'gender')"
   ]
  },
  {
   "cell_type": "code",
   "execution_count": 101,
   "metadata": {},
   "outputs": [
    {
     "data": {
      "text/html": [
       "<div>\n",
       "<style scoped>\n",
       "    .dataframe tbody tr th:only-of-type {\n",
       "        vertical-align: middle;\n",
       "    }\n",
       "\n",
       "    .dataframe tbody tr th {\n",
       "        vertical-align: top;\n",
       "    }\n",
       "\n",
       "    .dataframe thead th {\n",
       "        text-align: right;\n",
       "    }\n",
       "</style>\n",
       "<table border=\"1\" class=\"dataframe\">\n",
       "  <thead>\n",
       "    <tr style=\"text-align: right;\">\n",
       "      <th></th>\n",
       "      <th>Всего заемщиков</th>\n",
       "      <th>Есть задолженность</th>\n",
       "      <th>Процент должников</th>\n",
       "    </tr>\n",
       "    <tr>\n",
       "      <th>family_status</th>\n",
       "      <th></th>\n",
       "      <th></th>\n",
       "      <th></th>\n",
       "    </tr>\n",
       "  </thead>\n",
       "  <tbody>\n",
       "    <tr>\n",
       "      <th>вдовец / вдова</th>\n",
       "      <td>959.0</td>\n",
       "      <td>63.0</td>\n",
       "      <td>6.57</td>\n",
       "    </tr>\n",
       "    <tr>\n",
       "      <th>в разводе</th>\n",
       "      <td>1195.0</td>\n",
       "      <td>85.0</td>\n",
       "      <td>7.11</td>\n",
       "    </tr>\n",
       "    <tr>\n",
       "      <th>женат / замужем</th>\n",
       "      <td>12338.0</td>\n",
       "      <td>931.0</td>\n",
       "      <td>7.55</td>\n",
       "    </tr>\n",
       "    <tr>\n",
       "      <th>гражданский брак</th>\n",
       "      <td>4151.0</td>\n",
       "      <td>388.0</td>\n",
       "      <td>9.35</td>\n",
       "    </tr>\n",
       "    <tr>\n",
       "      <th>Не женат / не замужем</th>\n",
       "      <td>2810.0</td>\n",
       "      <td>274.0</td>\n",
       "      <td>9.75</td>\n",
       "    </tr>\n",
       "    <tr>\n",
       "      <th>Общие данные</th>\n",
       "      <td>21453.0</td>\n",
       "      <td>1741.0</td>\n",
       "      <td>8.12</td>\n",
       "    </tr>\n",
       "  </tbody>\n",
       "</table>\n",
       "</div>"
      ],
      "text/plain": [
       "                       Всего заемщиков  Есть задолженность  Процент должников\n",
       "family_status                                                                \n",
       "вдовец / вдова                   959.0                63.0               6.57\n",
       "в разводе                       1195.0                85.0               7.11\n",
       "женат / замужем                12338.0               931.0               7.55\n",
       "гражданский брак                4151.0               388.0               9.35\n",
       "Не женат / не замужем           2810.0               274.0               9.75\n",
       "Общие данные                   21453.0              1741.0               8.12"
      ]
     },
     "execution_count": 101,
     "metadata": {},
     "output_type": "execute_result"
    }
   ],
   "source": [
    "df_family_status_pivot"
   ]
  },
  {
   "cell_type": "markdown",
   "metadata": {},
   "source": [
    "**Вывод**"
   ]
  },
  {
   "cell_type": "markdown",
   "metadata": {},
   "source": [
    "Судя по получившимся данным, решение сделать две разные категоризации данных по семейному состоянию было верным. Наблюдается следующая зависимость между семейным положением и возвратом кредита в срок:\n",
    "\n",
    "- Реже всех задолженности по возврату кредита бывают у людей в разводе и вдов/вдовцов с 6.57% и 7.11% соответственно.\n",
    "\n",
    "- Люди из категории \"женат / замужем\" также имеют более низкий риск иметь задолженность, в сравнении с общей популяцией по датасету - 7.55% \n",
    "\n",
    "- Люди состоящие в гражанском браке и не женатые / не замужем чаще имеют задолженности с 9.35% и 9.75% соответственно"
   ]
  },
  {
   "cell_type": "markdown",
   "metadata": {},
   "source": [
    "- Есть ли зависимость между уровнем дохода и возвратом кредита в срок?"
   ]
  },
  {
   "cell_type": "code",
   "execution_count": 102,
   "metadata": {},
   "outputs": [
    {
     "data": {
      "text/plain": [
       "высокий доход          6316\n",
       "очень высокий доход    5364\n",
       "низкий доход           5363\n",
       "средний доход          4410\n",
       "Name: income_group, dtype: int64"
      ]
     },
     "execution_count": 102,
     "metadata": {},
     "output_type": "execute_result"
    }
   ],
   "source": [
    "df['income_group'].value_counts()"
   ]
  },
  {
   "cell_type": "code",
   "execution_count": 103,
   "metadata": {},
   "outputs": [
    {
     "data": {
      "text/plain": [
       "count    2.145300e+04\n",
       "mean     1.653040e+05\n",
       "std      9.816313e+04\n",
       "min      2.066700e+04\n",
       "25%      1.076200e+05\n",
       "50%      1.425940e+05\n",
       "75%      1.958180e+05\n",
       "max      2.265604e+06\n",
       "Name: total_income, dtype: float64"
      ]
     },
     "execution_count": 103,
     "metadata": {},
     "output_type": "execute_result"
    }
   ],
   "source": [
    "df['total_income'].describe()"
   ]
  },
  {
   "cell_type": "code",
   "execution_count": 104,
   "metadata": {},
   "outputs": [],
   "source": [
    "df_income_group_pivot = ratio_calculator(df, 'income_group', 'debt', 'gender')"
   ]
  },
  {
   "cell_type": "code",
   "execution_count": 105,
   "metadata": {},
   "outputs": [
    {
     "data": {
      "text/html": [
       "<div>\n",
       "<style scoped>\n",
       "    .dataframe tbody tr th:only-of-type {\n",
       "        vertical-align: middle;\n",
       "    }\n",
       "\n",
       "    .dataframe tbody tr th {\n",
       "        vertical-align: top;\n",
       "    }\n",
       "\n",
       "    .dataframe thead th {\n",
       "        text-align: right;\n",
       "    }\n",
       "</style>\n",
       "<table border=\"1\" class=\"dataframe\">\n",
       "  <thead>\n",
       "    <tr style=\"text-align: right;\">\n",
       "      <th></th>\n",
       "      <th>Всего заемщиков</th>\n",
       "      <th>Есть задолженность</th>\n",
       "      <th>Процент должников</th>\n",
       "    </tr>\n",
       "    <tr>\n",
       "      <th>income_group</th>\n",
       "      <th></th>\n",
       "      <th></th>\n",
       "      <th></th>\n",
       "    </tr>\n",
       "  </thead>\n",
       "  <tbody>\n",
       "    <tr>\n",
       "      <th>очень высокий доход</th>\n",
       "      <td>5364.0</td>\n",
       "      <td>383.0</td>\n",
       "      <td>7.14</td>\n",
       "    </tr>\n",
       "    <tr>\n",
       "      <th>низкий доход</th>\n",
       "      <td>5363.0</td>\n",
       "      <td>427.0</td>\n",
       "      <td>7.96</td>\n",
       "    </tr>\n",
       "    <tr>\n",
       "      <th>высокий доход</th>\n",
       "      <td>6316.0</td>\n",
       "      <td>546.0</td>\n",
       "      <td>8.64</td>\n",
       "    </tr>\n",
       "    <tr>\n",
       "      <th>средний доход</th>\n",
       "      <td>4410.0</td>\n",
       "      <td>385.0</td>\n",
       "      <td>8.73</td>\n",
       "    </tr>\n",
       "    <tr>\n",
       "      <th>Общие данные</th>\n",
       "      <td>21453.0</td>\n",
       "      <td>1741.0</td>\n",
       "      <td>8.12</td>\n",
       "    </tr>\n",
       "  </tbody>\n",
       "</table>\n",
       "</div>"
      ],
      "text/plain": [
       "                     Всего заемщиков  Есть задолженность  Процент должников\n",
       "income_group                                                               \n",
       "очень высокий доход           5364.0               383.0               7.14\n",
       "низкий доход                  5363.0               427.0               7.96\n",
       "высокий доход                 6316.0               546.0               8.64\n",
       "средний доход                 4410.0               385.0               8.73\n",
       "Общие данные                 21453.0              1741.0               8.12"
      ]
     },
     "execution_count": 105,
     "metadata": {},
     "output_type": "execute_result"
    }
   ],
   "source": [
    "df_income_group_pivot"
   ]
  },
  {
   "cell_type": "markdown",
   "metadata": {},
   "source": [
    "**Вывод**"
   ]
  },
  {
   "cell_type": "markdown",
   "metadata": {},
   "source": [
    "- Низкий доход: 107 623 рублей и менее\n",
    "- Средний: больше чем низкий уровень, но не больше 145 017 рублей в месяц\n",
    "- Высокий: не более 195 813 рублей в месяц\n",
    "- Очень высокий: более 195 813 рублей"
   ]
  },
  {
   "cell_type": "markdown",
   "metadata": {},
   "source": [
    "Реже всех имеют задолженность клиенты с очень высоким доходом от 195 813 рублей в год - 7.14%. \n",
    "\n",
    "Что любопытно, так это то, что люди с высоким и средним доходом чаще имеют задолженности чаще, чем люди с низким доходом. "
   ]
  },
  {
   "cell_type": "markdown",
   "metadata": {},
   "source": [
    "- Как разные цели кредита влияют на его возврат в срок?"
   ]
  },
  {
   "cell_type": "code",
   "execution_count": 106,
   "metadata": {},
   "outputs": [
    {
     "data": {
      "text/plain": [
       "Покупка недвижимости    10810\n",
       "Покупка автомобиля       4306\n",
       "Покупка образования      4013\n",
       "Проведение свадьбы       2324\n",
       "Name: purpose_group, dtype: int64"
      ]
     },
     "execution_count": 106,
     "metadata": {},
     "output_type": "execute_result"
    }
   ],
   "source": [
    "df['purpose_group'].value_counts()"
   ]
  },
  {
   "cell_type": "code",
   "execution_count": 107,
   "metadata": {},
   "outputs": [],
   "source": [
    "df_purpose_group_pivot = ratio_calculator(df, 'purpose_group', 'debt', 'gender')"
   ]
  },
  {
   "cell_type": "code",
   "execution_count": 108,
   "metadata": {},
   "outputs": [
    {
     "data": {
      "text/html": [
       "<div>\n",
       "<style scoped>\n",
       "    .dataframe tbody tr th:only-of-type {\n",
       "        vertical-align: middle;\n",
       "    }\n",
       "\n",
       "    .dataframe tbody tr th {\n",
       "        vertical-align: top;\n",
       "    }\n",
       "\n",
       "    .dataframe thead th {\n",
       "        text-align: right;\n",
       "    }\n",
       "</style>\n",
       "<table border=\"1\" class=\"dataframe\">\n",
       "  <thead>\n",
       "    <tr style=\"text-align: right;\">\n",
       "      <th></th>\n",
       "      <th>Всего заемщиков</th>\n",
       "      <th>Есть задолженность</th>\n",
       "      <th>Процент должников</th>\n",
       "    </tr>\n",
       "    <tr>\n",
       "      <th>purpose_group</th>\n",
       "      <th></th>\n",
       "      <th></th>\n",
       "      <th></th>\n",
       "    </tr>\n",
       "  </thead>\n",
       "  <tbody>\n",
       "    <tr>\n",
       "      <th>Покупка недвижимости</th>\n",
       "      <td>10810.0</td>\n",
       "      <td>782.0</td>\n",
       "      <td>7.23</td>\n",
       "    </tr>\n",
       "    <tr>\n",
       "      <th>Проведение свадьбы</th>\n",
       "      <td>2324.0</td>\n",
       "      <td>186.0</td>\n",
       "      <td>8.00</td>\n",
       "    </tr>\n",
       "    <tr>\n",
       "      <th>Покупка образования</th>\n",
       "      <td>4013.0</td>\n",
       "      <td>370.0</td>\n",
       "      <td>9.22</td>\n",
       "    </tr>\n",
       "    <tr>\n",
       "      <th>Покупка автомобиля</th>\n",
       "      <td>4306.0</td>\n",
       "      <td>403.0</td>\n",
       "      <td>9.36</td>\n",
       "    </tr>\n",
       "    <tr>\n",
       "      <th>Общие данные</th>\n",
       "      <td>21453.0</td>\n",
       "      <td>1741.0</td>\n",
       "      <td>8.12</td>\n",
       "    </tr>\n",
       "  </tbody>\n",
       "</table>\n",
       "</div>"
      ],
      "text/plain": [
       "                      Всего заемщиков  Есть задолженность  Процент должников\n",
       "purpose_group                                                               \n",
       "Покупка недвижимости          10810.0               782.0               7.23\n",
       "Проведение свадьбы             2324.0               186.0               8.00\n",
       "Покупка образования            4013.0               370.0               9.22\n",
       "Покупка автомобиля             4306.0               403.0               9.36\n",
       "Общие данные                  21453.0              1741.0               8.12"
      ]
     },
     "execution_count": 108,
     "metadata": {},
     "output_type": "execute_result"
    }
   ],
   "source": [
    "df_purpose_group_pivot"
   ]
  },
  {
   "cell_type": "markdown",
   "metadata": {},
   "source": [
    "**Вывод**"
   ]
  },
  {
   "cell_type": "markdown",
   "metadata": {},
   "source": [
    "Взаимосвязь между причиной взять кредит и задолженностью также наблюдается. \n",
    "\n",
    "Реже всех имеют задолженности люди, берущие кредит на покупку недвижимости - 7.23%\n",
    "\n",
    "Чаще всех задолженность имеют клиенты, покупающие в кредит образование или автомобиль."
   ]
  },
  {
   "cell_type": "markdown",
   "metadata": {},
   "source": [
    "## Шаг 4. Общий вывод"
   ]
  },
  {
   "cell_type": "markdown",
   "metadata": {},
   "source": [
    "На возврат кредита влияют такие факторы как наличие детей, семейное положение, уровень доходов и цель кредита. \n",
    "\n",
    "Основные находки:\n",
    "\n",
    "- Клиенты без детей чаще возвращают кредит в срок\n",
    "- Люди состоящие в браке сейчас или состоявшие ранее (сейчас в разводе или вдовы/вдовцы) чаще возвращают кредит в срок\n",
    "- Люди с высоким доходом (от 195 813 рублей в месяц) чаще всех возвращают кредит в срок. Чаще всех имеют задолженности люди со средним и высоким доходом (от 107 623 рублей до 195 813 рублей)\n",
    "- Люди берущие деньги на покупку недвижимости чаще возвращают кредит в срок, в то время как покупка автомобиля и образования являются более рискованными категориями. "
   ]
  }
 ],
 "metadata": {
  "ExecuteTimeLog": [
   {
    "duration": 413,
    "start_time": "2022-05-26T21:15:20.842Z"
   },
   {
    "duration": 82,
    "start_time": "2022-05-26T21:15:24.098Z"
   },
   {
    "duration": 20,
    "start_time": "2022-05-26T21:15:24.264Z"
   },
   {
    "duration": 17,
    "start_time": "2022-05-26T21:16:07.341Z"
   },
   {
    "duration": 35,
    "start_time": "2022-05-26T21:16:24.440Z"
   },
   {
    "duration": 5,
    "start_time": "2022-05-26T21:18:56.415Z"
   },
   {
    "duration": 171,
    "start_time": "2022-05-26T21:18:59.607Z"
   },
   {
    "duration": 7,
    "start_time": "2022-05-26T21:19:20.195Z"
   },
   {
    "duration": 5,
    "start_time": "2022-05-26T21:19:39.979Z"
   },
   {
    "duration": 8,
    "start_time": "2022-05-26T21:19:41.807Z"
   },
   {
    "duration": 17,
    "start_time": "2022-05-26T21:19:44.223Z"
   },
   {
    "duration": 5,
    "start_time": "2022-05-26T21:20:12.166Z"
   },
   {
    "duration": 3,
    "start_time": "2022-05-26T21:20:28.803Z"
   },
   {
    "duration": 6,
    "start_time": "2022-05-26T21:20:29.002Z"
   },
   {
    "duration": 5,
    "start_time": "2022-05-26T21:20:29.221Z"
   },
   {
    "duration": 8,
    "start_time": "2022-05-26T21:20:32.783Z"
   },
   {
    "duration": 3,
    "start_time": "2022-05-26T21:21:14.607Z"
   },
   {
    "duration": 8,
    "start_time": "2022-05-26T21:21:22.144Z"
   },
   {
    "duration": 48,
    "start_time": "2022-05-26T21:21:44.389Z"
   },
   {
    "duration": 680,
    "start_time": "2022-05-26T21:21:56.205Z"
   },
   {
    "duration": 148,
    "start_time": "2022-05-26T21:22:13.504Z"
   },
   {
    "duration": 149,
    "start_time": "2022-05-26T21:25:32.936Z"
   },
   {
    "duration": 6,
    "start_time": "2022-05-26T21:26:02.894Z"
   },
   {
    "duration": 6,
    "start_time": "2022-05-26T21:26:03.362Z"
   },
   {
    "duration": 10,
    "start_time": "2022-05-26T21:26:04.289Z"
   },
   {
    "duration": 5,
    "start_time": "2022-05-26T21:26:53.499Z"
   },
   {
    "duration": 9,
    "start_time": "2022-05-26T21:26:53.742Z"
   },
   {
    "duration": 7,
    "start_time": "2022-05-26T21:31:58.363Z"
   },
   {
    "duration": 20,
    "start_time": "2022-05-26T21:32:12.698Z"
   },
   {
    "duration": 9,
    "start_time": "2022-05-26T21:32:15.436Z"
   },
   {
    "duration": 4,
    "start_time": "2022-05-26T21:32:37.445Z"
   },
   {
    "duration": 3,
    "start_time": "2022-05-26T21:32:39.737Z"
   },
   {
    "duration": 50,
    "start_time": "2022-05-26T21:32:55.937Z"
   },
   {
    "duration": 5,
    "start_time": "2022-05-26T21:32:59.737Z"
   },
   {
    "duration": 17,
    "start_time": "2022-05-26T21:33:04.321Z"
   },
   {
    "duration": 15,
    "start_time": "2022-05-26T21:33:09.766Z"
   },
   {
    "duration": 9,
    "start_time": "2022-05-26T21:33:10.892Z"
   },
   {
    "duration": 13,
    "start_time": "2022-05-26T21:33:12.637Z"
   },
   {
    "duration": 14,
    "start_time": "2022-05-26T21:33:51.771Z"
   },
   {
    "duration": 5,
    "start_time": "2022-05-26T21:33:55.836Z"
   },
   {
    "duration": 6,
    "start_time": "2022-05-26T21:33:56.921Z"
   },
   {
    "duration": 3,
    "start_time": "2022-05-26T21:33:58.076Z"
   },
   {
    "duration": 17,
    "start_time": "2022-05-26T21:33:58.737Z"
   },
   {
    "duration": 15,
    "start_time": "2022-05-26T21:34:37.156Z"
   },
   {
    "duration": 16,
    "start_time": "2022-05-26T21:34:39.779Z"
   },
   {
    "duration": 7,
    "start_time": "2022-05-26T21:34:56.698Z"
   },
   {
    "duration": 12,
    "start_time": "2022-05-26T21:34:58.988Z"
   },
   {
    "duration": 11,
    "start_time": "2022-05-26T21:34:59.331Z"
   },
   {
    "duration": 6,
    "start_time": "2022-05-26T21:35:03.178Z"
   },
   {
    "duration": 8,
    "start_time": "2022-05-26T21:35:04.171Z"
   },
   {
    "duration": 7,
    "start_time": "2022-05-26T21:35:04.744Z"
   },
   {
    "duration": 18,
    "start_time": "2022-05-26T21:35:31.117Z"
   },
   {
    "duration": 19,
    "start_time": "2022-05-26T21:35:49.430Z"
   },
   {
    "duration": 3,
    "start_time": "2022-05-26T21:36:27.975Z"
   },
   {
    "duration": 5,
    "start_time": "2022-05-26T21:36:28.425Z"
   },
   {
    "duration": 5,
    "start_time": "2022-05-26T21:36:28.877Z"
   },
   {
    "duration": 3,
    "start_time": "2022-05-26T21:36:31.379Z"
   },
   {
    "duration": 4,
    "start_time": "2022-05-26T21:36:41.467Z"
   },
   {
    "duration": 935,
    "start_time": "2022-05-26T21:36:43.444Z"
   },
   {
    "duration": 4,
    "start_time": "2022-05-26T21:36:44.382Z"
   },
   {
    "duration": 5,
    "start_time": "2022-05-26T21:36:48.877Z"
   },
   {
    "duration": 8,
    "start_time": "2022-05-26T21:36:49.166Z"
   },
   {
    "duration": 4,
    "start_time": "2022-05-26T21:36:52.583Z"
   },
   {
    "duration": 6,
    "start_time": "2022-05-26T21:36:52.795Z"
   },
   {
    "duration": 8,
    "start_time": "2022-05-26T21:36:56.589Z"
   },
   {
    "duration": 17,
    "start_time": "2022-05-26T21:37:23.249Z"
   },
   {
    "duration": 82,
    "start_time": "2022-05-26T21:37:52.093Z"
   },
   {
    "duration": 7,
    "start_time": "2022-05-26T21:37:54.580Z"
   },
   {
    "duration": 17,
    "start_time": "2022-05-26T21:37:54.848Z"
   },
   {
    "duration": 3,
    "start_time": "2022-05-26T21:38:14.930Z"
   },
   {
    "duration": 7,
    "start_time": "2022-05-26T21:38:18.674Z"
   },
   {
    "duration": 7,
    "start_time": "2022-05-26T21:39:39.818Z"
   },
   {
    "duration": 3,
    "start_time": "2022-05-26T21:40:37.100Z"
   },
   {
    "duration": 6,
    "start_time": "2022-05-26T21:40:53.583Z"
   },
   {
    "duration": 19,
    "start_time": "2022-05-26T21:40:55.543Z"
   },
   {
    "duration": 7,
    "start_time": "2022-05-26T21:41:05.291Z"
   },
   {
    "duration": 4,
    "start_time": "2022-05-26T21:41:12.899Z"
   },
   {
    "duration": 5,
    "start_time": "2022-05-26T21:41:13.284Z"
   },
   {
    "duration": 5,
    "start_time": "2022-05-26T21:41:14.379Z"
   },
   {
    "duration": 7,
    "start_time": "2022-05-26T21:41:14.869Z"
   },
   {
    "duration": 9,
    "start_time": "2022-05-26T21:41:19.171Z"
   },
   {
    "duration": 4,
    "start_time": "2022-05-26T21:41:19.333Z"
   },
   {
    "duration": 5,
    "start_time": "2022-05-26T21:41:19.535Z"
   },
   {
    "duration": 5,
    "start_time": "2022-05-26T21:41:19.963Z"
   },
   {
    "duration": 4,
    "start_time": "2022-05-26T21:41:20.593Z"
   },
   {
    "duration": 4,
    "start_time": "2022-05-26T21:41:22.220Z"
   },
   {
    "duration": 15,
    "start_time": "2022-05-26T21:41:23.846Z"
   },
   {
    "duration": 8,
    "start_time": "2022-05-26T21:41:24.140Z"
   },
   {
    "duration": 3,
    "start_time": "2022-05-26T21:41:50.424Z"
   },
   {
    "duration": 2808,
    "start_time": "2022-05-26T21:41:52.061Z"
   },
   {
    "duration": 6,
    "start_time": "2022-05-26T21:41:54.872Z"
   },
   {
    "duration": 4,
    "start_time": "2022-05-26T21:42:25.591Z"
   },
   {
    "duration": 4,
    "start_time": "2022-05-26T21:42:25.903Z"
   },
   {
    "duration": 4,
    "start_time": "2022-05-26T21:42:26.869Z"
   },
   {
    "duration": 3,
    "start_time": "2022-05-26T21:42:35.114Z"
   },
   {
    "duration": 5,
    "start_time": "2022-05-26T21:42:40.761Z"
   },
   {
    "duration": 19,
    "start_time": "2022-05-26T21:42:41.153Z"
   },
   {
    "duration": 8,
    "start_time": "2022-05-26T21:42:48.769Z"
   },
   {
    "duration": 8,
    "start_time": "2022-05-26T21:43:15.460Z"
   },
   {
    "duration": 21,
    "start_time": "2022-05-26T21:43:16.997Z"
   },
   {
    "duration": 9,
    "start_time": "2022-05-26T21:43:17.242Z"
   },
   {
    "duration": 8,
    "start_time": "2022-05-26T21:43:29.272Z"
   },
   {
    "duration": 9,
    "start_time": "2022-05-26T21:43:30.167Z"
   },
   {
    "duration": 19,
    "start_time": "2022-05-26T21:43:31.282Z"
   },
   {
    "duration": 10,
    "start_time": "2022-05-26T21:43:31.828Z"
   },
   {
    "duration": 7,
    "start_time": "2022-05-26T21:43:42.271Z"
   },
   {
    "duration": 18,
    "start_time": "2022-05-26T21:43:43.283Z"
   },
   {
    "duration": 9,
    "start_time": "2022-05-26T21:43:43.540Z"
   },
   {
    "duration": 141,
    "start_time": "2022-05-26T21:44:18.452Z"
   }
  ],
  "kernelspec": {
   "display_name": "Python 3 (ipykernel)",
   "language": "python",
   "name": "python3"
  },
  "language_info": {
   "codemirror_mode": {
    "name": "ipython",
    "version": 3
   },
   "file_extension": ".py",
   "mimetype": "text/x-python",
   "name": "python",
   "nbconvert_exporter": "python",
   "pygments_lexer": "ipython3",
   "version": "3.9.7"
  },
  "toc": {
   "base_numbering": 1,
   "nav_menu": {},
   "number_sections": true,
   "sideBar": true,
   "skip_h1_title": true,
   "title_cell": "Table of Contents",
   "title_sidebar": "Contents",
   "toc_cell": false,
   "toc_position": {},
   "toc_section_display": true,
   "toc_window_display": false
  }
 },
 "nbformat": 4,
 "nbformat_minor": 2
}
